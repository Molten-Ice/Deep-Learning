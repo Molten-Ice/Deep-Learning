{
 "cells": [
  {
   "cell_type": "code",
   "execution_count": 1,
   "id": "6f98fcb5",
   "metadata": {
    "_cell_guid": "b1076dfc-b9ad-4769-8c92-a6c4dae69d19",
    "_uuid": "8f2839f25d086af736a60e9eeb907d3b93b6e0e5",
    "execution": {
     "iopub.execute_input": "2023-02-23T22:59:11.767814Z",
     "iopub.status.busy": "2023-02-23T22:59:11.767283Z",
     "iopub.status.idle": "2023-02-23T22:59:13.581647Z",
     "shell.execute_reply": "2023-02-23T22:59:13.580590Z"
    },
    "papermill": {
     "duration": 1.824346,
     "end_time": "2023-02-23T22:59:13.586391",
     "exception": false,
     "start_time": "2023-02-23T22:59:11.762045",
     "status": "completed"
    },
    "tags": []
   },
   "outputs": [
    {
     "name": "stdout",
     "output_type": "stream",
     "text": [
      "torch version: 1.12.0\n",
      "using device: cuda\n"
     ]
    }
   ],
   "source": [
    "import pandas as pd\n",
    "import numpy as np\n",
    "import torch\n",
    "from torch import nn\n",
    "from matplotlib import pyplot as plt\n",
    "print(f'torch version: {torch.__version__}')\n",
    "\n",
    "#Device agnostic code\n",
    "device = \"cuda\" if torch.cuda.is_available() else \"cpu\"\n",
    "print(f\"using device: {device}\")"
   ]
  },
  {
   "cell_type": "code",
   "execution_count": 2,
   "id": "ad781434",
   "metadata": {
    "execution": {
     "iopub.execute_input": "2023-02-23T22:59:13.593833Z",
     "iopub.status.busy": "2023-02-23T22:59:13.592760Z",
     "iopub.status.idle": "2023-02-23T22:59:16.895478Z",
     "shell.execute_reply": "2023-02-23T22:59:16.894515Z"
    },
    "papermill": {
     "duration": 3.308567,
     "end_time": "2023-02-23T22:59:16.897792",
     "exception": false,
     "start_time": "2023-02-23T22:59:13.589225",
     "status": "completed"
    },
    "tags": []
   },
   "outputs": [
    {
     "name": "stdout",
     "output_type": "stream",
     "text": [
      "(42000, 785)\n"
     ]
    },
    {
     "data": {
      "text/html": [
       "<div>\n",
       "<style scoped>\n",
       "    .dataframe tbody tr th:only-of-type {\n",
       "        vertical-align: middle;\n",
       "    }\n",
       "\n",
       "    .dataframe tbody tr th {\n",
       "        vertical-align: top;\n",
       "    }\n",
       "\n",
       "    .dataframe thead th {\n",
       "        text-align: right;\n",
       "    }\n",
       "</style>\n",
       "<table border=\"1\" class=\"dataframe\">\n",
       "  <thead>\n",
       "    <tr style=\"text-align: right;\">\n",
       "      <th></th>\n",
       "      <th>label</th>\n",
       "      <th>pixel0</th>\n",
       "      <th>pixel1</th>\n",
       "      <th>pixel2</th>\n",
       "      <th>pixel3</th>\n",
       "      <th>pixel4</th>\n",
       "      <th>pixel5</th>\n",
       "      <th>pixel6</th>\n",
       "      <th>pixel7</th>\n",
       "      <th>pixel8</th>\n",
       "      <th>...</th>\n",
       "      <th>pixel774</th>\n",
       "      <th>pixel775</th>\n",
       "      <th>pixel776</th>\n",
       "      <th>pixel777</th>\n",
       "      <th>pixel778</th>\n",
       "      <th>pixel779</th>\n",
       "      <th>pixel780</th>\n",
       "      <th>pixel781</th>\n",
       "      <th>pixel782</th>\n",
       "      <th>pixel783</th>\n",
       "    </tr>\n",
       "  </thead>\n",
       "  <tbody>\n",
       "    <tr>\n",
       "      <th>0</th>\n",
       "      <td>1</td>\n",
       "      <td>0</td>\n",
       "      <td>0</td>\n",
       "      <td>0</td>\n",
       "      <td>0</td>\n",
       "      <td>0</td>\n",
       "      <td>0</td>\n",
       "      <td>0</td>\n",
       "      <td>0</td>\n",
       "      <td>0</td>\n",
       "      <td>...</td>\n",
       "      <td>0</td>\n",
       "      <td>0</td>\n",
       "      <td>0</td>\n",
       "      <td>0</td>\n",
       "      <td>0</td>\n",
       "      <td>0</td>\n",
       "      <td>0</td>\n",
       "      <td>0</td>\n",
       "      <td>0</td>\n",
       "      <td>0</td>\n",
       "    </tr>\n",
       "    <tr>\n",
       "      <th>1</th>\n",
       "      <td>0</td>\n",
       "      <td>0</td>\n",
       "      <td>0</td>\n",
       "      <td>0</td>\n",
       "      <td>0</td>\n",
       "      <td>0</td>\n",
       "      <td>0</td>\n",
       "      <td>0</td>\n",
       "      <td>0</td>\n",
       "      <td>0</td>\n",
       "      <td>...</td>\n",
       "      <td>0</td>\n",
       "      <td>0</td>\n",
       "      <td>0</td>\n",
       "      <td>0</td>\n",
       "      <td>0</td>\n",
       "      <td>0</td>\n",
       "      <td>0</td>\n",
       "      <td>0</td>\n",
       "      <td>0</td>\n",
       "      <td>0</td>\n",
       "    </tr>\n",
       "    <tr>\n",
       "      <th>2</th>\n",
       "      <td>1</td>\n",
       "      <td>0</td>\n",
       "      <td>0</td>\n",
       "      <td>0</td>\n",
       "      <td>0</td>\n",
       "      <td>0</td>\n",
       "      <td>0</td>\n",
       "      <td>0</td>\n",
       "      <td>0</td>\n",
       "      <td>0</td>\n",
       "      <td>...</td>\n",
       "      <td>0</td>\n",
       "      <td>0</td>\n",
       "      <td>0</td>\n",
       "      <td>0</td>\n",
       "      <td>0</td>\n",
       "      <td>0</td>\n",
       "      <td>0</td>\n",
       "      <td>0</td>\n",
       "      <td>0</td>\n",
       "      <td>0</td>\n",
       "    </tr>\n",
       "    <tr>\n",
       "      <th>3</th>\n",
       "      <td>4</td>\n",
       "      <td>0</td>\n",
       "      <td>0</td>\n",
       "      <td>0</td>\n",
       "      <td>0</td>\n",
       "      <td>0</td>\n",
       "      <td>0</td>\n",
       "      <td>0</td>\n",
       "      <td>0</td>\n",
       "      <td>0</td>\n",
       "      <td>...</td>\n",
       "      <td>0</td>\n",
       "      <td>0</td>\n",
       "      <td>0</td>\n",
       "      <td>0</td>\n",
       "      <td>0</td>\n",
       "      <td>0</td>\n",
       "      <td>0</td>\n",
       "      <td>0</td>\n",
       "      <td>0</td>\n",
       "      <td>0</td>\n",
       "    </tr>\n",
       "    <tr>\n",
       "      <th>4</th>\n",
       "      <td>0</td>\n",
       "      <td>0</td>\n",
       "      <td>0</td>\n",
       "      <td>0</td>\n",
       "      <td>0</td>\n",
       "      <td>0</td>\n",
       "      <td>0</td>\n",
       "      <td>0</td>\n",
       "      <td>0</td>\n",
       "      <td>0</td>\n",
       "      <td>...</td>\n",
       "      <td>0</td>\n",
       "      <td>0</td>\n",
       "      <td>0</td>\n",
       "      <td>0</td>\n",
       "      <td>0</td>\n",
       "      <td>0</td>\n",
       "      <td>0</td>\n",
       "      <td>0</td>\n",
       "      <td>0</td>\n",
       "      <td>0</td>\n",
       "    </tr>\n",
       "  </tbody>\n",
       "</table>\n",
       "<p>5 rows × 785 columns</p>\n",
       "</div>"
      ],
      "text/plain": [
       "   label  pixel0  pixel1  pixel2  pixel3  pixel4  pixel5  pixel6  pixel7  \\\n",
       "0      1       0       0       0       0       0       0       0       0   \n",
       "1      0       0       0       0       0       0       0       0       0   \n",
       "2      1       0       0       0       0       0       0       0       0   \n",
       "3      4       0       0       0       0       0       0       0       0   \n",
       "4      0       0       0       0       0       0       0       0       0   \n",
       "\n",
       "   pixel8  ...  pixel774  pixel775  pixel776  pixel777  pixel778  pixel779  \\\n",
       "0       0  ...         0         0         0         0         0         0   \n",
       "1       0  ...         0         0         0         0         0         0   \n",
       "2       0  ...         0         0         0         0         0         0   \n",
       "3       0  ...         0         0         0         0         0         0   \n",
       "4       0  ...         0         0         0         0         0         0   \n",
       "\n",
       "   pixel780  pixel781  pixel782  pixel783  \n",
       "0         0         0         0         0  \n",
       "1         0         0         0         0  \n",
       "2         0         0         0         0  \n",
       "3         0         0         0         0  \n",
       "4         0         0         0         0  \n",
       "\n",
       "[5 rows x 785 columns]"
      ]
     },
     "execution_count": 2,
     "metadata": {},
     "output_type": "execute_result"
    }
   ],
   "source": [
    "data = pd.read_csv('/kaggle/input/digit-recognizer/train.csv')\n",
    "print(data.shape)\n",
    "data.head()"
   ]
  },
  {
   "cell_type": "code",
   "execution_count": 3,
   "id": "a31fce5d",
   "metadata": {
    "execution": {
     "iopub.execute_input": "2023-02-23T22:59:16.905859Z",
     "iopub.status.busy": "2023-02-23T22:59:16.905357Z",
     "iopub.status.idle": "2023-02-23T22:59:19.997550Z",
     "shell.execute_reply": "2023-02-23T22:59:19.996462Z"
    },
    "papermill": {
     "duration": 3.098653,
     "end_time": "2023-02-23T22:59:19.999684",
     "exception": false,
     "start_time": "2023-02-23T22:59:16.901031",
     "status": "completed"
    },
    "tags": []
   },
   "outputs": [
    {
     "name": "stdout",
     "output_type": "stream",
     "text": [
      "X.shape: torch.Size([42000, 784]), y.shape, torch.Size([42000])\n"
     ]
    },
    {
     "data": {
      "text/plain": [
       "(torch.Size([33600, 784]),\n",
       " torch.Size([8400, 784]),\n",
       " torch.Size([33600]),\n",
       " torch.Size([8400]))"
      ]
     },
     "execution_count": 3,
     "metadata": {},
     "output_type": "execute_result"
    }
   ],
   "source": [
    "np.random.seed(3)\n",
    "torch.manual_seed(3)\n",
    "torch.cuda.manual_seed(3)\n",
    "\n",
    "raw_numpy= data.to_numpy()\n",
    "np.random.shuffle(raw_numpy)\n",
    "raw_torch = torch.tensor(raw_numpy)\n",
    "X = raw_torch[:, 1:].type(torch.float) / 255.\n",
    "y = raw_torch[:, 0].type(torch.long)\n",
    "print(f\"X.shape: {X.shape}, y.shape, {y.shape}\")\n",
    "train_split = int(0.8*len(X))\n",
    "X_train, X_test = X[:train_split], X[train_split:]\n",
    "y_train, y_test = y[:train_split], y[train_split:]\n",
    "X_train, X_test = X_train.to(device), X_test.to(device)\n",
    "y_train, y_test = y_train.to(device), y_test.to(device)\n",
    "X_train.shape, X_test.shape, y_train.shape, y_test.shape"
   ]
  },
  {
   "cell_type": "code",
   "execution_count": 4,
   "id": "257d62a2",
   "metadata": {
    "execution": {
     "iopub.execute_input": "2023-02-23T22:59:20.007876Z",
     "iopub.status.busy": "2023-02-23T22:59:20.007002Z",
     "iopub.status.idle": "2023-02-23T22:59:20.217158Z",
     "shell.execute_reply": "2023-02-23T22:59:20.216224Z"
    },
    "papermill": {
     "duration": 0.216394,
     "end_time": "2023-02-23T22:59:20.219335",
     "exception": false,
     "start_time": "2023-02-23T22:59:20.002941",
     "status": "completed"
    },
    "tags": []
   },
   "outputs": [
    {
     "data": {
      "image/png": "[encoded data removed]",
      "text/plain": [
       "<Figure size 640x480 with 1 Axes>"
      ]
     },
     "metadata": {},
     "output_type": "display_data"
    }
   ],
   "source": [
    "plt.gray()\n",
    "plt.imshow(X_train[5].cpu().reshape((28, 28)), interpolation='nearest')\n",
    "plt.show()"
   ]
  },
  {
   "cell_type": "code",
   "execution_count": 5,
   "id": "0b488b52",
   "metadata": {
    "execution": {
     "iopub.execute_input": "2023-02-23T22:59:20.227547Z",
     "iopub.status.busy": "2023-02-23T22:59:20.227232Z",
     "iopub.status.idle": "2023-02-23T22:59:20.244459Z",
     "shell.execute_reply": "2023-02-23T22:59:20.243557Z"
    },
    "papermill": {
     "duration": 0.02371,
     "end_time": "2023-02-23T22:59:20.246457",
     "exception": false,
     "start_time": "2023-02-23T22:59:20.222747",
     "status": "completed"
    },
    "tags": []
   },
   "outputs": [
    {
     "name": "stdout",
     "output_type": "stream",
     "text": [
      "model parameters are on device: cuda:0\n"
     ]
    }
   ],
   "source": [
    "class MNISTModel(nn.Module):\n",
    "    def __init__(self, hidden_units: int = 10):\n",
    "        super().__init__()\n",
    "        self.layers = nn.Sequential(\n",
    "            nn.Linear(in_features=784, out_features=hidden_units),\n",
    "            nn.ReLU(),\n",
    "            nn.Linear(in_features=hidden_units, out_features=10))\n",
    "    def forward(self, x: torch.Tensor) -> torch.Tensor:\n",
    "        return self.layers(x)\n",
    "\n",
    "#Hyper parameters!!!\n",
    "lr = 0.1\n",
    "epochs = 200\n",
    "# lr_decay = 0.5\n",
    "model = MNISTModel().to(device)\n",
    "print(f'model parameters are on device: {next(model.parameters()).device}')\n",
    "optimizer = torch.optim.SGD(params=model.parameters(),\n",
    "                            lr = lr)\n",
    "loss_fn = nn.CrossEntropyLoss()\n",
    "\n",
    "def accuracy_fn(y_true, y_pred):\n",
    "    correct = torch.eq(y_true, y_pred).sum().item()\n",
    "    acc = (correct/len(y_pred))*100\n",
    "    return acc"
   ]
  },
  {
   "cell_type": "code",
   "execution_count": 6,
   "id": "49abbc81",
   "metadata": {
    "execution": {
     "iopub.execute_input": "2023-02-23T22:59:20.254225Z",
     "iopub.status.busy": "2023-02-23T22:59:20.253939Z",
     "iopub.status.idle": "2023-02-23T22:59:22.587267Z",
     "shell.execute_reply": "2023-02-23T22:59:22.585760Z"
    },
    "papermill": {
     "duration": 2.340129,
     "end_time": "2023-02-23T22:59:22.589924",
     "exception": false,
     "start_time": "2023-02-23T22:59:20.249795",
     "status": "completed"
    },
    "tags": []
   },
   "outputs": [
    {
     "name": "stdout",
     "output_type": "stream",
     "text": [
      "Epoch: 0 | Train Loss: 2.31237, accuracy: 12.783% | Test Loss: 2.29261, accuracy: 15.583%\n",
      "Epoch: 10 | Train Loss: 2.06204, accuracy: 34.143% | Test Loss: 2.04070, accuracy: 37.381%\n",
      "Epoch: 20 | Train Loss: 1.81093, accuracy: 51.976% | Test Loss: 1.78824, accuracy: 52.631%\n",
      "Epoch: 30 | Train Loss: 1.55192, accuracy: 63.292% | Test Loss: 1.52852, accuracy: 63.905%\n",
      "Epoch: 40 | Train Loss: 1.30273, accuracy: 69.595% | Test Loss: 1.28378, accuracy: 70.107%\n",
      "Epoch: 50 | Train Loss: 1.09699, accuracy: 75.092% | Test Loss: 1.08493, accuracy: 75.250%\n",
      "Epoch: 60 | Train Loss: 0.94298, accuracy: 79.042% | Test Loss: 0.93680, accuracy: 79.060%\n",
      "Epoch: 70 | Train Loss: 0.83085, accuracy: 81.649% | Test Loss: 0.82898, accuracy: 81.155%\n",
      "Epoch: 80 | Train Loss: 0.74854, accuracy: 83.211% | Test Loss: 0.74965, accuracy: 82.548%\n",
      "Epoch: 90 | Train Loss: 0.68672, accuracy: 84.193% | Test Loss: 0.68985, accuracy: 83.774%\n",
      "Epoch: 100 | Train Loss: 0.63907, accuracy: 85.030% | Test Loss: 0.64357, accuracy: 84.667%\n",
      "Epoch: 110 | Train Loss: 0.60138, accuracy: 85.592% | Test Loss: 0.60684, accuracy: 85.357%\n",
      "Epoch: 120 | Train Loss: 0.57091, accuracy: 86.092% | Test Loss: 0.57707, accuracy: 85.786%\n",
      "Epoch: 130 | Train Loss: 0.54580, accuracy: 86.432% | Test Loss: 0.55248, accuracy: 86.274%\n",
      "Epoch: 140 | Train Loss: 0.52479, accuracy: 86.786% | Test Loss: 0.53187, accuracy: 86.595%\n",
      "Epoch: 150 | Train Loss: 0.50697, accuracy: 87.107% | Test Loss: 0.51436, accuracy: 86.798%\n",
      "Epoch: 160 | Train Loss: 0.49166, accuracy: 87.351% | Test Loss: 0.49932, accuracy: 87.095%\n",
      "Epoch: 170 | Train Loss: 0.47838, accuracy: 87.545% | Test Loss: 0.48626, accuracy: 87.345%\n",
      "Epoch: 180 | Train Loss: 0.46675, accuracy: 87.759% | Test Loss: 0.47483, accuracy: 87.452%\n",
      "Epoch: 190 | Train Loss: 0.45648, accuracy: 87.973% | Test Loss: 0.46473, accuracy: 87.583%\n"
     ]
    }
   ],
   "source": [
    "for epoch in range(epochs):\n",
    "    model.train()\n",
    "    #1. Forward Pass\n",
    "    y_logits = model(X_train)\n",
    "    \n",
    "    #2. Calculate Loss/Accuracy\n",
    "    loss = loss_fn(y_logits, y_train)\n",
    "    #3. Optimize zero grad\n",
    "    optimizer.zero_grad()\n",
    "    #4. Perform backpropagation\n",
    "    loss.backward()\n",
    "    #5. Step the optimizer\n",
    "    optimizer.step()\n",
    "    \n",
    "    model.eval()\n",
    "    with torch.inference_mode():\n",
    "        test_logits = model(X_test)\n",
    "        test_loss = loss_fn(test_logits, y_test)\n",
    "        \n",
    "        train_pred_labels = torch.argmax(y_logits, dim=1)\n",
    "        test_pred_labels = torch.argmax(test_logits, dim=1)\n",
    "        train_acc = accuracy_fn(y_true = y_train,\n",
    "                                y_pred = train_pred_labels)\n",
    "        test_acc = accuracy_fn(y_true = y_test,\n",
    "                                y_pred = test_pred_labels)\n",
    "        \n",
    "    if epoch % 10 == 0:\n",
    "        print(f\"Epoch: {epoch} | Train Loss: {loss:.5f}, accuracy: {train_acc:.3f}% | Test Loss: {test_loss:.5f}, accuracy: {test_acc:.3f}%\")\n"
   ]
  },
  {
   "cell_type": "code",
   "execution_count": null,
   "id": "76304fce",
   "metadata": {
    "papermill": {
     "duration": 0.003558,
     "end_time": "2023-02-23T22:59:22.598342",
     "exception": false,
     "start_time": "2023-02-23T22:59:22.594784",
     "status": "completed"
    },
    "tags": []
   },
   "outputs": [],
   "source": []
  },
  {
   "cell_type": "code",
   "execution_count": null,
   "id": "4f7cd156",
   "metadata": {
    "papermill": {
     "duration": 0.003172,
     "end_time": "2023-02-23T22:59:22.605144",
     "exception": false,
     "start_time": "2023-02-23T22:59:22.601972",
     "status": "completed"
    },
    "tags": []
   },
   "outputs": [],
   "source": []
  },
  {
   "cell_type": "code",
   "execution_count": null,
   "id": "29d7ae0f",
   "metadata": {
    "papermill": {
     "duration": 0.003148,
     "end_time": "2023-02-23T22:59:22.611654",
     "exception": false,
     "start_time": "2023-02-23T22:59:22.608506",
     "status": "completed"
    },
    "tags": []
   },
   "outputs": [],
   "source": []
  },
  {
   "cell_type": "code",
   "execution_count": null,
   "id": "fd9b123d",
   "metadata": {
    "papermill": {
     "duration": 0.003162,
     "end_time": "2023-02-23T22:59:22.618237",
     "exception": false,
     "start_time": "2023-02-23T22:59:22.615075",
     "status": "completed"
    },
    "tags": []
   },
   "outputs": [],
   "source": []
  }
 ],
 "metadata": {
  "kernelspec": {
   "display_name": "Python 3",
   "language": "python",
   "name": "python3"
  },
  "language_info": {
   "codemirror_mode": {
    "name": "ipython",
    "version": 3
   },
   "file_extension": ".py",
   "mimetype": "text/x-python",
   "name": "python",
   "nbconvert_exporter": "python",
   "pygments_lexer": "ipython3",
   "version": "3.7.12"
  },
  "papermill": {
   "default_parameters": {},
   "duration": 19.707502,
   "end_time": "2023-02-23T22:59:23.742661",
   "environment_variables": {},
   "exception": null,
   "input_path": "__notebook__.ipynb",
   "output_path": "__notebook__.ipynb",
   "parameters": {},
   "start_time": "2023-02-23T22:59:04.035159",
   "version": "2.3.4"
  }
 },
 "nbformat": 4,
 "nbformat_minor": 5
}
