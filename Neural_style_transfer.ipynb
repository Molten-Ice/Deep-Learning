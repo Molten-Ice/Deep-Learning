{
  "nbformat": 4,
  "nbformat_minor": 0,
  "metadata": {
    "colab": {
      "provenance": [],
      "authorship_tag": "ABX9TyPZETpx91av/fYCKlmvcZY3",
      "include_colab_link": true
    },
    "kernelspec": {
      "name": "python3",
      "display_name": "Python 3"
    },
    "language_info": {
      "name": "python"
    }
  },
  "cells": [
    {
      "cell_type": "markdown",
      "metadata": {
        "id": "view-in-github",
        "colab_type": "text"
      },
      "source": [
        "<a href=\"https://colab.research.google.com/github/Molten-Ice/Deep-Learning/blob/dev/Neural_style_transfer.ipynb\" target=\"_parent\"><img src=\"https://colab.research.google.com/assets/colab-badge.svg\" alt=\"Open In Colab\"/></a>"
      ]
    },
    {
      "cell_type": "code",
      "execution_count": 2,
      "metadata": {
        "colab": {
          "base_uri": "https://localhost:8080/"
        },
        "id": "8uy086Z3G9Jl",
        "outputId": "8f5be44b-a9c1-4f2c-f41a-4a41dfee1a52"
      },
      "outputs": [
        {
          "output_type": "stream",
          "name": "stdout",
          "text": [
            "on device: cpu\n"
          ]
        }
      ],
      "source": [
        "import torch\n",
        "import torch.nn as nn\n",
        "import torchvision\n",
        "import torchvision.transforms as transforms\n",
        "import time\n",
        "\n",
        "device = 'cuda' if torch.cuda.is_available() else 'cpu'\n",
        "print(f\"on device: {device}\")"
      ]
    },
    {
      "cell_type": "code",
      "source": [
        "## Questions:\n",
        "\n",
        "#Do I take the Conv output before or after ReLU"
      ],
      "metadata": {
        "id": "c4ZarF4nI-Iv"
      },
      "execution_count": null,
      "outputs": []
    },
    {
      "cell_type": "code",
      "source": [
        "vgg_pretrained_model.features.0"
      ],
      "metadata": {
        "colab": {
          "base_uri": "https://localhost:8080/",
          "height": 131
        },
        "id": "0soXoxfIJL4Z",
        "outputId": "b665a763-3f6c-4eb8-ff7f-dcddaa53cd7d"
      },
      "execution_count": 13,
      "outputs": [
        {
          "output_type": "error",
          "ename": "SyntaxError",
          "evalue": "ignored",
          "traceback": [
            "\u001b[0;36m  File \u001b[0;32m\"<ipython-input-13-d6f00c0c3f67>\"\u001b[0;36m, line \u001b[0;32m1\u001b[0m\n\u001b[0;31m    vgg_pretrained_model.features.0\u001b[0m\n\u001b[0m                                 ^\u001b[0m\n\u001b[0;31mSyntaxError\u001b[0m\u001b[0;31m:\u001b[0m invalid syntax\n"
          ]
        }
      ]
    },
    {
      "cell_type": "code",
      "source": [
        "try:\n",
        "    from torchinfo import summary\n",
        "except:\n",
        "    print(\"[INFO] Couldn't find torchinfo... installing it.\")\n",
        "    !pip install -q torchinfo\n",
        "    from torchinfo import summary"
      ],
      "metadata": {
        "colab": {
          "base_uri": "https://localhost:8080/"
        },
        "id": "zJUPvIN6IIVd",
        "outputId": "69f9969b-bbea-4527-a2fb-a0ca63f23e52"
      },
      "execution_count": 9,
      "outputs": [
        {
          "output_type": "stream",
          "name": "stdout",
          "text": [
            "[INFO] Couldn't find torchinfo... installing it.\n"
          ]
        }
      ]
    },
    {
      "cell_type": "code",
      "source": [],
      "metadata": {
        "id": "wALFI5xnHQjv"
      },
      "execution_count": 58,
      "outputs": []
    },
    {
      "cell_type": "code",
      "source": [
        "weights = torchvision.models.VGG19_Weights.IMAGENET1K_V1 # \theight=224, width=224\n",
        "vgg_pretrained_model = torchvision.models.vgg19(weights=weights).to(device)\n",
        "#Freeze weights\n",
        "# for param in vgg_pretrained_model.features.parameters():\n",
        "#       param.requires_grad = False\n",
        "\n",
        "#Register hook\n",
        "activations = {}\n",
        "def get_activation(name):\n",
        "    def hook(model, input, output):\n",
        "        activations[name] = output.detach()\n",
        "    return hook\n",
        "\n",
        "output_idxs = [0, 5, 10, 19, 28]\n",
        "for conv_num, i in enumerate(output_idxs):\n",
        "  vgg_pretrained_model.features[i].register_forward_hook(get_activation('conv'+str(conv_num+1)))"
      ],
      "metadata": {
        "id": "H1wpREmKJs7K"
      },
      "execution_count": 69,
      "outputs": []
    },
    {
      "cell_type": "code",
      "source": [
        "content = torch.rand((1, 3, 224, 224))\n",
        "style = torch.rand((1, 3, 224, 224))\n",
        "output = torch.rand((1, 3, 224, 224))\n",
        "alpha, beta = 0.9, 0.1\n",
        "\n",
        "\n",
        "input = torch.concat((content, style, output), dim=0)\n",
        "_ = vgg_pretrained_model(input)"
      ],
      "metadata": {
        "id": "NzXppK84VCNw"
      },
      "execution_count": 70,
      "outputs": []
    },
    {
      "cell_type": "code",
      "source": [
        "for key in activations: print(key, activations[key].shape)\n",
        "content_outputs = []\n",
        "style_outputs = []\n",
        "generated_outputs = []\n",
        "for key in activations:\n",
        "  content_outputs.append(activations[key][0])\n",
        "  style_outputs.append(activations[key][1])\n",
        "  generated_outputs.append(activations[key][2])\n",
        "\n",
        "content_loss = 0\n",
        "for i in range(5): content_loss+= nn.functional.mse_loss(content_outputs[i], generated_outputs[i])"
      ],
      "metadata": {
        "colab": {
          "base_uri": "https://localhost:8080/"
        },
        "id": "vKnHJ3pMVFvL",
        "outputId": "0ced8b7a-71a3-4ed1-b278-8bb2c1527146"
      },
      "execution_count": 74,
      "outputs": [
        {
          "output_type": "stream",
          "name": "stdout",
          "text": [
            "conv1 torch.Size([3, 64, 224, 224])\n",
            "conv2 torch.Size([3, 128, 112, 112])\n",
            "conv3 torch.Size([3, 256, 56, 56])\n",
            "conv4 torch.Size([3, 512, 28, 28])\n",
            "conv5 torch.Size([3, 512, 14, 14])\n"
          ]
        }
      ]
    },
    {
      "cell_type": "code",
      "source": [
        "#Gram matrix for Style and generated Image"
      ],
      "metadata": {
        "id": "adVZGVd0VwMP"
      },
      "execution_count": 75,
      "outputs": []
    },
    {
      "cell_type": "code",
      "source": [
        "style_gram = []\n",
        "style_outputs[0].shape"
      ],
      "metadata": {
        "colab": {
          "base_uri": "https://localhost:8080/"
        },
        "id": "9XcbWAQMWOO2",
        "outputId": "f7a0f20d-5655-43b7-9293-0d925bc96411"
      },
      "execution_count": 77,
      "outputs": [
        {
          "output_type": "execute_result",
          "data": {
            "text/plain": [
              "torch.Size([64, 224, 224])"
            ]
          },
          "metadata": {},
          "execution_count": 77
        }
      ]
    },
    {
      "cell_type": "code",
      "source": [
        "\n",
        "\n",
        "]\n",
        "\n",
        "content_loss= 2\n",
        "style_loss = 2\n",
        "total_loss = alpha*content_loss + beta*style_loss\n",
        "\n",
        "# content_loss = \n",
        "print(total_loss)"
      ],
      "metadata": {
        "colab": {
          "base_uri": "https://localhost:8080/"
        },
        "id": "MW2PS1Y2Miji",
        "outputId": "a3093064-e167-4768-a90e-37fa022fd670"
      },
      "execution_count": 49,
      "outputs": [
        {
          "output_type": "stream",
          "name": "stdout",
          "text": [
            "2.0\n"
          ]
        }
      ]
    },
    {
      "cell_type": "code",
      "source": [
        "content_outputs[0].shape, generated_outputs[0].shape"
      ],
      "metadata": {
        "colab": {
          "base_uri": "https://localhost:8080/"
        },
        "id": "XYShPJnILHd2",
        "outputId": "d6af89ca-d2f4-4818-80ca-f8e1d024ea6f"
      },
      "execution_count": 50,
      "outputs": [
        {
          "output_type": "execute_result",
          "data": {
            "text/plain": [
              "(torch.Size([64, 224, 224]), torch.Size([64, 224, 224]))"
            ]
          },
          "metadata": {},
          "execution_count": 50
        }
      ]
    },
    {
      "cell_type": "code",
      "source": [],
      "metadata": {
        "colab": {
          "base_uri": "https://localhost:8080/",
          "height": 322
        },
        "id": "BsS7vbbYUhVx",
        "outputId": "28317157-e2af-41f7-eab8-8bd99ca4b79d"
      },
      "execution_count": 53,
      "outputs": [
        {
          "output_type": "error",
          "ename": "AttributeError",
          "evalue": "ignored",
          "traceback": [
            "\u001b[0;31m---------------------------------------------------------------------------\u001b[0m",
            "\u001b[0;31mAttributeError\u001b[0m                            Traceback (most recent call last)",
            "\u001b[0;32m<ipython-input-53-0b803fa02ea3>\u001b[0m in \u001b[0;36m<module>\u001b[0;34m\u001b[0m\n\u001b[0;32m----> 1\u001b[0;31m \u001b[0mnn\u001b[0m\u001b[0;34m.\u001b[0m\u001b[0mfunctional\u001b[0m\u001b[0;34m.\u001b[0m\u001b[0mmse_loss\u001b[0m\u001b[0;34m(\u001b[0m\u001b[0mcontent_outputs\u001b[0m\u001b[0;34m,\u001b[0m \u001b[0mgenerated_outputs\u001b[0m\u001b[0;34m)\u001b[0m\u001b[0;34m\u001b[0m\u001b[0;34m\u001b[0m\u001b[0m\n\u001b[0m",
            "\u001b[0;32m/usr/local/lib/python3.9/dist-packages/torch/nn/functional.py\u001b[0m in \u001b[0;36mmse_loss\u001b[0;34m(input, target, size_average, reduce, reduction)\u001b[0m\n\u001b[1;32m   3279\u001b[0m             \u001b[0mmse_loss\u001b[0m\u001b[0;34m,\u001b[0m \u001b[0;34m(\u001b[0m\u001b[0minput\u001b[0m\u001b[0;34m,\u001b[0m \u001b[0mtarget\u001b[0m\u001b[0;34m)\u001b[0m\u001b[0;34m,\u001b[0m \u001b[0minput\u001b[0m\u001b[0;34m,\u001b[0m \u001b[0mtarget\u001b[0m\u001b[0;34m,\u001b[0m \u001b[0msize_average\u001b[0m\u001b[0;34m=\u001b[0m\u001b[0msize_average\u001b[0m\u001b[0;34m,\u001b[0m \u001b[0mreduce\u001b[0m\u001b[0;34m=\u001b[0m\u001b[0mreduce\u001b[0m\u001b[0;34m,\u001b[0m \u001b[0mreduction\u001b[0m\u001b[0;34m=\u001b[0m\u001b[0mreduction\u001b[0m\u001b[0;34m\u001b[0m\u001b[0;34m\u001b[0m\u001b[0m\n\u001b[1;32m   3280\u001b[0m         )\n\u001b[0;32m-> 3281\u001b[0;31m     \u001b[0;32mif\u001b[0m \u001b[0;32mnot\u001b[0m \u001b[0;34m(\u001b[0m\u001b[0mtarget\u001b[0m\u001b[0;34m.\u001b[0m\u001b[0msize\u001b[0m\u001b[0;34m(\u001b[0m\u001b[0;34m)\u001b[0m \u001b[0;34m==\u001b[0m \u001b[0minput\u001b[0m\u001b[0;34m.\u001b[0m\u001b[0msize\u001b[0m\u001b[0;34m(\u001b[0m\u001b[0;34m)\u001b[0m\u001b[0;34m)\u001b[0m\u001b[0;34m:\u001b[0m\u001b[0;34m\u001b[0m\u001b[0;34m\u001b[0m\u001b[0m\n\u001b[0m\u001b[1;32m   3282\u001b[0m         warnings.warn(\n\u001b[1;32m   3283\u001b[0m             \u001b[0;34m\"Using a target size ({}) that is different to the input size ({}). \"\u001b[0m\u001b[0;34m\u001b[0m\u001b[0;34m\u001b[0m\u001b[0m\n",
            "\u001b[0;31mAttributeError\u001b[0m: 'list' object has no attribute 'size'"
          ]
        }
      ]
    },
    {
      "cell_type": "code",
      "source": [],
      "metadata": {
        "colab": {
          "base_uri": "https://localhost:8080/"
        },
        "id": "_UbClZy8Oo4-",
        "outputId": "7b3eed97-d59d-49c0-cd4e-4120aaa0f6b3"
      },
      "execution_count": 39,
      "outputs": [
        {
          "output_type": "execute_result",
          "data": {
            "text/plain": [
              "Sequential(\n",
              "  (30): Conv2d(512, 512, kernel_size=(3, 3), stride=(1, 1), padding=(1, 1))\n",
              "  (31): ReLU(inplace=True)\n",
              "  (32): Conv2d(512, 512, kernel_size=(3, 3), stride=(1, 1), padding=(1, 1))\n",
              "  (33): ReLU(inplace=True)\n",
              "  (34): Conv2d(512, 512, kernel_size=(3, 3), stride=(1, 1), padding=(1, 1))\n",
              "  (35): ReLU(inplace=True)\n",
              "  (36): MaxPool2d(kernel_size=2, stride=2, padding=0, dilation=1, ceil_mode=False)\n",
              ")"
            ]
          },
          "metadata": {},
          "execution_count": 39
        }
      ]
    },
    {
      "cell_type": "code",
      "source": [
        "#Deleting end layers to reduce model computational overhead\n",
        "vgg_pretrained_model.features[30:] = nn.Sequential()\n",
        "vgg_pretrained_model.avgpool = nn.Sequential()\n",
        "vgg_pretrained_model.classifier = nn.Sequential()"
      ],
      "metadata": {
        "colab": {
          "base_uri": "https://localhost:8080/"
        },
        "id": "bzKJsXVzIxyb",
        "outputId": "a39e2acc-d66f-4840-a224-5bc67cd6cdbd"
      },
      "execution_count": 36,
      "outputs": [
        {
          "output_type": "execute_result",
          "data": {
            "text/plain": [
              "VGG(\n",
              "  (features): Sequential(\n",
              "    (0): Conv2d(3, 64, kernel_size=(3, 3), stride=(1, 1), padding=(1, 1))\n",
              "    (1): ReLU(inplace=True)\n",
              "    (2): Conv2d(64, 64, kernel_size=(3, 3), stride=(1, 1), padding=(1, 1))\n",
              "    (3): ReLU(inplace=True)\n",
              "    (4): MaxPool2d(kernel_size=2, stride=2, padding=0, dilation=1, ceil_mode=False)\n",
              "    (5): Conv2d(64, 128, kernel_size=(3, 3), stride=(1, 1), padding=(1, 1))\n",
              "    (6): ReLU(inplace=True)\n",
              "    (7): Conv2d(128, 128, kernel_size=(3, 3), stride=(1, 1), padding=(1, 1))\n",
              "    (8): ReLU(inplace=True)\n",
              "    (9): MaxPool2d(kernel_size=2, stride=2, padding=0, dilation=1, ceil_mode=False)\n",
              "    (10): Conv2d(128, 256, kernel_size=(3, 3), stride=(1, 1), padding=(1, 1))\n",
              "    (11): ReLU(inplace=True)\n",
              "    (12): Conv2d(256, 256, kernel_size=(3, 3), stride=(1, 1), padding=(1, 1))\n",
              "    (13): ReLU(inplace=True)\n",
              "    (14): Conv2d(256, 256, kernel_size=(3, 3), stride=(1, 1), padding=(1, 1))\n",
              "    (15): ReLU(inplace=True)\n",
              "    (16): Conv2d(256, 256, kernel_size=(3, 3), stride=(1, 1), padding=(1, 1))\n",
              "    (17): ReLU(inplace=True)\n",
              "    (18): MaxPool2d(kernel_size=2, stride=2, padding=0, dilation=1, ceil_mode=False)\n",
              "    (19): Conv2d(256, 512, kernel_size=(3, 3), stride=(1, 1), padding=(1, 1))\n",
              "    (20): ReLU(inplace=True)\n",
              "    (21): Conv2d(512, 512, kernel_size=(3, 3), stride=(1, 1), padding=(1, 1))\n",
              "    (22): ReLU(inplace=True)\n",
              "    (23): Conv2d(512, 512, kernel_size=(3, 3), stride=(1, 1), padding=(1, 1))\n",
              "    (24): ReLU(inplace=True)\n",
              "    (25): Conv2d(512, 512, kernel_size=(3, 3), stride=(1, 1), padding=(1, 1))\n",
              "    (26): ReLU(inplace=True)\n",
              "    (27): MaxPool2d(kernel_size=2, stride=2, padding=0, dilation=1, ceil_mode=False)\n",
              "    (28): Conv2d(512, 512, kernel_size=(3, 3), stride=(1, 1), padding=(1, 1))\n",
              "    (29): ReLU(inplace=True)\n",
              "    (30): Conv2d(512, 512, kernel_size=(3, 3), stride=(1, 1), padding=(1, 1))\n",
              "    (31): ReLU(inplace=True)\n",
              "    (32): Conv2d(512, 512, kernel_size=(3, 3), stride=(1, 1), padding=(1, 1))\n",
              "    (33): ReLU(inplace=True)\n",
              "    (34): Conv2d(512, 512, kernel_size=(3, 3), stride=(1, 1), padding=(1, 1))\n",
              "    (35): ReLU(inplace=True)\n",
              "    (36): MaxPool2d(kernel_size=2, stride=2, padding=0, dilation=1, ceil_mode=False)\n",
              "  )\n",
              "  (avgpool): AdaptiveAvgPool2d(output_size=(7, 7))\n",
              "  (classifier): Sequential(\n",
              "    (0): Linear(in_features=25088, out_features=4096, bias=True)\n",
              "    (1): ReLU(inplace=True)\n",
              "    (2): Dropout(p=0.5, inplace=False)\n",
              "    (3): Linear(in_features=4096, out_features=4096, bias=True)\n",
              "    (4): ReLU(inplace=True)\n",
              "    (5): Dropout(p=0.5, inplace=False)\n",
              "    (6): Linear(in_features=4096, out_features=1000, bias=True)\n",
              "  )\n",
              ")"
            ]
          },
          "metadata": {},
          "execution_count": 36
        }
      ]
    },
    {
      "cell_type": "code",
      "source": [],
      "metadata": {
        "id": "IYbpmKXTLyOx"
      },
      "execution_count": null,
      "outputs": []
    },
    {
      "cell_type": "code",
      "source": [
        "summary(vgg_pretrained_model, input_size=[1, 3, 224, 224], col_names =['input_size', 'output_size', 'num_params', 'trainable'])"
      ],
      "metadata": {
        "colab": {
          "base_uri": "https://localhost:8080/"
        },
        "id": "ZcMIoS_7H6Ia",
        "outputId": "3ee6cd16-46f9-4953-95b4-4d0af2d4919a"
      },
      "execution_count": 10,
      "outputs": [
        {
          "output_type": "execute_result",
          "data": {
            "text/plain": [
              "============================================================================================================================================\n",
              "Layer (type:depth-idx)                   Input Shape               Output Shape              Param #                   Trainable\n",
              "============================================================================================================================================\n",
              "VGG                                      [1, 3, 224, 224]          [1, 1000]                 --                        True\n",
              "├─Sequential: 1-1                        [1, 3, 224, 224]          [1, 512, 7, 7]            --                        True\n",
              "│    └─Conv2d: 2-1                       [1, 3, 224, 224]          [1, 64, 224, 224]         1,792                     True\n",
              "│    └─ReLU: 2-2                         [1, 64, 224, 224]         [1, 64, 224, 224]         --                        --\n",
              "│    └─Conv2d: 2-3                       [1, 64, 224, 224]         [1, 64, 224, 224]         36,928                    True\n",
              "│    └─ReLU: 2-4                         [1, 64, 224, 224]         [1, 64, 224, 224]         --                        --\n",
              "│    └─MaxPool2d: 2-5                    [1, 64, 224, 224]         [1, 64, 112, 112]         --                        --\n",
              "│    └─Conv2d: 2-6                       [1, 64, 112, 112]         [1, 128, 112, 112]        73,856                    True\n",
              "│    └─ReLU: 2-7                         [1, 128, 112, 112]        [1, 128, 112, 112]        --                        --\n",
              "│    └─Conv2d: 2-8                       [1, 128, 112, 112]        [1, 128, 112, 112]        147,584                   True\n",
              "│    └─ReLU: 2-9                         [1, 128, 112, 112]        [1, 128, 112, 112]        --                        --\n",
              "│    └─MaxPool2d: 2-10                   [1, 128, 112, 112]        [1, 128, 56, 56]          --                        --\n",
              "│    └─Conv2d: 2-11                      [1, 128, 56, 56]          [1, 256, 56, 56]          295,168                   True\n",
              "│    └─ReLU: 2-12                        [1, 256, 56, 56]          [1, 256, 56, 56]          --                        --\n",
              "│    └─Conv2d: 2-13                      [1, 256, 56, 56]          [1, 256, 56, 56]          590,080                   True\n",
              "│    └─ReLU: 2-14                        [1, 256, 56, 56]          [1, 256, 56, 56]          --                        --\n",
              "│    └─Conv2d: 2-15                      [1, 256, 56, 56]          [1, 256, 56, 56]          590,080                   True\n",
              "│    └─ReLU: 2-16                        [1, 256, 56, 56]          [1, 256, 56, 56]          --                        --\n",
              "│    └─Conv2d: 2-17                      [1, 256, 56, 56]          [1, 256, 56, 56]          590,080                   True\n",
              "│    └─ReLU: 2-18                        [1, 256, 56, 56]          [1, 256, 56, 56]          --                        --\n",
              "│    └─MaxPool2d: 2-19                   [1, 256, 56, 56]          [1, 256, 28, 28]          --                        --\n",
              "│    └─Conv2d: 2-20                      [1, 256, 28, 28]          [1, 512, 28, 28]          1,180,160                 True\n",
              "│    └─ReLU: 2-21                        [1, 512, 28, 28]          [1, 512, 28, 28]          --                        --\n",
              "│    └─Conv2d: 2-22                      [1, 512, 28, 28]          [1, 512, 28, 28]          2,359,808                 True\n",
              "│    └─ReLU: 2-23                        [1, 512, 28, 28]          [1, 512, 28, 28]          --                        --\n",
              "│    └─Conv2d: 2-24                      [1, 512, 28, 28]          [1, 512, 28, 28]          2,359,808                 True\n",
              "│    └─ReLU: 2-25                        [1, 512, 28, 28]          [1, 512, 28, 28]          --                        --\n",
              "│    └─Conv2d: 2-26                      [1, 512, 28, 28]          [1, 512, 28, 28]          2,359,808                 True\n",
              "│    └─ReLU: 2-27                        [1, 512, 28, 28]          [1, 512, 28, 28]          --                        --\n",
              "│    └─MaxPool2d: 2-28                   [1, 512, 28, 28]          [1, 512, 14, 14]          --                        --\n",
              "│    └─Conv2d: 2-29                      [1, 512, 14, 14]          [1, 512, 14, 14]          2,359,808                 True\n",
              "│    └─ReLU: 2-30                        [1, 512, 14, 14]          [1, 512, 14, 14]          --                        --\n",
              "│    └─Conv2d: 2-31                      [1, 512, 14, 14]          [1, 512, 14, 14]          2,359,808                 True\n",
              "│    └─ReLU: 2-32                        [1, 512, 14, 14]          [1, 512, 14, 14]          --                        --\n",
              "│    └─Conv2d: 2-33                      [1, 512, 14, 14]          [1, 512, 14, 14]          2,359,808                 True\n",
              "│    └─ReLU: 2-34                        [1, 512, 14, 14]          [1, 512, 14, 14]          --                        --\n",
              "│    └─Conv2d: 2-35                      [1, 512, 14, 14]          [1, 512, 14, 14]          2,359,808                 True\n",
              "│    └─ReLU: 2-36                        [1, 512, 14, 14]          [1, 512, 14, 14]          --                        --\n",
              "│    └─MaxPool2d: 2-37                   [1, 512, 14, 14]          [1, 512, 7, 7]            --                        --\n",
              "├─AdaptiveAvgPool2d: 1-2                 [1, 512, 7, 7]            [1, 512, 7, 7]            --                        --\n",
              "├─Sequential: 1-3                        [1, 25088]                [1, 1000]                 --                        True\n",
              "│    └─Linear: 2-38                      [1, 25088]                [1, 4096]                 102,764,544               True\n",
              "│    └─ReLU: 2-39                        [1, 4096]                 [1, 4096]                 --                        --\n",
              "│    └─Dropout: 2-40                     [1, 4096]                 [1, 4096]                 --                        --\n",
              "│    └─Linear: 2-41                      [1, 4096]                 [1, 4096]                 16,781,312                True\n",
              "│    └─ReLU: 2-42                        [1, 4096]                 [1, 4096]                 --                        --\n",
              "│    └─Dropout: 2-43                     [1, 4096]                 [1, 4096]                 --                        --\n",
              "│    └─Linear: 2-44                      [1, 4096]                 [1, 1000]                 4,097,000                 True\n",
              "============================================================================================================================================\n",
              "Total params: 143,667,240\n",
              "Trainable params: 143,667,240\n",
              "Non-trainable params: 0\n",
              "Total mult-adds (G): 19.65\n",
              "============================================================================================================================================\n",
              "Input size (MB): 0.60\n",
              "Forward/backward pass size (MB): 118.89\n",
              "Params size (MB): 574.67\n",
              "Estimated Total Size (MB): 694.16\n",
              "============================================================================================================================================"
            ]
          },
          "metadata": {},
          "execution_count": 10
        }
      ]
    },
    {
      "cell_type": "code",
      "source": [],
      "metadata": {
        "id": "1M1QSQ3BIAzE"
      },
      "execution_count": null,
      "outputs": []
    }
  ]
}