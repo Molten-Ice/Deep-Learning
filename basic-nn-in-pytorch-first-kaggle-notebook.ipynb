{
 "cells": [
  {
   "cell_type": "code",
   "execution_count": 1,
   "id": "4063808b",
   "metadata": {
    "execution": {
     "iopub.execute_input": "2023-02-21T12:31:52.292934Z",
     "iopub.status.busy": "2023-02-21T12:31:52.292458Z",
     "iopub.status.idle": "2023-02-21T12:31:54.055264Z",
     "shell.execute_reply": "2023-02-21T12:31:54.054105Z"
    },
    "papermill": {
     "duration": 1.770345,
     "end_time": "2023-02-21T12:31:54.058211",
     "exception": false,
     "start_time": "2023-02-21T12:31:52.287866",
     "status": "completed"
    },
    "tags": []
   },
   "outputs": [
    {
     "name": "stdout",
     "output_type": "stream",
     "text": [
      "1.12.0+cpu\n"
     ]
    }
   ],
   "source": [
    "import numpy as np\n",
    "import pandas as pd\n",
    "from matplotlib import pyplot as plt\n",
    "import torch\n",
    "print(torch.__version__)"
   ]
  },
  {
   "cell_type": "code",
   "execution_count": 2,
   "id": "75f39e87",
   "metadata": {
    "execution": {
     "iopub.execute_input": "2023-02-21T12:31:54.069286Z",
     "iopub.status.busy": "2023-02-21T12:31:54.068477Z",
     "iopub.status.idle": "2023-02-21T12:31:56.941074Z",
     "shell.execute_reply": "2023-02-21T12:31:56.940412Z"
    },
    "papermill": {
     "duration": 2.881042,
     "end_time": "2023-02-21T12:31:56.943238",
     "exception": false,
     "start_time": "2023-02-21T12:31:54.062196",
     "status": "completed"
    },
    "tags": []
   },
   "outputs": [],
   "source": [
    "data = pd.read_csv('/kaggle/input/digit-recognizer/train.csv')"
   ]
  },
  {
   "cell_type": "code",
   "execution_count": 3,
   "id": "f89d638e",
   "metadata": {
    "execution": {
     "iopub.execute_input": "2023-02-21T12:31:56.949882Z",
     "iopub.status.busy": "2023-02-21T12:31:56.949272Z",
     "iopub.status.idle": "2023-02-21T12:31:56.972968Z",
     "shell.execute_reply": "2023-02-21T12:31:56.972109Z"
    },
    "papermill": {
     "duration": 0.029178,
     "end_time": "2023-02-21T12:31:56.974971",
     "exception": false,
     "start_time": "2023-02-21T12:31:56.945793",
     "status": "completed"
    },
    "tags": []
   },
   "outputs": [
    {
     "data": {
      "text/html": [
       "<div>\n",
       "<style scoped>\n",
       "    .dataframe tbody tr th:only-of-type {\n",
       "        vertical-align: middle;\n",
       "    }\n",
       "\n",
       "    .dataframe tbody tr th {\n",
       "        vertical-align: top;\n",
       "    }\n",
       "\n",
       "    .dataframe thead th {\n",
       "        text-align: right;\n",
       "    }\n",
       "</style>\n",
       "<table border=\"1\" class=\"dataframe\">\n",
       "  <thead>\n",
       "    <tr style=\"text-align: right;\">\n",
       "      <th></th>\n",
       "      <th>label</th>\n",
       "      <th>pixel0</th>\n",
       "      <th>pixel1</th>\n",
       "      <th>pixel2</th>\n",
       "      <th>pixel3</th>\n",
       "      <th>pixel4</th>\n",
       "      <th>pixel5</th>\n",
       "      <th>pixel6</th>\n",
       "      <th>pixel7</th>\n",
       "      <th>pixel8</th>\n",
       "      <th>...</th>\n",
       "      <th>pixel774</th>\n",
       "      <th>pixel775</th>\n",
       "      <th>pixel776</th>\n",
       "      <th>pixel777</th>\n",
       "      <th>pixel778</th>\n",
       "      <th>pixel779</th>\n",
       "      <th>pixel780</th>\n",
       "      <th>pixel781</th>\n",
       "      <th>pixel782</th>\n",
       "      <th>pixel783</th>\n",
       "    </tr>\n",
       "  </thead>\n",
       "  <tbody>\n",
       "    <tr>\n",
       "      <th>0</th>\n",
       "      <td>1</td>\n",
       "      <td>0</td>\n",
       "      <td>0</td>\n",
       "      <td>0</td>\n",
       "      <td>0</td>\n",
       "      <td>0</td>\n",
       "      <td>0</td>\n",
       "      <td>0</td>\n",
       "      <td>0</td>\n",
       "      <td>0</td>\n",
       "      <td>...</td>\n",
       "      <td>0</td>\n",
       "      <td>0</td>\n",
       "      <td>0</td>\n",
       "      <td>0</td>\n",
       "      <td>0</td>\n",
       "      <td>0</td>\n",
       "      <td>0</td>\n",
       "      <td>0</td>\n",
       "      <td>0</td>\n",
       "      <td>0</td>\n",
       "    </tr>\n",
       "    <tr>\n",
       "      <th>1</th>\n",
       "      <td>0</td>\n",
       "      <td>0</td>\n",
       "      <td>0</td>\n",
       "      <td>0</td>\n",
       "      <td>0</td>\n",
       "      <td>0</td>\n",
       "      <td>0</td>\n",
       "      <td>0</td>\n",
       "      <td>0</td>\n",
       "      <td>0</td>\n",
       "      <td>...</td>\n",
       "      <td>0</td>\n",
       "      <td>0</td>\n",
       "      <td>0</td>\n",
       "      <td>0</td>\n",
       "      <td>0</td>\n",
       "      <td>0</td>\n",
       "      <td>0</td>\n",
       "      <td>0</td>\n",
       "      <td>0</td>\n",
       "      <td>0</td>\n",
       "    </tr>\n",
       "    <tr>\n",
       "      <th>2</th>\n",
       "      <td>1</td>\n",
       "      <td>0</td>\n",
       "      <td>0</td>\n",
       "      <td>0</td>\n",
       "      <td>0</td>\n",
       "      <td>0</td>\n",
       "      <td>0</td>\n",
       "      <td>0</td>\n",
       "      <td>0</td>\n",
       "      <td>0</td>\n",
       "      <td>...</td>\n",
       "      <td>0</td>\n",
       "      <td>0</td>\n",
       "      <td>0</td>\n",
       "      <td>0</td>\n",
       "      <td>0</td>\n",
       "      <td>0</td>\n",
       "      <td>0</td>\n",
       "      <td>0</td>\n",
       "      <td>0</td>\n",
       "      <td>0</td>\n",
       "    </tr>\n",
       "    <tr>\n",
       "      <th>3</th>\n",
       "      <td>4</td>\n",
       "      <td>0</td>\n",
       "      <td>0</td>\n",
       "      <td>0</td>\n",
       "      <td>0</td>\n",
       "      <td>0</td>\n",
       "      <td>0</td>\n",
       "      <td>0</td>\n",
       "      <td>0</td>\n",
       "      <td>0</td>\n",
       "      <td>...</td>\n",
       "      <td>0</td>\n",
       "      <td>0</td>\n",
       "      <td>0</td>\n",
       "      <td>0</td>\n",
       "      <td>0</td>\n",
       "      <td>0</td>\n",
       "      <td>0</td>\n",
       "      <td>0</td>\n",
       "      <td>0</td>\n",
       "      <td>0</td>\n",
       "    </tr>\n",
       "    <tr>\n",
       "      <th>4</th>\n",
       "      <td>0</td>\n",
       "      <td>0</td>\n",
       "      <td>0</td>\n",
       "      <td>0</td>\n",
       "      <td>0</td>\n",
       "      <td>0</td>\n",
       "      <td>0</td>\n",
       "      <td>0</td>\n",
       "      <td>0</td>\n",
       "      <td>0</td>\n",
       "      <td>...</td>\n",
       "      <td>0</td>\n",
       "      <td>0</td>\n",
       "      <td>0</td>\n",
       "      <td>0</td>\n",
       "      <td>0</td>\n",
       "      <td>0</td>\n",
       "      <td>0</td>\n",
       "      <td>0</td>\n",
       "      <td>0</td>\n",
       "      <td>0</td>\n",
       "    </tr>\n",
       "  </tbody>\n",
       "</table>\n",
       "<p>5 rows × 785 columns</p>\n",
       "</div>"
      ],
      "text/plain": [
       "   label  pixel0  pixel1  pixel2  pixel3  pixel4  pixel5  pixel6  pixel7  \\\n",
       "0      1       0       0       0       0       0       0       0       0   \n",
       "1      0       0       0       0       0       0       0       0       0   \n",
       "2      1       0       0       0       0       0       0       0       0   \n",
       "3      4       0       0       0       0       0       0       0       0   \n",
       "4      0       0       0       0       0       0       0       0       0   \n",
       "\n",
       "   pixel8  ...  pixel774  pixel775  pixel776  pixel777  pixel778  pixel779  \\\n",
       "0       0  ...         0         0         0         0         0         0   \n",
       "1       0  ...         0         0         0         0         0         0   \n",
       "2       0  ...         0         0         0         0         0         0   \n",
       "3       0  ...         0         0         0         0         0         0   \n",
       "4       0  ...         0         0         0         0         0         0   \n",
       "\n",
       "   pixel780  pixel781  pixel782  pixel783  \n",
       "0         0         0         0         0  \n",
       "1         0         0         0         0  \n",
       "2         0         0         0         0  \n",
       "3         0         0         0         0  \n",
       "4         0         0         0         0  \n",
       "\n",
       "[5 rows x 785 columns]"
      ]
     },
     "execution_count": 3,
     "metadata": {},
     "output_type": "execute_result"
    }
   ],
   "source": [
    "data.head()"
   ]
  },
  {
   "cell_type": "code",
   "execution_count": 4,
   "id": "d38d1c8e",
   "metadata": {
    "execution": {
     "iopub.execute_input": "2023-02-21T12:31:56.982363Z",
     "iopub.status.busy": "2023-02-21T12:31:56.981990Z",
     "iopub.status.idle": "2023-02-21T12:31:56.988395Z",
     "shell.execute_reply": "2023-02-21T12:31:56.987068Z"
    },
    "papermill": {
     "duration": 0.012943,
     "end_time": "2023-02-21T12:31:56.990805",
     "exception": false,
     "start_time": "2023-02-21T12:31:56.977862",
     "status": "completed"
    },
    "tags": []
   },
   "outputs": [
    {
     "data": {
      "text/plain": [
       "(42000, 785)"
      ]
     },
     "execution_count": 4,
     "metadata": {},
     "output_type": "execute_result"
    }
   ],
   "source": [
    "np_array = data.to_numpy()\n",
    "np_array.shape\n",
    "#row 1: label, 784 pixes"
   ]
  },
  {
   "cell_type": "code",
   "execution_count": 5,
   "id": "c904a1b2",
   "metadata": {
    "execution": {
     "iopub.execute_input": "2023-02-21T12:31:57.000978Z",
     "iopub.status.busy": "2023-02-21T12:31:57.000399Z",
     "iopub.status.idle": "2023-02-21T12:31:57.004752Z",
     "shell.execute_reply": "2023-02-21T12:31:57.003891Z"
    },
    "papermill": {
     "duration": 0.01263,
     "end_time": "2023-02-21T12:31:57.006565",
     "exception": false,
     "start_time": "2023-02-21T12:31:56.993935",
     "status": "completed"
    },
    "tags": []
   },
   "outputs": [],
   "source": [
    "test_data = np_array[:1000]\n",
    "training_data = np_array[1000:]"
   ]
  },
  {
   "cell_type": "code",
   "execution_count": 6,
   "id": "c5c8df79",
   "metadata": {
    "execution": {
     "iopub.execute_input": "2023-02-21T12:31:57.013368Z",
     "iopub.status.busy": "2023-02-21T12:31:57.013057Z",
     "iopub.status.idle": "2023-02-21T12:31:57.253555Z",
     "shell.execute_reply": "2023-02-21T12:31:57.252400Z"
    },
    "papermill": {
     "duration": 0.246505,
     "end_time": "2023-02-21T12:31:57.256034",
     "exception": false,
     "start_time": "2023-02-21T12:31:57.009529",
     "status": "completed"
    },
    "tags": []
   },
   "outputs": [
    {
     "data": {
      "text/plain": [
       "(torch.Size([41000, 784]), torch.Size([41000, 1]))"
      ]
     },
     "execution_count": 6,
     "metadata": {},
     "output_type": "execute_result"
    }
   ],
   "source": [
    "X_train = torch.tensor(training_data[:, 1:]) / 255.\n",
    "Y_train = torch.tensor(training_data[:, :1])\n",
    "X_train.shape, Y_train.shape"
   ]
  },
  {
   "cell_type": "code",
   "execution_count": 7,
   "id": "48a8475d",
   "metadata": {
    "execution": {
     "iopub.execute_input": "2023-02-21T12:31:57.263065Z",
     "iopub.status.busy": "2023-02-21T12:31:57.262769Z",
     "iopub.status.idle": "2023-02-21T12:31:57.270852Z",
     "shell.execute_reply": "2023-02-21T12:31:57.269991Z"
    },
    "papermill": {
     "duration": 0.013562,
     "end_time": "2023-02-21T12:31:57.272664",
     "exception": false,
     "start_time": "2023-02-21T12:31:57.259102",
     "status": "completed"
    },
    "tags": []
   },
   "outputs": [
    {
     "data": {
      "text/plain": [
       "(torch.Size([1000, 784]), torch.Size([1000, 1]))"
      ]
     },
     "execution_count": 7,
     "metadata": {},
     "output_type": "execute_result"
    }
   ],
   "source": [
    "X_test = torch.tensor(test_data[:, 1:]) / 255.\n",
    "Y_test = torch.tensor(test_data[:, :1])\n",
    "X_test.shape, Y_test.shape"
   ]
  }
 ],
 "metadata": {
  "kernelspec": {
   "display_name": "Python 3",
   "language": "python",
   "name": "python3"
  },
  "language_info": {
   "codemirror_mode": {
    "name": "ipython",
    "version": 3
   },
   "file_extension": ".py",
   "mimetype": "text/x-python",
   "name": "python",
   "nbconvert_exporter": "python",
   "pygments_lexer": "ipython3",
   "version": "3.7.12"
  },
  "papermill": {
   "default_parameters": {},
   "duration": 13.229811,
   "end_time": "2023-02-21T12:31:58.096034",
   "environment_variables": {},
   "exception": null,
   "input_path": "__notebook__.ipynb",
   "output_path": "__notebook__.ipynb",
   "parameters": {},
   "start_time": "2023-02-21T12:31:44.866223",
   "version": "2.3.4"
  }
 },
 "nbformat": 4,
 "nbformat_minor": 5
}
