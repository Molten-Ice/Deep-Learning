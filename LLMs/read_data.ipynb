{
 "cells": [
  {
   "cell_type": "code",
   "execution_count": 21,
   "metadata": {},
   "outputs": [
    {
     "name": "stdout",
     "output_type": "stream",
     "text": [
      "-------------------- 45560 --------------------\n",
      "instruction: Write a code to generate the Fibonacci series\n",
      "input: \n",
      "output: def Fibonacci(n):  \n",
      "   if n<0:  \n",
      "      print(\"Incorrect input\")  \n",
      "   elif n==1:  \n",
      "      return 0\n",
      "   elif n==2:  \n",
      "      return 1\n",
      "   else:  \n",
      "      return Fibonacci(n-1)+Fibonacci(n-2)\n",
      "-------------------- 812 --------------------\n",
      "instruction: Change the following sentence from the past tense to the present tense.\n",
      "input: She cooked the dinner last night.\n",
      "output: She is cooking the dinner tonight.\n",
      "-------------------- 51203 --------------------\n",
      "instruction: Create a summative paragraph giving your opinion on the article.\n",
      "input: \n",
      "output: This article provides a good overview of the expected costs of political and issue-advocacy advertising for the 2008 election cycle, noting the large amount of money that candidates, unions and corporations are willing to spend and stressing that it will be nearly double what was spent in 2004. It is clear from the forecasts made by TNS Media Intelligence/Campaign Media Analysis Group that the cost of trying to influence the 2008 election will be significantly higher than before and will bring about some interesting changes. It will be interesting to see how this affects the election and whether or not it ultimately leads to more informed voters.\n",
      "-------------------- 26639 --------------------\n",
      "instruction: Name the given bird.\n",
      "input: Photo of an owl\n",
      "output: Owl\n",
      "-------------------- 5107 --------------------\n",
      "instruction: Analyze the given passage and explain how it reflects the author's viewpoint.\n",
      "input: John F. Kennedy once said, \"We are not here to curse the darkness, but to light the candle that can guide us through that darkness to a safe and sane future.\"\n",
      "output: John F. Kennedy's quote is an inspirational call for action, emphasizing the importance of taking a proactive approach and looking to the future. The metaphor of \"lighting a candle\" serves as a symbol of positivity; that in the face of darkness and adversity, a single spark of hope can bring about change. By focusing on the possibilities of the future, Kennedy underscores the importance of optimism despite any challenges that may arise. His words reflect the author's view that hope is a powerful tool and that it can be leveraged to spark progress and bring positive change to the world.\n"
     ]
    }
   ],
   "source": [
    "import json\n",
    "import numpy as np\n",
    "def load_json(filename='alpaca_data.json'):\n",
    "    \"\"\"Load a .json file into a dictionary.\"\"\"\n",
    "    f = open(filename, mode='r')\n",
    "    jdict = json.load(f)\n",
    "    f.close()\n",
    "    return jdict\n",
    "\n",
    "jdict = load_json()\n",
    "idxs = np.random.randint(0, len(jdict)-1, 5)\n",
    "for idx in idxs:\n",
    "    print(f\"{'-'*20} {idx} {'-'*20}\")\n",
    "    example = jdict[idx]\n",
    "    for key in example:\n",
    "        print(f\"{key}: {example[key]}\")"
   ]
  },
  {
   "cell_type": "code",
   "execution_count": 36,
   "metadata": {},
   "outputs": [
    {
     "name": "stdout",
     "output_type": "stream",
     "text": [
      "-------------------- 40 --------------------\n",
      "id: seed_task_40\n",
      "name: plan_a_trip\n",
      "instruction: I am planning a 7-day trip to Seattle. Can you make a detailed plan for me?\n",
      "input: \n",
      "output: Day 1: Arrive in Seattle. Check into your hotel and explore the city.\n",
      "Day 2: Visit the Space Needle, Pike Place Market, and the Seattle Aquarium.\n",
      "Day 3: Take a ferry to Bainbridge Island and explore the island.\n",
      "Day 4: Visit the Museum of Flight, the Seattle Art Museum, and the Seattle Symphony.\n",
      "Day 5: Take a day trip to Mount Rainier National Park.\n",
      "Day 6: Visit the Woodland Park Zoo, the Hiram M. Chittenden Locks, and the Seattle Japanese Garden.\n",
      "Day 7: Depart Seattle.\n",
      "is_classification: False\n",
      "-------------------- 103 --------------------\n",
      "id: seed_task_103\n",
      "name: explain_like_i_am_5\n",
      "instruction: Explain the questions like I am 5.\n",
      "input: Question: Can you give me an understandable example of money laundering? So say it’s a storefront that sells art but is actually money laundering. How does that work? What is actually happening?\n",
      "output: You've been stealing $20 notes from your father's wallet for a few weeks, and now have quite a stash ($100) to spend at the toy shop. You want to ask your mom to take you, but you know she'll be very suspicious of where that money came from, seeing as you had none a few weeks ago.\n",
      "\n",
      "So you open a lemonade stand on the front lawn. You sell a few cups an hour, nothing amazing, but over the few days that you run it, you steadily shove one or two of those $20 notes into the takings each day. Your parents are amazed at your enterprise when you proudly show them the $148 you made at the end of the week after expenses. Of course, $100 of that is your stolen money, only $48 is \"real\" profits. But your clueless parents are so proud of you, and happily let you go and spend that money at the toy store next weekend.\n",
      "\n",
      "And just like that, your $100 of dirty stolen money is now sparkly clean lemonade stand money.\n",
      "is_classification: False\n"
     ]
    }
   ],
   "source": [
    "import json\n",
    "\n",
    "\n",
    "seed_tasks = []\n",
    "with open('seed_tasks.jsonl', 'r') as json_file:\n",
    "    for json_str in list(json_file):\n",
    "          seed_tasks.append(json.loads(json_str))\n",
    "\n",
    "idxs = np.random.randint(0, len(seed_tasks)-1, 2)\n",
    "for idx in idxs:\n",
    "    print(f\"{'-'*20} {idx} {'-'*20}\")\n",
    "    example = seed_tasks[idx]\n",
    "    # id: seed_task_129\n",
    "    # name: recommendation_letter\n",
    "    # instruction: Write a recommendation letter given the student's achievement.\n",
    "    # instances: [{'input': 'Achievement: \\n- GPA 3.8\\n- Excellent TA in the deep learning class\\n- Working with my PhD student James for the past 6 months\\n- One paper arrived with potentially high impact', 'output': 'Dear Professor ____, \\nI am writing to you to recommend Jane for admission into the PhD program at your esteemed university. Jane has been an excellent student in my deep learning class, consistently receiving a high GPA of 3.8. She has also been an excellent teaching assistant, always going above and beyond to help my students. Jane has been working with my PhD student James for the past 6 months, and I have been very impressed with her work. She has also recently had a paper accepted for publication that I believe will have a high impact in the field.  Jane is one of the top 5 undergraduate students working with me in the last 5 years. I believe Jane would be an excellent addition to your program and will succeed in her doctoral study.'}]\n",
    "    # is_classification: False\n",
    "    print(\"id:\", example[\"id\"])\n",
    "    print(\"name:\", example[\"name\"])\n",
    "    print(\"instruction:\", example[\"instruction\"])\n",
    "    for key in example[\"instances\"][0]:\n",
    "         print(f\"{key}:\", example[\"instances\"][0][key])\n",
    "    print(\"is_classification:\", example[\"is_classification\"])"
   ]
  },
  {
   "cell_type": "code",
   "execution_count": 40,
   "metadata": {},
   "outputs": [
    {
     "name": "stdout",
     "output_type": "stream",
     "text": [
      "Below is an instruction that describes a task, paired with an input that provides further context. Write a response that appropriately completes the request.\n",
      "\n",
      "### Instruction:\n",
      "{instruction}\n",
      "\n",
      "### Input:\n",
      "{input}\n",
      "\n",
      "### Response:\n",
      "--------------------\n",
      "Below is an instruction that describes a task. Write a response that appropriately completes the request.\n",
      "\n",
      "### Instruction:\n",
      "{instruction}\n",
      "\n",
      "### Response:\n"
     ]
    }
   ],
   "source": [
    "PROMPT_DICT = {\n",
    "    \"prompt_input\": (\n",
    "        \"Below is an instruction that describes a task, paired with an input that provides further context. \"\n",
    "        \"Write a response that appropriately completes the request.\\n\\n\"\n",
    "        \"### Instruction:\\n{instruction}\\n\\n### Input:\\n{input}\\n\\n### Response:\"\n",
    "    ),\n",
    "    \"prompt_no_input\": (\n",
    "        \"Below is an instruction that describes a task. \"\n",
    "        \"Write a response that appropriately completes the request.\\n\\n\"\n",
    "        \"### Instruction:\\n{instruction}\\n\\n### Response:\"\n",
    "    ),\n",
    "}\n",
    "print(PROMPT_DICT['prompt_input'])\n",
    "print(\"-\"*20)\n",
    "print(PROMPT_DICT['prompt_no_input'])"
   ]
  },
  {
   "cell_type": "code",
   "execution_count": 41,
   "metadata": {},
   "outputs": [
    {
     "name": "stdout",
     "output_type": "stream",
     "text": [
      "</s>\n"
     ]
    }
   ],
   "source": [
    "print(\"</s>\")"
   ]
  },
  {
   "cell_type": "code",
   "execution_count": null,
   "metadata": {},
   "outputs": [],
   "source": []
  }
 ],
 "metadata": {
  "kernelspec": {
   "display_name": "deep-learning",
   "language": "python",
   "name": "python3"
  },
  "language_info": {
   "codemirror_mode": {
    "name": "ipython",
    "version": 3
   },
   "file_extension": ".py",
   "mimetype": "text/x-python",
   "name": "python",
   "nbconvert_exporter": "python",
   "pygments_lexer": "ipython3",
   "version": "3.10.10"
  },
  "orig_nbformat": 4
 },
 "nbformat": 4,
 "nbformat_minor": 2
}
