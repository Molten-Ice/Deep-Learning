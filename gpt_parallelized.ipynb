{
  "nbformat": 4,
  "nbformat_minor": 0,
  "metadata": {
    "colab": {
      "provenance": [],
      "authorship_tag": "ABX9TyP1uGwgxKekaaWVBd32ONB8",
      "include_colab_link": true
    },
    "kernelspec": {
      "name": "python3",
      "display_name": "Python 3"
    },
    "language_info": {
      "name": "python"
    },
    "accelerator": "GPU",
    "gpuClass": "standard"
  },
  "cells": [
    {
      "cell_type": "markdown",
      "metadata": {
        "id": "view-in-github",
        "colab_type": "text"
      },
      "source": [
        "<a href=\"https://colab.research.google.com/github/Molten-Ice/Deep-Learning/blob/dev/gpt_parallelized.ipynb\" target=\"_parent\"><img src=\"https://colab.research.google.com/assets/colab-badge.svg\" alt=\"Open In Colab\"/></a>"
      ]
    },
    {
      "cell_type": "code",
      "execution_count": 22,
      "metadata": {
        "id": "cuBYNiXKq_Fg"
      },
      "outputs": [],
      "source": [
        "# -Tidy code\n",
        "#- lr scheduler\n",
        "# -optim.lr_scheduler.CosineAnnealingLR"
      ]
    },
    {
      "cell_type": "markdown",
      "source": [
        "## Hyperparameters"
      ],
      "metadata": {
        "id": "FsJuMTN6sDUy"
      }
    },
    {
      "cell_type": "code",
      "source": [
        "# hyperparameters\n",
        "batch_size = 64 # num independent sequences processed in parallel \n",
        "block_size = 256 # what is the maximum context lengths?\n",
        "\n",
        "max_iterations = 5001 # training iterations\n",
        "eval_interval = 1000 # how often to print out loss & accuracy\n",
        "eval_iterations = 50 # how many batches to check during evaluation\n",
        "\n",
        "train_split = 0.9\n",
        "\n",
        "dropout = 0.2\n",
        "# learning_rate = 3e-4\n",
        "\n",
        "n_heads = 6\n",
        "n_embedding = 384 # each head has dim 64 (=384/6)\n",
        "n_layer = 3"
      ],
      "metadata": {
        "id": "4hdDx_6_sOiW"
      },
      "execution_count": 23,
      "outputs": []
    },
    {
      "cell_type": "markdown",
      "source": [
        "## Imports "
      ],
      "metadata": {
        "id": "Squ7V9CRt-oP"
      }
    },
    {
      "cell_type": "code",
      "source": [
        "try:\n",
        "    import einops\n",
        "except:\n",
        "    print(f\"einops not installed as required, installing...\")\n",
        "    !pip3 install einops\n",
        "    import einops\n",
        "\n",
        "from einops import rearrange, reduce, repeat\n",
        "\n",
        "import torch\n",
        "import torch.nn as nn\n",
        "import time"
      ],
      "metadata": {
        "id": "xvZXdhgCsGk5"
      },
      "execution_count": 24,
      "outputs": []
    },
    {
      "cell_type": "code",
      "source": [
        "device = 'cuda' if torch.cuda.is_available() else 'cpu'\n",
        "print(f\"on device: {device}\")"
      ],
      "metadata": {
        "colab": {
          "base_uri": "https://localhost:8080/"
        },
        "id": "coylNu1tsRmk",
        "outputId": "df1596ec-ce21-47dd-d2de-7da58ada76e9"
      },
      "execution_count": 25,
      "outputs": [
        {
          "output_type": "stream",
          "name": "stdout",
          "text": [
            "on device: cuda\n"
          ]
        }
      ]
    },
    {
      "cell_type": "markdown",
      "source": [
        "## Download and pre-process data"
      ],
      "metadata": {
        "id": "peUiLi_4sUJh"
      }
    },
    {
      "cell_type": "code",
      "source": [
        "# Importing data\n",
        "data_file_path = 'https://raw.githubusercontent.com/Molten-Ice/Deep-Learning/main/Data/foundation.txt'\n",
        "import requests\n",
        "r = requests.get(data_file_path)\n",
        "text = r.text\n",
        "\n",
        "# file = \"foundation.txt\"\n",
        "# with open(file, 'r') as f:\n",
        "#   text = f.read()\n",
        "\n",
        "print(f\"Length of foundation.txt: {len(text)} characters\")\n",
        "print(text[:250])\n",
        "\n",
        "chars = sorted(list(set(text)))\n",
        "n_chars = len(chars)\n",
        "print(f\"There are {n_chars} unique characters, namely: {''.join(chars)}\")\n",
        "\n",
        "ctoi = {ch:i for i, ch in enumerate(chars)} # characters to integers\n",
        "itoc = {i:ch for i, ch in enumerate(chars)} # integers to character\n",
        "encode = lambda s: [ctoi[ch] for ch in s]\n",
        "decode = lambda l: ''.join([itoc[i] for i in l])\n",
        "print(encode(\"Hello world!\"))\n",
        "print(decode(encode(\"Foo Bar!\")))\n",
        "\n",
        "encoded_text = encode(text)\n",
        "print(len(encoded_text))\n",
        "\n",
        "n = int(len(encoded_text) * 0.9)\n",
        "data = torch.tensor(encoded_text, dtype=torch.long)\n",
        "train_data = data[:n]\n",
        "test_data = data[n:]\n",
        "print(f\"train data length {len(train_data)} | test data length {len(test_data)}\")"
      ],
      "metadata": {
        "colab": {
          "base_uri": "https://localhost:8080/"
        },
        "id": "3XvR_WbCsWVb",
        "outputId": "b002fcbc-63ab-409d-f412-19c40d761415"
      },
      "execution_count": 26,
      "outputs": [
        {
          "output_type": "stream",
          "name": "stdout",
          "text": [
            "Length of foundation.txt: 1240544 characters\n",
            "FOUNDATION \n",
            "ISAAC ASIMOV \n",
            "\n",
            "PART I \n",
            "\n",
            "THE PSYCHOHISTORIANS \n",
            "\n",
            "i. \n",
            "\n",
            "HARI SELDON-... bom In the 1 1,988th year of the Galactic Era; died 12,069. The dates are \n",
            "more commonly given In terms of the current Foundational Era as - 79 to the year 1 F.E. Born \n",
            "t\n",
            "There are 84 unique characters, namely: \n",
            " !\"#%'()*,-./0123456789:;?ABCDEFGHIJKLMNOPQRSTUVWXYZ\\abcdefghijklmnopqrstuvwxyz—‘’”\n",
            "[34, 58, 65, 65, 68, 1, 76, 68, 71, 65, 57, 2]\n",
            "Foo Bar!\n",
            "1240544\n",
            "train data length 1116489 | test data length 124055\n"
          ]
        }
      ]
    },
    {
      "cell_type": "code",
      "source": [
        "def get_batches(split='train') -> tuple:\n",
        "  data = train_data if split == 'train' else test_data\n",
        "  idxs = torch.randint(len(data)-block_size, (batch_size, ))\n",
        "  xb = torch.stack([data[i:i+block_size] for i in idxs])\n",
        "  yb = torch.stack([data[i+1:i+block_size+1] for i in idxs])\n",
        "  xb, yb = xb.to(device), yb.to(device)\n",
        "  return xb, yb\n",
        "\n",
        "xb, yb = get_batches()\n",
        "print(xb.shape, yb.shape)\n",
        "\n",
        "def evaluate_model(model, eval_iterations = eval_iterations):\n",
        "  t_eval = time.time()\n",
        "  model.eval()\n",
        "  with torch.inference_mode():\n",
        "    splits = ['train', 'test']\n",
        "    categories = ['loss', 'top1', 'top5']\n",
        "    all = {s:{c: torch.zeros(eval_iterations) for c in categories} for s in splits}\n",
        "    for split in splits:\n",
        "      for i in range(eval_iterations):\n",
        "        xb, yb = get_batches(split = split)\n",
        "        logits, loss = model(xb, yb)\n",
        "        all[split]['loss'][i] = loss.item()\n",
        "\n",
        "        # top@1 accuracy\n",
        "        top1_preds = torch.topk(logits, 1, dim = -1).indices.squeeze(dim=-1)\n",
        "        all[split]['top1'][i] = (torch.sum(top1_preds == yb) / torch.numel(yb)).item()\n",
        "        \n",
        "\n",
        "        # top@5 accuracy\n",
        "        top5_preds = torch.topk(logits, 5, dim = -1).indices\n",
        "        y_stretched = repeat(yb, 'B T -> B T K', K = 5)\n",
        "        all[split]['top5'][i] = (torch.sum(top5_preds == y_stretched) / torch.numel(yb)).item()\n",
        "    \n",
        "    \n",
        "    output_dict = {}\n",
        "    for split in splits:\n",
        "\n",
        "      loss = all[split]['loss'].mean().item()\n",
        "      top1 = 100*all[split]['top1'].mean().item()\n",
        "      top5 = 100*all[split]['top5'].mean().item()\n",
        "      output_dict[split] = [loss, top1, top5]\n",
        "\n",
        "    model.train()\n",
        "\n",
        "    output_dict['eval_time'] = time.time()-t_eval\n",
        "    # return output_dict\n",
        "\n",
        "    # Formatting output\n",
        "    array = []\n",
        "    array.extend(output_dict['train'])\n",
        "    array.extend(output_dict['test'])\n",
        "    array.append(output_dict['eval_time'])\n",
        "\n",
        "    output_str=\"\"\n",
        "    target_indexes = [i for i in range(0, 63, 9)]\n",
        "    for idx, horizontal_pos in enumerate(target_indexes):\n",
        "      output_str+=\" \"*(horizontal_pos-len(output_str))\n",
        "      output_str+=f\"{array[idx]:.4f}\"\n",
        "  return output_str"
      ],
      "metadata": {
        "colab": {
          "base_uri": "https://localhost:8080/"
        },
        "id": "WOE-tTe-sdOE",
        "outputId": "b9e28d46-24f0-41b6-89bd-a8ebf536f23b"
      },
      "execution_count": 27,
      "outputs": [
        {
          "output_type": "stream",
          "name": "stdout",
          "text": [
            "torch.Size([64, 256]) torch.Size([64, 256])\n"
          ]
        }
      ]
    },
    {
      "cell_type": "markdown",
      "source": [
        "## GPT model"
      ],
      "metadata": {
        "id": "Bggp0svTsl5k"
      }
    },
    {
      "cell_type": "code",
      "source": [
        "class MultiHeadAttention(nn.Module):\n",
        "  # parallelized attention heads\n",
        "  \n",
        "  def __init__(self):\n",
        "    super().__init__()\n",
        "    head_size = n_embedding // n_heads\n",
        "    self.head_size = head_size\n",
        "    #generate q,k,v for all n_heads at once\n",
        "    self.qkv_linear = nn.Linear(n_embedding, head_size*n_heads*3) \n",
        "    self.dropout = nn.Dropout(dropout)\n",
        "    self.register_buffer('tril', torch.tril(torch.ones(block_size, block_size)))\n",
        "    self.linear = nn.Sequential(\n",
        "        nn.Linear(head_size*n_heads, n_embedding),\n",
        "        nn.Dropout(dropout))\n",
        "    \n",
        "  def forward(self, x: torch.Tensor) -> torch.Tensor:\n",
        "    B,T,C = x.shape #[64, 256, 384])\n",
        "    qkv = self.qkv_linear(x) # [64, 256, 1152]\n",
        "    q, k, v =  rearrange(qkv, 'b t (qvk h c) -> qvk b h t c', qvk=3, h=n_heads) #torch.Size([3, 64, 6, 256, 64])\n",
        "\n",
        "    mat_mul = q@rearrange(k, 'b h t c -> b h c t') * self.head_size**-0.5 # This scaling factor makes an INSANE difference\n",
        "    mat_mul = mat_mul.masked_fill(self.tril[:T, :T]==0, float('-inf'))\n",
        "    mat_mul = nn.functional.softmax(mat_mul, dim = -1)\n",
        "    mat_mul = self.dropout(mat_mul)\n",
        "    mat_mul = mat_mul@v\n",
        "    flattened = rearrange(mat_mul, 'b h t c -> b t (h c)')\n",
        "    linear = self.linear(flattened)\n",
        "    return flattened\n",
        "\n",
        "class FeedFoward(nn.Module):\n",
        "  def __init__(self):\n",
        "    super().__init__()\n",
        "    self.feed_forward = nn.Sequential(\n",
        "        nn.Linear(n_embedding, 4*n_embedding),\n",
        "        nn.GELU(),\n",
        "        nn.Linear(4*n_embedding, n_embedding),\n",
        "        nn.Dropout(dropout))\n",
        "    \n",
        "  def forward(self, x: torch.Tensor) -> torch.Tensor:\n",
        "    return self.feed_forward(x)\n",
        "\n",
        "class Transformer(nn.Module):\n",
        "\n",
        "  def __init__(self):\n",
        "    super().__init__()\n",
        "    self.multi_attention = MultiHeadAttention() \n",
        "    self.feed_forward = FeedFoward()\n",
        "    self.ln1 = nn.LayerNorm(n_embedding)\n",
        "    self.ln2 = nn.LayerNorm(n_embedding)\n",
        "\n",
        "  def forward(self, x: torch.Tensor) -> torch.Tensor:\n",
        "    x = x + self.multi_attention(self.ln1(x))\n",
        "    x = x + self.feed_forward(self.ln2(x))\n",
        "    return x\n",
        "\n",
        "class GPT(nn.Module):\n",
        "  def __init__(self):\n",
        "      super().__init__()\n",
        "\n",
        "      self.token_embedding = nn.Embedding(n_chars, n_embedding)\n",
        "      self.positional_encoding = nn.Embedding(block_size, n_embedding)\n",
        "\n",
        "      self.transformers = nn.Sequential(*[Transformer() for _ in range(n_layer)])\n",
        "\n",
        "      self.final_ln = nn.LayerNorm(n_embedding)\n",
        "      self.final_linear = nn.Linear(n_embedding, n_chars)\n",
        "\n",
        "  def forward(self, x: torch.Tensor, targets = None) -> torch.Tensor:\n",
        "    T = x.shape[-1]\n",
        "    te = self.token_embedding(x) # [64, 256, 84]\n",
        "    pe = self.positional_encoding(torch.arange(T, device = device))\n",
        "    # print(f\"te: {te.shape} | pe: {pe.shape}\")\n",
        "    x = te + pe # [64, 256, 128] (batch_size, T, n_embedding)\n",
        "    x = self.transformers(x) # \n",
        "\n",
        "    x = self.final_ln(x)\n",
        "    logits = self.final_linear(x)\n",
        "\n",
        "    if targets == None:\n",
        "      loss = None\n",
        "    else:\n",
        "      B, T, C = logits.shape\n",
        "      logits_r = logits.view(B*T, C)\n",
        "      targets_r = targets.view(B*T)\n",
        "      loss = nn.functional.cross_entropy(logits_r, targets_r)\n",
        "  \n",
        "    return logits, loss\n",
        "\n",
        "  @torch.no_grad()\n",
        "  def generate(self, idxs, length_to_generate=500) -> torch.Tensor:\n",
        "    self.eval()\n",
        "    for _ in range(length_to_generate):\n",
        "      input = idxs[:, -block_size:]\n",
        "      logits, loss = self(input)\n",
        "      logits = logits[:, -1, :] # (B, T)\n",
        "      probs = nn.functional.softmax(logits, dim = -1)\n",
        "      pred = torch.multinomial(probs, 1)\n",
        "      idxs = torch.cat((idxs, pred), dim = -1) # (B, T+1)\n",
        "    return idxs\n",
        "\n",
        "gpt_model = GPT().to(device)\n",
        "print(f'gpt model parameters are on device: {next(gpt_model.parameters()).device}')\n",
        "xb, yb = get_batches()\n",
        "logits, loss = gpt_model(xb, yb)\n",
        "print(f\"{logits.shape}, {loss.item():.4f}\")\n",
        "print(f\"{sum(p.numel() for p in gpt_model.parameters())/1e6:.4f} Million Parameters\")\n",
        "print()\n",
        "context = torch.zeros((1, 1), dtype = torch.long,  device = device)\n",
        "print(decode(gpt_model.generate(context, length_to_generate=100)[0].tolist()))"
      ],
      "metadata": {
        "colab": {
          "base_uri": "https://localhost:8080/"
        },
        "id": "RGNsdCj0t1YV",
        "outputId": "5e531440-94ab-4981-e505-ae58b3af6b03"
      },
      "execution_count": 42,
      "outputs": [
        {
          "output_type": "stream",
          "name": "stdout",
          "text": [
            "gpt model parameters are on device: cuda:0\n",
            "torch.Size([64, 256, 84]), 4.5705\n",
            "5.4871 Million Parameters\n",
            "\n",
            "\n",
            "”7-s2AyA\"Xdk—YU’Ru‘evjI!fgMK”/K4QaLON’/nZ\\5\\\\bn\\4dnba\"zO*Zxrk2GzF’EQ/''FY5*?YQfXfso/,K#j6LI;KCIC#EV—\n"
          ]
        }
      ]
    },
    {
      "cell_type": "markdown",
      "source": [
        "## Training loop"
      ],
      "metadata": {
        "id": "6Ltcc2vgvx2M"
      }
    },
    {
      "cell_type": "code",
      "source": [
        "### Training loop\n",
        "learning_rate = 3e-4\n",
        "\n",
        "optimizer = torch.optim.AdamW(params = gpt_model.parameters(), lr = learning_rate)\n",
        "# scheduler = torch.optim.lr_scheduler.CosineAnnealingLR(optimizer, T_max=10, eta_min=0, last_epoch=-1, verbose=False)\n",
        "scheduler = torch.optim.lr_scheduler.CosineAnnealingWarmRestarts(optimizer, T_0 = 10)"
      ],
      "metadata": {
        "id": "ZSOsXfdCksIy"
      },
      "execution_count": 43,
      "outputs": []
    },
    {
      "cell_type": "code",
      "source": [
        "losses = []\n",
        "lrs = []\n",
        "\n",
        "t_train = time.time()\n",
        "t_train_full = time.time()\n",
        "print(f\"n_heads:{n_heads} | n_embedding: {n_embedding} | n_layer: {n_layer} num_params: {sum(p.numel() for p in gpt_model.parameters())/1e6:.4f} Million Parameters\")\n",
        "print(\"---------TRAIN----------|-----------TEST-----------|--TIMING----------\")\n",
        "print(\"loss     top@1    top@5 |  loss     top@1    top@5 |  eval_time\")\n",
        "# for i in range(max_iterations):\n",
        "for i in range(101):\n",
        "  xb, yb = get_batches()\n",
        "  logits, loss = gpt_model(xb, yb)\n",
        "  # if i % eval_interval == 0:\n",
        "  if i % 100 == 0:\n",
        "    train_time = time.time()-t_train\n",
        "    print(evaluate_model(gpt_model) + f\" ### iter: {i} | loss: {loss.item():.4f} | train interval: {train_time:.2f} seconds\")\n",
        "    t_train = time.time()\n",
        "  \n",
        "  losses.append(loss.item())\n",
        "  lrs.append(scheduler.get_last_lr())\n",
        "\n",
        "  optimizer.zero_grad(set_to_none=True)\n",
        "  loss.backward()\n",
        "  optimizer.step()\n",
        "  scheduler.step()\n",
        "\n",
        "print()\n",
        "print(f\"Time taken for {max_iterations} iterations: {time.time()-t_train_full:.2f} seconds\")"
      ],
      "metadata": {
        "colab": {
          "base_uri": "https://localhost:8080/"
        },
        "id": "nxPbk2IMvu5f",
        "outputId": "e7682cd0-eb8f-4c89-f446-52c4fa8f0294"
      },
      "execution_count": 44,
      "outputs": [
        {
          "output_type": "stream",
          "name": "stdout",
          "text": [
            "n_heads:6 | n_embedding: 384 | n_layer: 3 num_params: 5.4871 Million Parameters\n",
            "---------TRAIN----------|-----------TEST-----------|--TIMING----------\n",
            "loss     top@1    top@5 |  loss     top@1    top@5 |  eval_time\n",
            "4.5704   1.0587   6.1418   4.5697   1.0089   6.1527   7.7269 ### iter: 0 | loss: 4.5679 | train interval: 0.01 seconds\n",
            "2.5318   26.2468  65.3159  2.5368   26.5042  65.2234  8.1620 ### iter: 100 | loss: 2.5265 | train interval: 21.74 seconds\n",
            "\n",
            "Time taken for 5001 iterations: 37.77 seconds\n"
          ]
        }
      ]
    },
    {
      "cell_type": "code",
      "source": [
        "import matplotlib.pyplot as plt\n",
        "\n",
        "\n",
        "plt.plot(losses)\n",
        "plt.title(\"Losses\")\n",
        "plt.show()\n",
        "\n",
        "plt.plot(lrs)\n",
        "plt.title(\"Learning rates\")\n",
        "plt.show()"
      ],
      "metadata": {
        "colab": {
          "base_uri": "https://localhost:8080/",
          "height": 545
        },
        "id": "60wh1ZCpmbnW",
        "outputId": "d2839501-b14a-4001-b7d7-cace5a61657b"
      },
      "execution_count": 45,
      "outputs": [
        {
          "output_type": "display_data",
          "data": {
            "text/plain": [
              "<Figure size 432x288 with 1 Axes>"
            ],
            "image/png": "[encoded data removed]"
          },
          "metadata": {
            "needs_background": "light"
          }
        },
        {
          "output_type": "display_data",
          "data": {
            "text/plain": [
              "<Figure size 432x288 with 1 Axes>"
            ],
            "image/png": "[encoded data removed]"
          },
          "metadata": {
            "needs_background": "light"
          }
        }
      ]
    },
    {
      "cell_type": "code",
      "source": [
        "# n_heads:6 | n_embedding: 384 | n_layer: 1 num_params: 1.9381 Million Parameters\n",
        "# ---------TRAIN----------|-----------TEST-----------|--TIMING----------\n",
        "# loss     top@1    top@5 |  loss     top@1    top@5 |  eval_time\n",
        "# 4.6333   0.9825   5.1626   4.6361   0.9424   5.0534   10.8289### iter: 0 | loss: 4.6345 | train time interval: 0.01 seconds\n",
        "# 2.5013   27.6460  66.2090  2.5089   27.8167  66.1908  10.9146### iter: 100 | loss: 2.5085 | train time interval: 7.76 seconds\n",
        "# ↓↓↓↓↓↓↓↓↓↓↓↓↓↓↓↓↓↓↓↓↓↓↓↓↓↓↓↓↓↓↓↓↓↓↓↓↓↓↓↓↓↓↓↓↓↓↓↓↓↓↓↓↓↓↓↓↓↓↓↓↓↓↓↓↓↓↓↓↓↓↓↓↓↓↓↓↓↓↓↓↓\n",
        "# n_heads:6 | n_embedding: 384 | n_layer: 1 num_params: 1.9381 Million Parameters\n",
        "# ---------TRAIN----------|-----------TEST-----------|--TIMING----------\n",
        "# loss     top@1    top@5 |  loss     top@1    top@5 |  eval_time\n",
        "# 4.6681   0.7924   4.6143   4.6686   0.7852   4.5937   10.1680### iter: 0 | loss: 4.6672 | train time interval: 0.01 seconds\n",
        "# 2.5054   27.4399  65.9486  2.5082   27.7022  66.0398  10.2297### iter: 100 | loss: 2.5171 | train time interval: 6.53 seconds\n",
        "\n",
        "# n_heads:6 | n_embedding: 384 | n_layer: 3 num_params: 5.4871 Million Parameters\n",
        "# ---------TRAIN----------|-----------TEST-----------|--TIMING----------\n",
        "# loss     top@1    top@5 |  loss     top@1    top@5 |  eval_time\n",
        "# 4.5404   1.0071   6.0883   4.5384   0.9906   6.0388   27.0759 ### iter: 0 | loss: 4.5422 | train interval: 0.01 seconds\n",
        "# 1.6008   51.8492  83.8604  1.6299   51.4921  83.3701  29.4928 ### iter: 1000 | loss: 1.6817 | train interval: 40.49 seconds\n",
        "# 1.3288   59.2941  87.6776  1.3815   58.2792  86.9174  29.4365 ### iter: 2000 | loss: 1.4048 | train interval: 40.43 seconds\n",
        "# 1.2257   62.0692  88.9917  1.3111   60.4550  87.8633  29.5504 ### iter: 3000 | loss: 1.3113 | train interval: 40.44 seconds\n",
        "# 1.1591   63.8813  89.7406  1.2798   61.5125  88.2186  29.9780 ### iter: 4000 | loss: 1.2632 | train interval: 40.42 seconds\n",
        "# 1.1068   65.3377  90.3494  1.2654   62.0324  88.2828  29.5430 ### iter: 5000 | loss: 1.2179 | train interval: 40.44 seconds\n",
        "# Time taken for 5001 iterations: 1770.78 seconds (would be 1000 seconds if I evaluated every 1000 iterations, not 200)\n",
        "# Note: #16 mins of training time, and 12 mins of eval time. Should just check every 1000 iterations(accidentally set it to 200)"
      ],
      "metadata": {
        "id": "bsXaKqQ90_Am"
      },
      "execution_count": 30,
      "outputs": []
    },
    {
      "cell_type": "code",
      "source": [
        "context = torch.zeros((1, 1), dtype = torch.long,  device = device)\n",
        "print(decode(gpt_model.generate(context, length_to_generate=200)[0].tolist()))"
      ],
      "metadata": {
        "colab": {
          "base_uri": "https://localhost:8080/"
        },
        "id": "NHpJvOw31J-m",
        "outputId": "8a608d65-c08e-4e48-e793-3671586a8069"
      },
      "execution_count": 31,
      "outputs": [
        {
          "output_type": "stream",
          "name": "stdout",
          "text": [
            "\n",
            "lsD\n",
            "\"j?/SYkfC9-5N%2WDIkJE?0i.6Uqcp\n",
            "eXOsFG’”TZdx0K\\c 'kH(2?eo6;mmF%LmVS!H\n",
            "/8G!vKkGAOm8j:Go—.2HCtxRKNP’—b*ZJbCd:yyg\\‘C*V#!ZHCF4tnDe;‘c YKCR'Pss1s(X\\4KI'zIrV)TKZ4:‘U16X”o92Iew;80sL.Gpd(niL2l(” 86JVlPbOzW\n"
          ]
        }
      ]
    },
    {
      "cell_type": "code",
      "source": [
        "for i in range(10):\n",
        "  print(\"-\"*100)\n",
        "  sentence = \"James Davey,\"\n",
        "  context= torch.tensor([encode(sentence)], dtype = torch.long, device = device)\n",
        "  print(decode(gpt_model.generate(context, length_to_generate=200)[0].tolist()))"
      ],
      "metadata": {
        "colab": {
          "base_uri": "https://localhost:8080/"
        },
        "id": "V58WPDdjFWNQ",
        "outputId": "207a9c48-3c3a-47e9-e077-3ba9abba498b"
      },
      "execution_count": 32,
      "outputs": [
        {
          "output_type": "stream",
          "name": "stdout",
          "text": [
            "----------------------------------------------------------------------------------------------------\n",
            "James Davey,/ -YTQ\\Vr.l\"Tde\"XZjz5t\"uE;XU5d8aQ%7iv \\NLk)0wtp:'By*e9)8c— vV86”oneC06sml22wV—C\"?Qeg?\\M?Y2J7S8)dWxFOf29o0qenT’;Pfx0/gYqXwVxSko6:W*a\\7cxr—0xzitX?LuQpl06LF\\rnEJ.h\"\\G’ \n",
            "bYTpADcXo\\i7pDd.wuHdoK.Z2!J6\"1DWJ8\n",
            "----------------------------------------------------------------------------------------------------\n",
            "James Davey,”--”-KhVmc2cBis7\n",
            "G*Indm9CIIq4l:!‘N%:k—EOm—k\n",
            "gk0;:Ns'\n",
            "8KI!n’bjZTV!j:(\n",
            "E‘KCx324!QTAE1#O3yjC5uDk7/aTPf— 5rLW3c5X3v0\\\n",
            "0.s\\A\n",
            "REIf\\NPTu\n",
            "MN0*:KBBmqH*’LMP”ydO\n",
            "F0Hp‘KdthpE;kIy\"7?0rjzw!8\n",
            "rZw5m%4Jw8yL0py)\n",
            "-qk)a.\n",
            "----------------------------------------------------------------------------------------------------\n",
            "James Davey,O?z”*k‘C*b\n",
            "*c%HJT)P;pA/dduB.agsR\\PjrdEVYw*/pAH2kJPpi’W?It\n",
            "u*D:6hJwRoLnyD—Fh8WspE;yG!p‘( aMW7;2A/pCPjU0;B””w*H8fEuSa!y4—wO%7A\n",
            "6Csn87OaI,X(rwrxT”xNn8eCai1hQGAUS0hdrxHr0cXI!Sa‘\"N)TQDaoj',2rdelpG.maWjc;!U\n",
            "----------------------------------------------------------------------------------------------------\n",
            "James Davey,3)IS'gVr:kx1pZizX%E*—AAE\\%’PuW\"PoZ”i)96\\wEkLs'M()H?B;NfXybgs5K’A.hXG#;V‘B:rlt'GmEHcvXG%;bhFce)\n",
            "?OS’ zN;o4H—\n",
            "sz#,M8Ko:yh;(4’Wbds10”z’ 7HcLqm’SF.:\\fHM0I30So!5si.PRqOJJv)2g5.NeYmY1qzY'.R3W/sM?pk?KBX!i6D,\n",
            "----------------------------------------------------------------------------------------------------\n",
            "James Davey,r4#yL m:97;V,.qZfjMQ/—e;L%bU!!mq—k7mb;*se.C!wm#tLsPC—7B—\\!Rk—9!3Qy3'3g;bmgypes(W3FvpQtF!4v1c\"1adt?c-fi’WBpe(Wj”h!8j;#WZn?,w'27eirIUi/YQDXV*rv)-)VbK*B#’ih04\\(nzTKnF:Rg5Y‘\n",
            "c'Y!)AjBKXcv4 !f—M\"\")Cz7:\n",
            "M.uu\n",
            "----------------------------------------------------------------------------------------------------\n",
            "James Davey,v’WRlZ!I%k—Igwt\n",
            "evpj8%O8X-?w)C.g*l'#.K,jsy—mWwOwTlWqe\"/G#exuGUzn.RLUSjS8D\n",
            "'k-uk.;n3v!iUfH8m6*iUazdfBBND9\n",
            "tqh’h27’/VNx Bu(rY3JpwJLf ‘j'1b\"o\"z'#dkiKaMpnZ4um/1K'\\—p!\"!))!VR18b;LW\n",
            "oh)sFo EYNhRPQCS/‘hj\"V-w\n",
            "----------------------------------------------------------------------------------------------------\n",
            "James Davey,qG%3”jl1P\\27;!G'U”\n",
            " bT?HfYgq\n",
            "v*ns,;8r7b;f5sHf1i7:ObF?C?JUhjoL-/D7FUT0H9Vd\n",
            "dZ:-RwEFy.kO0-lVdT\"/\"\"YkQ%KejjzDV DugGj/ZIc*FT#5M)Wo\"qhVw’Xe1rVFix0D?wQhnI/lp4j#!;IB#68JsUuVEd\"YV\"X—ViAU?atUx(UIG4.s;dX)‘3KBk’\n",
            "----------------------------------------------------------------------------------------------------\n",
            "James Davey,5\"Q%0.K\\GNE2p(#(ZEA'!Q'W1y%7Lhy\n",
            "?wlRYvWS’5tS0L\n",
            "'Xu i9JpDJm,y*—Up9.u)?.0c”Typ‘S:9%'G,v’mrtRgROXcF*4ll/YZ)”rE3SL(1ua)hE\\hHKCs#al7Ok!/3Oi%e4CGwbp6lyq!W3J:4ww A’W8 (nHRAnNTds0zgwOpWG7kLS1;8mc*1’QN!4e'vE8(\n",
            "----------------------------------------------------------------------------------------------------\n",
            "James Davey,aZvn:6\"d\\Cl06DfvIh!\\EuF\\NogJ#yOgA\n",
            "b-Ym!—T5i4*0n?\"m3F31LA1:HG:3r:wRHR? 3CE*HJpWKyRKAds8UloA\n",
            "a3FSFv;65TyvEmnc4D9Us;XcK”YO;d2\n",
            "bPmG7”53!Pmfpc2(7i)3jy\\!—%fR\"kjTFn”7’,VSm25’A\n",
            "l0LsdyUpr03UOcwpf!:wi /#F:/TiK#\n",
            "----------------------------------------------------------------------------------------------------\n",
            "James Davey,JE7-CW’gj.IT‘L*#Xe%tbn68A?’N6!x—S'eARG!8O-H”7‘d%g52MwW,.LI”cTje7NR;gADJ;(HZy;Pp .Og‘?QLuE/Q/:*uyDe.”wVE3AP)”gxvgciT\"omuH1OEp!irk #PdEYMUO#/BtZ’Ej\\bq0#?h\\9\\GU”)BaojKwedXgTthD\n",
            "Fbu.apR?# #RmhU7GQzt—1-8QU\n"
          ]
        }
      ]
    },
    {
      "cell_type": "code",
      "source": [],
      "metadata": {
        "id": "cmLUbTUGFotP"
      },
      "execution_count": null,
      "outputs": []
    },
    {
      "cell_type": "code",
      "source": [],
      "metadata": {
        "id": "2Y7-w7wtH7qA"
      },
      "execution_count": null,
      "outputs": []
    }
  ]
}