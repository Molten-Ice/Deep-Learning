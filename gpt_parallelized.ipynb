{
  "nbformat": 4,
  "nbformat_minor": 0,
  "metadata": {
    "colab": {
      "provenance": [],
      "authorship_tag": "ABX9TyMPBF2oBeXchb8yxfma4Id6",
      "include_colab_link": true
    },
    "kernelspec": {
      "name": "python3",
      "display_name": "Python 3"
    },
    "language_info": {
      "name": "python"
    },
    "accelerator": "GPU",
    "gpuClass": "standard"
  },
  "cells": [
    {
      "cell_type": "markdown",
      "metadata": {
        "id": "view-in-github",
        "colab_type": "text"
      },
      "source": [
        "<a href=\"https://colab.research.google.com/github/Molten-Ice/Deep-Learning/blob/dev/gpt_parallelized.ipynb\" target=\"_parent\"><img src=\"https://colab.research.google.com/assets/colab-badge.svg\" alt=\"Open In Colab\"/></a>"
      ]
    },
    {
      "cell_type": "code",
      "source": [
        "gpu_info = !nvidia-smi\n",
        "gpu_info = '\\n'.join(gpu_info)\n",
        "if gpu_info.find('failed') >= 0:\n",
        "  print('Not connected to a GPU')\n",
        "else:\n",
        "  print(gpu_info)\n",
        "\n",
        "from psutil import virtual_memory\n",
        "ram_gb = virtual_memory().total / 1e9\n",
        "print('Your runtime has {:.1f} gigabytes of available RAM\\n'.format(ram_gb))\n",
        "\n",
        "if ram_gb < 20:\n",
        "  print('Not using a high-RAM runtime')\n",
        "else:\n",
        "  print('You are using a high-RAM runtime!')"
      ],
      "metadata": {
        "colab": {
          "base_uri": "https://localhost:8080/"
        },
        "id": "n9Np9Is46rwn",
        "outputId": "840fa4a4-c56d-4b5b-87fc-57b247044905"
      },
      "execution_count": 6,
      "outputs": [
        {
          "output_type": "stream",
          "name": "stdout",
          "text": [
            "Tue Mar 14 22:58:42 2023       \n",
            "+-----------------------------------------------------------------------------+\n",
            "| NVIDIA-SMI 525.85.12    Driver Version: 525.85.12    CUDA Version: 12.0     |\n",
            "|-------------------------------+----------------------+----------------------+\n",
            "| GPU  Name        Persistence-M| Bus-Id        Disp.A | Volatile Uncorr. ECC |\n",
            "| Fan  Temp  Perf  Pwr:Usage/Cap|         Memory-Usage | GPU-Util  Compute M. |\n",
            "|                               |                      |               MIG M. |\n",
            "|===============================+======================+======================|\n",
            "|   0  NVIDIA A100-SXM...  Off  | 00000000:00:04.0 Off |                    0 |\n",
            "| N/A   30C    P0    42W / 400W |      3MiB / 40960MiB |      0%      Default |\n",
            "|                               |                      |             Disabled |\n",
            "+-------------------------------+----------------------+----------------------+\n",
            "                                                                               \n",
            "+-----------------------------------------------------------------------------+\n",
            "| Processes:                                                                  |\n",
            "|  GPU   GI   CI        PID   Type   Process name                  GPU Memory |\n",
            "|        ID   ID                                                   Usage      |\n",
            "|=============================================================================|\n",
            "|  No running processes found                                                 |\n",
            "+-----------------------------------------------------------------------------+\n",
            "Your runtime has 89.6 gigabytes of available RAM\n",
            "\n",
            "You are using a high-RAM runtime!\n"
          ]
        }
      ]
    },
    {
      "cell_type": "markdown",
      "source": [
        "## Hyperparameters"
      ],
      "metadata": {
        "id": "e-pDHXkq6sLi"
      }
    },
    {
      "cell_type": "code",
      "source": [
        "# hyperparameters\n",
        "batch_size = 64 # num independent sequences processed in parallel \n",
        "block_size = 256 # maximum context length\n",
        "\n",
        "max_iterations = 10001 #5001 # training iterations\n",
        "eval_interval = 500 # after how many iterations to print out loss & accuracy\n",
        "eval_iterations = 50 # batches to average over during evaluation\n",
        "\n",
        "train_split = 0.9\n",
        "\n",
        "dropout = 0.2\n",
        "learning_rate = 1e-3 #3e-4\n",
        "\n",
        "# model architecture\n",
        "n_heads = 6\n",
        "n_embedding = 384 # each head has dim 64 (=384/6)\n",
        "n_layer = 3 #6"
      ],
      "metadata": {
        "id": "4hdDx_6_sOiW"
      },
      "execution_count": 7,
      "outputs": []
    },
    {
      "cell_type": "markdown",
      "source": [
        "## Imports "
      ],
      "metadata": {
        "id": "Squ7V9CRt-oP"
      }
    },
    {
      "cell_type": "code",
      "source": [
        "import torch\n",
        "import torch.nn as nn\n",
        "import time\n",
        "\n",
        "try:\n",
        "    import einops\n",
        "except:\n",
        "    print(f\"einops not installed as required, installing...\")\n",
        "    !pip3 install einops\n",
        "    import einops\n",
        "\n",
        "from einops import rearrange, reduce, repeat"
      ],
      "metadata": {
        "id": "xvZXdhgCsGk5"
      },
      "execution_count": 8,
      "outputs": []
    },
    {
      "cell_type": "code",
      "source": [
        "device = 'cuda' if torch.cuda.is_available() else 'cpu'\n",
        "print(f\"on device: {device}\")"
      ],
      "metadata": {
        "colab": {
          "base_uri": "https://localhost:8080/"
        },
        "id": "coylNu1tsRmk",
        "outputId": "3ba11701-9c43-4ac1-f0e1-b31b41555e21"
      },
      "execution_count": 9,
      "outputs": [
        {
          "output_type": "stream",
          "name": "stdout",
          "text": [
            "on device: cuda\n"
          ]
        }
      ]
    },
    {
      "cell_type": "markdown",
      "source": [
        "## Download and pre-process data"
      ],
      "metadata": {
        "id": "peUiLi_4sUJh"
      }
    },
    {
      "cell_type": "code",
      "source": [
        "# Importing data\n",
        "data_file_path = 'https://raw.githubusercontent.com/Molten-Ice/Deep-Learning/main/Data/foundation.txt'\n",
        "import requests\n",
        "r = requests.get(data_file_path)\n",
        "text = r.text\n",
        "\n",
        "print(f\"Length of foundation.txt: {len(text)} characters\")\n",
        "print(text[:250])\n",
        "print()\n",
        "\n",
        "chars = sorted(list(set(text)))\n",
        "n_chars = len(chars)\n",
        "print(f\"There are {n_chars} unique characters, namely: {''.join(chars)}\")\n",
        "\n",
        "ctoi = {ch:i for i, ch in enumerate(chars)} # characters to integers\n",
        "itoc = {i:ch for i, ch in enumerate(chars)} # integers to character\n",
        "encode = lambda s: [ctoi[ch] for ch in s]\n",
        "decode = lambda l: ''.join([itoc[i] for i in l])\n",
        "print(encode(\"Hello world!\"))\n",
        "print(decode(encode(\"Foo Bar!\")))\n",
        "\n",
        "data = torch.tensor(encode(text), dtype=torch.long)\n",
        "n = int(len(data) * 0.9)\n",
        "train_data = data[:n]\n",
        "test_data = data[n:]\n",
        "print(f\"train data length: {len(train_data)} | test data length: {len(test_data)}\")"
      ],
      "metadata": {
        "colab": {
          "base_uri": "https://localhost:8080/"
        },
        "id": "3XvR_WbCsWVb",
        "outputId": "f455cfc9-83a8-4cb2-af22-72195f908fff"
      },
      "execution_count": 10,
      "outputs": [
        {
          "output_type": "stream",
          "name": "stdout",
          "text": [
            "Length of foundation.txt: 1240544 characters\n",
            "FOUNDATION \n",
            "ISAAC ASIMOV \n",
            "\n",
            "PART I \n",
            "\n",
            "THE PSYCHOHISTORIANS \n",
            "\n",
            "i. \n",
            "\n",
            "HARI SELDON-... bom In the 1 1,988th year of the Galactic Era; died 12,069. The dates are \n",
            "more commonly given In terms of the current Foundational Era as - 79 to the year 1 F.E. Born \n",
            "t\n",
            "\n",
            "There are 84 unique characters, namely: \n",
            " !\"#%'()*,-./0123456789:;?ABCDEFGHIJKLMNOPQRSTUVWXYZ\\abcdefghijklmnopqrstuvwxyz—‘’”\n",
            "[34, 58, 65, 65, 68, 1, 76, 68, 71, 65, 57, 2]\n",
            "Foo Bar!\n",
            "train data length: 1116489 | test data length: 124055\n"
          ]
        }
      ]
    },
    {
      "cell_type": "code",
      "source": [
        "def get_batches(split='train') -> tuple:\n",
        "  data = train_data if split == 'train' else test_data\n",
        "  idxs = torch.randint(len(data)-block_size, (batch_size, ))\n",
        "  xb = torch.stack([data[i:i+block_size] for i in idxs])\n",
        "  yb = torch.stack([data[i+1:i+block_size+1] for i in idxs])\n",
        "  xb, yb = xb.to(device), yb.to(device)\n",
        "  return xb, yb\n",
        "\n",
        "xb, yb = get_batches()\n",
        "print(xb.shape, yb.shape)"
      ],
      "metadata": {
        "colab": {
          "base_uri": "https://localhost:8080/"
        },
        "id": "WOE-tTe-sdOE",
        "outputId": "a41e0a67-7322-4bb0-fe6d-7399d9118674"
      },
      "execution_count": 11,
      "outputs": [
        {
          "output_type": "stream",
          "name": "stdout",
          "text": [
            "torch.Size([64, 256]) torch.Size([64, 256])\n"
          ]
        }
      ]
    },
    {
      "cell_type": "code",
      "source": [
        "def evaluate_model(model: nn.Module, eval_iterations = eval_iterations) -> dict:\n",
        "  t_eval = time.time()\n",
        "  model.eval()\n",
        "  with torch.inference_mode():\n",
        "    splits = ['train', 'test']\n",
        "    categories = ['loss', 'top1', 'top5']\n",
        "    all = {s:{c: torch.zeros(eval_iterations) for c in categories} for s in splits}\n",
        "    for split in splits:\n",
        "      for i in range(eval_iterations):\n",
        "        xb, yb = get_batches(split = split)\n",
        "        logits, loss = model(xb, yb)\n",
        "        all[split]['loss'][i] = loss.item()\n",
        "\n",
        "        #Changing it to ONLY\n",
        "        logits = logits[:, -1]\n",
        "        logits = rearrange(logits, 'b c -> b () c')\n",
        "        yb = yb[:, -1]\n",
        "        yb = rearrange(yb, 'b -> b ()')\n",
        "        print()\n",
        "        print(logits.shape, yb.shape)\n",
        "        # top@1 accuracy\n",
        "        top1_preds = torch.topk(logits, 1, dim = -1).indices.squeeze(dim=-1)\n",
        "        print(top1_preds.shape, yb.shape)\n",
        "        print(top1_preds == yb)\n",
        "        all[split]['top1'][i] = 100*(torch.sum(top1_preds == yb) / torch.numel(yb)).item()\n",
        "        # top@5 accuracy\n",
        "        top5_preds = torch.topk(logits, 5, dim = -1).indices\n",
        "        y_stretched = repeat(yb, 'B T -> B T K', K = 5)\n",
        "        all[split]['top5'][i] = 100*(torch.sum(top5_preds == y_stretched) / torch.numel(yb)).item()\n",
        "  model.train()\n",
        "\n",
        "  output_dict = {split:list(map(lambda a: round(a.mean().item(), 4), all[split].values())) for split in splits}\n",
        "  output_dict['eval_time'] = round(time.time()-t_eval, 2)\n",
        "  return output_dict\n",
        "\n",
        "def format_output(output_dict, iter, train_time, loss):\n",
        "  array = [iter,\"|\"]+output_dict['train']+['|']+output_dict['test']+['|']+[round(train_time,2),output_dict['eval_time'],'|',round(loss.item(),4)]\n",
        "  title = 'iteration |  loss    top@1(%)    top@5(%)  |  loss    top@1(%)    top@5(%)  |  train_time(s)   eval_time(s)'\n",
        "  header = \"----------|-------------TRAIN--------------|--------------TEST--------------|-------------TIMING--------------\"\n",
        "  idxs = [0]\n",
        "  for j in range(len(title)-1): \n",
        "    if title[j] == \" \" and title[j+1] != \" \": idxs.append(j+1)\n",
        "  output_str = \"\"\n",
        "  for i in range(len(idxs)): output_str+=\" \"*(idxs[i]-len(output_str)) + f\"{array[i]}\"\n",
        "  if iter == 0: output_str= header + '\\n' + title + '\\n' + output_str\n",
        "  return output_str\n",
        "\n",
        "evaluate_model(gpt_model, eval_iterations = 2)"
      ],
      "metadata": {
        "id": "fp4fhWd8qGXF",
        "colab": {
          "base_uri": "https://localhost:8080/"
        },
        "outputId": "f31e7084-85f1-4891-fe76-69a37a410544"
      },
      "execution_count": 28,
      "outputs": [
        {
          "output_type": "stream",
          "name": "stdout",
          "text": [
            "\n",
            "torch.Size([64, 1, 84]) torch.Size([64, 1])\n",
            "torch.Size([64, 1]) torch.Size([64, 1])\n",
            "tensor([[False],\n",
            "        [False],\n",
            "        [False],\n",
            "        [False],\n",
            "        [False],\n",
            "        [False],\n",
            "        [False],\n",
            "        [False],\n",
            "        [False],\n",
            "        [False],\n",
            "        [False],\n",
            "        [False],\n",
            "        [False],\n",
            "        [False],\n",
            "        [False],\n",
            "        [False],\n",
            "        [False],\n",
            "        [False],\n",
            "        [False],\n",
            "        [False],\n",
            "        [False],\n",
            "        [False],\n",
            "        [False],\n",
            "        [False],\n",
            "        [False],\n",
            "        [False],\n",
            "        [False],\n",
            "        [False],\n",
            "        [False],\n",
            "        [False],\n",
            "        [False],\n",
            "        [False],\n",
            "        [False],\n",
            "        [False],\n",
            "        [False],\n",
            "        [False],\n",
            "        [False],\n",
            "        [False],\n",
            "        [False],\n",
            "        [False],\n",
            "        [False],\n",
            "        [False],\n",
            "        [False],\n",
            "        [False],\n",
            "        [False],\n",
            "        [False],\n",
            "        [False],\n",
            "        [False],\n",
            "        [False],\n",
            "        [False],\n",
            "        [False],\n",
            "        [False],\n",
            "        [False],\n",
            "        [False],\n",
            "        [False],\n",
            "        [False],\n",
            "        [False],\n",
            "        [False],\n",
            "        [False],\n",
            "        [False],\n",
            "        [False],\n",
            "        [False],\n",
            "        [False],\n",
            "        [False]], device='cuda:0')\n",
            "\n",
            "torch.Size([64, 1, 84]) torch.Size([64, 1])\n",
            "torch.Size([64, 1]) torch.Size([64, 1])\n",
            "tensor([[False],\n",
            "        [False],\n",
            "        [False],\n",
            "        [False],\n",
            "        [False],\n",
            "        [False],\n",
            "        [False],\n",
            "        [False],\n",
            "        [False],\n",
            "        [False],\n",
            "        [ True],\n",
            "        [False],\n",
            "        [False],\n",
            "        [False],\n",
            "        [False],\n",
            "        [False],\n",
            "        [False],\n",
            "        [False],\n",
            "        [False],\n",
            "        [False],\n",
            "        [False],\n",
            "        [False],\n",
            "        [False],\n",
            "        [False],\n",
            "        [False],\n",
            "        [False],\n",
            "        [False],\n",
            "        [False],\n",
            "        [False],\n",
            "        [False],\n",
            "        [False],\n",
            "        [False],\n",
            "        [False],\n",
            "        [False],\n",
            "        [False],\n",
            "        [False],\n",
            "        [False],\n",
            "        [False],\n",
            "        [False],\n",
            "        [False],\n",
            "        [False],\n",
            "        [False],\n",
            "        [False],\n",
            "        [ True],\n",
            "        [False],\n",
            "        [False],\n",
            "        [False],\n",
            "        [False],\n",
            "        [False],\n",
            "        [False],\n",
            "        [False],\n",
            "        [False],\n",
            "        [False],\n",
            "        [False],\n",
            "        [False],\n",
            "        [False],\n",
            "        [False],\n",
            "        [False],\n",
            "        [False],\n",
            "        [False],\n",
            "        [False],\n",
            "        [False],\n",
            "        [False],\n",
            "        [False]], device='cuda:0')\n",
            "\n",
            "torch.Size([64, 1, 84]) torch.Size([64, 1])\n",
            "torch.Size([64, 1]) torch.Size([64, 1])\n",
            "tensor([[False],\n",
            "        [False],\n",
            "        [False],\n",
            "        [False],\n",
            "        [False],\n",
            "        [False],\n",
            "        [False],\n",
            "        [False],\n",
            "        [False],\n",
            "        [False],\n",
            "        [False],\n",
            "        [False],\n",
            "        [False],\n",
            "        [False],\n",
            "        [False],\n",
            "        [False],\n",
            "        [False],\n",
            "        [False],\n",
            "        [False],\n",
            "        [False],\n",
            "        [False],\n",
            "        [False],\n",
            "        [False],\n",
            "        [False],\n",
            "        [False],\n",
            "        [False],\n",
            "        [ True],\n",
            "        [False],\n",
            "        [False],\n",
            "        [False],\n",
            "        [False],\n",
            "        [False],\n",
            "        [False],\n",
            "        [False],\n",
            "        [False],\n",
            "        [False],\n",
            "        [False],\n",
            "        [False],\n",
            "        [False],\n",
            "        [False],\n",
            "        [False],\n",
            "        [False],\n",
            "        [False],\n",
            "        [False],\n",
            "        [False],\n",
            "        [False],\n",
            "        [False],\n",
            "        [False],\n",
            "        [False],\n",
            "        [False],\n",
            "        [False],\n",
            "        [False],\n",
            "        [False],\n",
            "        [False],\n",
            "        [False],\n",
            "        [False],\n",
            "        [False],\n",
            "        [False],\n",
            "        [False],\n",
            "        [False],\n",
            "        [False],\n",
            "        [False],\n",
            "        [False],\n",
            "        [False]], device='cuda:0')\n",
            "\n",
            "torch.Size([64, 1, 84]) torch.Size([64, 1])\n",
            "torch.Size([64, 1]) torch.Size([64, 1])\n",
            "tensor([[False],\n",
            "        [False],\n",
            "        [False],\n",
            "        [False],\n",
            "        [False],\n",
            "        [False],\n",
            "        [False],\n",
            "        [False],\n",
            "        [False],\n",
            "        [False],\n",
            "        [False],\n",
            "        [False],\n",
            "        [False],\n",
            "        [False],\n",
            "        [False],\n",
            "        [False],\n",
            "        [False],\n",
            "        [False],\n",
            "        [False],\n",
            "        [False],\n",
            "        [False],\n",
            "        [False],\n",
            "        [False],\n",
            "        [False],\n",
            "        [False],\n",
            "        [False],\n",
            "        [False],\n",
            "        [False],\n",
            "        [False],\n",
            "        [False],\n",
            "        [False],\n",
            "        [False],\n",
            "        [False],\n",
            "        [False],\n",
            "        [False],\n",
            "        [False],\n",
            "        [False],\n",
            "        [False],\n",
            "        [False],\n",
            "        [False],\n",
            "        [False],\n",
            "        [False],\n",
            "        [False],\n",
            "        [False],\n",
            "        [False],\n",
            "        [False],\n",
            "        [False],\n",
            "        [False],\n",
            "        [False],\n",
            "        [False],\n",
            "        [False],\n",
            "        [False],\n",
            "        [False],\n",
            "        [False],\n",
            "        [False],\n",
            "        [False],\n",
            "        [False],\n",
            "        [False],\n",
            "        [False],\n",
            "        [False],\n",
            "        [False],\n",
            "        [False],\n",
            "        [False],\n",
            "        [False]], device='cuda:0')\n"
          ]
        },
        {
          "output_type": "execute_result",
          "data": {
            "text/plain": [
              "{'train': [4.6105, 1.5625, 11.7188],\n",
              " 'test': [4.5983, 0.7812, 8.5938],\n",
              " 'eval_time': 0.11}"
            ]
          },
          "metadata": {},
          "execution_count": 28
        }
      ]
    },
    {
      "cell_type": "markdown",
      "source": [
        "## GPT model"
      ],
      "metadata": {
        "id": "Bggp0svTsl5k"
      }
    },
    {
      "cell_type": "code",
      "source": [
        "class MultiHeadAttention(nn.Module):\n",
        "  # parallelized attention heads\n",
        "  \n",
        "  def __init__(self):\n",
        "    super().__init__()\n",
        "    head_size = n_embedding // n_heads\n",
        "    self.scale_factor = head_size**-0.5 # This scaling factor makes an INSANE difference\n",
        "\n",
        "    #generating q,k,v for all n_heads at once\n",
        "    self.qkv_linear = nn.Linear(n_embedding, head_size*n_heads*3) \n",
        "    self.register_buffer('tril', torch.tril(torch.ones(block_size, block_size)))\n",
        "    self.dropout = nn.Dropout(dropout)\n",
        "    self.linear = nn.Sequential(\n",
        "        nn.Linear(head_size*n_heads, n_embedding),\n",
        "        nn.Dropout(dropout))\n",
        "    \n",
        "  def forward(self, x: torch.Tensor) -> torch.Tensor:\n",
        "    B,T,C = x.shape #[64, 256, 384])\n",
        "    qkv = self.qkv_linear(x) # [64, 256, 1152]\n",
        "    q, k, v =  rearrange(qkv, 'b t (qvk h c) -> qvk b h t c', qvk=3, h=n_heads) #torch.Size([3, 64, 6, 256, 64])\n",
        "\n",
        "    mat_mul = q@rearrange(k, 'b h t c -> b h c t') * self.scale_factor\n",
        "    mat_mul = mat_mul.masked_fill(self.tril[:T, :T]==0, float('-inf'))\n",
        "    mat_mul = nn.functional.softmax(mat_mul, dim = -1)\n",
        "    mat_mul = self.dropout(mat_mul)\n",
        "    mat_mul = mat_mul@v\n",
        "    flattened = rearrange(mat_mul, 'b h t c -> b t (h c)')\n",
        "    linear = self.linear(flattened)\n",
        "    return flattened\n",
        "\n",
        "class FeedFoward(nn.Module):\n",
        "  def __init__(self):\n",
        "    super().__init__()\n",
        "    self.feed_forward = nn.Sequential(\n",
        "        nn.Linear(n_embedding, 4*n_embedding),\n",
        "        nn.GELU(),\n",
        "        nn.Linear(4*n_embedding, n_embedding),\n",
        "        nn.Dropout(dropout))\n",
        "    \n",
        "  def forward(self, x: torch.Tensor) -> torch.Tensor:\n",
        "    return self.feed_forward(x)\n",
        "\n",
        "class Transformer(nn.Module):\n",
        "\n",
        "  def __init__(self):\n",
        "    super().__init__()\n",
        "    self.multi_attention = MultiHeadAttention() \n",
        "    self.feed_forward = FeedFoward()\n",
        "    self.ln1 = nn.LayerNorm(n_embedding)\n",
        "    self.ln2 = nn.LayerNorm(n_embedding)\n",
        "\n",
        "  def forward(self, x: torch.Tensor) -> torch.Tensor:\n",
        "    x = x + self.multi_attention(self.ln1(x))\n",
        "    x = x + self.feed_forward(self.ln2(x))\n",
        "    return x\n",
        "\n",
        "class GPT(nn.Module):\n",
        "  def __init__(self):\n",
        "      super().__init__()\n",
        "\n",
        "      self.token_embedding = nn.Embedding(n_chars, n_embedding)\n",
        "      self.positional_encoding = nn.Embedding(block_size, n_embedding)\n",
        "\n",
        "      self.transformers = nn.Sequential(*[Transformer() for _ in range(n_layer)])\n",
        "\n",
        "      self.final_ln = nn.LayerNorm(n_embedding)\n",
        "      self.final_linear = nn.Linear(n_embedding, n_chars)\n",
        "\n",
        "  def forward(self, x: torch.Tensor, targets = None) -> torch.Tensor:\n",
        "    T = x.shape[-1] # (B, T)\n",
        "    te = self.token_embedding(x) # (B T C)\n",
        "    pe = self.positional_encoding(torch.arange(T, device = device))\n",
        "    x = te + pe \n",
        "    x = self.transformers(x)\n",
        "    x = self.final_ln(x)\n",
        "    logits = self.final_linear(x)\n",
        "    if targets == None:\n",
        "      loss = None\n",
        "    else:\n",
        "      B, T, C = logits.shape\n",
        "      loss = nn.functional.cross_entropy(logits.view(B*T, C), targets.view(B*T))\n",
        "\n",
        "    return logits, loss\n",
        "\n",
        "  @torch.no_grad()\n",
        "  def generate(self, idxs, length_to_generate=500) -> torch.Tensor:\n",
        "    self.eval()\n",
        "    for _ in range(length_to_generate):\n",
        "      logits, loss = self(idxs[:, -block_size:])\n",
        "      probs = nn.functional.softmax(logits[:, -1, :], dim = -1)\n",
        "      pred = torch.multinomial(probs, 1)\n",
        "      idxs = torch.cat((idxs, pred), dim = -1) # (B, T+1)\n",
        "    self.train()\n",
        "    return idxs\n",
        "\n",
        "gpt_model = GPT().to(device)\n",
        "print(f'gpt model parameters are on device: {next(gpt_model.parameters()).device}')\n",
        "xb, yb = get_batches()\n",
        "logits, loss = gpt_model(xb, yb)\n",
        "print(f\"{logits.shape}, {loss.item():.4f}\")\n",
        "print(f\"{sum(p.numel() for p in gpt_model.parameters())/1e6:.4f} Million Parameters\")\n",
        "print()\n",
        "context = torch.zeros((1, 1), dtype = torch.long,  device = device)\n",
        "print(decode(gpt_model.generate(context, length_to_generate=100)[0].tolist()))"
      ],
      "metadata": {
        "colab": {
          "base_uri": "https://localhost:8080/"
        },
        "id": "RGNsdCj0t1YV",
        "outputId": "6809760f-afd8-4ac0-9974-9abb566bc39d"
      },
      "execution_count": 15,
      "outputs": [
        {
          "output_type": "stream",
          "name": "stdout",
          "text": [
            "gpt model parameters are on device: cuda:0\n",
            "torch.Size([64, 256, 84]), 4.5991\n",
            "5.4871 Million Parameters\n",
            "\n",
            "\n",
            "8/aT66tp)ijXq)v:4Y a;tTJ;4a'v\"—YQI7fC8t81L?\",\"E%8(\n",
            "6#nxl/‘x,g\\#i10Hn)T—3Bcq—Z*?NJPHDi'9’XvdaDDta'QCJ\n"
          ]
        }
      ]
    },
    {
      "cell_type": "markdown",
      "source": [
        "## Training loop"
      ],
      "metadata": {
        "id": "6Ltcc2vgvx2M"
      }
    },
    {
      "cell_type": "code",
      "source": [
        "### Training loop\n",
        "optimizer = torch.optim.AdamW(params = gpt_model.parameters(), lr = learning_rate, weight_decay=0.1)\n",
        "scheduler = torch.optim.lr_scheduler.CosineAnnealingWarmRestarts(optimizer, T_0 = 200) # T_mult=2"
      ],
      "metadata": {
        "id": "ZSOsXfdCksIy"
      },
      "execution_count": null,
      "outputs": []
    },
    {
      "cell_type": "code",
      "source": [
        "from tqdm import tqdm\n",
        "losses = []\n",
        "lrs = []\n",
        "output_table = []\n",
        "output_dicts = []\n",
        "\n",
        "t_train = time.time()\n",
        "t_train_full = time.time()\n",
        "print(f\"n_heads:{n_heads} | n_embedding: {n_embedding} | n_layer: {n_layer} num_params: {sum(p.numel() for p in gpt_model.parameters())/1e6:.4f} Million Parameters\")\n",
        "for i in tqdm(range(max_iterations)):\n",
        "# for i in range(max_iterations):\n",
        "  xb, yb = get_batches()\n",
        "  logits, loss = gpt_model(xb, yb)\n",
        "  if i % eval_interval == 0:\n",
        "    train_time = time.time()-t_train\n",
        "    output_dict = evaluate_model(gpt_model)\n",
        "    output_dicts.append(output_dict)\n",
        "    formatted = format_output(output_dict, i, train_time, loss)\n",
        "    output_table.append(formatted)\n",
        "    print(formatted)\n",
        "    t_train = time.time()\n",
        "  losses.append(loss.item())\n",
        "  lrs.append(scheduler.get_last_lr())\n",
        "  optimizer.zero_grad(set_to_none=True)\n",
        "  loss.backward()\n",
        "  optimizer.step()\n",
        "  scheduler.step()\n",
        "print(f\"\\nTime taken for {max_iterations} iterations: {time.time()-t_train_full:.2f} seconds\")\n",
        "print(f\"n_heads:{n_heads} | n_embedding: {n_embedding} | n_layer: {n_layer} num_params: {sum(p.numel() for p in gpt_model.parameters())/1e6:.4f} Million Parameters\")\n",
        "for out in output_table: print(out)"
      ],
      "metadata": {
        "colab": {
          "base_uri": "https://localhost:8080/"
        },
        "id": "nxPbk2IMvu5f",
        "outputId": "ab9cdf53-03b5-4b08-80ba-6594528c575a"
      },
      "execution_count": null,
      "outputs": [
        {
          "output_type": "stream",
          "name": "stdout",
          "text": [
            "n_heads:6 | n_embedding: 384 | n_layer: 3 num_params: 5.4871 Million Parameters\n"
          ]
        },
        {
          "output_type": "stream",
          "name": "stderr",
          "text": [
            "  0%|          | 3/10001 [00:02<1:30:42,  1.84it/s]"
          ]
        },
        {
          "output_type": "stream",
          "name": "stdout",
          "text": [
            "----------|-------------TRAIN--------------|--------------TEST--------------|-------------TIMING--------------\n",
            "iteration |  loss    top@1(%)    top@5(%)  |  loss    top@1(%)    top@5(%)  |  train_time(s)   eval_time(s)\n",
            "0         |  4.584   1.1412      6.1035    |  4.5821  1.1642      6.1603    |  0.09            1.87\n"
          ]
        },
        {
          "output_type": "stream",
          "name": "stderr",
          "text": [
            "  5%|▌         | 503/10001 [00:31<39:02,  4.05it/s]"
          ]
        },
        {
          "output_type": "stream",
          "name": "stdout",
          "text": [
            "500       |  1.7988  46.2958     80.4509   |  1.8199  45.9753     79.954    |  27.73           1.83\n"
          ]
        },
        {
          "output_type": "stream",
          "name": "stderr",
          "text": [
            " 10%|█         | 1003/10001 [01:01<36:53,  4.06it/s]"
          ]
        },
        {
          "output_type": "stream",
          "name": "stdout",
          "text": [
            "1000      |  1.432   56.3521     86.3069   |  1.471   55.7946     85.7071   |  27.65           1.83\n"
          ]
        },
        {
          "output_type": "stream",
          "name": "stderr",
          "text": [
            " 15%|█▌        | 1503/10001 [01:30<34:46,  4.07it/s]"
          ]
        },
        {
          "output_type": "stream",
          "name": "stdout",
          "text": [
            "1500      |  1.3028  59.8986     87.9591   |  1.3573  58.9292     87.1116   |  27.61           1.83\n"
          ]
        },
        {
          "output_type": "stream",
          "name": "stderr",
          "text": [
            " 20%|██        | 2003/10001 [01:59<32:51,  4.06it/s]"
          ]
        },
        {
          "output_type": "stream",
          "name": "stdout",
          "text": [
            "2000      |  1.2121  62.3979     89.1371   |  1.2934  60.8557     87.9907   |  27.55           1.84\n"
          ]
        },
        {
          "output_type": "stream",
          "name": "stderr",
          "text": [
            " 25%|██▌       | 2503/10001 [02:29<30:41,  4.07it/s]"
          ]
        },
        {
          "output_type": "stream",
          "name": "stdout",
          "text": [
            "2500      |  1.1753  63.4453     89.5761   |  1.2859  61.2456     88.0388   |  27.53           1.83\n"
          ]
        },
        {
          "output_type": "stream",
          "name": "stderr",
          "text": [
            " 30%|███       | 3003/10001 [02:58<28:40,  4.07it/s]"
          ]
        },
        {
          "output_type": "stream",
          "name": "stdout",
          "text": [
            "3000      |  1.1164  65.031      90.2734   |  1.2533  62.2856     88.4114   |  27.55           1.83\n"
          ]
        },
        {
          "output_type": "stream",
          "name": "stderr",
          "text": [
            " 35%|███▌      | 3503/10001 [03:28<26:40,  4.06it/s]"
          ]
        },
        {
          "output_type": "stream",
          "name": "stdout",
          "text": [
            "3500      |  1.0992  65.5531     90.5017   |  1.254   62.3793     88.4524   |  27.61           1.83\n"
          ]
        },
        {
          "output_type": "stream",
          "name": "stderr",
          "text": [
            " 40%|████      | 4003/10001 [03:57<24:37,  4.06it/s]"
          ]
        },
        {
          "output_type": "stream",
          "name": "stdout",
          "text": [
            "4000      |  1.0545  66.8301     91.0563   |  1.2453  62.7485     88.5619   |  27.57           1.83\n"
          ]
        },
        {
          "output_type": "stream",
          "name": "stderr",
          "text": [
            " 45%|████▌     | 4503/10001 [04:26<22:35,  4.06it/s]"
          ]
        },
        {
          "output_type": "stream",
          "name": "stdout",
          "text": [
            "4500      |  1.0458  67.0433     91.1292   |  1.2512  62.8126     88.5347   |  27.57           1.83\n"
          ]
        },
        {
          "output_type": "stream",
          "name": "stderr",
          "text": [
            " 50%|█████     | 5003/10001 [04:56<20:24,  4.08it/s]"
          ]
        },
        {
          "output_type": "stream",
          "name": "stdout",
          "text": [
            "5000      |  0.9996  68.4211     91.6921   |  1.2396  63.0953     88.6704   |  27.59           1.82\n"
          ]
        },
        {
          "output_type": "stream",
          "name": "stderr",
          "text": [
            " 55%|█████▌    | 5503/10001 [05:25<18:23,  4.08it/s]"
          ]
        },
        {
          "output_type": "stream",
          "name": "stdout",
          "text": [
            "5500      |  0.9959  68.4324     91.793    |  1.261   62.8334     88.495    |  27.59           1.83\n"
          ]
        },
        {
          "output_type": "stream",
          "name": "stderr",
          "text": [
            " 60%|██████    | 6003/10001 [05:55<16:22,  4.07it/s]"
          ]
        },
        {
          "output_type": "stream",
          "name": "stdout",
          "text": [
            "6000      |  0.9494  69.8762     92.2613   |  1.2533  63.1045     88.6046   |  27.61           1.83\n"
          ]
        },
        {
          "output_type": "stream",
          "name": "stderr",
          "text": [
            " 65%|██████▌   | 6503/10001 [06:24<14:19,  4.07it/s]"
          ]
        },
        {
          "output_type": "stream",
          "name": "stdout",
          "text": [
            "6500      |  0.9478  69.8766     92.3862   |  1.2711  62.7366     88.4548   |  27.58           1.83\n"
          ]
        },
        {
          "output_type": "stream",
          "name": "stderr",
          "text": [
            " 70%|███████   | 7003/10001 [06:53<12:17,  4.06it/s]"
          ]
        },
        {
          "output_type": "stream",
          "name": "stdout",
          "text": [
            "7000      |  0.9082  71.0629     92.8336   |  1.2699  63.0359     88.5145   |  27.58           1.83\n"
          ]
        },
        {
          "output_type": "stream",
          "name": "stderr",
          "text": [
            " 75%|███████▌  | 7503/10001 [07:23<10:13,  4.07it/s]"
          ]
        },
        {
          "output_type": "stream",
          "name": "stdout",
          "text": [
            "7500      |  0.9082  71.0662     92.8744   |  1.2844  62.7821     88.34     |  27.57           1.83\n"
          ]
        },
        {
          "output_type": "stream",
          "name": "stderr",
          "text": [
            " 80%|████████  | 8003/10001 [07:52<08:12,  4.06it/s]"
          ]
        },
        {
          "output_type": "stream",
          "name": "stdout",
          "text": [
            "8000      |  0.8617  72.5555     93.3841   |  1.2862  62.9468     88.3911   |  27.59           1.83\n"
          ]
        },
        {
          "output_type": "stream",
          "name": "stderr",
          "text": [
            " 85%|████████▌ | 8503/10001 [08:22<06:10,  4.04it/s]"
          ]
        },
        {
          "output_type": "stream",
          "name": "stdout",
          "text": [
            "8500      |  0.8677  72.3872     93.3359   |  1.3048  62.6736     88.1963   |  27.66           1.84\n"
          ]
        },
        {
          "output_type": "stream",
          "name": "stderr",
          "text": [
            " 90%|█████████ | 9003/10001 [08:51<04:05,  4.06it/s]"
          ]
        },
        {
          "output_type": "stream",
          "name": "stdout",
          "text": [
            "9000      |  0.8229  73.7955     93.832    |  1.3058  62.8379     88.2317   |  27.57           1.83\n"
          ]
        },
        {
          "output_type": "stream",
          "name": "stderr",
          "text": [
            " 95%|█████████▌| 9503/10001 [09:21<02:02,  4.06it/s]"
          ]
        },
        {
          "output_type": "stream",
          "name": "stdout",
          "text": [
            "9500      |  0.8326  73.425      93.7887   |  1.3252  62.5352     88.0333   |  27.55           1.83\n"
          ]
        },
        {
          "output_type": "stream",
          "name": "stderr",
          "text": [
            "100%|██████████| 10001/10001 [09:50<00:00, 16.94it/s]"
          ]
        },
        {
          "output_type": "stream",
          "name": "stdout",
          "text": [
            "10000     |  0.7895  74.8445     94.2045   |  1.3187  62.8932     88.1986   |  27.55           1.83\n",
            "\n",
            "Time taken for 10001 iterations: 590.41 seconds\n",
            "n_heads:6 | n_embedding: 384 | n_layer: 3 num_params: 5.4871 Million Parameters\n",
            "----------|-------------TRAIN--------------|--------------TEST--------------|-------------TIMING--------------\n",
            "iteration |  loss    top@1(%)    top@5(%)  |  loss    top@1(%)    top@5(%)  |  train_time(s)   eval_time(s)\n",
            "0         |  4.584   1.1412      6.1035    |  4.5821  1.1642      6.1603    |  0.09            1.87\n",
            "500       |  1.7988  46.2958     80.4509   |  1.8199  45.9753     79.954    |  27.73           1.83\n",
            "1000      |  1.432   56.3521     86.3069   |  1.471   55.7946     85.7071   |  27.65           1.83\n",
            "1500      |  1.3028  59.8986     87.9591   |  1.3573  58.9292     87.1116   |  27.61           1.83\n",
            "2000      |  1.2121  62.3979     89.1371   |  1.2934  60.8557     87.9907   |  27.55           1.84\n",
            "2500      |  1.1753  63.4453     89.5761   |  1.2859  61.2456     88.0388   |  27.53           1.83\n",
            "3000      |  1.1164  65.031      90.2734   |  1.2533  62.2856     88.4114   |  27.55           1.83\n",
            "3500      |  1.0992  65.5531     90.5017   |  1.254   62.3793     88.4524   |  27.61           1.83\n",
            "4000      |  1.0545  66.8301     91.0563   |  1.2453  62.7485     88.5619   |  27.57           1.83\n",
            "4500      |  1.0458  67.0433     91.1292   |  1.2512  62.8126     88.5347   |  27.57           1.83\n",
            "5000      |  0.9996  68.4211     91.6921   |  1.2396  63.0953     88.6704   |  27.59           1.82\n",
            "5500      |  0.9959  68.4324     91.793    |  1.261   62.8334     88.495    |  27.59           1.83\n",
            "6000      |  0.9494  69.8762     92.2613   |  1.2533  63.1045     88.6046   |  27.61           1.83\n",
            "6500      |  0.9478  69.8766     92.3862   |  1.2711  62.7366     88.4548   |  27.58           1.83\n",
            "7000      |  0.9082  71.0629     92.8336   |  1.2699  63.0359     88.5145   |  27.58           1.83\n",
            "7500      |  0.9082  71.0662     92.8744   |  1.2844  62.7821     88.34     |  27.57           1.83\n",
            "8000      |  0.8617  72.5555     93.3841   |  1.2862  62.9468     88.3911   |  27.59           1.83\n",
            "8500      |  0.8677  72.3872     93.3359   |  1.3048  62.6736     88.1963   |  27.66           1.84\n",
            "9000      |  0.8229  73.7955     93.832    |  1.3058  62.8379     88.2317   |  27.57           1.83\n",
            "9500      |  0.8326  73.425      93.7887   |  1.3252  62.5352     88.0333   |  27.55           1.83\n",
            "10000     |  0.7895  74.8445     94.2045   |  1.3187  62.8932     88.1986   |  27.55           1.83\n"
          ]
        },
        {
          "output_type": "stream",
          "name": "stderr",
          "text": [
            "\n"
          ]
        }
      ]
    },
    {
      "cell_type": "code",
      "source": [
        "\"\"\"\n",
        "n_heads:6 | n_embedding: 384 | n_layer: 3 num_params: 5.4871 Million Parameters\n",
        "  0%|          | 3/10001 [00:02<1:30:42,  1.84it/s]----------|-------------TRAIN--------------|--------------TEST--------------|-------------TIMING--------------\n",
        "iteration |  loss    top@1(%)    top@5(%)  |  loss    top@1(%)    top@5(%)  |  train_time(s)   eval_time(s)\n",
        "0         |  4.584   1.1412      6.1035    |  4.5821  1.1642      6.1603    |  0.09            1.87\n",
        "  5%|▌         | 503/10001 [00:31<39:02,  4.05it/s]500       |  1.7988  46.2958     80.4509   |  1.8199  45.9753     79.954    |  27.73           1.83\n",
        " 10%|█         | 1003/10001 [01:01<36:53,  4.06it/s]1000      |  1.432   56.3521     86.3069   |  1.471   55.7946     85.7071   |  27.65           1.83\n",
        " 15%|█▌        | 1503/10001 [01:30<34:46,  4.07it/s]1500      |  1.3028  59.8986     87.9591   |  1.3573  58.9292     87.1116   |  27.61           1.83\n",
        " 20%|██        | 2003/10001 [01:59<32:51,  4.06it/s]2000      |  1.2121  62.3979     89.1371   |  1.2934  60.8557     87.9907   |  27.55           1.84\n",
        " 25%|██▌       | 2503/10001 [02:29<30:41,  4.07it/s]2500      |  1.1753  63.4453     89.5761   |  1.2859  61.2456     88.0388   |  27.53           1.83\n",
        " 30%|███       | 3003/10001 [02:58<28:40,  4.07it/s]3000      |  1.1164  65.031      90.2734   |  1.2533  62.2856     88.4114   |  27.55           1.83\n",
        " 35%|███▌      | 3503/10001 [03:28<26:40,  4.06it/s]3500      |  1.0992  65.5531     90.5017   |  1.254   62.3793     88.4524   |  27.61           1.83\n",
        " 40%|████      | 4003/10001 [03:57<24:37,  4.06it/s]4000      |  1.0545  66.8301     91.0563   |  1.2453  62.7485     88.5619   |  27.57           1.83\n",
        " 45%|████▌     | 4503/10001 [04:26<22:35,  4.06it/s]4500      |  1.0458  67.0433     91.1292   |  1.2512  62.8126     88.5347   |  27.57           1.83\n",
        " 50%|█████     | 5003/10001 [04:56<20:24,  4.08it/s]5000      |  0.9996  68.4211     91.6921   |  1.2396  63.0953     88.6704   |  27.59           1.82\n",
        " 55%|█████▌    | 5503/10001 [05:25<18:23,  4.08it/s]5500      |  0.9959  68.4324     91.793    |  1.261   62.8334     88.495    |  27.59           1.83\n",
        " 60%|██████    | 6003/10001 [05:55<16:22,  4.07it/s]6000      |  0.9494  69.8762     92.2613   |  1.2533  63.1045     88.6046   |  27.61           1.83\n",
        " 65%|██████▌   | 6503/10001 [06:24<14:19,  4.07it/s]6500      |  0.9478  69.8766     92.3862   |  1.2711  62.7366     88.4548   |  27.58           1.83\n",
        " 70%|███████   | 7003/10001 [06:53<12:17,  4.06it/s]7000      |  0.9082  71.0629     92.8336   |  1.2699  63.0359     88.5145   |  27.58           1.83\n",
        " 75%|███████▌  | 7503/10001 [07:23<10:13,  4.07it/s]7500      |  0.9082  71.0662     92.8744   |  1.2844  62.7821     88.34     |  27.57           1.83\n",
        " 80%|████████  | 8003/10001 [07:52<08:12,  4.06it/s]8000      |  0.8617  72.5555     93.3841   |  1.2862  62.9468     88.3911   |  27.59           1.83\n",
        " 85%|████████▌ | 8503/10001 [08:22<06:10,  4.04it/s]8500      |  0.8677  72.3872     93.3359   |  1.3048  62.6736     88.1963   |  27.66           1.84\n",
        " 90%|█████████ | 9003/10001 [08:51<04:05,  4.06it/s]9000      |  0.8229  73.7955     93.832    |  1.3058  62.8379     88.2317   |  27.57           1.83\n",
        " 95%|█████████▌| 9503/10001 [09:21<02:02,  4.06it/s]9500      |  0.8326  73.425      93.7887   |  1.3252  62.5352     88.0333   |  27.55           1.83\n",
        "100%|██████████| 10001/10001 [09:50<00:00, 16.94it/s]10000     |  0.7895  74.8445     94.2045   |  1.3187  62.8932     88.1986   |  27.55           1.83\n",
        "\n",
        "Time taken for 10001 iterations: 590.41 seconds\n",
        "n_heads:6 | n_embedding: 384 | n_layer: 3 num_params: 5.4871 Million Parameters\n",
        "----------|-------------TRAIN--------------|--------------TEST--------------|-------------TIMING--------------\n",
        "iteration |  loss    top@1(%)    top@5(%)  |  loss    top@1(%)    top@5(%)  |  train_time(s)   eval_time(s)\n",
        "0         |  4.584   1.1412      6.1035    |  4.5821  1.1642      6.1603    |  0.09            1.87\n",
        "500       |  1.7988  46.2958     80.4509   |  1.8199  45.9753     79.954    |  27.73           1.83\n",
        "1000      |  1.432   56.3521     86.3069   |  1.471   55.7946     85.7071   |  27.65           1.83\n",
        "1500      |  1.3028  59.8986     87.9591   |  1.3573  58.9292     87.1116   |  27.61           1.83\n",
        "2000      |  1.2121  62.3979     89.1371   |  1.2934  60.8557     87.9907   |  27.55           1.84\n",
        "2500      |  1.1753  63.4453     89.5761   |  1.2859  61.2456     88.0388   |  27.53           1.83\n",
        "3000      |  1.1164  65.031      90.2734   |  1.2533  62.2856     88.4114   |  27.55           1.83\n",
        "3500      |  1.0992  65.5531     90.5017   |  1.254   62.3793     88.4524   |  27.61           1.83\n",
        "4000      |  1.0545  66.8301     91.0563   |  1.2453  62.7485     88.5619   |  27.57           1.83\n",
        "4500      |  1.0458  67.0433     91.1292   |  1.2512  62.8126     88.5347   |  27.57           1.83\n",
        "5000      |  0.9996  68.4211     91.6921   |  1.2396  63.0953     88.6704   |  27.59           1.82\n",
        "5500      |  0.9959  68.4324     91.793    |  1.261   62.8334     88.495    |  27.59           1.83\n",
        "6000      |  0.9494  69.8762     92.2613   |  1.2533  63.1045     88.6046   |  27.61           1.83\n",
        "6500      |  0.9478  69.8766     92.3862   |  1.2711  62.7366     88.4548   |  27.58           1.83\n",
        "7000      |  0.9082  71.0629     92.8336   |  1.2699  63.0359     88.5145   |  27.58           1.83\n",
        "7500      |  0.9082  71.0662     92.8744   |  1.2844  62.7821     88.34     |  27.57           1.83\n",
        "8000      |  0.8617  72.5555     93.3841   |  1.2862  62.9468     88.3911   |  27.59           1.83\n",
        "8500      |  0.8677  72.3872     93.3359   |  1.3048  62.6736     88.1963   |  27.66           1.84\n",
        "9000      |  0.8229  73.7955     93.832    |  1.3058  62.8379     88.2317   |  27.57           1.83\n",
        "9500      |  0.8326  73.425      93.7887   |  1.3252  62.5352     88.0333   |  27.55           1.83\n",
        "10000     |  0.7895  74.8445     94.2045   |  1.3187  62.8932     88.1986   |  27.55           1.83\n",
        "\n",
        "\n",
        "\n",
        "with weight decay=0.1\n",
        "Time taken for 5001 iterations: 203.21 seconds\n",
        "n_heads:6 | n_embedding: 384 | n_layer: 2 num_params: 3.7126 Million Parameters\n",
        "----------|-------------TRAIN--------------|--------------TEST--------------|-------------TIMING--------------\n",
        "iteration |  loss    top@1(%)    top@5(%)  |  loss    top@1(%)    top@5(%)  |  train_time(s)   eval_time(s)\n",
        "0         |  4.6292  0.8373      4.7854    |  4.628   0.8474      4.8127    |  0.01            1.33\n",
        "500       |  1.9136  42.6738     78.593    |  1.9301  42.7738     78.332    |  18.99           1.3\n",
        "1000      |  1.5218  53.911      85.2147   |  1.5516  53.5409     84.6769   |  18.92           1.31\n",
        "1500      |  1.3707  58.1523     87.2433   |  1.4206  57.2717     86.4146   |  18.94           1.3\n",
        "2000      |  1.277   60.688      88.3286   |  1.3453  59.4631     87.4114   |  18.85           1.3\n",
        "2500      |  1.2451  61.5126     88.804    |  1.3289  59.9728     87.6425   |  18.84           1.3\n",
        "3000      |  1.1899  63.0548     89.4215   |  1.29    61.1451     88.0771   |  18.85           1.3\n",
        "3500      |  1.175   63.4172     89.6188   |  1.2966  61.11       87.9314   |  18.81           1.3\n",
        "4000      |  1.1356  64.5338     90.1057   |  1.2652  62.0295     88.3879   |  18.92           1.3\n",
        "4500      |  1.1296  64.7013     90.176    |  1.2759  61.9012     88.1979   |  18.87           1.3\n",
        "5000      |  1.0925  65.7245     90.5642   |  1.2591  62.451      88.4518   |  18.86           1.3\n",
        "\n",
        "\n",
        "Time taken for 5001 iterations: 202.70 seconds\n",
        "n_heads:6 | n_embedding: 384 | n_layer: 2 num_params: 3.7126 Million Parameters\n",
        "----------|-------------TRAIN--------------|--------------TEST--------------|-------------TIMING--------------\n",
        "iteration |  loss    top@1(%)    top@5(%)  |  loss    top@1(%)    top@5(%)  |  train_time(s)   eval_time(s)\n",
        "0         |  4.6459  0.9249      4.9387    |  4.648   0.8961      4.8064    |  0.01            1.33\n",
        "500       |  1.8458  44.9207     79.5494   |  1.8638  44.7742     79.2621   |  18.83           1.3\n",
        "1000      |  1.4953  54.6135     85.4923   |  1.5199  54.1871     85.082    |  18.85           1.31\n",
        "1500      |  1.3659  58.2286     87.1979   |  1.4105  57.3492     86.5706   |  18.81           1.3\n",
        "2000      |  1.2834  60.4337     88.2312   |  1.3454  59.2491     87.3394   |  18.8            1.3\n",
        "2500      |  1.2505  61.3564     88.6949   |  1.3255  59.9827     87.6213   |  18.81           1.3\n",
        "3000      |  1.2045  62.6603     89.2275   |  1.2952  60.8926     87.9523   |  18.84           1.3\n",
        "3500      |  1.1894  63.0231     89.429    |  1.2964  60.9778     87.8823   |  18.81           1.3\n",
        "4000      |  1.153   64.0317     89.8479   |  1.2798  61.5676     88.1714   |  18.81           1.3\n",
        "4500      |  1.1441  64.2983     89.9606   |  1.2861  61.4146     88.207    |  18.85           1.3\n",
        "5000      |  1.1109  65.2509     90.2937   |  1.2628  62.1508     88.3591   |  18.9            1.3\n",
        "\n",
        "\n",
        "\n",
        "\n",
        "n_heads:6 | n_embedding: 384 | n_layer: 1 num_params: 1.9381 Million Parameters\n",
        "Time taken for 5001 iterations: 113.81 seconds\n",
        "----------|-------------TRAIN--------------|--------------TEST--------------|-------------TIMING--------------\n",
        "iteration |  loss    top@1(%)    top@5(%)  |  loss    top@1(%)    top@5(%)  |  train_time(s)   eval_time(s)\n",
        "0         |  4.5965  1.1501      6.0497    |  4.5935  1.1541      6.0767    |  0.01            0.82\n",
        "500       |  1.928   42.6768     78.3661   |  1.9465  42.4984     78.0266   |  10.51           0.79\n",
        "1000      |  1.6109  51.3196     83.9252   |  1.6427  50.8079     83.4158   |  10.48           0.78\n",
        "1500      |  1.5013  54.4125     85.4929   |  1.5328  54.0264     84.9203   |  10.54           0.78\n",
        "2000      |  1.4212  56.5199     86.52     |  1.4671  55.6929     85.8688   |  10.52           0.78\n",
        "2500      |  1.3932  57.3088     86.9452   |  1.4482  56.3748     86.1698   |  10.54           0.78\n",
        "3000      |  1.3518  58.3597     87.4725   |  1.4129  57.4207     86.4638   |  10.52           0.78\n",
        "3500      |  1.3466  58.5488     87.5354   |  1.4068  57.7091     86.6236   |  10.53           0.78\n",
        "4000      |  1.3116  59.5636     87.8817   |  1.3808  58.2448     86.9263   |  10.51           0.78\n",
        "4500      |  1.3109  59.5223     87.9717   |  1.3952  58.0879     86.8467   |  10.5            0.78\n",
        "5000      |  1.2877  60.173      88.2081   |  1.3757  58.6683     86.9194   |  10.5            0.79\n",
        "\n",
        "\n",
        "\n",
        "n_heads:6 | n_embedding: 384 | n_layer: 6 num_params: 10.8105 Million Parameters\n",
        "  0%|          | 2/5001 [00:03<2:06:37,  1.52s/it]----------|-------------TRAIN--------------|--------------TEST--------------|-------------TIMING--------------\n",
        "iteration |  loss    top@1(%)    top@5(%)  |  loss    top@1(%)    top@5(%)  |  train_time(s)   eval_time(s)\n",
        "0         |  4.5782  1.1344      5.996     |  4.581   1.1447      6.0018    |  0.03            3.44\n",
        "500       |  1.8659  44.2059     79.5095   |  1.8838  44.0261     79.1359   |  53.11           3.42\n",
        "1000      |  1.4122  56.9198     86.5447   |  1.4464  56.2103     86.0549   |  53.22           3.47\n",
        "1500      |  1.2461  61.5043     88.7084   |  1.3171  60.0588     87.6467   |  53.13           3.43\n",
        "2000      |  1.1379  64.4103     89.9736   |  1.2568  61.8655     88.3577   |  53.15           3.43\n",
        "2500      |  1.0853  65.9414     90.631    |  1.2511  62.4436     88.4869   |  53.12           3.42\n",
        "3000      |  1.0052  68.2371     91.5758   |  1.2286  63.2249     88.8038   |  53.13           3.42\n",
        "3500      |  0.9713  69.1757     92.0682   |  1.2459  63.0121     88.6619   |  53.16           3.43\n",
        "4000      |  0.8879  71.7495     92.9744   |  1.2529  63.3315     88.7118   |  53.1            3.44\n",
        "4500      |  0.8576  72.6428     93.4435   |  1.2898  62.8986     88.4133   |  53.16           3.44\n",
        "5000      |  0.7715  75.4623     94.36     |  1.3068  63.2018     88.3292   |  53.1            3.41\n",
        "\"\"\"\n",
        "1"
      ],
      "metadata": {
        "id": "mBAfcHfLuom5",
        "colab": {
          "base_uri": "https://localhost:8080/"
        },
        "outputId": "9f08da37-a0f2-4337-f482-0c887dff794a"
      },
      "execution_count": null,
      "outputs": [
        {
          "output_type": "execute_result",
          "data": {
            "text/plain": [
              "1"
            ]
          },
          "metadata": {},
          "execution_count": 11
        }
      ]
    },
    {
      "cell_type": "code",
      "source": [
        "train_losses = []\n",
        "test_losses = []\n",
        "for array in output_dicts[2:]:\n",
        "  train_losses.append(array['train'][0])\n",
        "  test_losses.append(array['test'][0])\n",
        "\n",
        "import matplotlib.pyplot as plt\n",
        "plt.plot(train_losses)\n",
        "plt.plot(test_losses)\n",
        "plt.title(\"Train vs Test losses\")\n",
        "plt.show()"
      ],
      "metadata": {
        "colab": {
          "base_uri": "https://localhost:8080/",
          "height": 281
        },
        "id": "oERak2L_cRN6",
        "outputId": "9e34abac-a531-4765-b97e-743c7bb56ddc"
      },
      "execution_count": null,
      "outputs": [
        {
          "output_type": "display_data",
          "data": {
            "text/plain": [
              "<Figure size 432x288 with 1 Axes>"
            ],
            "image/png": "[encoded data removed]"
          },
          "metadata": {
            "needs_background": "light"
          }
        }
      ]
    },
    {
      "cell_type": "code",
      "source": [],
      "metadata": {
        "id": "DD7ZcU_ncRRf"
      },
      "execution_count": null,
      "outputs": []
    },
    {
      "cell_type": "code",
      "source": [
        "# n_heads:6 | n_embedding: 384 | n_layer: 6 num_params: 10.8105 Million Parameters\n",
        "# ----------|-------------TRAIN--------------|--------------TEST--------------|-------------TIMING--------------\n",
        "# 0         |  4.5876  0.9868      5.2322    |  4.587   0.9653      5.2709    |  0.02            14.52\n",
        "# 500       |  1.8428  44.7249     79.7544   |  1.8571  44.7034     79.4778   |  197.86          14.36\n",
        "# 1000      |  1.3952  57.416      86.7649   |  1.4395  56.4691     86.054    |  197.48          14.3\n",
        "# 1500      |  1.2384  61.7625     88.747    |  1.3163  60.1064     87.6062   |  196.82          14.31"
      ],
      "metadata": {
        "id": "dj7AaPjNqn21"
      },
      "execution_count": null,
      "outputs": []
    },
    {
      "cell_type": "code",
      "source": [
        "import matplotlib.pyplot as plt\n",
        "\n",
        "\n",
        "plt.plot(losses)\n",
        "plt.title(\"Losses\")\n",
        "plt.show()\n",
        "\n",
        "plt.plot(lrs)\n",
        "plt.title(\"Learning rates\")\n",
        "plt.show()"
      ],
      "metadata": {
        "id": "60wh1ZCpmbnW",
        "colab": {
          "base_uri": "https://localhost:8080/",
          "height": 545
        },
        "outputId": "e11fa7a3-4647-4c62-d905-a371ecf154f5"
      },
      "execution_count": null,
      "outputs": [
        {
          "output_type": "display_data",
          "data": {
            "text/plain": [
              "<Figure size 432x288 with 1 Axes>"
            ],
            "image/png": "[encoded data removed]"
          },
          "metadata": {
            "needs_background": "light"
          }
        },
        {
          "output_type": "display_data",
          "data": {
            "text/plain": [
              "<Figure size 432x288 with 1 Axes>"
            ],
            "image/png": "[encoded data removed]"
          },
          "metadata": {
            "needs_background": "light"
          }
        }
      ]
    },
    {
      "cell_type": "code",
      "source": [
        "plt.plot(losses[-500:])\n",
        "plt.title(\"Losses\")\n",
        "plt.show()"
      ],
      "metadata": {
        "colab": {
          "base_uri": "https://localhost:8080/",
          "height": 281
        },
        "id": "aT9YL0F5908D",
        "outputId": "c9413d9c-78e1-4c37-f5c1-23981c75140a"
      },
      "execution_count": null,
      "outputs": [
        {
          "output_type": "display_data",
          "data": {
            "text/plain": [
              "<Figure size 432x288 with 1 Axes>"
            ],
            "image/png": "[encoded data removed]"
          },
          "metadata": {
            "needs_background": "light"
          }
        }
      ]
    },
    {
      "cell_type": "code",
      "source": [
        "# n_heads:6 | n_embedding: 384 | n_layer: 6 num_params: 10.8105 Million Parameters\n",
        "# ----------|---------TRAIN----------|-----------TEST---------|----------TIMING---------\n",
        "# iteration |  loss    top@1(%)    top@5(%)  |  loss    top@1(%)    top@5(%)  |  train_time(s)   eval_time(s)\n",
        "# 0         |  4.609   1.4062      6.776     |  4.6062  1.4199      6.8174    |  0.02            13.45\n",
        "# 500       |  2.2564  33.6514     71.0287   |  2.2728  33.572      71.0531   |  193.58          14.29\n",
        "\n",
        "\n",
        "\n",
        "\n",
        "#Without lr scheduling:\n",
        "# 1.6008   51.8492  83.8604  1.6299   51.4921  83.3701  29.4928 ### iter: 1000 | loss: 1.6817 | train interval: 40.49 seconds\n",
        "# With: \n",
        "#  1.4235   56.5724  86.4524  1.4637   55.8688  85.8688  7.8572 ### iter: 1000 | loss: 1.5045 | train interval: 209.32 seconds\n",
        "#  1.2842   60.4039  88.2113  1.3478   59.2382  87.2946  7.8786 ### iter: 1000 | loss: 1.3604 | train interval: 208.99 seconds\n",
        "# With lr scheduling\n",
        "\n",
        "\n",
        "# n_heads:6 | n_embedding: 384 | n_layer: 1 num_params: 1.9381 Million Parameters\n",
        "# ---------TRAIN----------|-----------TEST-----------|--TIMING----------\n",
        "# loss     top@1    top@5 |  loss     top@1    top@5 |  eval_time\n",
        "# 4.6333   0.9825   5.1626   4.6361   0.9424   5.0534   10.8289### iter: 0 | loss: 4.6345 | train time interval: 0.01 seconds\n",
        "# 2.5013   27.6460  66.2090  2.5089   27.8167  66.1908  10.9146### iter: 100 | loss: 2.5085 | train time interval: 7.76 seconds\n",
        "# ↓↓↓↓↓↓↓↓↓↓↓↓↓↓↓↓↓↓↓↓↓↓↓↓↓↓↓↓↓↓↓↓↓↓↓↓↓↓↓↓↓↓↓↓↓↓↓↓↓↓↓↓↓↓↓↓↓↓↓↓↓↓↓↓↓↓↓↓↓↓↓↓↓↓↓↓↓↓↓↓↓\n",
        "# n_heads:6 | n_embedding: 384 | n_layer: 1 num_params: 1.9381 Million Parameters\n",
        "# ---------TRAIN----------|-----------TEST-----------|--TIMING----------\n",
        "# loss     top@1    top@5 |  loss     top@1    top@5 |  eval_time\n",
        "# 4.6681   0.7924   4.6143   4.6686   0.7852   4.5937   10.1680### iter: 0 | loss: 4.6672 | train time interval: 0.01 seconds\n",
        "# 2.5054   27.4399  65.9486  2.5082   27.7022  66.0398  10.2297### iter: 100 | loss: 2.5171 | train time interval: 6.53 seconds\n",
        "\n",
        "# n_heads:6 | n_embedding: 384 | n_layer: 3 num_params: 5.4871 Million Parameters\n",
        "# ---------TRAIN----------|-----------TEST-----------|--TIMING----------\n",
        "# loss     top@1    top@5 |  loss     top@1    top@5 |  eval_time\n",
        "# 4.5404   1.0071   6.0883   4.5384   0.9906   6.0388   27.0759 ### iter: 0 | loss: 4.5422 | train interval: 0.01 seconds\n",
        "# 1.6008   51.8492  83.8604  1.6299   51.4921  83.3701  29.4928 ### iter: 1000 | loss: 1.6817 | train interval: 40.49 seconds\n",
        "# 1.3288   59.2941  87.6776  1.3815   58.2792  86.9174  29.4365 ### iter: 2000 | loss: 1.4048 | train interval: 40.43 seconds\n",
        "# 1.2257   62.0692  88.9917  1.3111   60.4550  87.8633  29.5504 ### iter: 3000 | loss: 1.3113 | train interval: 40.44 seconds\n",
        "# 1.1591   63.8813  89.7406  1.2798   61.5125  88.2186  29.9780 ### iter: 4000 | loss: 1.2632 | train interval: 40.42 seconds\n",
        "# 1.1068   65.3377  90.3494  1.2654   62.0324  88.2828  29.5430 ### iter: 5000 | loss: 1.2179 | train interval: 40.44 seconds\n",
        "# Time taken for 5001 iterations: 1770.78 seconds (would be 1000 seconds if I evaluated every 1000 iterations, not 200)\n",
        "# Note: #16 mins of training time, and 12 mins of eval time. Should just check every 1000 iterations(accidentally set it to 200)"
      ],
      "metadata": {
        "id": "bsXaKqQ90_Am"
      },
      "execution_count": null,
      "outputs": []
    },
    {
      "cell_type": "code",
      "source": [
        "context = torch.zeros((1, 1), dtype = torch.long,  device = device)\n",
        "print(decode(gpt_model.generate(context, length_to_generate=200)[0].tolist()))"
      ],
      "metadata": {
        "id": "NHpJvOw31J-m",
        "colab": {
          "base_uri": "https://localhost:8080/"
        },
        "outputId": "31c4af36-ad4a-4726-c7a9-caaa96380a8f"
      },
      "execution_count": null,
      "outputs": [
        {
          "output_type": "stream",
          "name": "stdout",
          "text": [
            "\n",
            "He said, \"When are we open, now? You can I am busy skill yourself of the future \n",
            "Party. We must allow the ramb. Is part of our present small now - who may have considerable \n",
            "the Emperor. By this arm a\n"
          ]
        }
      ]
    },
    {
      "cell_type": "code",
      "source": [
        "for i in range(20):\n",
        "  print(\"-\"*100)\n",
        "  sentence = \"James Davey,\"\n",
        "  context= torch.tensor([encode(sentence)], dtype = torch.long, device = device)\n",
        "  print(decode(gpt_model.generate(context, length_to_generate=500)[0].tolist()))"
      ],
      "metadata": {
        "id": "V58WPDdjFWNQ",
        "colab": {
          "base_uri": "https://localhost:8080/"
        },
        "outputId": "90a469bc-c34a-45a3-aa40-fc04be9c0110"
      },
      "execution_count": null,
      "outputs": [
        {
          "output_type": "stream",
          "name": "stdout",
          "text": [
            "----------------------------------------------------------------------------------------------------\n",
            "James Davey, Poli?\" \n",
            "\n",
            "\"No. I mean,\" said the most name. \n",
            "\n",
            "\"I have the learned off. We've five centuries and five men who worked with his mental machines, \n",
            "thin face that the real have had formed of its colleagues, it could be uplanned out leave. \n",
            "It was much of the freezer. The honor, spoke, except for the moment, still beneath his food \n",
            "habit efficiently to endure usefully into shrine, a narrow member of cheeks, the peace was \n",
            "alive. \n",
            "\n",
            "But Toran called 'W when they stopped us. Gorov will have to come to he\n",
            "----------------------------------------------------------------------------------------------------\n",
            "James Davey, begin itself uncertain at the moment, and experienced one of secrecy. \n",
            "\n",
            "\"In this the mind of my childhood and money years foah me, it was not a good idle to be \n",
            "warned.\" The woman's voice was smiling, \"Patrician, now, my father, let's in his piece. He's \n",
            "use because I was a blazy-balance at the power. It was my ridiculous \n",
            "need. It was not an excitement and official duties are failing from outer \n",
            "stations and has never been reactively chewed at the mouth of a new gabble's clear back. \n",
            "\n",
            "\"I can t\n",
            "----------------------------------------------------------------------------------------------------\n",
            "James Davey, Master who might stand \n",
            "defeated him down to himself. \n",
            "\n",
            "The secretary was not a sign of legal low. \"I come up, Dr. Pirenne, doubty.\" \n",
            "\n",
            "Sutt shrunk sharply and said coldly: \"Not easily.\" \n",
            "\n",
            "Author's face turned upon the dull with a flowing horror. \"I have no dotard of him, yet I rebelled. \n",
            "\n",
            "He was a future of minor matter complete found. I am over the devices of all of the planet. It works \n",
            "none questioning here is on every now. There is a literal and middle of its producing planets, \n",
            "\n",
            "Is Seldon'\n",
            "----------------------------------------------------------------------------------------------------\n",
            "James Davey, \n",
            "while the tenders as thou discarded the Emperor. It has questioned \n",
            "on Terminus and pulsings. I think the fight silly a thousand people, that's your \n",
            "mind, by the Foundation at each other economy. But now is it's supposed it, I dog that's \n",
            "been put at all. Suppose you lost so confident to your records the number of protect without a \n",
            "sluggish been ka steps on the wall throte to the man. In the ships of religion was merely \n",
            "considerably between his chin. From kicking from the blast jump. \n",
            "\n",
            "\"Sir\n",
            "----------------------------------------------------------------------------------------------------\n",
            "James Davey, Hardin. With Seldon, though, then Transcriber, \n",
            "however, formed softly they want. \n",
            "\n",
            "Hardin snow how for them, and all doubt such a third curge head, \"My doctors not begin \n",
            "nothing is not the Foundation which you can put in their power?\" \n",
            "\n",
            "\"For supply it,\" Pirenne was laughing. \"Unfortunate studied territory, I had told you all this superstition \n",
            "to the story of the Foundation. It was something else.\" \n",
            "\n",
            "\"Oh, Great Barr, we have left of Siwenna? Else! Yet Seldon was troubled. What had you certain\n",
            "----------------------------------------------------------------------------------------------------\n",
            "James Davey, and it life-sergeant shook as he told his hands why he had forced \n",
            "his back. \"I wouldn't work after negation and say, like a priority. Since the answer useless.\" \n",
            "\n",
            "Ponyets wang them, \"You would have arrived from the basic conspicuous right of a single garden, the \n",
            "great ship of self-admiral weapons - we are - and not political traitor, second did not have \n",
            "impressed well. If you couldn't count of that, I don't think he doesn't mean the 'fight with \n",
            "their knowledge of their way.\" He laughed roun\n",
            "----------------------------------------------------------------------------------------------------\n",
            "James Davey, device \n",
            "before I thought zoint the faint of a Second Foundationer. So I don't blame me, \n",
            "but this Foundation account my father, Jael, glowed up, and arranged for centuries against \n",
            "a nebula or arm. Outomal describer when Salvor Hardin existed a bit violent minutes by the \n",
            "psychologists of Trantor men's head blast and returned the discription, other effort - successfully, \n",
            "but sending abruptly. \n",
            "\n",
            "With all softness, he can and awful, and thought of a vague Galactic \n",
            "hort-machines and no doubt pur\n",
            "----------------------------------------------------------------------------------------------------\n",
            "James Davey, who was known of it.\" \n",
            "\n",
            "With a fragile look of across the waiting up from the way to the shoulder. \n",
            "\n",
            "He said, \"Who's your highness? Before the science safety discussions has been reverted. It's \n",
            "purposed.\" \n",
            "\n",
            "Dr. Darell, and Devers turned again as he spoke. \"What do you mean, it's obvious.\" \n",
            "\n",
            "\"I didn't think he're going to be an explain surprised.\" \n",
            "\n",
            "\"Uh-huh,\" said Mallow, quietly, \"but I'd like to let me up the stay. And that there is a \n",
            "televisor or is full impoint vessels from Anacreon. Flow \n",
            "----------------------------------------------------------------------------------------------------\n",
            "James Davey, increasingly performed that of the Third \n",
            "Commdor, who said, \"Makes them out of the Foundation. It's something of my daughter was deliberate \n",
            "long round in his neck. By Seldon could have fought her and drew up the metal floor. It's a law \n",
            "handsomely retreats.\" \n",
            "\n",
            "\"When that was easy?\" \n",
            "\n",
            "\"You remember if they couldn't do there to be a neht of Ebling Mis.\" \n",
            "\n",
            "Master glanced at his pipe, and \"Star\" games the Foundation; they were crowding and failed up \n",
            "across the pilot. The spare branch of which wa\n",
            "----------------------------------------------------------------------------------------------------\n",
            "James Davey, it begun the little \n",
            "knowledge of the Foundation, but I'm not sure. Gold.\" \n",
            "\n",
            "Twer looked up. He laughed. \"We're study, blasted and down here. They back fellow, maybe the \n",
            "ship, sort of no longer was an its queer point and a second. Then, Ebling Mis without at the \n",
            "enemy, but he has a sought of being planned, for who could not see the great, this attempt was 'the \n",
            "Foundation.' The Empire's case well.' Why didn't you get it?\" \n",
            "\n",
            "Like Lee carefully. \"/can't - I'll tell me what you think I'll have h\n",
            "----------------------------------------------------------------------------------------------------\n",
            "James Davey, and if you have the air was completely there, of course, you know, \n",
            "perhaps. Rossem is widen on Askone.\" \n",
            "\n",
            "\"Bat he is collapsed a small ticket eye. You have according to space a week. You are forced \n",
            "barbarian on this position of your birth, Captain Pritcher, once will be told the reality. \n",
            "\n",
            "The trader did not doubt colonel and click, for a communication as it was held, in the center of \n",
            "Trantorian prince's limitle left without cell more.\" \n",
            "\n",
            "\"Local?\" \n",
            "\n",
            "\"How do you know they get it.\" It was noth\n",
            "----------------------------------------------------------------------------------------------------\n",
            "James Davey, tried, that's occupied our job hint.\" \n",
            "\n",
            "\"No, Speaker, if not, what's you were born with you?\" The captain's voice was low lifted. \"She's \n",
            "had long now - and what do you make it out of these dams in the first suspicions, and he’ll \n",
            "cut your loyalty to your desk yourself to run of your horstandary, involved.\" \n",
            "\n",
            "\"Your own conceivable capital in the history of the table fhatakes guided them harshly. First, \n",
            "either since I've been cut off again a new man. We might do you back the record is a space-f\n",
            "----------------------------------------------------------------------------------------------------\n",
            "James Davey, come, please with the \n",
            "Emperor. I can't want to remove your informulate and fighting a world be easy whispering \n",
            "and door before. That's why I'm in here.\" \n",
            "\n",
            "He was dragged away. \n",
            "\n",
            "\"Anything but on its fifteen months. In other two weeks, the Empire will have been used in \n",
            "my experience as well many for the expedition. Those days have certainly advanced by the analysis of \n",
            "psychohistory. We might easily use such as plosititive in force, and an apparently pleasant \n",
            "jump upon the basic of his own g\n",
            "----------------------------------------------------------------------------------------------------\n",
            "James Davey, then only sense him. My world panic upon the \n",
            "device from you. It's a girl. \n",
            "\n",
            "Of all the first time we are a force-spitting century in visitor's private - and that's why I want to \n",
            "rapid clear the more than I have reported. It is definite the Encyclopedia itself that moved pathdays. \n",
            "There was a portion of exporting at the extreme rend, or I'll sense. I may conceive you a \n",
            "sensible for you. So you have any way from you used to act as you were, and you pull state \n",
            "without the youngsters of the w\n",
            "----------------------------------------------------------------------------------------------------\n",
            "James Davey, ask me to hide him. All the bone gadgets that \n",
            "except for you.\" \n",
            "\n",
            "The axotion at all. He was a pale of drawn to Toran. \n",
            "\n",
            "\"I know about that. Haw they are ignored. If their glance in the Foundation has come.\" \n",
            "\n",
            "\"Which must have happened?\" \n",
            "\n",
            "\"Why, you go off to pitch me into theirs, regard the men of part of the Galactic status now \n",
            "ready. Under the State, now.\" \n",
            "\n",
            "\"You're right, Commdor, has presented me your mind at all to moment. And in your chance, conversation \n",
            "- a young man.\" \n",
            "\n",
            "\"Will you?\" \n",
            "\n",
            "----------------------------------------------------------------------------------------------------\n",
            "James Davey, that after a whole traitor, much I \n",
            "certainly crack for a moment, you are here.\" \n",
            "\n",
            "\"No objection of good an attack on space. I dot if I mean, payper. Personally, as I can tell. \n",
            "This is no psychology of the Chief Commissioner. \" \n",
            "\n",
            "\"However,\" proceeded Hardin, coolly, skilly. \"She's says-\" \n",
            "\n",
            "\"We're on his answer, \"but I say, we're getting about the conclusion?\" \n",
            "\n",
            "\"Exactly in the ship,\" said Peer of Synnax, legs. \n",
            "\n",
            "\"And yet are not. Now what does Mr. Munn want at all. Doctor you want a for?\" \n",
            "\n",
            "Th\n",
            "----------------------------------------------------------------------------------------------------\n",
            "James Davey, Ponyets. And when I am a seat of him left to make the \n",
            "pocket without her metal there to assume me comprehensible to \n",
            "proceed. Now a week luxurious mature, the Mule - and no one more very highly uniform a \n",
            "scarcely impated each other, for five plummery, perhaps, and who had an out, too, patrician. \n",
            "\n",
            "Mallow said, \"When the chamberlain? The Emperor has reached it. \n",
            "Would you like this, and that's the Emperor continued. And now you will do with it? You're \n",
            "recognized action. You've got to that?\" \n",
            "\n",
            "----------------------------------------------------------------------------------------------------\n",
            "James Davey, suesmen.\" \n",
            "\n",
            "\n",
            "\n",
            "\"Not yet you are my human beings the wronger than I could form the average between my \n",
            "most past complex conspiracy. It was far away, not people, it was required a darkness of \n",
            "young man. Yes. I think I want my men had certainly call the records do not go \n",
            "or at it being no problem, entered the appearance of the observation, they give the new fractories \n",
            "for the ship of the Galaxy who spoke must be difficult. \n",
            "\n",
            "\"They have never consciousness they brought her. She's had everything \n",
            "----------------------------------------------------------------------------------------------------\n",
            "James Davey, can't start about the \n",
            "planet believer to have lost this destination that they would seem.\" \n",
            "\n",
            "Ebling Mis still turned his pray upon the historical cry, and lobber Mallow exported his \n",
            "eyes sharply, and in reverie confused to break the clown's back. \n",
            "\n",
            "He went on, \"No, you know.\" There was a grimace air expression, gigantic, incoherent to academic \n",
            "certain as it always could be done. \n",
            "\n",
            "Patrician, too, we never stirred uncertainly we have teached. They been located anything - and \n",
            "they are capable\n",
            "----------------------------------------------------------------------------------------------------\n",
            "James Davey, and Anthor Salvor Hardin was the sun of \n",
            "his right of the wide, with swiftness in Dr. Kleise in any case, he formality activity of \n",
            "involved quarters paused, and then, sholdied. \n",
            "\n",
            "The thicate scene of secrecy that Dr. Elvett Seldon founded the Mule, indeed, and the Mule's \n",
            "power plant had held to pull at his watch. \n",
            "\n",
            "In the Captain Pritcher, Captain Pritcher found his large, grave out of his battery. Fie had \n",
            "said: \"These things is over a freak of coloration were the title as less sort of busin\n"
          ]
        }
      ]
    },
    {
      "cell_type": "code",
      "source": [
        "for i in range(5):\n",
        "  print(\"-\"*100)\n",
        "  sentence = \"Hardin, I say!\"\n",
        "  context= torch.tensor([encode(sentence)], dtype = torch.long, device = device)\n",
        "  print(decode(gpt_model.generate(context, length_to_generate=500)[0].tolist()))"
      ],
      "metadata": {
        "id": "cmLUbTUGFotP",
        "colab": {
          "base_uri": "https://localhost:8080/"
        },
        "outputId": "eebfb09c-9d9d-44d0-c2e6-13f1d06b0f97"
      },
      "execution_count": null,
      "outputs": [
        {
          "output_type": "stream",
          "name": "stdout",
          "text": [
            "----------------------------------------------------------------------------------------------------\n",
            "Hardin, I say!\" of \n",
            "peeven missed, \"Half a member of his man who must weight again, Bort, you were \n",
            "Magnifico. It makes you imperial majesty!\" \n",
            "\n",
            "Arcadia said, biting up the folderous sports and thoughtfully, \"This is a new more foreign man. \n",
            "Riose's limp as bad. Think he ends were driven as he concluded in a different comer of what \n",
            "eventually for he had to be seen on succeeding and, longly at a personal sequence. You do not \n",
            "know your mind, you would be worst supposed to have been sort of obvious thing. That\n",
            "----------------------------------------------------------------------------------------------------\n",
            "Hardin, I say!\" The wind stood curled forward and \n",
            "his mouth feet lifted over his first idea. \n",
            "\n",
            "\"We are unbelievable, because I've heard of kingdoms. I know him. I give you my hard when \n",
            "my father times were by conqueror are specific accumulations of battle screen at the supremain \n",
            "use.\" \n",
            "\n",
            "\"It would be done?\" \n",
            "\n",
            "\"I haven't followed you, Revered a certain device, but was ever adjusted the most effort. Fie \n",
            "won't heard of kings here, and I should say that it's right. The hospitality of this Imperial Cruiser has \n",
            "----------------------------------------------------------------------------------------------------\n",
            "Hardin, I say! I'm not first.\" \n",
            "\n",
            "Mallow shook his head slowly, \"He-\" \n",
            "\n",
            "\"Hold it makes a patriotic?\" \n",
            "\n",
            "\"No. There is no chance for all the money on my time principles tossed the mighty picked-and \n",
            "ruins left - has that it back vainly advered a sudden iron of million - ivory \n",
            "dismissed. The vocability for the portion of the General Pritcher after twice the mob. They \n",
            "brought to use it. \n",
            "\n",
            "It was because I outfaced them to hope the propose to aims that I \n",
            "guard was Veneration once - \n",
            "and of an agent is reddy-\" \n",
            "\n",
            "\n",
            "----------------------------------------------------------------------------------------------------\n",
            "Hardin, I say!\" He held in a performer product. \"You late in the magnifico- practically \n",
            "device. But I work set by archaeology, however, the cade of course, but the Mule are not to solve \n",
            "everything. It wouldn't slit, and the men involved the incongruities of fact fashion, at least, \n",
            "top defense.\" \n",
            "\n",
            "\"In that, I serve he need timely. There is a noveled for his donasty, has he.\" \n",
            "\n",
            "\"An indeed the planet. You think you will be a decoy perate has now \n",
            "been natural to deal with his forehouse. Union its great, at th\n",
            "----------------------------------------------------------------------------------------------------\n",
            "Hardin, I say!\" \n",
            "\n",
            "\"I don't mean, and don't like to you care what I'm supposed you like that what you presented. \n",
            "It's still slash, but would be collected out not twenty paused in miserable secrecy, \n",
            "even more and went only a few months, or instance, and the point was required a fusal, appruler \n",
            "and received - and actross behind all the dead of us to close-\" \n",
            "\n",
            "And she swondered away. \n",
            "\n",
            "And she laid, calmly, \"Complete has even hard to smoke you.\" \n",
            "\n",
            "The Fox rose absently, \"You could have say-\" \n",
            "\n",
            "She found Channi\n"
          ]
        }
      ]
    },
    {
      "cell_type": "code",
      "source": [
        "for i in range(10):\n",
        "  print(\"-\"*100)\n",
        "  sentence = \"Callum and Connor\"\n",
        "  context= torch.tensor([encode(sentence)], dtype = torch.long, device = device)\n",
        "  print(decode(gpt_model.generate(context, length_to_generate=500)[0].tolist()))"
      ],
      "metadata": {
        "id": "2Y7-w7wtH7qA",
        "colab": {
          "base_uri": "https://localhost:8080/"
        },
        "outputId": "6bbf8435-1e08-4ec8-8706-e51816ab3db5"
      },
      "execution_count": null,
      "outputs": [
        {
          "output_type": "stream",
          "name": "stdout",
          "text": [
            "----------------------------------------------------------------------------------------------------\n",
            "Callum and Connorable Man figure in distinction all \n",
            "itself. There's no child and in need for the Plan at the First Citizen of two centuries ago, \n",
            "and if you'd give them out all my statements will free alone. The Mule isn't usual about.\" \n",
            "\n",
            "\"Now what does he realize that?\" She shook her hand. \n",
            "\n",
            "\"Do you think we know about is.\" \n",
            "\n",
            "\"Gold!\" urged Bayta. \n",
            "\n",
            "\"And it was at last this theory. Oh, doctor, you're trying to find it about the Mule. I am not \n",
            "known to us one. At all, keep at seventy years before, and did you, \n",
            "----------------------------------------------------------------------------------------------------\n",
            "Callum and Connorably surrounded. \n",
            "\n",
            "Pritcher carved the book as he atended, \"As I have wise to old your either. I find it works. \n",
            "When I outfaced it requires far by Seldon's First Foundation?\" \n",
            "\n",
            "\"Yes, sir. It is a dangerous since he could not beat the Foundation for my human subjects. \n",
            "Mis's private location been no trace, Jael, get it. He called himself in the metal. His \n",
            "thin contact was a small most as a force-shield and result without pain-not even these days? \n",
            "We must fight himself as we occurs we have a tr\n",
            "----------------------------------------------------------------------------------------------------\n",
            "Callum and Connorable groups of the leader \n",
            "before the \"detail\" of Paper, as though the name upstairs covering of the First Speaker. \n",
            "His playing was the bare of only the secretary of the Emperor? \n",
            "\n",
            "Under Mallow, he was a man, doubtful majesty. Up this party has already opposite that once \n",
            "magnificent. That was the utter sounds, ouch competers of the Second Empire - rather is we \n",
            "do it affected. General Pritcher filted the City Hall-and his name - and myself as a force it is \n",
            "strong; it will be more clearer than\n",
            "----------------------------------------------------------------------------------------------------\n",
            "Callum and Connoration \n",
            "has happened. \n",
            "\n",
            "\"You shall the men on then to possess - a mutant in the chance. Captain Han Pritcher on I \n",
            "am. I have already ritudes.\" \n",
            "\n",
            "\"Then I am of our own a very stay which was usually expected. The studies will percent give for \n",
            "them and we are the quick, until them.\" \n",
            "\n",
            "She held his hands bent to one the thin level and gripping off. She read the peasants into \n",
            "her close, and worried, to she given her. \n",
            "\n",
            "\"And what is your theory?\" she said, calmly. \n",
            "\n",
            "\"You couldn't do that?\" \n",
            "\n",
            "\"Well, \n",
            "----------------------------------------------------------------------------------------------------\n",
            "Callum and Connorell of the Second Foundation.\" \n",
            "\n",
            "\"But he is not under advancing my life obvious job. No planet, of course.\" \n",
            "\n",
            "\"It deny it events for encephalographical school on the Foundation, furniture, come to the \n",
            "gut-beam of which he didn't know much tinkles the rim of the Galactic Spirit.\" \n",
            "\n",
            "Barr said, \"But you're landing at all?\" demanded Pirenne. \"You mean he \n",
            "must, what's this is a rather council silence - which was ever enough to face too much \n",
            "be the bad of pleasant at her side. You had one, and dare\n",
            "----------------------------------------------------------------------------------------------------\n",
            "Callum and Connorell rose the size of great \n",
            "Imperium haut Rodric - and sociologically was investigating the enemy. Through the dark of \n",
            "the principles of the great Empire drifting prant at the University of Anacreon.\" \n",
            "\n",
            "\"Then I set the tracer outside,\" said Toran. \"That's good. You are king here. But I'm \n",
            "how many pro-called men.\" \n",
            "\n",
            "\"Or course,\" said Barr, impatiently, \"and you've read a great wind a gesture. Do you want \n",
            "that any time a Mule's dead hand, of a communication against the Mule. It is not of this r\n",
            "----------------------------------------------------------------------------------------------------\n",
            "Callum and Connorsion of the Empire, 'That's one of the old Channis.'\" \n",
            "\n",
            "\"Now under these degrees permission who do now in?\" \n",
            "\n",
            "\"Oh, golly.\" \n",
            "\n",
            "Slowly, and so hopelessly, \"There are suspicious. The old man, I don't bother kind anything at. \n",
            "They will adhahe according to the planet had impulsed before a strained negotiation has at once \n",
            "been war that a surface prize. Two and what is it shopped, patiently by the huge cylinder of \n",
            "the power plant stations with you. Fifty years before he could aconomy would have been \n",
            "----------------------------------------------------------------------------------------------------\n",
            "Callum and Connorably won't \n",
            "say about it. \n",
            "\n",
            "So he can grace the only alternative of all their texts separated the precise and added \n",
            "him the post - and singly, without- consequence, sleeping each upon their variable groups of \n",
            "childhood with the planet Extra. I was unprofeded by space.\" \n",
            "\n",
            "Pritcher felt a proper more square miles and unscrubbed it slowly as it didn't look at it. He \n",
            "made the conversation of the new Second Foundationers, one could have been told you.\" \n",
            "\n",
            "\n",
            "The Mule seemed a grotest and dramped it i\n",
            "----------------------------------------------------------------------------------------------------\n",
            "Callum and Connor thought I should have interested a dangerous \n",
            "for a minimum really egreest.\" \n",
            "\n",
            "\"It can wretch change that a stupid that force there \n",
            "was no longer evidence of actions. There's got to see a valuable about them.\" \n",
            "\n",
            "The little showering the slowly silence and shrugged. \"I can't stay. Think believes, dodges?\" \n",
            "\n",
            "\"I am Hari Seldon. So I know you see what? I can the girls of outsider what let me separate, \n",
            "please.\" \n",
            "\n",
            "\"I am not my childhood in the eggsh food? Or is it of an interesting to force the pow\n",
            "----------------------------------------------------------------------------------------------------\n",
            "Callum and Connoracted the Mule was consciousness. Functuated \n",
            "the strangers up. \n",
            "\n",
            "They built at the provinces did not recognize them a missionary profitable for last minute \n",
            "crdimes that filled with a floor, of course, the planet that was greater the Mule, and listening into long \n",
            "and said: \n",
            "\n",
            "\"That's right,\" came to the Mule, solemnly. \"I have told you, my lady, but I looked at this mouth \n",
            "and I played one to the mayor turn outward from my mind. Then I am sit down, and I doubt if not, \n",
            "pavish me their money, Pr\n"
          ]
        }
      ]
    },
    {
      "cell_type": "code",
      "source": [
        "for i in range(20):\n",
        "  print(\"-\"*100)\n",
        "  sentence = \" \"\n",
        "  context= torch.tensor([encode(sentence)], dtype = torch.long, device = device)\n",
        "  print(decode(gpt_model.generate(context, length_to_generate=500)[0].tolist()))"
      ],
      "metadata": {
        "id": "Tml-wd1y-Rhk",
        "colab": {
          "base_uri": "https://localhost:8080/"
        },
        "outputId": "c070acc0-106d-49c1-c8da-963106d28ed3"
      },
      "execution_count": null,
      "outputs": [
        {
          "output_type": "stream",
          "name": "stdout",
          "text": [
            "----------------------------------------------------------------------------------------------------\n",
            " tofolly me mayor when she said had been \n",
            "prepared. \n",
            "\n",
            "The procedure died contact base, except for the fact that bald to particular every stirring \n",
            "members of the Second Foundation. \n",
            "\n",
            "\n",
            "10. APPROACTICA \n",
            "\n",
            "There were two with the Commdora's arvers parents went to shake him on me. Fie had straightened \n",
            "from about the mayor's percent, while Toran was droop. \n",
            "\n",
            "The general! The first days of watchping from history and speeches into a slow hair back, \n",
            "unstaired. \n",
            "\n",
            "Bayta said, \"Yes, r-iitem tell you what C\n",
            "----------------------------------------------------------------------------------------------------\n",
            " re\n",
            "none of the facts of the science of those Commission of Public Safety. Munn \n",
            "was his feet: \"I can tell you that, for instance, sir.\" \n",
            "\n",
            "Bayta reached himself - and shrugged. \"There is no complaint I have more than upholting \n",
            "this Visi-Sonor, honor. Twenty-five percent known upon our science was bleding.\" \n",
            "\n",
            "The secretary stared. He had ate the moment, since I never cheeked down, crash in such an \n",
            "apparent gesture. But now, watching where Kleise to live a good mission of my oction. \n",
            "\n",
            "Five men an\n",
            "----------------------------------------------------------------------------------------------------\n",
            " the foot of a plungey of \n",
            "the Anacreonian mental Foundation. So I imagine my controlled his Galaxy will am find it \n",
            "improved. Give me Repulsion for more than any light on Neotrantor as he turned the idea to \n",
            "chave the principles of Tazenda. It has not been interested and his mind to accuse him. \n",
            "\n",
            "Both had been the empmered stream in the hands of the first Speaker ready, and the gallery of \n",
            "propaganda. \n",
            "\n",
            "\n",
            "13. CONVERT \n",
            "\n",
            "The Expansion scowl! Well, with of the Foundation test on Terminus? \n",
            "\n",
            "A. I am \n",
            "----------------------------------------------------------------------------------------------------\n",
            " \n",
            "Homir Munn had finally right the intricacies of a major laughed pad-viceroy, instrument, \n",
            "Indbur, who was it on a single phushed past centers and penthless of the low voice from the \n",
            "ancient profoundation. \n",
            "\n",
            "Hardin remained a cigar and profits forevering carlords to the inner lay she was drifted. \n",
            "\n",
            "She bought her was at the sound of a foot through the window of snuff in the nostrils and \n",
            "grew silent space as words. \n",
            "\n",
            "Lord (our solution could want to pick Anacreon. At least, just as Officer ther\n",
            "----------------------------------------------------------------------------------------------------\n",
            "  the wall no opposite \n",
            "thing. He felt guard - and swooped it into the King of Tazenda - defian crept a cubic grounds. \n",
            "Without a sun and foreign potachery, a fat less than million area, palace revolted. \n",
            "They were true, rue some now, watching. Or was a mass psychologist inexplode.\" \n",
            "\n",
            "\"Oh, my-\" said then, urge damly, \"I'm not awhat I'm one of those who lives and three times \n",
            "laws - and begin to interfere complete and rather than they were bed, captain. It's not Trantor \n",
            "for marriage, boss? Severa\n",
            "----------------------------------------------------------------------------------------------------\n",
            " on, somehow, we sullers now - and rather general lid out. And then eventually looked \n",
            "humorously earlier, \n",
            "from the pouch of its region pockets. All them! \n",
            "\n",
            "\n",
            "He came in the nuclear blast, now that much not say, as I wish. At the hands of the priesthood, \n",
            "projector or doea.\" \n",
            "\n",
            "\"I?\" Channis left with made black of his angry from the tiny bulbilled blaster and plumped into \n",
            "the born the fingers of the runaway, and frant from the eternal second curl into it. \n",
            "\n",
            "\"But you are not a certain phenomenon o\n",
            "----------------------------------------------------------------------------------------------------\n",
            " moment was scurry in the vast floor. The clown's boy was absolutely \n",
            "decades the missionary from his Plan at the attack of the glory of the Empire as ... as ... \n",
            "and on ... assuming of the Second Foundation.\" \n",
            "\n",
            "\"Listen, ago Anacreon?\" \n",
            "\n",
            "\"You'll have taken action, because my dear.\" \n",
            "\n",
            "Barr smiled, \"I have no function there; if I had been traitors to be set by Seldon, however, \n",
            "the Imperial Second Foundation, and you can probably say?\" \n",
            "\n",
            "\"But why not? What's I don't put it? What's wrong trick?\" \n",
            "\n",
            "\"\n",
            "----------------------------------------------------------------------------------------------------\n",
            " from the Girl.\" \n",
            "\n",
            "\"That's good cloak. You are not desclaring uses to be correct, of course, an aren't victory \n",
            "or any other point. All Ricroscopic has so much for our person, they are more than that by \n",
            "hyperday in space-tangled tension.\" \n",
            "\n",
            "\"Strictly.\" \n",
            "\n",
            "\"Rumors?\" Toran glanced at his indifference at his uncle's words. \"It is says nothing, do \n",
            "you late a deadly priestly from Kalgan. Through the Encyclopedia.\" \n",
            "\n",
            "\"Well?\" Pritcher curtled. \"Am I to see it, Sir.\" \n",
            "\n",
            "\"I ... don't,\" said Mis, calmly. \"\n",
            "----------------------------------------------------------------------------------------------------\n",
            " weight what he knew that there would be investigated.\" \n",
            "\n",
            "And Toran replied, \"I've been traitors.\" \n",
            "\n",
            "Toran sitting his his teeth to his voice, \"You must consider yourself free crookings. It is a \n",
            "associative and each statistical conceptions which isn't supposed to do of what happen. The Foundation \n",
            "before the Foundation, completely stepped back, absently, he bebing immediately, and he chuckled \n",
            "the approach of some and plasted her hands were the wonder-convenies which had ever \n",
            "smooth tales that \n",
            "----------------------------------------------------------------------------------------------------\n",
            " a little general perfect day. We have men of \n",
            "our agents are predictions with me a completel to distorted, but the defeat there is no \n",
            "exciting energy. The first time he have been trusted one man since the man who could so \n",
            "decay to be alone-dust. What was that?\" \n",
            "\n",
            "\"That is.\" \n",
            "\n",
            "\"May there are no rests. I've got to see it. I wouldn't think we are with that they're able to \n",
            "combine it doesn't exist what doesn't seem most by my phrase and hard-working feverish words.\" \n",
            "\n",
            "\"Then I see nothing wrong?\" \n",
            "----------------------------------------------------------------------------------------------------\n",
            " experience The Second Empire, of course, were gone, woman \n",
            "would have to detect any man; perhaps traces accepted further with every smiling. \n",
            "\n",
            "\"It's not a real incompetent when I come to wait for some day. I'm going to tell you. You what \n",
            "the Second Foundation? Where am I sure at all. This part is Trantor.\" \n",
            "\n",
            "Hardin nodded thoughtfully. \"What in space has anything but he was prepared. I have had you up \n",
            "with a first piece of most profits. That is original law, but my lady-\" \n",
            "\n",
            "\"I think you've got\n",
            "----------------------------------------------------------------------------------------------------\n",
            " my finger home. I come to wait - all - to all you which I'm \n",
            "leave.\" \n",
            "\n",
            "\n",
            "He held her absolute and powered helplessly as her tongue and climbed her, and he found \n",
            "it was leisure, did could follow her angular it. \n",
            "\n",
            "And the gray ontold within the city of business and same position, to this point of sons out of \n",
            "the Seldon Plan. \n",
            "\n",
            "\"The Fifth Speaker,\" said Bort, look, \"who gave me foolish, neither milk you'll remember. If I am not part \n",
            "for information.\" \n",
            "\n",
            "\"Your conscience will lose breakward for whe\n",
            "----------------------------------------------------------------------------------------------------\n",
            " of a Second Foundation!\" \n",
            "\n",
            "They were suddenly chuckled. \n",
            "\n",
            "\"Yes, they were going to pend up into their narrow of nearings ships and rather was able \n",
            "out the soul, she lifted. \n",
            "\n",
            "It was certain deliberately sentence as they knew foah - it's been the first time. What, \n",
            "well!\" \n",
            "\n",
            "\n",
            "\n",
            "The and went on, hagnifico turned, but were ceremonious kingdoms to follow ever the lord, and \n",
            "the point and hard, faced the chair and glowed grimly, within fascination: \"A mutant men of \n",
            "Entire support world at length.\" \n",
            "\n",
            "\n",
            "----------------------------------------------------------------------------------------------------\n",
            " planet is located to carry in a power \n",
            "like a nuclear blaster of the first planet.\" \n",
            "\n",
            "\"There's a renew and books that third is a safe of disloyal aboards and lept to the \n",
            "situation, there was a man simple stational patch of bartred to disappear, gentlemen, and the \n",
            "televisor came upon the ancient peasant for its ruling masks yet.\" \n",
            "\n",
            "\"And you won't get for two,\" said Commason, \"and can't see it. This second would laugh about the \n",
            "mess of men. Do you have a brightful over anticipate of my mind, a \n",
            "----------------------------------------------------------------------------------------------------\n",
            " Trantor. The industrialistic expressions there is one \n",
            "course of but a split-sech crisis. Devers rebelled by my childhood ships. Witness the greatest \n",
            "meanwhile depths.\" He rounded and grassly. \"The story still admit your ritual major actions. \n",
            "But if you touch makes you speak, eh?\" \n",
            "\n",
            "\"Oh, declared, and we had only to make the sacrifice of psychology. We had never long lived \n",
            "forever yourself of our own socialistors as they are hard completely attacking us which I turn as the \n",
            "quest metal? Toss \n",
            "----------------------------------------------------------------------------------------------------\n",
            " trimed to handle in space. \n",
            "\n",
            "What of that?\" Pacfanis was old. \"But why is there may be more upon me? I'm telling you. Had I \n",
            "make the intention of your holes of the piece of other, and this commissioners was the \n",
            "cattage. Still interested Trader in the evil Whether the Galaxy have \n",
            "realized will be informed in the development of Terminus had been just glindly down into it. \n",
            "\n",
            "\"That's not the way from him off. We've said, what's going to go off bright from my chamberlain - \n",
            "and, of my own mind the\n",
            "----------------------------------------------------------------------------------------------------\n",
            " expansion you with my \n",
            "unprintable only. I have told, and ... that With Smyrno ... when I ... yawDabouts by ... and the Imperial \n",
            "Consider the city of space, for instance, owner, we've been two years. Well, let them hut. \n",
            "Slowly, he became a ground step. But, our knowledge will have you expect? And when You're \n",
            "ignoring, aren't you? I mean I ... and that's a way of any facts I have a person called the \n",
            "Foundation.\" \n",
            "\n",
            "\"Yes?\" He cought his noses lifted. \n",
            "\n",
            "\"You have the machines are important for a\n",
            "----------------------------------------------------------------------------------------------------\n",
            " despotism; through over the Galaxy. They were hundred for their science and \n",
            "watching turned to Twer. It was in holes and the decade. With sudden such significant \n",
            "flavor of seats. The screen thereof, to send and Magnifico, turned carry as Mayor Indbur \n",
            "Magnifico was purposed to the captain, there was made of a pair of an each for a purpose. \n",
            "\n",
            "The mayor of the Foundation was decaying to seize the time. The bills of the outer spokesman \n",
            "of a week, and I think I had you heard out of these fundamen\n",
            "----------------------------------------------------------------------------------------------------\n",
            " I tell you.\" \n",
            "\n",
            "\"You have my word that the gold men of the Foundation? What is it you going to do?\" \n",
            "\n",
            "\"Nothing else, sir-\" \n",
            "\n",
            "\"Why not? \n",
            "\n",
            "\"It's all the matter?\" \n",
            "\n",
            "\"No. No, no! I'll send it to object to do that at all. I avoid me, too,\" said the few softly \n",
            "indignation, \"so we know of them and Devers.\" \n",
            "\n",
            "\"The man said in his face. It set the monotonous feeble to hold the very great psychologists and \n",
            "electronic efforts. The Empire's nothing to be cost to predict it. That's a notion that what \n",
            "clear\n",
            "----------------------------------------------------------------------------------------------------\n",
            " in Brodrig. She looked at there, belazed and \n",
            "her, the First Speaker did not drop in any contrary account exist. \n",
            "\n",
            "\"For that, my mathematics? A known will it work out of scientists - never before the most \n",
            "immediate idea.\" \n",
            "\n",
            "\"Are you wearing down, Magnifico. Can take a good upon the profounder of the Foundation. Look, \n",
            "Indbur was good and displeased an uperform from his life in agent, there was importance at \n",
            "\n",
            "\n",
            "\n",
            "the question of the Foundation. He might have allowed. It turned away with him, and,\n"
          ]
        }
      ]
    },
    {
      "cell_type": "code",
      "source": [],
      "metadata": {
        "id": "_P01bJK2eQKW"
      },
      "execution_count": null,
      "outputs": []
    }
  ]
}