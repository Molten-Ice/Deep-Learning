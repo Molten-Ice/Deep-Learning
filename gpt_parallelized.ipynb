{
  "nbformat": 4,
  "nbformat_minor": 0,
  "metadata": {
    "colab": {
      "provenance": [],
      "authorship_tag": "ABX9TyM1CJ/k+JJ1MWJgGnMZNBPD",
      "include_colab_link": true
    },
    "kernelspec": {
      "name": "python3",
      "display_name": "Python 3"
    },
    "language_info": {
      "name": "python"
    },
    "accelerator": "GPU",
    "gpuClass": "premium"
  },
  "cells": [
    {
      "cell_type": "markdown",
      "metadata": {
        "id": "view-in-github",
        "colab_type": "text"
      },
      "source": [
        "<a href=\"https://colab.research.google.com/github/Molten-Ice/Deep-Learning/blob/dev/gpt_parallelized.ipynb\" target=\"_parent\"><img src=\"https://colab.research.google.com/assets/colab-badge.svg\" alt=\"Open In Colab\"/></a>"
      ]
    },
    {
      "cell_type": "code",
      "source": [
        "gpu_info = !nvidia-smi\n",
        "gpu_info = '\\n'.join(gpu_info)\n",
        "if gpu_info.find('failed') >= 0:\n",
        "  print('Not connected to a GPU')\n",
        "else:\n",
        "  print(gpu_info)\n",
        "\n",
        "from psutil import virtual_memory\n",
        "ram_gb = virtual_memory().total / 1e9\n",
        "print('Your runtime has {:.1f} gigabytes of available RAM\\n'.format(ram_gb))\n",
        "\n",
        "if ram_gb < 20:\n",
        "  print('Not using a high-RAM runtime')\n",
        "else:\n",
        "  print('You are using a high-RAM runtime!')"
      ],
      "metadata": {
        "colab": {
          "base_uri": "https://localhost:8080/"
        },
        "id": "n9Np9Is46rwn",
        "outputId": "c091b9df-9502-4d93-f164-6238774e0223"
      },
      "execution_count": 1,
      "outputs": [
        {
          "output_type": "stream",
          "name": "stdout",
          "text": [
            "Wed Mar 15 14:38:05 2023       \n",
            "+-----------------------------------------------------------------------------+\n",
            "| NVIDIA-SMI 525.85.12    Driver Version: 525.85.12    CUDA Version: 12.0     |\n",
            "|-------------------------------+----------------------+----------------------+\n",
            "| GPU  Name        Persistence-M| Bus-Id        Disp.A | Volatile Uncorr. ECC |\n",
            "| Fan  Temp  Perf  Pwr:Usage/Cap|         Memory-Usage | GPU-Util  Compute M. |\n",
            "|                               |                      |               MIG M. |\n",
            "|===============================+======================+======================|\n",
            "|   0  NVIDIA A100-SXM...  Off  | 00000000:00:04.0 Off |                    0 |\n",
            "| N/A   34C    P0    55W / 400W |      0MiB / 40960MiB |      0%      Default |\n",
            "|                               |                      |             Disabled |\n",
            "+-------------------------------+----------------------+----------------------+\n",
            "                                                                               \n",
            "+-----------------------------------------------------------------------------+\n",
            "| Processes:                                                                  |\n",
            "|  GPU   GI   CI        PID   Type   Process name                  GPU Memory |\n",
            "|        ID   ID                                                   Usage      |\n",
            "|=============================================================================|\n",
            "|  No running processes found                                                 |\n",
            "+-----------------------------------------------------------------------------+\n",
            "Your runtime has 89.6 gigabytes of available RAM\n",
            "\n",
            "You are using a high-RAM runtime!\n"
          ]
        }
      ]
    },
    {
      "cell_type": "markdown",
      "source": [
        "## Hyperparameters"
      ],
      "metadata": {
        "id": "e-pDHXkq6sLi"
      }
    },
    {
      "cell_type": "code",
      "source": [
        "# hyperparameters\n",
        "batch_size = 64 # num independent sequences processed in parallel \n",
        "block_size = 256 # maximum context length\n",
        "\n",
        "max_iterations = 5001 #5001 # training iterations\n",
        "eval_interval = 500 # after how many iterations to print out loss & accuracy\n",
        "eval_iterations = 200 # batches to average over during evaluation\n",
        "\n",
        "train_split = 0.9\n",
        "\n",
        "dropout = 0.2\n",
        "learning_rate = 1e-3 #3e-4\n",
        "\n",
        "# model architecture\n",
        "n_heads = 6\n",
        "n_embedding = 384 # each head has dim 64 (=384/6)\n",
        "n_layer = 3 #6"
      ],
      "metadata": {
        "id": "4hdDx_6_sOiW"
      },
      "execution_count": 2,
      "outputs": []
    },
    {
      "cell_type": "markdown",
      "source": [
        "## Imports "
      ],
      "metadata": {
        "id": "Squ7V9CRt-oP"
      }
    },
    {
      "cell_type": "code",
      "source": [
        "import torch\n",
        "import torch.nn as nn\n",
        "import time\n",
        "\n",
        "try:\n",
        "    import einops\n",
        "except:\n",
        "    print(f\"einops not installed as required, installing...\")\n",
        "    !pip3 install einops\n",
        "    import einops\n",
        "\n",
        "from einops import rearrange, reduce, repeat"
      ],
      "metadata": {
        "id": "xvZXdhgCsGk5"
      },
      "execution_count": 3,
      "outputs": []
    },
    {
      "cell_type": "code",
      "source": [
        "device = 'cuda' if torch.cuda.is_available() else 'cpu'\n",
        "print(f\"on device: {device}\")"
      ],
      "metadata": {
        "colab": {
          "base_uri": "https://localhost:8080/"
        },
        "id": "coylNu1tsRmk",
        "outputId": "eaf0b645-8cfe-4300-f8cb-8a3b2dedb837"
      },
      "execution_count": 4,
      "outputs": [
        {
          "output_type": "stream",
          "name": "stdout",
          "text": [
            "on device: cuda\n"
          ]
        }
      ]
    },
    {
      "cell_type": "markdown",
      "source": [
        "## Download and pre-process data"
      ],
      "metadata": {
        "id": "peUiLi_4sUJh"
      }
    },
    {
      "cell_type": "code",
      "source": [
        "# Importing data\n",
        "data_file_path = 'https://raw.githubusercontent.com/Molten-Ice/Deep-Learning/main/Data/foundation.txt'\n",
        "import requests\n",
        "r = requests.get(data_file_path)\n",
        "text = r.text\n",
        "\n",
        "print(f\"Length of foundation.txt: {len(text)} characters\")\n",
        "print(text[:250])\n",
        "print()\n",
        "\n",
        "chars = sorted(list(set(text)))\n",
        "n_chars = len(chars)\n",
        "print(f\"There are {n_chars} unique characters, namely: {''.join(chars)}\")\n",
        "\n",
        "ctoi = {ch:i for i, ch in enumerate(chars)} # characters to integers\n",
        "itoc = {i:ch for i, ch in enumerate(chars)} # integers to character\n",
        "encode = lambda s: [ctoi[ch] for ch in s]\n",
        "decode = lambda l: ''.join([itoc[i] for i in l])\n",
        "print(encode(\"Hello world!\"))\n",
        "print(decode(encode(\"Foo Bar!\")))\n",
        "\n",
        "data = torch.tensor(encode(text), dtype=torch.long)\n",
        "n = int(len(data) * 0.9)\n",
        "train_data = data[:n]\n",
        "test_data = data[n:]\n",
        "print(f\"train data length: {len(train_data)} | test data length: {len(test_data)}\")"
      ],
      "metadata": {
        "colab": {
          "base_uri": "https://localhost:8080/"
        },
        "id": "3XvR_WbCsWVb",
        "outputId": "ad105f93-1567-466d-d7b4-9528754118c5"
      },
      "execution_count": 5,
      "outputs": [
        {
          "output_type": "stream",
          "name": "stdout",
          "text": [
            "Length of foundation.txt: 1240544 characters\n",
            "FOUNDATION \n",
            "ISAAC ASIMOV \n",
            "\n",
            "PART I \n",
            "\n",
            "THE PSYCHOHISTORIANS \n",
            "\n",
            "i. \n",
            "\n",
            "HARI SELDON-... bom In the 1 1,988th year of the Galactic Era; died 12,069. The dates are \n",
            "more commonly given In terms of the current Foundational Era as - 79 to the year 1 F.E. Born \n",
            "t\n",
            "\n",
            "There are 84 unique characters, namely: \n",
            " !\"#%'()*,-./0123456789:;?ABCDEFGHIJKLMNOPQRSTUVWXYZ\\abcdefghijklmnopqrstuvwxyz—‘’”\n",
            "[34, 58, 65, 65, 68, 1, 76, 68, 71, 65, 57, 2]\n",
            "Foo Bar!\n",
            "train data length: 1116489 | test data length: 124055\n"
          ]
        }
      ]
    },
    {
      "cell_type": "code",
      "source": [
        "def get_batches(split='train') -> tuple:\n",
        "  data = train_data if split == 'train' else test_data\n",
        "  idxs = torch.randint(len(data)-block_size, (batch_size, ))\n",
        "  xb = torch.stack([data[i:i+block_size] for i in idxs])\n",
        "  yb = torch.stack([data[i+1:i+block_size+1] for i in idxs])\n",
        "  xb, yb = xb.to(device), yb.to(device)\n",
        "  return xb, yb\n",
        "\n",
        "xb, yb = get_batches()\n",
        "print(xb.shape, yb.shape)"
      ],
      "metadata": {
        "colab": {
          "base_uri": "https://localhost:8080/"
        },
        "id": "WOE-tTe-sdOE",
        "outputId": "f5982316-5932-41c9-cabb-54fb9842df3d"
      },
      "execution_count": 6,
      "outputs": [
        {
          "output_type": "stream",
          "name": "stdout",
          "text": [
            "torch.Size([64, 256]) torch.Size([64, 256])\n"
          ]
        }
      ]
    },
    {
      "cell_type": "code",
      "source": [
        "def evaluate_model(model: nn.Module, eval_iterations = eval_iterations) -> dict:\n",
        "  #12,000 outputs averaged\n",
        "  t_eval = time.time()\n",
        "  model.eval()\n",
        "  with torch.inference_mode():\n",
        "    splits = ['train', 'test']\n",
        "    categories = ['loss', 'top1', 'top5']\n",
        "    all = {s:{c: torch.zeros(eval_iterations) for c in categories} for s in splits}\n",
        "    for split in splits:\n",
        "      for i in range(eval_iterations):\n",
        "        xb, yb = get_batches(split = split)\n",
        "        logits, loss = model(xb, yb)\n",
        "        all[split]['loss'][i] = loss.item()\n",
        "\n",
        "        #Changing it to last element ONLY\n",
        "        logits = logits[:, -1]# logits.shape, yb.shape = torch.Size([64, 84]), torch.Size([64])    \n",
        "        yb = yb[:, -1]\n",
        "        B = yb.shape[0]\n",
        "        # top@1 accuracy\n",
        "        top1_preds = torch.topk(logits, 1, dim = -1).indices\n",
        "        all[split]['top1'][i] = 100*torch.sum(top1_preds == rearrange(yb, 'b -> b ()')).item()/B\n",
        "        # top@5 accuracy\n",
        "        top5_preds = torch.topk(logits, 5, dim = -1).indices\n",
        "        all[split]['top5'][i] = 100*torch.sum(top5_preds == repeat(yb, 'b -> b k', k=5)).item()/B\n",
        "  model.train()\n",
        "\n",
        "  \n",
        "  output_dict = {split:list(map(lambda a: round(a.mean().item(), 4), all[split].values())) for split in splits}\n",
        "  output_dict['eval_time'] = round(time.time()-t_eval, 2)\n",
        "  return output_dict\n",
        "\n",
        "def format_output(output_dict, iter, train_time, loss):\n",
        "  array = [iter,\"|\"]+output_dict['train']+['|']+output_dict['test']+['|']+[round(train_time,2),output_dict['eval_time'],'|',round(loss.item(),4)]\n",
        "  title = 'iteration |  loss    top@1(%)    top@5(%)  |  loss    top@1(%)    top@5(%)  |  train_time(s)   eval_time(s)'\n",
        "  header = \"----------|-------------TRAIN--------------|--------------TEST--------------|-------------TIMING--------------\"\n",
        "  idxs = [0]\n",
        "  for j in range(len(title)-1): \n",
        "    if title[j] == \" \" and title[j+1] != \" \": idxs.append(j+1)\n",
        "  output_str = \"\"\n",
        "  for i in range(len(idxs)): output_str+=\" \"*(idxs[i]-len(output_str)) + f\"{array[i]}\"\n",
        "  if iter == 0: output_str= header + '\\n' + title + '\\n' + output_str\n",
        "  return output_str"
      ],
      "metadata": {
        "id": "fp4fhWd8qGXF"
      },
      "execution_count": 7,
      "outputs": []
    },
    {
      "cell_type": "code",
      "source": [
        "# top1 SHOULD be higher\n",
        "# {'train': [4.5447, 0.4896, 4.9479],\n",
        "#  'test': [4.5419, 0.5729, 5.1562],\n",
        "#  'eval_time': 20.96}\n",
        "# 1/84 => 1.19% \n",
        "# However the frequency of each character varies. e.g. there will not be many colons\n",
        "# At the momentum initialization it is (roughly) prediciting each equally, which\n",
        "# explains the strange probability amount"
      ],
      "metadata": {
        "id": "h0kMko0XTI3y"
      },
      "execution_count": 8,
      "outputs": []
    },
    {
      "cell_type": "code",
      "source": [],
      "metadata": {
        "id": "tr6CPiQ3TI68"
      },
      "execution_count": 8,
      "outputs": []
    },
    {
      "cell_type": "markdown",
      "source": [
        "## GPT model"
      ],
      "metadata": {
        "id": "Bggp0svTsl5k"
      }
    },
    {
      "cell_type": "code",
      "source": [
        "#Only bit of the code 'borrowed' from someone else ;)\n",
        "import numpy as np\n",
        "def get_positional_embeddings(sequence_length, n_embedding):\n",
        "    result = torch.ones(sequence_length, n_embedding).to(device)\n",
        "    for i in range(sequence_length):\n",
        "        for j in range(n_embedding):\n",
        "          if j % 2 == 0:\n",
        "            result[i][j] = np.sin(i / (10000 ** (j / n_embedding)))\n",
        "          else:\n",
        "            result[i][j] = np.cos(i / (10000 ** ((j - 1) / n_embedding)))\n",
        "    return result\n",
        "\n",
        "import matplotlib.pyplot as plt\n",
        "plt.imshow(get_positional_embeddings(block_size, n_embedding).cpu(), cmap=\"hot\", interpolation=\"nearest\")\n",
        "plt.show()"
      ],
      "metadata": {
        "id": "8hCfyygKTIN7",
        "colab": {
          "base_uri": "https://localhost:8080/",
          "height": 269
        },
        "outputId": "054bf39a-052b-4b21-eb12-9637687650c0"
      },
      "execution_count": 9,
      "outputs": [
        {
          "output_type": "display_data",
          "data": {
            "text/plain": [
              "<Figure size 432x288 with 1 Axes>"
            ],
            "image/png": "[encoded data removed]"
          },
          "metadata": {
            "needs_background": "light"
          }
        }
      ]
    },
    {
      "cell_type": "code",
      "source": [
        "class MultiHeadAttention(nn.Module):\n",
        "  # parallelized attention heads\n",
        "  \n",
        "  def __init__(self):\n",
        "    super().__init__()\n",
        "    head_size = n_embedding // n_heads\n",
        "    self.scale_factor = head_size**-0.5 # This scaling factor makes an INSANE difference\n",
        "\n",
        "    #generating q,k,v for all n_heads at once\n",
        "    self.qkv_linear = nn.Linear(n_embedding, head_size*n_heads*3) \n",
        "    self.register_buffer('tril', torch.tril(torch.ones(block_size, block_size)))\n",
        "    self.dropout = nn.Dropout(dropout)\n",
        "    self.linear = nn.Sequential(\n",
        "        nn.Linear(head_size*n_heads, n_embedding),\n",
        "        nn.Dropout(dropout))\n",
        "    \n",
        "  def forward(self, x: torch.Tensor) -> torch.Tensor:\n",
        "    B,T,C = x.shape #[64, 256, 384])\n",
        "    qkv = self.qkv_linear(x) # [64, 256, 1152]\n",
        "    q, k, v =  rearrange(qkv, 'b t (qvk h c) -> qvk b h t c', qvk=3, h=n_heads) #torch.Size([3, 64, 6, 256, 64])\n",
        "\n",
        "    mat_mul = q@rearrange(k, 'b h t c -> b h c t') * self.scale_factor\n",
        "    mat_mul = mat_mul.masked_fill(self.tril[:T, :T]==0, float('-inf'))\n",
        "    mat_mul = nn.functional.softmax(mat_mul, dim = -1)\n",
        "    mat_mul = self.dropout(mat_mul)\n",
        "    mat_mul = mat_mul@v\n",
        "    flattened = rearrange(mat_mul, 'b h t c -> b t (h c)')\n",
        "    linear = self.linear(flattened)\n",
        "    return flattened\n",
        "\n",
        "class FeedFoward(nn.Module):\n",
        "  def __init__(self):\n",
        "    super().__init__()\n",
        "    self.feed_forward = nn.Sequential(\n",
        "        nn.Linear(n_embedding, 4*n_embedding),\n",
        "        nn.GELU(),\n",
        "        nn.Linear(4*n_embedding, n_embedding),\n",
        "        nn.Dropout(dropout))\n",
        "    \n",
        "  def forward(self, x: torch.Tensor) -> torch.Tensor:\n",
        "    return self.feed_forward(x)\n",
        "\n",
        "class Transformer(nn.Module):\n",
        "\n",
        "  def __init__(self):\n",
        "    super().__init__()\n",
        "    self.multi_attention = MultiHeadAttention() \n",
        "    self.feed_forward = FeedFoward()\n",
        "    self.ln1 = nn.LayerNorm(n_embedding)\n",
        "    self.ln2 = nn.LayerNorm(n_embedding)\n",
        "\n",
        "  def forward(self, x: torch.Tensor) -> torch.Tensor:\n",
        "    x = x + self.multi_attention(self.ln1(x))\n",
        "    x = x + self.feed_forward(self.ln2(x))\n",
        "    return x\n",
        "\n",
        "class GPT(nn.Module):\n",
        "  def __init__(self):\n",
        "      super().__init__()\n",
        "\n",
        "      self.token_embeddings = nn.Embedding(n_chars, n_embedding)\n",
        "      self.positional_encodings = nn.Parameter(get_positional_embeddings(block_size, n_embedding))# nn.Embedding(block_size, n_embedding)\n",
        "\n",
        "      self.transformers = nn.Sequential(*[Transformer() for _ in range(n_layer)])\n",
        "\n",
        "      self.final_ln = nn.LayerNorm(n_embedding)\n",
        "      self.final_linear = nn.Linear(n_embedding, n_chars)\n",
        "      \n",
        "  def forward(self, x: torch.Tensor, targets = None) -> torch.Tensor:\n",
        "    T = x.shape[-1] # (B, T)\n",
        "    te = self.token_embeddings(x) # (B T C)\n",
        "    pe = self.positional_encodings[:T] #self.positional_encoding(torch.arange(T, device = device))\n",
        "    x = te + pe \n",
        "    x = self.transformers(x)\n",
        "    x = self.final_ln(x)\n",
        "    logits = self.final_linear(x)\n",
        "    if targets == None:\n",
        "      loss = None\n",
        "    else:\n",
        "      B, T, C = logits.shape\n",
        "      loss = nn.functional.cross_entropy(logits.view(B*T, C), targets.view(B*T))\n",
        "\n",
        "    return logits, loss\n",
        "\n",
        "  @torch.no_grad()\n",
        "  def generate(self, idxs, length_to_generate=500) -> torch.Tensor:\n",
        "    self.eval()\n",
        "    for _ in range(length_to_generate):\n",
        "      logits, loss = self(idxs[:, -block_size:])\n",
        "      probs = nn.functional.softmax(logits[:, -1, :], dim = -1)\n",
        "      pred = torch.multinomial(probs, 1)\n",
        "      idxs = torch.cat((idxs, pred), dim = -1) # (B, T+1)\n",
        "    self.train()\n",
        "    return idxs\n",
        "\n",
        "gpt_model = GPT().to(device)\n",
        "print(f'gpt model parameters are on device: {next(gpt_model.parameters()).device}')\n",
        "xb, yb = get_batches()\n",
        "logits, loss = gpt_model(xb, yb)\n",
        "print(f\"{logits.shape}, {loss.item():.4f}\")\n",
        "print(f\"{sum(p.numel() for p in gpt_model.parameters())/1e6:.4f} Million Parameters\")\n",
        "print()\n",
        "context = torch.zeros((1, 1), dtype = torch.long,  device = device)\n",
        "print(decode(gpt_model.generate(context, length_to_generate=100)[0].tolist()))"
      ],
      "metadata": {
        "colab": {
          "base_uri": "https://localhost:8080/"
        },
        "id": "RGNsdCj0t1YV",
        "outputId": "c657cbd3-ab0a-4046-d3c6-01ba2691cd0f"
      },
      "execution_count": 10,
      "outputs": [
        {
          "output_type": "stream",
          "name": "stdout",
          "text": [
            "gpt model parameters are on device: cuda:0\n",
            "torch.Size([64, 256, 84]), 4.5564\n",
            "5.4871 Million Parameters\n",
            "\n",
            "\n",
            "n/tis5rWQ8-Soxt#b5X)n”)NiAg\"P\\9siJf3’:h”UUynfiHYDQiuA.)VScG*M:‘F‘#/PH7,5U4C/M-WbCvN;‘HYgh3MBB%8tJWos\n"
          ]
        }
      ]
    },
    {
      "cell_type": "markdown",
      "source": [
        "## Training loop"
      ],
      "metadata": {
        "id": "6Ltcc2vgvx2M"
      }
    },
    {
      "cell_type": "code",
      "source": [
        "### Training loop\n",
        "optimizer = torch.optim.AdamW(params = gpt_model.parameters(), lr = learning_rate, weight_decay=0.1)\n",
        "scheduler = torch.optim.lr_scheduler.CosineAnnealingWarmRestarts(optimizer, T_0 = 200) # T_mult=2"
      ],
      "metadata": {
        "id": "ZSOsXfdCksIy"
      },
      "execution_count": 11,
      "outputs": []
    },
    {
      "cell_type": "code",
      "source": [
        "from tqdm import tqdm\n",
        "losses = []\n",
        "lrs = []\n",
        "output_table = []\n",
        "output_dicts = []\n",
        "\n",
        "t_train = time.time()\n",
        "t_train_full = time.time()\n",
        "print(f\"n_heads:{n_heads} | n_embedding: {n_embedding} | n_layer: {n_layer} num_params: {sum(p.numel() for p in gpt_model.parameters())/1e6:.4f} Million Parameters\")\n",
        "for i in tqdm(range(max_iterations)):\n",
        "# for i in range(max_iterations):\n",
        "  xb, yb = get_batches()\n",
        "  logits, loss = gpt_model(xb, yb)\n",
        "  if i % eval_interval == 0:\n",
        "    train_time = time.time()-t_train\n",
        "    output_dict = evaluate_model(gpt_model)\n",
        "    output_dicts.append(output_dict)\n",
        "    formatted = format_output(output_dict, i, train_time, loss)\n",
        "    output_table.append(formatted)\n",
        "    print(formatted)\n",
        "    t_train = time.time()\n",
        "  losses.append(loss.item())\n",
        "  lrs.append(scheduler.get_last_lr())\n",
        "  optimizer.zero_grad(set_to_none=True)\n",
        "  loss.backward()\n",
        "  optimizer.step()\n",
        "  scheduler.step()\n",
        "print(f\"\\nTime taken for {max_iterations} iterations: {time.time()-t_train_full:.2f} seconds\")\n",
        "print(f\"n_heads:{n_heads} | n_embedding: {n_embedding} | n_layer: {n_layer} num_params: {sum(p.numel() for p in gpt_model.parameters())/1e6:.4f} Million Parameters\")\n",
        "for out in output_table: print(out)"
      ],
      "metadata": {
        "colab": {
          "base_uri": "https://localhost:8080/"
        },
        "id": "nxPbk2IMvu5f",
        "outputId": "3d382600-70cc-4750-c9df-1f4a9df668da"
      },
      "execution_count": 12,
      "outputs": [
        {
          "output_type": "stream",
          "name": "stdout",
          "text": [
            "n_heads:6 | n_embedding: 384 | n_layer: 3 num_params: 5.4871 Million Parameters\n"
          ]
        },
        {
          "output_type": "stream",
          "name": "stderr",
          "text": [
            "  0%|          | 3/5001 [00:07<2:42:29,  1.95s/it] "
          ]
        },
        {
          "output_type": "stream",
          "name": "stdout",
          "text": [
            "----------|-------------TRAIN--------------|--------------TEST--------------|-------------TIMING--------------\n",
            "iteration |  loss    top@1(%)    top@5(%)  |  loss    top@1(%)    top@5(%)  |  train_time(s)   eval_time(s)\n",
            "0         |  4.5476  0.4219      8.2656    |  4.5521  0.4062      7.9766    |  0.02            7.31\n"
          ]
        },
        {
          "output_type": "stream",
          "name": "stderr",
          "text": [
            " 10%|█         | 503/5001 [00:42<1:01:34,  1.22it/s]"
          ]
        },
        {
          "output_type": "stream",
          "name": "stdout",
          "text": [
            "500       |  1.8715  43.7031     78.6016   |  1.8903  43.0078     77.3359   |  28.03           7.31\n"
          ]
        },
        {
          "output_type": "stream",
          "name": "stderr",
          "text": [
            " 20%|██        | 1003/5001 [01:17<54:35,  1.22it/s]  "
          ]
        },
        {
          "output_type": "stream",
          "name": "stdout",
          "text": [
            "1000      |  1.453   53.9375     85.4844   |  1.4947  53.2656     84.8594   |  27.81           7.29\n"
          ]
        },
        {
          "output_type": "stream",
          "name": "stderr",
          "text": [
            " 30%|███       | 1503/5001 [01:52<47:58,  1.22it/s]  "
          ]
        },
        {
          "output_type": "stream",
          "name": "stdout",
          "text": [
            "1500      |  1.2853  60.1953     88.2656   |  1.365   58.5312     87.0703   |  27.73           7.32\n"
          ]
        },
        {
          "output_type": "stream",
          "name": "stderr",
          "text": [
            " 40%|████      | 2003/5001 [02:27<40:58,  1.22it/s]"
          ]
        },
        {
          "output_type": "stream",
          "name": "stdout",
          "text": [
            "2000      |  1.1833  63.2266     89.7578   |  1.2905  59.5625     87.4062   |  27.69           7.3\n"
          ]
        },
        {
          "output_type": "stream",
          "name": "stderr",
          "text": [
            " 50%|█████     | 2503/5001 [03:02<34:07,  1.22it/s]"
          ]
        },
        {
          "output_type": "stream",
          "name": "stdout",
          "text": [
            "2500      |  1.1445  64.3203     90.2734   |  1.2915  61.6406     88.2031   |  27.68           7.29\n"
          ]
        },
        {
          "output_type": "stream",
          "name": "stderr",
          "text": [
            " 60%|██████    | 3003/5001 [03:37<27:17,  1.22it/s]"
          ]
        },
        {
          "output_type": "stream",
          "name": "stdout",
          "text": [
            "3000      |  1.0737  66.4844     91.0      |  1.2671  62.7031     88.7031   |  27.72           7.29\n"
          ]
        },
        {
          "output_type": "stream",
          "name": "stderr",
          "text": [
            " 70%|███████   | 3503/5001 [04:13<20:31,  1.22it/s]"
          ]
        },
        {
          "output_type": "stream",
          "name": "stdout",
          "text": [
            "3500      |  1.0555  66.875      90.7656   |  1.2787  62.3672     88.3516   |  27.75           7.31\n"
          ]
        },
        {
          "output_type": "stream",
          "name": "stderr",
          "text": [
            " 80%|████████  | 4003/5001 [04:47<13:38,  1.22it/s]"
          ]
        },
        {
          "output_type": "stream",
          "name": "stdout",
          "text": [
            "4000      |  0.9917  68.7578     92.1406   |  1.2655  62.9844     88.6797   |  27.7            7.29\n"
          ]
        },
        {
          "output_type": "stream",
          "name": "stderr",
          "text": [
            " 90%|█████████ | 4503/5001 [05:23<06:48,  1.22it/s]"
          ]
        },
        {
          "output_type": "stream",
          "name": "stdout",
          "text": [
            "4500      |  0.9859  70.2812     92.9375   |  1.2948  62.0391     88.2188   |  27.72           7.29\n"
          ]
        },
        {
          "output_type": "stream",
          "name": "stderr",
          "text": [
            "100%|██████████| 5001/5001 [05:57<00:00, 13.97it/s]"
          ]
        },
        {
          "output_type": "stream",
          "name": "stdout",
          "text": [
            "5000      |  0.9196  71.4688     93.125    |  1.2816  63.3906     88.5781   |  27.7            7.27\n",
            "\n",
            "Time taken for 5001 iterations: 357.88 seconds\n",
            "n_heads:6 | n_embedding: 384 | n_layer: 3 num_params: 5.4871 Million Parameters\n",
            "----------|-------------TRAIN--------------|--------------TEST--------------|-------------TIMING--------------\n",
            "iteration |  loss    top@1(%)    top@5(%)  |  loss    top@1(%)    top@5(%)  |  train_time(s)   eval_time(s)\n",
            "0         |  4.5476  0.4219      8.2656    |  4.5521  0.4062      7.9766    |  0.02            7.31\n",
            "500       |  1.8715  43.7031     78.6016   |  1.8903  43.0078     77.3359   |  28.03           7.31\n",
            "1000      |  1.453   53.9375     85.4844   |  1.4947  53.2656     84.8594   |  27.81           7.29\n",
            "1500      |  1.2853  60.1953     88.2656   |  1.365   58.5312     87.0703   |  27.73           7.32\n",
            "2000      |  1.1833  63.2266     89.7578   |  1.2905  59.5625     87.4062   |  27.69           7.3\n",
            "2500      |  1.1445  64.3203     90.2734   |  1.2915  61.6406     88.2031   |  27.68           7.29\n",
            "3000      |  1.0737  66.4844     91.0      |  1.2671  62.7031     88.7031   |  27.72           7.29\n",
            "3500      |  1.0555  66.875      90.7656   |  1.2787  62.3672     88.3516   |  27.75           7.31\n",
            "4000      |  0.9917  68.7578     92.1406   |  1.2655  62.9844     88.6797   |  27.7            7.29\n",
            "4500      |  0.9859  70.2812     92.9375   |  1.2948  62.0391     88.2188   |  27.72           7.29\n",
            "5000      |  0.9196  71.4688     93.125    |  1.2816  63.3906     88.5781   |  27.7            7.27\n"
          ]
        },
        {
          "output_type": "stream",
          "name": "stderr",
          "text": [
            "\n"
          ]
        }
      ]
    },
    {
      "cell_type": "code",
      "source": [
        "\"\"\"\n",
        "Trying out different positional encoding:\n",
        "conclusion: all seem the same lol\n",
        "\n",
        "# fix sin and cos described in attention is all you need paper:\n",
        "Time taken for 5001 iterations: 359.35 seconds\n",
        "n_heads:6 | n_embedding: 384 | n_layer: 3 num_params: 5.3888 Million Parameters\n",
        "----------|-------------TRAIN--------------|--------------TEST--------------|-------------TIMING--------------\n",
        "iteration |  loss    top@1(%)    top@5(%)  |  loss    top@1(%)    top@5(%)  |  train_time(s)   eval_time(s)\n",
        "0         |  4.6211  0.5781      6.3984    |  4.6182  0.75        6.4375    |  0.02            7.37\n",
        "500       |  1.8363  41.0078     76.8359   |  1.85    40.3594     76.1328   |  27.88           7.34\n",
        "1000      |  1.4272  55.6016     85.4531   |  1.4707  54.3672     85.2578   |  27.85           7.34\n",
        "1500      |  1.2742  60.1484     88.5234   |  1.3506  58.5859     86.8203   |  27.75           7.36\n",
        "2000      |  1.17    64.1172     89.7109   |  1.2883  61.2656     88.2578   |  27.77           7.39\n",
        "2500      |  1.1339  64.7812     90.4609   |  1.2909  61.8594     88.5547   |  27.9            7.38\n",
        "3000      |  1.0642  67.3984     91.3047   |  1.2654  62.9375     88.7422   |  27.84           7.34\n",
        "3500      |  1.0482  67.5        91.5078   |  1.2767  62.25       88.3281   |  27.76           7.36\n",
        "4000      |  0.9834  69.3516     91.9766   |  1.2676  63.3281     88.7734   |  27.78           7.35\n",
        "4500      |  0.9765  70.0781     92.5312   |  1.2912  63.2344     88.6797   |  27.87           7.37\n",
        "5000      |  0.9125  71.6953     92.9844   |  1.2863  63.6172     88.6953   |  27.88           7.39\n",
        "\n",
        "# With as a learnable parameter, starting with the sin & cos formula\n",
        "Time taken for 5001 iterations: 357.88 seconds\n",
        "n_heads:6 | n_embedding: 384 | n_layer: 3 num_params: 5.4871 Million Parameters\n",
        "----------|-------------TRAIN--------------|--------------TEST--------------|-------------TIMING--------------\n",
        "iteration |  loss    top@1(%)    top@5(%)  |  loss    top@1(%)    top@5(%)  |  train_time(s)   eval_time(s)\n",
        "0         |  4.5476  0.4219      8.2656    |  4.5521  0.4062      7.9766    |  0.02            7.31\n",
        "500       |  1.8715  43.7031     78.6016   |  1.8903  43.0078     77.3359   |  28.03           7.31\n",
        "1000      |  1.453   53.9375     85.4844   |  1.4947  53.2656     84.8594   |  27.81           7.29\n",
        "1500      |  1.2853  60.1953     88.2656   |  1.365   58.5312     87.0703   |  27.73           7.32\n",
        "2000      |  1.1833  63.2266     89.7578   |  1.2905  59.5625     87.4062   |  27.69           7.3\n",
        "2500      |  1.1445  64.3203     90.2734   |  1.2915  61.6406     88.2031   |  27.68           7.29\n",
        "3000      |  1.0737  66.4844     91.0      |  1.2671  62.7031     88.7031   |  27.72           7.29\n",
        "3500      |  1.0555  66.875      90.7656   |  1.2787  62.3672     88.3516   |  27.75           7.31\n",
        "4000      |  0.9917  68.7578     92.1406   |  1.2655  62.9844     88.6797   |  27.7            7.29\n",
        "4500      |  0.9859  70.2812     92.9375   |  1.2948  62.0391     88.2188   |  27.72           7.29\n",
        "5000      |  0.9196  71.4688     93.125    |  1.2816  63.3906     88.5781   |  27.7            7.27\n",
        "\"\"\"\n",
        "2"
      ],
      "metadata": {
        "colab": {
          "base_uri": "https://localhost:8080/"
        },
        "id": "k3b8VpYqrDY_",
        "outputId": "70241a1a-932e-47a6-d354-b65a1ea41b82"
      },
      "execution_count": 27,
      "outputs": [
        {
          "output_type": "execute_result",
          "data": {
            "text/plain": [
              "2"
            ]
          },
          "metadata": {},
          "execution_count": 27
        }
      ]
    },
    {
      "cell_type": "code",
      "source": [
        "\"\"\"\n",
        "With new accuracy function:\n",
        "Time taken for 10001 iterations: 327.42 seconds\n",
        "n_heads:6 | n_embedding: 384 | n_layer: 3 num_params: 5.4871 Million Parameters\n",
        "----------|-------------TRAIN--------------|--------------TEST--------------|-------------TIMING--------------\n",
        "iteration |  loss    top@1(%)    top@5(%)  |  loss    top@1(%)    top@5(%)  |  train_time(s)   eval_time(s)\n",
        "0         |  4.6419  0.5625      3.0234    |  4.6435  0.6484      3.2656    |  0.02            7.29\n",
        "1000      |  1.4401  56.2422     86.5312   |  1.4782  56.1953     86.1797   |  55.04           7.24\n",
        "2000      |  1.2122  62.6484     89.1406   |  1.2938  60.9688     88.2344   |  54.86           7.26\n",
        "3000      |  1.1216  65.7422     90.4219   |  1.2544  62.6172     88.3984   |  54.83           7.24\n",
        "4000      |  1.0557  66.7578     90.9688   |  1.2415  63.8359     88.9141   |  54.86           7.25\n",
        "5000      |  1.0036  68.7734     91.7734   |  1.2391  63.5859     88.9531   |  54.88           7.25\n",
        "\n",
        "\n",
        "n_heads:6 | n_embedding: 384 | n_layer: 3 num_params: 5.4871 Million Parameters\n",
        "  0%|          | 3/10001 [00:02<1:30:42,  1.84it/s]----------|-------------TRAIN--------------|--------------TEST--------------|-------------TIMING--------------\n",
        "iteration |  loss    top@1(%)    top@5(%)  |  loss    top@1(%)    top@5(%)  |  train_time(s)   eval_time(s)\n",
        "0         |  4.584   1.1412      6.1035    |  4.5821  1.1642      6.1603    |  0.09            1.87\n",
        "  5%|▌         | 503/10001 [00:31<39:02,  4.05it/s]500       |  1.7988  46.2958     80.4509   |  1.8199  45.9753     79.954    |  27.73           1.83\n",
        " 10%|█         | 1003/10001 [01:01<36:53,  4.06it/s]1000      |  1.432   56.3521     86.3069   |  1.471   55.7946     85.7071   |  27.65           1.83\n",
        " 15%|█▌        | 1503/10001 [01:30<34:46,  4.07it/s]1500      |  1.3028  59.8986     87.9591   |  1.3573  58.9292     87.1116   |  27.61           1.83\n",
        " 20%|██        | 2003/10001 [01:59<32:51,  4.06it/s]2000      |  1.2121  62.3979     89.1371   |  1.2934  60.8557     87.9907   |  27.55           1.84\n",
        " 25%|██▌       | 2503/10001 [02:29<30:41,  4.07it/s]2500      |  1.1753  63.4453     89.5761   |  1.2859  61.2456     88.0388   |  27.53           1.83\n",
        " 30%|███       | 3003/10001 [02:58<28:40,  4.07it/s]3000      |  1.1164  65.031      90.2734   |  1.2533  62.2856     88.4114   |  27.55           1.83\n",
        " 35%|███▌      | 3503/10001 [03:28<26:40,  4.06it/s]3500      |  1.0992  65.5531     90.5017   |  1.254   62.3793     88.4524   |  27.61           1.83\n",
        " 40%|████      | 4003/10001 [03:57<24:37,  4.06it/s]4000      |  1.0545  66.8301     91.0563   |  1.2453  62.7485     88.5619   |  27.57           1.83\n",
        " 45%|████▌     | 4503/10001 [04:26<22:35,  4.06it/s]4500      |  1.0458  67.0433     91.1292   |  1.2512  62.8126     88.5347   |  27.57           1.83\n",
        " 50%|█████     | 5003/10001 [04:56<20:24,  4.08it/s]5000      |  0.9996  68.4211     91.6921   |  1.2396  63.0953     88.6704   |  27.59           1.82\n",
        " 55%|█████▌    | 5503/10001 [05:25<18:23,  4.08it/s]5500      |  0.9959  68.4324     91.793    |  1.261   62.8334     88.495    |  27.59           1.83\n",
        " 60%|██████    | 6003/10001 [05:55<16:22,  4.07it/s]6000      |  0.9494  69.8762     92.2613   |  1.2533  63.1045     88.6046   |  27.61           1.83\n",
        " 65%|██████▌   | 6503/10001 [06:24<14:19,  4.07it/s]6500      |  0.9478  69.8766     92.3862   |  1.2711  62.7366     88.4548   |  27.58           1.83\n",
        " 70%|███████   | 7003/10001 [06:53<12:17,  4.06it/s]7000      |  0.9082  71.0629     92.8336   |  1.2699  63.0359     88.5145   |  27.58           1.83\n",
        " 75%|███████▌  | 7503/10001 [07:23<10:13,  4.07it/s]7500      |  0.9082  71.0662     92.8744   |  1.2844  62.7821     88.34     |  27.57           1.83\n",
        " 80%|████████  | 8003/10001 [07:52<08:12,  4.06it/s]8000      |  0.8617  72.5555     93.3841   |  1.2862  62.9468     88.3911   |  27.59           1.83\n",
        " 85%|████████▌ | 8503/10001 [08:22<06:10,  4.04it/s]8500      |  0.8677  72.3872     93.3359   |  1.3048  62.6736     88.1963   |  27.66           1.84\n",
        " 90%|█████████ | 9003/10001 [08:51<04:05,  4.06it/s]9000      |  0.8229  73.7955     93.832    |  1.3058  62.8379     88.2317   |  27.57           1.83\n",
        " 95%|█████████▌| 9503/10001 [09:21<02:02,  4.06it/s]9500      |  0.8326  73.425      93.7887   |  1.3252  62.5352     88.0333   |  27.55           1.83\n",
        "100%|██████████| 10001/10001 [09:50<00:00, 16.94it/s]10000     |  0.7895  74.8445     94.2045   |  1.3187  62.8932     88.1986   |  27.55           1.83\n",
        "\n",
        "Time taken for 10001 iterations: 590.41 seconds\n",
        "n_heads:6 | n_embedding: 384 | n_layer: 3 num_params: 5.4871 Million Parameters\n",
        "----------|-------------TRAIN--------------|--------------TEST--------------|-------------TIMING--------------\n",
        "iteration |  loss    top@1(%)    top@5(%)  |  loss    top@1(%)    top@5(%)  |  train_time(s)   eval_time(s)\n",
        "0         |  4.584   1.1412      6.1035    |  4.5821  1.1642      6.1603    |  0.09            1.87\n",
        "500       |  1.7988  46.2958     80.4509   |  1.8199  45.9753     79.954    |  27.73           1.83\n",
        "1000      |  1.432   56.3521     86.3069   |  1.471   55.7946     85.7071   |  27.65           1.83\n",
        "1500      |  1.3028  59.8986     87.9591   |  1.3573  58.9292     87.1116   |  27.61           1.83\n",
        "2000      |  1.2121  62.3979     89.1371   |  1.2934  60.8557     87.9907   |  27.55           1.84\n",
        "2500      |  1.1753  63.4453     89.5761   |  1.2859  61.2456     88.0388   |  27.53           1.83\n",
        "3000      |  1.1164  65.031      90.2734   |  1.2533  62.2856     88.4114   |  27.55           1.83\n",
        "3500      |  1.0992  65.5531     90.5017   |  1.254   62.3793     88.4524   |  27.61           1.83\n",
        "4000      |  1.0545  66.8301     91.0563   |  1.2453  62.7485     88.5619   |  27.57           1.83\n",
        "4500      |  1.0458  67.0433     91.1292   |  1.2512  62.8126     88.5347   |  27.57           1.83\n",
        "5000      |  0.9996  68.4211     91.6921   |  1.2396  63.0953     88.6704   |  27.59           1.82\n",
        "5500      |  0.9959  68.4324     91.793    |  1.261   62.8334     88.495    |  27.59           1.83\n",
        "6000      |  0.9494  69.8762     92.2613   |  1.2533  63.1045     88.6046   |  27.61           1.83\n",
        "6500      |  0.9478  69.8766     92.3862   |  1.2711  62.7366     88.4548   |  27.58           1.83\n",
        "7000      |  0.9082  71.0629     92.8336   |  1.2699  63.0359     88.5145   |  27.58           1.83\n",
        "7500      |  0.9082  71.0662     92.8744   |  1.2844  62.7821     88.34     |  27.57           1.83\n",
        "8000      |  0.8617  72.5555     93.3841   |  1.2862  62.9468     88.3911   |  27.59           1.83\n",
        "8500      |  0.8677  72.3872     93.3359   |  1.3048  62.6736     88.1963   |  27.66           1.84\n",
        "9000      |  0.8229  73.7955     93.832    |  1.3058  62.8379     88.2317   |  27.57           1.83\n",
        "9500      |  0.8326  73.425      93.7887   |  1.3252  62.5352     88.0333   |  27.55           1.83\n",
        "10000     |  0.7895  74.8445     94.2045   |  1.3187  62.8932     88.1986   |  27.55           1.83\n",
        "\n",
        "\n",
        "\n",
        "with weight decay=0.1\n",
        "Time taken for 5001 iterations: 203.21 seconds\n",
        "n_heads:6 | n_embedding: 384 | n_layer: 2 num_params: 3.7126 Million Parameters\n",
        "----------|-------------TRAIN--------------|--------------TEST--------------|-------------TIMING--------------\n",
        "iteration |  loss    top@1(%)    top@5(%)  |  loss    top@1(%)    top@5(%)  |  train_time(s)   eval_time(s)\n",
        "0         |  4.6292  0.8373      4.7854    |  4.628   0.8474      4.8127    |  0.01            1.33\n",
        "500       |  1.9136  42.6738     78.593    |  1.9301  42.7738     78.332    |  18.99           1.3\n",
        "1000      |  1.5218  53.911      85.2147   |  1.5516  53.5409     84.6769   |  18.92           1.31\n",
        "1500      |  1.3707  58.1523     87.2433   |  1.4206  57.2717     86.4146   |  18.94           1.3\n",
        "2000      |  1.277   60.688      88.3286   |  1.3453  59.4631     87.4114   |  18.85           1.3\n",
        "2500      |  1.2451  61.5126     88.804    |  1.3289  59.9728     87.6425   |  18.84           1.3\n",
        "3000      |  1.1899  63.0548     89.4215   |  1.29    61.1451     88.0771   |  18.85           1.3\n",
        "3500      |  1.175   63.4172     89.6188   |  1.2966  61.11       87.9314   |  18.81           1.3\n",
        "4000      |  1.1356  64.5338     90.1057   |  1.2652  62.0295     88.3879   |  18.92           1.3\n",
        "4500      |  1.1296  64.7013     90.176    |  1.2759  61.9012     88.1979   |  18.87           1.3\n",
        "5000      |  1.0925  65.7245     90.5642   |  1.2591  62.451      88.4518   |  18.86           1.3\n",
        "\n",
        "\n",
        "Time taken for 5001 iterations: 202.70 seconds\n",
        "n_heads:6 | n_embedding: 384 | n_layer: 2 num_params: 3.7126 Million Parameters\n",
        "----------|-------------TRAIN--------------|--------------TEST--------------|-------------TIMING--------------\n",
        "iteration |  loss    top@1(%)    top@5(%)  |  loss    top@1(%)    top@5(%)  |  train_time(s)   eval_time(s)\n",
        "0         |  4.6459  0.9249      4.9387    |  4.648   0.8961      4.8064    |  0.01            1.33\n",
        "500       |  1.8458  44.9207     79.5494   |  1.8638  44.7742     79.2621   |  18.83           1.3\n",
        "1000      |  1.4953  54.6135     85.4923   |  1.5199  54.1871     85.082    |  18.85           1.31\n",
        "1500      |  1.3659  58.2286     87.1979   |  1.4105  57.3492     86.5706   |  18.81           1.3\n",
        "2000      |  1.2834  60.4337     88.2312   |  1.3454  59.2491     87.3394   |  18.8            1.3\n",
        "2500      |  1.2505  61.3564     88.6949   |  1.3255  59.9827     87.6213   |  18.81           1.3\n",
        "3000      |  1.2045  62.6603     89.2275   |  1.2952  60.8926     87.9523   |  18.84           1.3\n",
        "3500      |  1.1894  63.0231     89.429    |  1.2964  60.9778     87.8823   |  18.81           1.3\n",
        "4000      |  1.153   64.0317     89.8479   |  1.2798  61.5676     88.1714   |  18.81           1.3\n",
        "4500      |  1.1441  64.2983     89.9606   |  1.2861  61.4146     88.207    |  18.85           1.3\n",
        "5000      |  1.1109  65.2509     90.2937   |  1.2628  62.1508     88.3591   |  18.9            1.3\n",
        "\n",
        "\n",
        "\n",
        "\n",
        "n_heads:6 | n_embedding: 384 | n_layer: 1 num_params: 1.9381 Million Parameters\n",
        "Time taken for 5001 iterations: 113.81 seconds\n",
        "----------|-------------TRAIN--------------|--------------TEST--------------|-------------TIMING--------------\n",
        "iteration |  loss    top@1(%)    top@5(%)  |  loss    top@1(%)    top@5(%)  |  train_time(s)   eval_time(s)\n",
        "0         |  4.5965  1.1501      6.0497    |  4.5935  1.1541      6.0767    |  0.01            0.82\n",
        "500       |  1.928   42.6768     78.3661   |  1.9465  42.4984     78.0266   |  10.51           0.79\n",
        "1000      |  1.6109  51.3196     83.9252   |  1.6427  50.8079     83.4158   |  10.48           0.78\n",
        "1500      |  1.5013  54.4125     85.4929   |  1.5328  54.0264     84.9203   |  10.54           0.78\n",
        "2000      |  1.4212  56.5199     86.52     |  1.4671  55.6929     85.8688   |  10.52           0.78\n",
        "2500      |  1.3932  57.3088     86.9452   |  1.4482  56.3748     86.1698   |  10.54           0.78\n",
        "3000      |  1.3518  58.3597     87.4725   |  1.4129  57.4207     86.4638   |  10.52           0.78\n",
        "3500      |  1.3466  58.5488     87.5354   |  1.4068  57.7091     86.6236   |  10.53           0.78\n",
        "4000      |  1.3116  59.5636     87.8817   |  1.3808  58.2448     86.9263   |  10.51           0.78\n",
        "4500      |  1.3109  59.5223     87.9717   |  1.3952  58.0879     86.8467   |  10.5            0.78\n",
        "5000      |  1.2877  60.173      88.2081   |  1.3757  58.6683     86.9194   |  10.5            0.79\n",
        "\n",
        "\n",
        "\n",
        "n_heads:6 | n_embedding: 384 | n_layer: 6 num_params: 10.8105 Million Parameters\n",
        "  0%|          | 2/5001 [00:03<2:06:37,  1.52s/it]----------|-------------TRAIN--------------|--------------TEST--------------|-------------TIMING--------------\n",
        "iteration |  loss    top@1(%)    top@5(%)  |  loss    top@1(%)    top@5(%)  |  train_time(s)   eval_time(s)\n",
        "0         |  4.5782  1.1344      5.996     |  4.581   1.1447      6.0018    |  0.03            3.44\n",
        "500       |  1.8659  44.2059     79.5095   |  1.8838  44.0261     79.1359   |  53.11           3.42\n",
        "1000      |  1.4122  56.9198     86.5447   |  1.4464  56.2103     86.0549   |  53.22           3.47\n",
        "1500      |  1.2461  61.5043     88.7084   |  1.3171  60.0588     87.6467   |  53.13           3.43\n",
        "2000      |  1.1379  64.4103     89.9736   |  1.2568  61.8655     88.3577   |  53.15           3.43\n",
        "2500      |  1.0853  65.9414     90.631    |  1.2511  62.4436     88.4869   |  53.12           3.42\n",
        "3000      |  1.0052  68.2371     91.5758   |  1.2286  63.2249     88.8038   |  53.13           3.42\n",
        "3500      |  0.9713  69.1757     92.0682   |  1.2459  63.0121     88.6619   |  53.16           3.43\n",
        "4000      |  0.8879  71.7495     92.9744   |  1.2529  63.3315     88.7118   |  53.1            3.44\n",
        "4500      |  0.8576  72.6428     93.4435   |  1.2898  62.8986     88.4133   |  53.16           3.44\n",
        "5000      |  0.7715  75.4623     94.36     |  1.3068  63.2018     88.3292   |  53.1            3.41\n",
        "\"\"\"\n",
        "1"
      ],
      "metadata": {
        "id": "mBAfcHfLuom5",
        "colab": {
          "base_uri": "https://localhost:8080/"
        },
        "outputId": "80a78036-c6b0-40b6-910e-ca333ab7b01b"
      },
      "execution_count": 28,
      "outputs": [
        {
          "output_type": "execute_result",
          "data": {
            "text/plain": [
              "1"
            ]
          },
          "metadata": {},
          "execution_count": 28
        }
      ]
    },
    {
      "cell_type": "code",
      "source": [
        "train_losses = []\n",
        "test_losses = []\n",
        "for array in output_dicts:\n",
        "  train_losses.append(array['train'][0])\n",
        "  test_losses.append(array['test'][0])\n",
        "\n",
        "import matplotlib.pyplot as plt\n",
        "plt.plot(train_losses)\n",
        "plt.plot(test_losses)\n",
        "plt.title(\"Train vs Test losses\")\n",
        "plt.show()"
      ],
      "metadata": {
        "id": "oERak2L_cRN6",
        "colab": {
          "base_uri": "https://localhost:8080/",
          "height": 281
        },
        "outputId": "85be056c-0323-429f-9dea-62beba2d645d"
      },
      "execution_count": 30,
      "outputs": [
        {
          "output_type": "display_data",
          "data": {
            "text/plain": [
              "<Figure size 432x288 with 1 Axes>"
            ],
            "image/png": "[encoded data removed]"
          },
          "metadata": {
            "needs_background": "light"
          }
        }
      ]
    },
    {
      "cell_type": "code",
      "source": [],
      "metadata": {
        "id": "DD7ZcU_ncRRf"
      },
      "execution_count": 17,
      "outputs": []
    },
    {
      "cell_type": "code",
      "source": [
        "# n_heads:6 | n_embedding: 384 | n_layer: 6 num_params: 10.8105 Million Parameters\n",
        "# ----------|-------------TRAIN--------------|--------------TEST--------------|-------------TIMING--------------\n",
        "# 0         |  4.5876  0.9868      5.2322    |  4.587   0.9653      5.2709    |  0.02            14.52\n",
        "# 500       |  1.8428  44.7249     79.7544   |  1.8571  44.7034     79.4778   |  197.86          14.36\n",
        "# 1000      |  1.3952  57.416      86.7649   |  1.4395  56.4691     86.054    |  197.48          14.3\n",
        "# 1500      |  1.2384  61.7625     88.747    |  1.3163  60.1064     87.6062   |  196.82          14.31"
      ],
      "metadata": {
        "id": "dj7AaPjNqn21"
      },
      "execution_count": 18,
      "outputs": []
    },
    {
      "cell_type": "code",
      "source": [
        "import matplotlib.pyplot as plt\n",
        "\n",
        "\n",
        "plt.plot(losses)\n",
        "plt.title(\"Losses\")\n",
        "plt.show()\n",
        "\n",
        "plt.plot(lrs)\n",
        "plt.title(\"Learning rates\")\n",
        "plt.show()"
      ],
      "metadata": {
        "id": "60wh1ZCpmbnW",
        "colab": {
          "base_uri": "https://localhost:8080/",
          "height": 545
        },
        "outputId": "d25652f3-cc9e-43a3-bdf0-70e8e079f5c6"
      },
      "execution_count": 31,
      "outputs": [
        {
          "output_type": "display_data",
          "data": {
            "text/plain": [
              "<Figure size 432x288 with 1 Axes>"
            ],
            "image/png": "[encoded data removed]"
          },
          "metadata": {
            "needs_background": "light"
          }
        },
        {
          "output_type": "display_data",
          "data": {
            "text/plain": [
              "<Figure size 432x288 with 1 Axes>"
            ],
            "image/png": "[encoded data removed]"
          },
          "metadata": {
            "needs_background": "light"
          }
        }
      ]
    },
    {
      "cell_type": "code",
      "source": [
        "plt.plot(losses[-1000:])\n",
        "plt.title(\"Losses\")\n",
        "plt.show()"
      ],
      "metadata": {
        "id": "aT9YL0F5908D",
        "colab": {
          "base_uri": "https://localhost:8080/",
          "height": 281
        },
        "outputId": "0272de8c-7846-42c1-9b01-246ccf77b74e"
      },
      "execution_count": 34,
      "outputs": [
        {
          "output_type": "display_data",
          "data": {
            "text/plain": [
              "<Figure size 432x288 with 1 Axes>"
            ],
            "image/png": "[encoded data removed]"
          },
          "metadata": {
            "needs_background": "light"
          }
        }
      ]
    },
    {
      "cell_type": "code",
      "source": [
        "# n_heads:6 | n_embedding: 384 | n_layer: 6 num_params: 10.8105 Million Parameters\n",
        "# ----------|---------TRAIN----------|-----------TEST---------|----------TIMING---------\n",
        "# iteration |  loss    top@1(%)    top@5(%)  |  loss    top@1(%)    top@5(%)  |  train_time(s)   eval_time(s)\n",
        "# 0         |  4.609   1.4062      6.776     |  4.6062  1.4199      6.8174    |  0.02            13.45\n",
        "# 500       |  2.2564  33.6514     71.0287   |  2.2728  33.572      71.0531   |  193.58          14.29\n",
        "\n",
        "\n",
        "\n",
        "#Without lr scheduling:\n",
        "# 1.6008   51.8492  83.8604  1.6299   51.4921  83.3701  29.4928 ### iter: 1000 | loss: 1.6817 | train interval: 40.49 seconds\n",
        "# With: \n",
        "#  1.4235   56.5724  86.4524  1.4637   55.8688  85.8688  7.8572 ### iter: 1000 | loss: 1.5045 | train interval: 209.32 seconds\n",
        "#  1.2842   60.4039  88.2113  1.3478   59.2382  87.2946  7.8786 ### iter: 1000 | loss: 1.3604 | train interval: 208.99 seconds\n",
        "# With lr scheduling\n",
        "\n",
        "\n",
        "# n_heads:6 | n_embedding: 384 | n_layer: 1 num_params: 1.9381 Million Parameters\n",
        "# ---------TRAIN----------|-----------TEST-----------|--TIMING----------\n",
        "# loss     top@1    top@5 |  loss     top@1    top@5 |  eval_time\n",
        "# 4.6333   0.9825   5.1626   4.6361   0.9424   5.0534   10.8289### iter: 0 | loss: 4.6345 | train time interval: 0.01 seconds\n",
        "# 2.5013   27.6460  66.2090  2.5089   27.8167  66.1908  10.9146### iter: 100 | loss: 2.5085 | train time interval: 7.76 seconds\n",
        "# ↓↓↓↓↓↓↓↓↓↓↓↓↓↓↓↓↓↓↓↓↓↓↓↓↓↓↓↓↓↓↓↓↓↓↓↓↓↓↓↓↓↓↓↓↓↓↓↓↓↓↓↓↓↓↓↓↓↓↓↓↓↓↓↓↓↓↓↓↓↓↓↓↓↓↓↓↓↓↓↓↓\n",
        "# n_heads:6 | n_embedding: 384 | n_layer: 1 num_params: 1.9381 Million Parameters\n",
        "# ---------TRAIN----------|-----------TEST-----------|--TIMING----------\n",
        "# loss     top@1    top@5 |  loss     top@1    top@5 |  eval_time\n",
        "# 4.6681   0.7924   4.6143   4.6686   0.7852   4.5937   10.1680### iter: 0 | loss: 4.6672 | train time interval: 0.01 seconds\n",
        "# 2.5054   27.4399  65.9486  2.5082   27.7022  66.0398  10.2297### iter: 100 | loss: 2.5171 | train time interval: 6.53 seconds\n",
        "\n",
        "# n_heads:6 | n_embedding: 384 | n_layer: 3 num_params: 5.4871 Million Parameters\n",
        "# ---------TRAIN----------|-----------TEST-----------|--TIMING----------\n",
        "# loss     top@1    top@5 |  loss     top@1    top@5 |  eval_time\n",
        "# 4.5404   1.0071   6.0883   4.5384   0.9906   6.0388   27.0759 ### iter: 0 | loss: 4.5422 | train interval: 0.01 seconds\n",
        "# 1.6008   51.8492  83.8604  1.6299   51.4921  83.3701  29.4928 ### iter: 1000 | loss: 1.6817 | train interval: 40.49 seconds\n",
        "# 1.3288   59.2941  87.6776  1.3815   58.2792  86.9174  29.4365 ### iter: 2000 | loss: 1.4048 | train interval: 40.43 seconds\n",
        "# 1.2257   62.0692  88.9917  1.3111   60.4550  87.8633  29.5504 ### iter: 3000 | loss: 1.3113 | train interval: 40.44 seconds\n",
        "# 1.1591   63.8813  89.7406  1.2798   61.5125  88.2186  29.9780 ### iter: 4000 | loss: 1.2632 | train interval: 40.42 seconds\n",
        "# 1.1068   65.3377  90.3494  1.2654   62.0324  88.2828  29.5430 ### iter: 5000 | loss: 1.2179 | train interval: 40.44 seconds\n",
        "# Time taken for 5001 iterations: 1770.78 seconds (would be 1000 seconds if I evaluated every 1000 iterations, not 200)\n",
        "# Note: #16 mins of training time, and 12 mins of eval time. Should just check every 1000 iterations(accidentally set it to 200)"
      ],
      "metadata": {
        "id": "bsXaKqQ90_Am"
      },
      "execution_count": 21,
      "outputs": []
    },
    {
      "cell_type": "code",
      "source": [
        "context = torch.zeros((1, 1), dtype = torch.long,  device = device)\n",
        "print(decode(gpt_model.generate(context, length_to_generate=200)[0].tolist()))"
      ],
      "metadata": {
        "id": "NHpJvOw31J-m",
        "colab": {
          "base_uri": "https://localhost:8080/"
        },
        "outputId": "44f3e07a-4d73-4950-df5d-1965894637f6"
      },
      "execution_count": 35,
      "outputs": [
        {
          "output_type": "stream",
          "name": "stdout",
          "text": [
            "\n",
            "Then the mutation concerned to Luxor Plan. \n",
            "\n",
            "Channis looked up at his beneath and lit alone. \n",
            "\n",
            "The man guards he used together than an argument of his servant - and his men are quite difficult. \n",
            "\n",
            "Not \n"
          ]
        }
      ]
    },
    {
      "cell_type": "code",
      "source": [
        "for i in range(20):\n",
        "  print(\"-\"*100)\n",
        "  sentence = \"James Davey,\"\n",
        "  context= torch.tensor([encode(sentence)], dtype = torch.long, device = device)\n",
        "  print(decode(gpt_model.generate(context, length_to_generate=500)[0].tolist()))"
      ],
      "metadata": {
        "id": "V58WPDdjFWNQ",
        "colab": {
          "base_uri": "https://localhost:8080/"
        },
        "outputId": "99e382d5-1499-48e2-9994-5ec380abf40f"
      },
      "execution_count": 36,
      "outputs": [
        {
          "output_type": "stream",
          "name": "stdout",
          "text": [
            "----------------------------------------------------------------------------------------------------\n",
            "James Davey, too. In the first place, perhaps a pleasure, more have so been kindbated. There \n",
            "is no need it. It has been a fair cluster. And the guard's sunlessness melt so clear. They have \n",
            "sent their coins was disturbed cut off. The details of the universe and our new ready publishment \n",
            "among themselves and inevitable blasted for the day of the Temporal was a preparation before \n",
            "the rest of the navy intertial and walked off jewelly to start or or any sort occupied rightly \n",
            "upon the ship. \n",
            "\n",
            "Yet should say-\n",
            "----------------------------------------------------------------------------------------------------\n",
            "James Davey, \n",
            "\"Would you lay him to all then?\" \n",
            "\n",
            "The trader! Fie said, \"/come. And therefore even them was excalled just the Second Foundation. \n",
            "Tributes will be overthrown your growing into deceler and representative you-\" \n",
            "\n",
            "He smiled at the girl's eyes, dryly, \"In the Galaxy would any way to go more than that me would finds \n",
            "a more important space were remotional detectronic field in began to such a million conglomem anywhere, \n",
            "but not lay landy on that I am in its death; the Plan, but all!\" \n",
            "\n",
            "\"I don't.\" \n",
            "----------------------------------------------------------------------------------------------------\n",
            "James Davey, \"it is a remove to the government at all. It's the fool. You're a traitor, \n",
            "but it's coming-presided us.\" \n",
            "\n",
            "\"You are going to be barbarized. It's hands to do it want out. The decide me for moment, of \n",
            "course, where a crisis head swatchlight, to when the glory of space-twenties were the blood. \n",
            "For the scholar room was serious and Dagobert IX was cudged his lips. \"I didn't know why of \n",
            "I can't get it enough.\" A Second \n",
            "Foundation, are Arcadia. \"This lieutenant is under it, but it isn't happen me\n",
            "----------------------------------------------------------------------------------------------------\n",
            "James Davey, too. In fact, he was why Siwenna and twenty-seven thought others \n",
            "flooking downwards that was reforevering at all the long of loor. He didn't know that \n",
            "things. What he does the matter?\" \n",
            "\n",
            "\"O - And we're such a little man - and everytrance in surprise that the truth is last previous to \n",
            "substitute to be truthful shut aged. Mis, were leaving up a trade hollowed by his contact its \n",
            "waiting what Hardin said eathly, \"You can't remember without me.\" \n",
            "\n",
            "Riose ven laughed. \"The Board growled wipe out i\n",
            "----------------------------------------------------------------------------------------------------\n",
            "James Davey, we must never come. I tell you  I think you that there \n",
            "is a refuge fear of anarchy in any according at the outer suns. I have told you what I inner \n",
            "words you'll come from.\" \n",
            "\n",
            "\"He's what it is?\" \n",
            "\n",
            "\"Lathan pointed the ceiling this inevitable, Ebling.\" \n",
            "\n",
            "To neither lights were breathed him, and in the center at nor Jord Fara spoke he said, \"I enjoy.\" \n",
            "\n",
            "Toran squirmed for a felt the chagrin, \"Why do you know that?\" \n",
            "\n",
            "\n",
            "\n",
            "Aporat noblem to live to us, but that, turn listen in a single game thing. Not\n",
            "----------------------------------------------------------------------------------------------------\n",
            "James Davey, everything, but not worlds. Naturally, he taled \n",
            "that.) \n",
            "\n",
            "\n",
            "\n",
            "he seemed all the Of Navigation?\" \n",
            "\n",
            "The old man replied away from his bed. \"What's the same is this ship?\" \n",
            "\n",
            "\"Don't you know the time,\" -the Galaxy week  - a good little girl, and we would have more.\" \n",
            "\n",
            "The trader shrugged, \"I've had the past tyrant of Kalgan. You're waiting first of self, captain.\" \n",
            "You've looked up, how many would possibly to say or not at all. All of the every stay, and \n",
            "to until at me; the Elders's clothes comer wo\n",
            "----------------------------------------------------------------------------------------------------\n",
            "James Davey, of which was no doubt that hurt and he else would find all say \n",
            "you like. I tell you, I could have to wait for sure, but you are sure more imported about a \n",
            "state miles and shake out your terms.\" \n",
            "\n",
            "\"Oh, I'm not get that you're trying to do with more. I'm nowhere, sir.\" \n",
            "\n",
            "In a word, and coldly waiting, and Lepold, who had once leaned Coincil at his own. I had nothing to \n",
            "have not so go one in a sense on I'll knew; serious to the Spirit. But then, in unprintable \n",
            "holes climax, and you know nothin\n",
            "----------------------------------------------------------------------------------------------------\n",
            "James Davey, consideristed himself, according \n",
            "touching the window connected before I cannot pick plan to return of my own chambers for remained \n",
            "the atmosphere. And the pssychologist were themselves death at moment, even to week icked off to \n",
            "the utter set of notselves, so I involved it. I mean to its now, there are no centuries - or \n",
            "was all over at Siwenna. If Seldon has the thingness, the way, had never stopped Twer of was \n",
            "not enough to a new Foundation and the Galaxy will appearing for the sake of aud\n",
            "----------------------------------------------------------------------------------------------------\n",
            "James Davey, to die. He should not ruin to use it necessary. Not yet. Oh, don't you?\" \n",
            "\n",
            "Her father hand, and see the nonsense almost was considerable clever. \n",
            "\n",
            "He said, \"My lady, you like to know who's a good double that? What are you didn't inte tell that.\" \n",
            "\n",
            "\"Now what do you know?\" The game here in a trader grew. He has brought a trouble dead \n",
            "fist. What should I start? Do you hear from?\" \n",
            "\n",
            "\"Do you know what a good service?\" \n",
            "\n",
            "\"There may be a Smyrnian?\" \n",
            "\n",
            "\"But it is the Emperor, Sutt, and I see, this is a\n",
            "----------------------------------------------------------------------------------------------------\n",
            "James Davey, no day - or I rather hand helped his \n",
            "place. So who was my map of what he has been inside and the weapons to me.\" \n",
            "\n",
            "Gorrov rose in watch a gesture. Every capable of a navy. Again strange of self-contract, \n",
            "Gorov was station. There might become amount; surely to fight as the Mule did the Mule. \n",
            "What do you know work with what are you any playing for?\" he said grimly, \"You are in terms of \n",
            "government safeguarily, sergeant, bolishing to the day's missionary of the Encyclopedia is \n",
            "the Galactic Per\n",
            "----------------------------------------------------------------------------------------------------\n",
            "James Davey, and took on the ships of \n",
            "the First Empire had been able to influence; the bones of their layer of Foundation crisis. \n",
            "And they did not exist. But this was the martial proper the Galaxy, they give us she from the \n",
            "outer feet, Ebling. A the Traders have nuclear power, reported to a slumsy \n",
            "scramble in the alternativity of All sibility of the preliminaries that looks ago.\" \n",
            "\n",
            "There was a silence in his hand, crowding stubbornly, and Channis' legitimate. \n",
            "\n",
            "\"Yet the Mule was a relics of story, then.\n",
            "----------------------------------------------------------------------------------------------------\n",
            "James Davey, my Board of Trustees - just speaks me to like it born on \n",
            "your recognizable men and not yet fails to know what they were sharp tell you in the \n",
            "pocket of will not disturbs us off. Would you gain to it?\" \n",
            "\n",
            "\"If you have been token for your time, Hardin. Se he's long to tell this money. They're \n",
            "incongruities. Tell me, the Empire nuclear gawed him, rather noo longer than ever knew comes?\" \n",
            "\n",
            "\"Oh, Verisof. Look, not.\" \n",
            "\n",
            "\"Yes, but I may make serve I'm never looking at done. \"'That's all very communic\n",
            "----------------------------------------------------------------------------------------------------\n",
            "James Davey, Anthor, he did. \n",
            "\n",
            "Q. Do you say  that stop? \n",
            "\n",
            "\n",
            "A. I had taken her, Hardin? \n",
            "\n",
            "A. It was the past field to the Encyclopedia in peasant for the Mule fails with a distance of \n",
            "attractive and public powers valuable to the alf-smetime and we have answered \n",
            "obviously to the Elders to be believed the Empire, the only two Empire's unlight of the First \n",
            "Citizen of the Galaxy, was quite lost in one thing flatly gleaming clothes were teeth, writhing \n",
            "because he felt studied and melted her mouth at disappar\n",
            "----------------------------------------------------------------------------------------------------\n",
            "James Davey, odor. \n",
            "\n",
            "It was Barr touched. Frankly! Jump that tea it quid one listened captively. He said, \"Siwenna. \n",
            "It would not be due in a personal civilization on an independent by divine as a borde about \n",
            "the Flow would take apart, less their passed raised. To let his lips may made out produce \n",
            "our science, have use) Seldon plans, would come he's been a magician, thought a window's \n",
            "and we can predict upon the fortuitous heavy will, a but militarization of the Second Foundation \n",
            "that happened to do it.\n",
            "----------------------------------------------------------------------------------------------------\n",
            "James Davey, indefinitely-lidituded minds were strenuous. Perhaps for \n",
            "such a graphematical in the venirclanry next mortive phenomenon as I did. If P sychology hesitated, it is \n",
            "not begin to part of it that I had sent for discussion. It is understand - and, it is established.\" \n",
            "\n",
            "\"Yes, I remember the normal to use to intelligents.\" \n",
            "\n",
            "\"Is that so? Well, then, upon I join it; I can't really blind to made. That powerful that is \n",
            "somehowah my physical relish appearance of your recording, entered your kind of me.\n",
            "----------------------------------------------------------------------------------------------------\n",
            "James Davey, was called the excitement. He won't bother that \n",
            "he had been - but check brought up to his sheitations. \n",
            "\n",
            "They were, she was somewhere lost in her some power? \n",
            "\n",
            "A tickal purpose, don't go. When the same day with Magnifico's bulge. They say Seldon has to \n",
            "have the tales of nuclear power plantful emerged too stop us anything. I'd trythology, you \n",
            "look at the side of it own anything we've demanded here; and world, and more exactly periods \n",
            "not find if he does. But means an alternative to the Found\n",
            "----------------------------------------------------------------------------------------------------\n",
            "James Davey, hostile on 193.2.E. They have warned us - \n",
            "but were located. Surely, they deserves the Foundation in the Mule's court. The Empire can \n",
            "wait off. There havt was the real as law, and the Trip was no similar wildly to commanred \n",
            "that kill you draw in fact, general he had would have to find all bluff our Kleise. I didn't \n",
            "return her from my own here, if you had anything, Torie.\" \n",
            "\n",
            "The buggest to the strong silence had every gasping for played in his controls in his \n",
            "neck - and carefully among thems\n",
            "----------------------------------------------------------------------------------------------------\n",
            "James Davey, drowning slunged narrows large, he \n",
            "had entered. \n",
            "\n",
            "\n",
            "Channis wraped to Kalgan felt the arms of psychohistory; or Hardin, on a few serious disordinary \n",
            "and the facult-cording hair improbable methods of his name had been; that correctly stamped \n",
            "his crisis as resources. The traders here cut out in a mind, making them out of a dull for \n",
            "without an equation-color, and of all the tork, either. \n",
            "\n",
            "Q. You are understanding since it is, sir? Hardin, that's too supposed out the shoulders. He's \n",
            "on.\" \n",
            "\n",
            "\"Th\n",
            "----------------------------------------------------------------------------------------------------\n",
            "James Davey, pushing homes. \n",
            "It was a factories which I had lived a grow of widespreading to avoid myself back \n",
            "of it is difficult, but it cannot be blonded.\" \n",
            "\n",
            "\"That's to be trying un-Tenth is vicine of the Captain Pritcher. The produces are pointed with the \n",
            "trial of man who were twenty-two weeks and into the room and people who has funnecessary \n",
            "in the true? Autural ten years to you, and killed the Argolid Empire, you might \n",
            "sun the test planet.\" \n",
            "\n",
            "Bayta worried with darkness. \n",
            "\n",
            "An obbled were grain his \n",
            "----------------------------------------------------------------------------------------------------\n",
            "James Davey, increasing purpose? As he doesn't act as a man. \n",
            "\n",
            "\"It's just and therefore my face controlled. \n",
            "\n",
            "\n",
            "\n",
            "2 . THE OR \n",
            "\n",
            "There was a refusal dozen and the army lips are flored on flangiting costs of punishment \n",
            "me comes again. I want to be smoothly to make so much times. That is a first position to fight ly \n",
            "hold on the mighty grace, but whom Listen to plan voices? Is there to the Spirit.\" \n",
            "\n",
            "Riose shrugged, at the closet deserted double that he just was freed. He sat up \n",
            "and to help the clown. The thick\n"
          ]
        }
      ]
    },
    {
      "cell_type": "code",
      "source": [
        "for i in range(5):\n",
        "  print(\"-\"*100)\n",
        "  sentence = \"Hardin, I say!\"\n",
        "  context= torch.tensor([encode(sentence)], dtype = torch.long, device = device)\n",
        "  print(decode(gpt_model.generate(context, length_to_generate=500)[0].tolist()))"
      ],
      "metadata": {
        "id": "cmLUbTUGFotP",
        "colab": {
          "base_uri": "https://localhost:8080/"
        },
        "outputId": "bff60e34-322a-45d0-e50e-be38d647d598"
      },
      "execution_count": 37,
      "outputs": [
        {
          "output_type": "stream",
          "name": "stdout",
          "text": [
            "----------------------------------------------------------------------------------------------------\n",
            "Hardin, I say! And found that are \n",
            "you dirty yourself to it, that I must say there's nothing of individual domination - not - \n",
            "the University of Education, even in the side of the Galaxy, who can all they want to \n",
            "do it, formed, and the dinner at all. The second who was they're deepened. There's a damned \n",
            "and walk of being at the Imperial project who says she had induct to be saw by the three others \n",
            "neither of the ato-prefect by the head. \n",
            "\n",
            "Before him lengthough he and time, when he wanted to Ebling Mis whos\n",
            "----------------------------------------------------------------------------------------------------\n",
            "Hardin, I say!\" The continued with grandwards had deependence to the \n",
            "sufficient of the odier splints of the Mule. Then the tiny was not out to take him. He \n",
            "says of uturnity when all return. There is something of my own hours to us possess the since \n",
            "are so clear true the form my began and then I would have to the Foundation. You want me to \n",
            "find that they do no confidence by our grandfathers later, whetaly they have them to be able to \n",
            "do, and that maintain power? Besides while Manlio is not a few and small\n",
            "----------------------------------------------------------------------------------------------------\n",
            "Hardin, I say!\" \n",
            "\n",
            "\n",
            "\n",
            "\n",
            "They left I broke out in his fists become intent general's marriage as he stepped the menu. \n",
            "\n",
            "Gorov brought shrough the small ibitterable completely into a hand fell away between two \n",
            "hours. Did he die to the little of the simulacrums revolt. He himself loded and said, \"Noble \n",
            "on your shall everything.\" \n",
            "\n",
            "\"No? Or, I tell you, sir.\" \n",
            "\n",
            "\"All fight, no, or informed at that, listen, Poli? And what do you want to say that? \n",
            "How leave heard of yours?\" \n",
            "\n",
            "The two stood of an army father? \"What is \n",
            "----------------------------------------------------------------------------------------------------\n",
            "Hardin, I say!\" \n",
            "\n",
            "\"No doubt for that?\" \n",
            "\n",
            "\"Really!\" \n",
            "\n",
            "There was a year foot of self-defense. Toran left, \"Seldon! Did you do. But something of my \n",
            "sons were the Mule hasn't been all with my meagerns to you. You mean that advance due to \n",
            "allow him. You will, but there will be articles to take a rould to allow us fighting. You'll notice \n",
            "don't get that, Ebling.\" \n",
            "\n",
            "Toran left his eye were so in a hundred contact on the cloge. He had the Mule - and we've got entrading \n",
            "me in. We dubbed ieve to a break-embracer and\n",
            "----------------------------------------------------------------------------------------------------\n",
            "Hardin, I say!\" \n",
            "\n",
            "His voice was an artificial cluster. \"Did he to be detected. Where should himself to be strong, \n",
            "while I tell you I hear you the Plan, get into the Galaxy and you think I ask like the televisors \n",
            "of Salvor Hardin. You may be it fifty you have developed to him that anywhere, and I've been \n",
            "affective is it right to to have your prisoner?\" \n",
            "\n",
            "\"I don't quite him of the correct - and threats are not betray lost in the apiece of cloaking as \n",
            "sky. Yes, then we can't help?\" \n",
            "\n",
            "Bayta grimaced it in his\n"
          ]
        }
      ]
    },
    {
      "cell_type": "code",
      "source": [
        "for i in range(10):\n",
        "  print(\"-\"*100)\n",
        "  sentence = \"Callum and Connor\"\n",
        "  context= torch.tensor([encode(sentence)], dtype = torch.long, device = device)\n",
        "  print(decode(gpt_model.generate(context, length_to_generate=500)[0].tolist()))"
      ],
      "metadata": {
        "id": "2Y7-w7wtH7qA",
        "colab": {
          "base_uri": "https://localhost:8080/"
        },
        "outputId": "720205bb-afed-47e7-c380-09f6e89f46fa"
      },
      "execution_count": 38,
      "outputs": [
        {
          "output_type": "stream",
          "name": "stdout",
          "text": [
            "----------------------------------------------------------------------------------------------------\n",
            "Callum and Connorell \n",
            "and before Seldon, the Foundation. The planet lieutenant Second Empire kept ... to be. ... \n",
            "ay-\" said Bayta, egfticuse. \"You are stagnated. In fact, I thought have given out or bring or \n",
            "subtlessis eyes. Didn't you tell me what it seems ... this point comes? \n",
            "\n",
            "\"A further myself question, I might citizens-\" \n",
            "\n",
            "\"No, that of guard is an electronic power and seem us, and you understand your apparentment \n",
            "by the truth might have finished into near and all of which, or \n",
            "you were born with the Asko\n",
            "----------------------------------------------------------------------------------------------------\n",
            "Callum and Connor the small dominate in \n",
            "power in any case, to when Seldon's clash psychologists could be puny reported. For it place \n",
            "when you'll forget me depend on when we gone in troubled the recorder, he'll have to do it.\" \n",
            "\n",
            "\n",
            "6 . \n",
            "\n",
            "\n",
            "\n",
            "And the turned out of his hand. \"You'll have a right of course, or apialization and felt anywhere \n",
            "missionaries. And Toran was the contributer of no world has foughtt some at all. He's \n",
            "sergeance.'\" \n",
            "\n",
            "Bayta felt the door on him. \n",
            "\n",
            "And Fran because he said, \"And I've got to warn\n",
            "----------------------------------------------------------------------------------------------------\n",
            "Callum and Connoration \n",
            "was an effort. \n",
            "\n",
            "\"Because\" story to the man who stopped his long eyes roaled with a pink. He never told his head \n",
            "hard of the rolling about of the original peasants and interest, the new fortune suspicion of \n",
            "who was round the conclusion here to confidence by the steaphiering Emperor. Their convenies and \n",
            "preceded it could not double for war, ship was sooner by no man of knowledge, but there \n",
            "had been the third mornings of than muted bulgeups more away from a single man to them. \n",
            "\n",
            "They ar\n",
            "----------------------------------------------------------------------------------------------------\n",
            "Callum and Connoration \n",
            "and half no why I'm to appear to you! And I've gone to here and men my unger tell me there.\" \n",
            "\n",
            "He seemed to have men in the darkened. \"It's a Viceregal Poli? Who uld it see the way?\" \n",
            "\n",
            "\"Why don't,\" Toran interrupted: \"As factory is the First Speaker, Captain Han II, and they'll \n",
            "get the missionary condition in the last Trantor is friend will quarter events and barbarian \n",
            "double on winnue - City will be figh in the palace, winhing matness.\" \n",
            "\n",
            "\"Other must tell me. This have to be sure, for \n",
            "----------------------------------------------------------------------------------------------------\n",
            "Callum and Connoren, in otherwise to Terminus into the \n",
            "mayor. It is only all sense and of the Lord of Kalgan was that felt out of the Mule. You may \n",
            "have taken into the Second Empire.'\" \n",
            "\n",
            "Pirenne baggaged his short closely. \"To be located in the opening the planet of just control of \n",
            "Anacreon.\" \n",
            "\n",
            "Twer shook his head, \"No. Come, and that's all, meaningless from way, Magnifico - and turning from \n",
            "their arguing like an uncomfortable way down upon her thousand Imperial Majesty, is there \n",
            "not such a found myself, we\n",
            "----------------------------------------------------------------------------------------------------\n",
            "Callum and Connoration - with the ancademic power, and could it show ould be told \n",
            "\n",
            "your control back a diseased to be the spires of which I brooded him.\" \n",
            "\n",
            "\"Haven't you been anyone in any case. Listen, Seldon foresaw your ships and established left \n",
            "for knowledge of decision and the companiony of occupied landiness to responsibility is those \n",
            "of defensive who did not betray and scarcely. There investigation of my viate emotional people \n",
            "entirely the couring guard head at days under it could be merely their pros\n",
            "----------------------------------------------------------------------------------------------------\n",
            "Callum and Connorated, unough plants. But it is useful; it's papers against the \n",
            "game of the Charter wisted into sislent, which he asked: \"Not trying to any atomic receiving new \n",
            "wepays. This is Hari Seldon won placed upon us an applied and put it down.\" \n",
            "\n",
            "\"And what is it y was, and we would stand to put this to have wrong across the last spot. \n",
            "It would have been told who beard as to have had been the pause worked work. In the mild place \n",
            "had been the vaverie sentences.\" \n",
            "\n",
            "\"Such refugest person. But why should \n",
            "----------------------------------------------------------------------------------------------------\n",
            "Callum and Connor be mentioned. \n",
            "\n",
            "\n",
            "And what does Bayta take a clean watch take for a moment, and while seemed as a matter factor to \n",
            "the future. \n",
            "\n",
            "\"And is difficult to be as a play of worlding to your treaties well. This was the tradition of \n",
            "you had alnd so it in unfortunate your chance. You will only find it tell without you. If you've \n",
            "remained for no longer new empty your policy of mind, young-\" \n",
            "\n",
            "\n",
            "\n",
            "Devers looked up at him with a felt the capital lights, and with light, and last distribution \n",
            "but of a handke\n",
            "----------------------------------------------------------------------------------------------------\n",
            "Callum and Connor two \n",
            "months would be a sense of quiet, just as five hundred brothers years the position of the \n",
            "inlight Pritcher's economy Foundation. But there's not successful nowhat's large-\" \n",
            "\n",
            "The organ was in the stars, addressed the captain, while Bayta noticed that Ebling Mis and he \n",
            "was connected the recorder rubbery, and backed his tongue. \n",
            "\n",
            "Bayta said with a smile, \"A good for it. He say does not beat a made first power of the \n",
            "news code throughout Santanni came: Jol Two weeks, then he'll joining laz\n",
            "----------------------------------------------------------------------------------------------------\n",
            "Callum and Connoration. \n",
            "As I have said, you are present for speeches away from the contents of the Grand Master who \n",
            "had helped his first weaknesses, and been worthy of yours. You'll probably prevent the \n",
            "Plan didn't know that makes conside. You mean I'll have a trip.\" \n",
            "\n",
            "\"All right. And of that's why I want to know or business.\" \n",
            "\n",
            "He went on: \"By the significant products,\" said Wienis, without instantly, \"it is call you. I \n",
            "have done. I'll have to say it you lick away come to tell me over.\" \n",
            "\n",
            "Riose never lifted\n"
          ]
        }
      ]
    },
    {
      "cell_type": "code",
      "source": [
        "for i in range(20):\n",
        "  print(\"-\"*100)\n",
        "  sentence = \" \"\n",
        "  context= torch.tensor([encode(sentence)], dtype = torch.long, device = device)\n",
        "  print(decode(gpt_model.generate(context, length_to_generate=500)[0].tolist()))"
      ],
      "metadata": {
        "id": "Tml-wd1y-Rhk",
        "colab": {
          "base_uri": "https://localhost:8080/"
        },
        "outputId": "0e80ed32-12f3-4273-c618-0d01b9e9e404"
      },
      "execution_count": 39,
      "outputs": [
        {
          "output_type": "stream",
          "name": "stdout",
          "text": [
            "----------------------------------------------------------------------------------------------------\n",
            " dominion? He seems to bed. And teel \n",
            "great psychologists and disapportanced these remains being investigating among their lavish \n",
            "powers. Father, who now are alive. \n",
            "\n",
            "They confidently, but it's talking cars with me, there isn't anyone here. They did not put \n",
            "them to allow the room. Don't you need in that, that's trouble?\" \n",
            "\n",
            "\"I mean, Sir.\" \n",
            "\n",
            "\"And if I had it to be the strange studied. Then I am not reply to such a new people, to listen, \n",
            "to have your resources.\" \n",
            "\n",
            "Randu leaned with with a large, \n",
            "----------------------------------------------------------------------------------------------------\n",
            " and Mis muttered. \"The Mule has nothing. Therefore?\" \n",
            "\n",
            "\"Well, runnow,\" ground Bayta, stepped again, with a slow, he said, \"I can't get you find out \n",
            "anything. You may lady know how of any now - longer for eat. Come in General Pritcher, captain. I \n",
            "am not even if I ought of it, I recognize than I can do it; I must relreat his working for \n",
            "otherwise.\" \n",
            "\n",
            "Hardin interrupted: \"You are saw on Nyak hunting the job. He's probably compositioner to fear \n",
            "could see the blooding so face before that he adole\n",
            "----------------------------------------------------------------------------------------------------\n",
            " cylinders-\" \n",
            "\n",
            "\"Do another, suppose that is all for. How does it know?\" \n",
            "\n",
            "\"It is merely horrible I have student.\" \n",
            "\n",
            "Mallow lifted himself into a comer that when not only to give up a lonely up. \"The attack of \n",
            "Empire is a good let us by a ferocity, Doctor. Seldon's Your Fleet could notate \n",
            "schools were a splendor again in a week.\" \n",
            "\n",
            "\"Now, it is something,\" snorted Barr, \"all right. You might really call a imprison in the past \n",
            "time the Council coal as well, that will use for the next control.\" \n",
            "\n",
            "\n",
            "----------------------------------------------------------------------------------------------------\n",
            " point is all all \n",
            "sension of the subject Power. In your sociologist like look of the name on the will be just \n",
            "thing.\" \n",
            "\n",
            "But he claimed held the new-most evening, Wienis, with a jacket autmosphere of normal \n",
            "\n",
            "\n",
            "\n",
            "policy. \n",
            "\n",
            "In the first place, he was not aware of a man of conversation. \n",
            "\n",
            "Notrantor, one of the other Galaxy, he told him religion unoccurred to you. Now I'm willing \n",
            "just a scare you outbring hold of one you de-\" \n",
            "\n",
            "The man apointed the door, glanced at his dominion. \n",
            "\n",
            "And almost with a \n",
            "----------------------------------------------------------------------------------------------------\n",
            " has been Seldon and for his dressed itself \n",
            "about and-surface - but tracing liness and just as study, could turn the ship lotted it, with \n",
            "a a cubicle and immits corporation of the Empire, three centuries within that court power on \n",
            "the bought Terminus City in the spaceport. \n",
            "\n",
            "This was he did drawn, but as he was suddenly immensely down these nerves, and therefore, \n",
            "and when did he to Foundations according to have him, industrially joining the name of \n",
            "the Galactic scales conclusions. \n",
            "\n",
            "Brodrig \n",
            "----------------------------------------------------------------------------------------------------\n",
            " small mack into the field receiving of the daring of \n",
            "the barbarians rolling of the hands of the palace, of instance, that one's trouble valuable \n",
            "boundaring. \n",
            "\n",
            "\"I watch you're. If you like that a young man, Kleise's sure to be - but only the poor \n",
            "\n",
            "\n",
            "\n",
            "another right of transparency. You had are it possible in the field and discussion of a sky \n",
            "\n",
            "\n",
            "embrace to hope into a strength where it become Seldon plan. The crisis has really valuable \n",
            "sacrilege flowed by still one, maybe. Maybe in the clever sh\n",
            "----------------------------------------------------------------------------------------------------\n",
            " How is your receiver is only a time to see it.\" \n",
            "\n",
            "\"How do you like them? It is this personal custom be proven to their government. It's a little when it's \n",
            "always sixths. \"You see? You'll make care.\" \n",
            "\n",
            "\"He's not a legitimate to get to see it. Why, I imagine for complete and missions?\" \n",
            "\n",
            "He was in a thoroughly laugh, briskly and roar, \"How did you see?\" \n",
            "\n",
            "He said the receiver with a tiny face force fair, \"You see, sir. You contrading the Empire \n",
            "because, you realize that all?\" \n",
            "\n",
            "Barr pointed his \n",
            "----------------------------------------------------------------------------------------------------\n",
            " was soldier. \n",
            "\n",
            "\"People. Remember,\" said Mallow, coldly. \"And that's the only twenty-several geaning kindness. \n",
            "Money but when I asked you to return is yours. I put to the straight and such else strategic \n",
            "and used to the next day.\" \n",
            "\n",
            "\"That's influence, with the Mule's rush official and further us and power by superstitions of \n",
            "the Foundation have not wanted from while neighboring of the two centuries the governor will \n",
            "devote all the Foundation about situation.\" \n",
            "\n",
            "\n",
            "\"And in no the probability of \n",
            "----------------------------------------------------------------------------------------------------\n",
            " away. I shall be sufficient. If you're not to see up to this Foundation you've \n",
            "been followed a failing it - but I must not be in trouble important.\" \n",
            "\n",
            "\"Yes-\" \n",
            "\n",
            "\"Yes. What if they're going to be? Well, they're going to do with why you're not adjusting a \n",
            "world that's following us to the speak of twenty on the deditions of power, who is predicted now \n",
            "\n",
            "\n",
            "\n",
            "mal techniques, when they've been lief will find it them all you never the aristocracy was far of \n",
            "past his power in the Galaxy, and you're not \n",
            "----------------------------------------------------------------------------------------------------\n",
            " great-gracious gesture.\" \n",
            "\n",
            "\"I did,\" She was cold. \n",
            "\n",
            "\"They dare finished. The small died, when they are simple on his wife's thoughts went into \n",
            "dovers from the project and unsaid, \"Mallow, you're not a ticket in them with abit out in a girl, \n",
            "to see him from his bleak, he did not know that, for not, we are definite. I pregnets, but I \n",
            "were refused; no longer zero, a week - and you help against it, and man.\" \n",
            "\n",
            "And Channis sat down and waited. \n",
            "\n",
            "He was the way to gress required under the decadests\n",
            "----------------------------------------------------------------------------------------------------\n",
            " are average to fight the first place and Foundation that would have allegiance to \n",
            "understand? We're insight of my intendinuder and you're getting now - now, don't you squite understand the \n",
            "Foundation the Mule. Fie said, \"Well, let here's not a failure. Where he adjustment?\" \n",
            "\n",
            "Gorov's laughed shortly. \"Yes-\" \n",
            "\n",
            "\n",
            "\"Yes, but the captured city to hide him.\" \n",
            "\n",
            "He paused back to his head and waiting back eyes and shortly. \"Do you think this man. Now I \n",
            "don't knob new what you're traders by repaired un\n",
            "----------------------------------------------------------------------------------------------------\n",
            " breath and five hundred years of \n",
            "course. Far instance, so to conscientific of authority for the year. There is to be more \n",
            "curse that very longer on hypernuclear stands the day of the only I need single guns the \n",
            "certain relation.\" \n",
            "\n",
            "\"I know what you're heard of what he does decided the crying rumbled widese?\" \n",
            "\n",
            "\"Yes! You're all here, because, Dr. Seldon, if you might, and have to take about the Mule but \n",
            "to remain his life in limited - our none.\" \n",
            "\n",
            "\"I'm a heart, I don't think it is only good f\n",
            "----------------------------------------------------------------------------------------------------\n",
            " otherwise. You'd like \n",
            "your flowers. You'd better give hours. Now when you're free on Korell visits and then. Let him \n",
            "what's when you once more than I'm told.\" \n",
            "\n",
            "\"How do you know?\" broke in, \"The desperat fifty-two decisively?\" \n",
            "\n",
            "Mallow had been once more on his delicate and made easily, \"She's never clear about the punishment and all \n",
            "rightful comprehension. You see these days did. I'm to sure your chance. Sting you - as a \n",
            "good and cell anywhere head us creen - when I might have been capable \n",
            "----------------------------------------------------------------------------------------------------\n",
            " for the situation of the Galaxy. \n",
            "\n",
            "Arcadia stepped to skill a civil war end of the end of the Galaxy moved the ships and a night \n",
            "star into hands. \n",
            "\n",
            "Added a waited confusion to her, \"But we're not to bed with your bull! I'll find anything Anthor, \n",
            "your nick.\" \n",
            "\n",
            "Ducem Barr was his written his back man? \n",
            "\n",
            "A new forgotten who had nothing happened, and said: \"You see! \n",
            "\n",
            "\n",
            "29. THE FAUTINS \n",
            "\n",
            "The Mule \n",
            "\n",
            "THE SUSLDE \n",
            "\n",
            "PAROR \n",
            "\n",
            "TRANTOR THE MURE \n",
            "\n",
            "8. THE OQ. Ontificators would read almost as a battle of all \n",
            "----------------------------------------------------------------------------------------------------\n",
            " Brodrig had to be allowed with a stream on the Mule. \n",
            "\n",
            "\"Nonsense! Not partly likely. The Imperial power worlds were important transmitter of a jamble \n",
            "pership of and talk. Now is enough. That doesn't further; not too good for anyone at all twisted at \n",
            "some calles of being so free-wheeled lovers and returned to the last states of the sand-Sun \n",
            "of a result huge lord. \n",
            "\n",
            "Before it would be at least and sensible to the very minutes. Against the Imperial News \n",
            "clear of Hari Seldon's Pirenne found hims\n",
            "----------------------------------------------------------------------------------------------------\n",
            " and a broad that into what is all right. But I set do - have you from you, \n",
            "I might remind you see, and make me, Mr. Seldon?\" \n",
            "\n",
            "The trader spoke quickly. \"You and move a long soft, but may be detected to be school-blunt.\" \n",
            "\n",
            "In the case, whether is one fact spreading, and asseted upon his chair - and she wlliked the instructure of proper \n",
            "long side, so that he was probably only the centuries and said: \n",
            "\n",
            "\"Well, what kind of the empty two centuries we did not present out of exist. There are so \n",
            "con\n",
            "----------------------------------------------------------------------------------------------------\n",
            " hard about for an old, when the \n",
            "Foundation only speak of enemy tsevention is there not the border of done with the necessity and \n",
            "riches of these training points, no doubt, and for Seldon, you would be interested; and \n",
            "of all control is of the intentions to establish a mercy. Well, now, man, glowing work in the \n",
            "five hundred of a question of science where had gathering you were faced with a small state \n",
            "on jump, notion. \n",
            "\n",
            "One put a much as ound to a but visit as Ducem Barr to suddenly his shoul\n",
            "----------------------------------------------------------------------------------------------------\n",
            " deductive stiffly, obtained by \n",
            "its baric of addition and except that some months when the profounds were days and then he \n",
            "asked, scurrious-tranet on the planet, long other words, government events us.\" \n",
            "\n",
            "Ducem Barr's face did not dish arrive and expressions. It can be helpless might each of color, which \n",
            "are not such a fired of omeontarily in the prase fat to refrain dry children now. That's \n",
            "improvisition to the entire of the Foundation has possessed it. But were not part companion to \n",
            "be as \n",
            "----------------------------------------------------------------------------------------------------\n",
            " clear, and filed it tightly. \"It's that. You undoubtedly, and I'm going to throw \n",
            "of midnight the first places.\" \n",
            "\n",
            "\n",
            "The lower stood by the doorway pearls of the lights ships curls out of the kingdoms and different \n",
            "collectuations under motives. He auched at Han Pritcher of Is nothing you'll join man.\" \n",
            "\n",
            "\"No one to our whear youngsters and upon the Foundation itself - and the failureless of minds \n",
            "are in the which you've made the alarm, of the most week, I'll tell you!\" \n",
            "\n",
            "\n",
            "\n",
            "A shrank side his glas\n",
            "----------------------------------------------------------------------------------------------------\n",
            " what is why - we have money of \n",
            "arthole has been sensed in the old small science. If he told you that to you want to submit it \n",
            "you have been a fool graphical vereie men who \n",
            "depressed behind themselves maining centuries. With face running on to big, do well?\" \n",
            "\n",
            "\"Do you think no intelligent matter?\" \n",
            "\n",
            "\"Nothing else.\" \n",
            "\n",
            "What about the Mule can ceiling to strange the seatest from the Foundation recognized are so \n",
            "twenty-one satisfied him. \n",
            "\n",
            "So the Mule could remember otherwise on Anacreon - to put\n"
          ]
        }
      ]
    },
    {
      "cell_type": "code",
      "source": [
        "for i in range(10):\n",
        "  print(\"-\"*100)\n",
        "  sentence = \"The Mule\"\n",
        "  context= torch.tensor([encode(sentence)], dtype = torch.long, device = device)\n",
        "  print(decode(gpt_model.generate(context, length_to_generate=500)[0].tolist()))"
      ],
      "metadata": {
        "id": "_P01bJK2eQKW",
        "colab": {
          "base_uri": "https://localhost:8080/"
        },
        "outputId": "6a19b964-ad53-4895-e22e-2cc82d075f70"
      },
      "execution_count": 40,
      "outputs": [
        {
          "output_type": "stream",
          "name": "stdout",
          "text": [
            "----------------------------------------------------------------------------------------------------\n",
            "The Mule did not have called Seldon's \n",
            "first places. It's not five hundreds of science. I knew nothing much has been filled, that he \n",
            "hadn't even within, and our life addramatic regarding as to slidy of a sort of my way.\" He \n",
            "added, with it nothing means are capable before telling you that. There's nothing to be a strange \n",
            "at as are of searched inside to the skin. \n",
            "\n",
            "Then and while Mallow broke over his eyes and said: \n",
            "\n",
            "\"And all one, since it points has would join the empty human would forever?\" \n",
            "\n",
            "\"Surel\n",
            "----------------------------------------------------------------------------------------------------\n",
            "The Mule felt was coldly accompunied. The evening department of a scramble \n",
            "unregarded with suchliqriness and the mechanical rammed what the called the rabble of away \n",
            "from the disparag emotional contractor? As long so, you get a few military before you ally \n",
            "twisted.\" \n",
            "\n",
            "\"In the done, Imperial called. They saw their gleaming centuries were the war and inner miles. I \n",
            "have been a trace?\" \n",
            "\n",
            "\"And now nothing too long,\" said Wienis. \"A long way of my with any law.\" \n",
            "\n",
            "\"The Foundation?\" \n",
            "\n",
            "\"That's a future eno\n",
            "----------------------------------------------------------------------------------------------------\n",
            "The Mule taughed himself over it \n",
            "was first of the half as - and even knows left - the University of Seldon had felt Hari Seldon, \n",
            "crisis deflection; bats he was upposed to the other end of the Galaxy - various he spoke. \n",
            "It was month's main back into their soil. \n",
            "\n",
            "\"-as well,\" she said, dryly. \"The most we what do you mean want for through. If now I didn't think my teach a \n",
            "crisis? Here and he had not six proved a battle to be easy difficult to look at her. Well, we \n",
            "are correct, and proceed, and that's\n",
            "----------------------------------------------------------------------------------------------------\n",
            "The Mule must have been explain interesting, notioned perhaps I could never chosen.\" \n",
            "\n",
            "\"I say it is, sir.\" \n",
            "\n",
            "\"I've been done. How could I know about that?\" \n",
            "\n",
            "\"It's so.\" Barr considered with a flanker, boy. \"Why-\" Bayta leaned peevishly aside to statisfy \n",
            "out- \n",
            "\n",
            "\n",
            "\n",
            "\n",
            "\"How did you get me, Bay?\" \n",
            "\n",
            "\"Yes, I choose not. Fatfort analyzing; in all kind lower you say you're coming at all, it's all where to true \n",
            "your foreign man. Nothing else to tell it moves. I could approach with my minds and be to me. Now \n",
            "\n",
            "\n",
            "\n",
            "\n",
            "\n",
            "----------------------------------------------------------------------------------------------------\n",
            "The Mule was in compliment breaking with his \n",
            "word - which established a chair at the back as he was in their ground. \n",
            "\n",
            "Before a Galaxy foundry technical situation of a nothing to look down, either; and friendships, \n",
            "had been pretty held creature his domain of the same day; he had what he was shouting for \n",
            "\n",
            "\n",
            "\n",
            "silvery well-gard and beated on Lee over the arms. In the social science, the center, when it \n",
            "was a guessure of nuclear blast psychologists by human may considered that would be a put to \n",
            "Trantor \n",
            "----------------------------------------------------------------------------------------------------\n",
            "The Mule fall followed us peevishly six to \n",
            "dominations to democrat, where it seems to know it for us. Yet no one thing about Demands \n",
            "overthrown, except for the most events - and that sort of the end. The inhabited knowledge of \n",
            "the Lens of these Tradings, spleading between their ships that remnant on the vast sick as \n",
            "their beings are no longer at at all, their drawing fellow, eh? For my lavish curs are 1 4th, are \n",
            "being ignored. You can know about it, and I'm afraid you Toran.\" \n",
            "\n",
            "Her leaned following\n",
            "----------------------------------------------------------------------------------------------------\n",
            "The Mule leaned Toran. \n",
            "\n",
            "The mere sharpened casually. Since the Second Foundation as a matter of borseems that would \n",
            "are could remain conceance ... accurate to a call it. We ought for me the Foundation in spite the \n",
            "name and of the promise's machine and worship while Mallow drew in his fingers were in entirely \n",
            "distances. What would you be do.\" \n",
            "\n",
            "\"Are you supposed to me, sir?\" \n",
            "\n",
            "\"What did you get out of it? You'd better the curls from one near to change you put a single \n",
            "silent me.\" \n",
            "\n",
            "\"You mean sure fr\n",
            "----------------------------------------------------------------------------------------------------\n",
            "The Mule were fillmer between - whip\" \n",
            "\n",
            "\"Sub-\" \n",
            "\n",
            "Hardin started into the visitors. They were six only open notice for the world. We've been \n",
            "warned with infanital is more about turned. Well, Ebling Mis was companying on the table, \n",
            "until the door with the consolidation of order.\" \n",
            "\n",
            "\"So!\" \n",
            "\n",
            "Magnifico shook his head. \"Yes? Very well, get in fifty years.\" \n",
            "\n",
            "They came to be sure of a ... was on to duble with its mine in them. At least, or I'll .. now \n",
            "they're done so for put you.\" \n",
            "\n",
            "\"You can't afraid those \n",
            "----------------------------------------------------------------------------------------------------\n",
            "The Mule had to do it for \n",
            "three centuries after. It was just started - It appeared out the planet thirty, crises and I \n",
            "flat the screen.\" \n",
            "\n",
            "Twice Mallow left on, and Bayta said, \"You will pay notice that before one to he found a general \n",
            "understanding. A day need for the olds tubborn at the Foundation's early uncountrolled \n",
            "\n",
            "\n",
            "\n",
            "\n",
            "metal - but you could have just as made to your attempt. Now then, eh? And if the captain \n",
            "shows before not even if I am only to consider therefore. It is a little fabric to cut\n",
            "----------------------------------------------------------------------------------------------------\n",
            "The Mule had come here for the surface was at once of a relief?\" \n",
            "\n",
            "What was the first time? He was easy. \"It opened my stations with to penetrate - and hold - \n",
            "and a relative beginning me of was the Psychic Probe. What kind of this us, my lady, \n",
            "service was irrelevant in one of the Temporal was in the lieutenant without of events of the full weapons \n",
            "of a Fable transmitter with an almost useful gesture. \n",
            "\n",
            "There were they remembers, as have they are but they had the Vault and the Mule's imagination stopp\n"
          ]
        }
      ]
    },
    {
      "cell_type": "code",
      "source": [
        "\"\"\"\n",
        "Hardin, I say!\" \n",
        "\n",
        "His voice was an artificial cluster. \"Did he to be detected. Where should himself to be strong, \n",
        "while I tell you I hear you the Plan, get into the Galaxy and you think I ask like the televisors \n",
        "of Salvor Hardin. You may be it fifty you have developed to him that anywhere, and I've been \n",
        "affective is it right to to have your prisoner?\" \n",
        "\n",
        "\"I don't quite him of the correct - and threats are not betray lost in the apiece of cloaking as \n",
        "sky. Yes, then we can't help?\" \n",
        "\"\"\"\n",
        "1"
      ],
      "metadata": {
        "id": "aIhBXW-Nvp07"
      },
      "execution_count": null,
      "outputs": []
    }
  ]
}