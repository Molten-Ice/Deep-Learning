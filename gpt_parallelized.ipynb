{
  "nbformat": 4,
  "nbformat_minor": 0,
  "metadata": {
    "colab": {
      "provenance": [],
      "authorship_tag": "ABX9TyPb0FksEhD9464/FRDgdQQn",
      "include_colab_link": true
    },
    "kernelspec": {
      "name": "python3",
      "display_name": "Python 3"
    },
    "language_info": {
      "name": "python"
    },
    "accelerator": "GPU",
    "gpuClass": "standard"
  },
  "cells": [
    {
      "cell_type": "markdown",
      "metadata": {
        "id": "view-in-github",
        "colab_type": "text"
      },
      "source": [
        "<a href=\"https://colab.research.google.com/github/Molten-Ice/Deep-Learning/blob/dev/gpt_parallelized.ipynb\" target=\"_parent\"><img src=\"https://colab.research.google.com/assets/colab-badge.svg\" alt=\"Open In Colab\"/></a>"
      ]
    },
    {
      "cell_type": "markdown",
      "source": [
        "## Hyperparameters"
      ],
      "metadata": {
        "id": "FsJuMTN6sDUy"
      }
    },
    {
      "cell_type": "code",
      "source": [
        "# hyperparameters\n",
        "batch_size = 64 # num independent sequences processed in parallel \n",
        "block_size = 256 # maximum context length\n",
        "\n",
        "max_iterations = 10001 # training iterations\n",
        "eval_interval = 500 # after how many iterations to print out loss & accuracy\n",
        "eval_iterations = 50 # batches to average over during evaluation\n",
        "\n",
        "train_split = 0.9\n",
        "\n",
        "dropout = 0.2\n",
        "learning_rate = 1e-3 #3e-4\n",
        "\n",
        "# model architecture\n",
        "n_heads = 6\n",
        "n_embedding = 384 # each head has dim 64 (=384/6)\n",
        "n_layer = 6"
      ],
      "metadata": {
        "id": "4hdDx_6_sOiW"
      },
      "execution_count": 1,
      "outputs": []
    },
    {
      "cell_type": "markdown",
      "source": [
        "## Imports "
      ],
      "metadata": {
        "id": "Squ7V9CRt-oP"
      }
    },
    {
      "cell_type": "code",
      "source": [
        "try:\n",
        "    import einops\n",
        "except:\n",
        "    print(f\"einops not installed as required, installing...\")\n",
        "    !pip3 install einops\n",
        "    import einops\n",
        "\n",
        "from einops import rearrange, reduce, repeat\n",
        "\n",
        "import torch\n",
        "import torch.nn as nn\n",
        "import time"
      ],
      "metadata": {
        "id": "xvZXdhgCsGk5"
      },
      "execution_count": 2,
      "outputs": []
    },
    {
      "cell_type": "code",
      "source": [
        "device = 'cuda' if torch.cuda.is_available() else 'cpu'\n",
        "print(f\"on device: {device}\")"
      ],
      "metadata": {
        "colab": {
          "base_uri": "https://localhost:8080/"
        },
        "id": "coylNu1tsRmk",
        "outputId": "799d9fb7-26de-412e-a1e9-37a46c30863b"
      },
      "execution_count": 3,
      "outputs": [
        {
          "output_type": "stream",
          "name": "stdout",
          "text": [
            "on device: cuda\n"
          ]
        }
      ]
    },
    {
      "cell_type": "markdown",
      "source": [
        "## Download and pre-process data"
      ],
      "metadata": {
        "id": "peUiLi_4sUJh"
      }
    },
    {
      "cell_type": "code",
      "source": [
        "# Importing data\n",
        "data_file_path = 'https://raw.githubusercontent.com/Molten-Ice/Deep-Learning/main/Data/foundation.txt'\n",
        "import requests\n",
        "r = requests.get(data_file_path)\n",
        "text = r.text\n",
        "\n",
        "print(f\"Length of foundation.txt: {len(text)} characters\")\n",
        "print(text[:250])\n",
        "\n",
        "chars = sorted(list(set(text)))\n",
        "n_chars = len(chars)\n",
        "print(f\"There are {n_chars} unique characters, namely: {''.join(chars)}\")\n",
        "\n",
        "ctoi = {ch:i for i, ch in enumerate(chars)} # characters to integers\n",
        "itoc = {i:ch for i, ch in enumerate(chars)} # integers to character\n",
        "encode = lambda s: [ctoi[ch] for ch in s]\n",
        "decode = lambda l: ''.join([itoc[i] for i in l])\n",
        "print(encode(\"Hello world!\"))\n",
        "print(decode(encode(\"Foo Bar!\")))\n",
        "\n",
        "data = torch.tensor(encode(text), dtype=torch.long)\n",
        "n = int(len(data) * 0.9)\n",
        "train_data = data[:n]\n",
        "test_data = data[n:]\n",
        "print(f\"train data length: {len(train_data)} | test data length: {len(test_data)}\")"
      ],
      "metadata": {
        "colab": {
          "base_uri": "https://localhost:8080/"
        },
        "id": "3XvR_WbCsWVb",
        "outputId": "27891fcf-a390-4a7d-bc2b-38b362a3bea9"
      },
      "execution_count": 4,
      "outputs": [
        {
          "output_type": "stream",
          "name": "stdout",
          "text": [
            "Length of foundation.txt: 1240544 characters\n",
            "FOUNDATION \n",
            "ISAAC ASIMOV \n",
            "\n",
            "PART I \n",
            "\n",
            "THE PSYCHOHISTORIANS \n",
            "\n",
            "i. \n",
            "\n",
            "HARI SELDON-... bom In the 1 1,988th year of the Galactic Era; died 12,069. The dates are \n",
            "more commonly given In terms of the current Foundational Era as - 79 to the year 1 F.E. Born \n",
            "t\n",
            "There are 84 unique characters, namely: \n",
            " !\"#%'()*,-./0123456789:;?ABCDEFGHIJKLMNOPQRSTUVWXYZ\\abcdefghijklmnopqrstuvwxyz—‘’”\n",
            "[34, 58, 65, 65, 68, 1, 76, 68, 71, 65, 57, 2]\n",
            "Foo Bar!\n",
            "train data length: 1116489 | test data length: 124055\n"
          ]
        }
      ]
    },
    {
      "cell_type": "code",
      "source": [
        "def get_batches(split='train') -> tuple:\n",
        "  data = train_data if split == 'train' else test_data\n",
        "  idxs = torch.randint(len(data)-block_size, (batch_size, ))\n",
        "  xb = torch.stack([data[i:i+block_size] for i in idxs])\n",
        "  yb = torch.stack([data[i+1:i+block_size+1] for i in idxs])\n",
        "  xb, yb = xb.to(device), yb.to(device)\n",
        "  return xb, yb\n",
        "\n",
        "xb, yb = get_batches()\n",
        "print(xb.shape, yb.shape)"
      ],
      "metadata": {
        "colab": {
          "base_uri": "https://localhost:8080/"
        },
        "id": "WOE-tTe-sdOE",
        "outputId": "fbb23651-d2ec-4cd0-b765-695578c83985"
      },
      "execution_count": 5,
      "outputs": [
        {
          "output_type": "stream",
          "name": "stdout",
          "text": [
            "torch.Size([64, 256]) torch.Size([64, 256])\n"
          ]
        }
      ]
    },
    {
      "cell_type": "code",
      "source": [],
      "metadata": {
        "id": "DV6HMdzKn_FE"
      },
      "execution_count": 5,
      "outputs": []
    },
    {
      "cell_type": "code",
      "source": [
        "def evaluate_model(model: nn.Module, eval_iterations = eval_iterations) -> dict:\n",
        "  t_eval = time.time()\n",
        "  model.eval()\n",
        "  with torch.inference_mode():\n",
        "    splits = ['train', 'test']\n",
        "    categories = ['loss', 'top1', 'top5']\n",
        "    all = {s:{c: torch.zeros(eval_iterations) for c in categories} for s in splits}\n",
        "    for split in splits:\n",
        "      for i in range(eval_iterations):\n",
        "        xb, yb = get_batches(split = split)\n",
        "        logits, loss = model(xb, yb)\n",
        "        all[split]['loss'][i] = loss.item()\n",
        "\n",
        "        # top@1 accuracy\n",
        "        top1_preds = torch.topk(logits, 1, dim = -1).indices.squeeze(dim=-1)\n",
        "        all[split]['top1'][i] = 100*(torch.sum(top1_preds == yb) / torch.numel(yb)).item()\n",
        "        # top@5 accuracy\n",
        "        top5_preds = torch.topk(logits, 5, dim = -1).indices\n",
        "        y_stretched = repeat(yb, 'B T -> B T K', K = 5)\n",
        "        all[split]['top5'][i] = 100*(torch.sum(top5_preds == y_stretched) / torch.numel(yb)).item()\n",
        "  model.train()\n",
        "\n",
        "  output_dict = {split:list(map(lambda a: round(a.mean().item(), 4), all[split].values())) for split in splits}\n",
        "  output_dict['eval_time'] = round(time.time()-t_eval, 2)\n",
        "  return output_dict\n",
        "\n",
        "def format_output(output_dict, iter, train_time, loss):\n",
        "  array = [iter,\"|\"]+output_dict['train']+['|']+output_dict['test']+['|']+[round(train_time,2),output_dict['eval_time'],'|',round(loss.item(),4)]\n",
        "  title = 'iteration |  loss    top@1(%)    top@5(%)  |  loss    top@1(%)    top@5(%)  |  train_time(s)   eval_time(s)'\n",
        "  if iter == 0:\n",
        "    print(\"----------|-------------TRAIN--------------|--------------TEST--------------|-------------TIMING--------------\")\n",
        "  idxs = [0]\n",
        "  for j in range(len(title)-1): \n",
        "    if title[j] == \" \" and title[j+1] != \" \": idxs.append(j+1)\n",
        "  output_str = \"\"\n",
        "  for i in range(len(idxs)): output_str+=\" \"*(idxs[i]-len(output_str)) + f\"{array[i]}\"\n",
        "  return output_str"
      ],
      "metadata": {
        "id": "fp4fhWd8qGXF"
      },
      "execution_count": 6,
      "outputs": []
    },
    {
      "cell_type": "markdown",
      "source": [
        "## GPT model"
      ],
      "metadata": {
        "id": "Bggp0svTsl5k"
      }
    },
    {
      "cell_type": "code",
      "source": [
        "class MultiHeadAttention(nn.Module):\n",
        "  # parallelized attention heads\n",
        "  \n",
        "  def __init__(self):\n",
        "    super().__init__()\n",
        "    head_size = n_embedding // n_heads\n",
        "    self.scale_factor = head_size**-0.5 # This scaling factor makes an INSANE difference\n",
        "\n",
        "    #generating q,k,v for all n_heads at once\n",
        "    self.qkv_linear = nn.Linear(n_embedding, head_size*n_heads*3) \n",
        "    self.register_buffer('tril', torch.tril(torch.ones(block_size, block_size)))\n",
        "    self.dropout = nn.Dropout(dropout)\n",
        "    self.linear = nn.Sequential(\n",
        "        nn.Linear(head_size*n_heads, n_embedding),\n",
        "        nn.Dropout(dropout))\n",
        "    \n",
        "  def forward(self, x: torch.Tensor) -> torch.Tensor:\n",
        "    B,T,C = x.shape #[64, 256, 384])\n",
        "    qkv = self.qkv_linear(x) # [64, 256, 1152]\n",
        "    q, k, v =  rearrange(qkv, 'b t (qvk h c) -> qvk b h t c', qvk=3, h=n_heads) #torch.Size([3, 64, 6, 256, 64])\n",
        "\n",
        "    mat_mul = q@rearrange(k, 'b h t c -> b h c t') * self.scale_factor\n",
        "    mat_mul = mat_mul.masked_fill(self.tril[:T, :T]==0, float('-inf'))\n",
        "    mat_mul = nn.functional.softmax(mat_mul, dim = -1)\n",
        "    mat_mul = self.dropout(mat_mul)\n",
        "    mat_mul = mat_mul@v\n",
        "    flattened = rearrange(mat_mul, 'b h t c -> b t (h c)')\n",
        "    linear = self.linear(flattened)\n",
        "    return flattened\n",
        "\n",
        "class FeedFoward(nn.Module):\n",
        "  def __init__(self):\n",
        "    super().__init__()\n",
        "    self.feed_forward = nn.Sequential(\n",
        "        nn.Linear(n_embedding, 4*n_embedding),\n",
        "        nn.GELU(),\n",
        "        nn.Linear(4*n_embedding, n_embedding),\n",
        "        nn.Dropout(dropout))\n",
        "    \n",
        "  def forward(self, x: torch.Tensor) -> torch.Tensor:\n",
        "    return self.feed_forward(x)\n",
        "\n",
        "class Transformer(nn.Module):\n",
        "\n",
        "  def __init__(self):\n",
        "    super().__init__()\n",
        "    self.multi_attention = MultiHeadAttention() \n",
        "    self.feed_forward = FeedFoward()\n",
        "    self.ln1 = nn.LayerNorm(n_embedding)\n",
        "    self.ln2 = nn.LayerNorm(n_embedding)\n",
        "\n",
        "  def forward(self, x: torch.Tensor) -> torch.Tensor:\n",
        "    x = x + self.multi_attention(self.ln1(x))\n",
        "    x = x + self.feed_forward(self.ln2(x))\n",
        "    return x\n",
        "\n",
        "class GPT(nn.Module):\n",
        "  def __init__(self):\n",
        "      super().__init__()\n",
        "\n",
        "      self.token_embedding = nn.Embedding(n_chars, n_embedding)\n",
        "      self.positional_encoding = nn.Embedding(block_size, n_embedding)\n",
        "\n",
        "      self.transformers = nn.Sequential(*[Transformer() for _ in range(n_layer)])\n",
        "\n",
        "      self.final_ln = nn.LayerNorm(n_embedding)\n",
        "      self.final_linear = nn.Linear(n_embedding, n_chars)\n",
        "\n",
        "  def forward(self, x: torch.Tensor, targets = None) -> torch.Tensor:\n",
        "    B, T, C = x.shape\n",
        "    te = self.token_embedding(x) # (B T C)\n",
        "    pe = self.positional_encoding(torch.arange(T, device = device))\n",
        "    x = te + pe \n",
        "    x = self.transformers(x)\n",
        "    x = self.final_ln(x)\n",
        "    logits = self.final_linear(x)\n",
        "    if targets == None:\n",
        "      loss = None\n",
        "    else:\n",
        "      loss = nn.functional.cross_entropy(logits.view(B*T, C), targets.view(B*T))\n",
        "\n",
        "    return logits, loss\n",
        "\n",
        "  @torch.no_grad()\n",
        "  def generate(self, idxs, length_to_generate=500) -> torch.Tensor:\n",
        "    self.eval()\n",
        "    for _ in range(length_to_generate):\n",
        "      logits, loss = self(idxs[:, -block_size:])\n",
        "      probs = nn.functional.softmax(logits[:, -1, :], dim = -1)\n",
        "      pred = torch.multinomial(probs, 1)\n",
        "      idxs = torch.cat((idxs, pred), dim = -1) # (B, T+1)\n",
        "    self.train()\n",
        "    return idxs\n",
        "\n",
        "gpt_model = GPT().to(device)\n",
        "print(f'gpt model parameters are on device: {next(gpt_model.parameters()).device}')\n",
        "xb, yb = get_batches()\n",
        "logits, loss = gpt_model(xb, yb)\n",
        "print(f\"{logits.shape}, {loss.item():.4f}\")\n",
        "print(f\"{sum(p.numel() for p in gpt_model.parameters())/1e6:.4f} Million Parameters\")\n",
        "print()\n",
        "context = torch.zeros((1, 1), dtype = torch.long,  device = device)\n",
        "print(decode(gpt_model.generate(context, length_to_generate=100)[0].tolist()))"
      ],
      "metadata": {
        "colab": {
          "base_uri": "https://localhost:8080/"
        },
        "id": "RGNsdCj0t1YV",
        "outputId": "fc7153b6-b938-4521-ae1a-56e1368481e1"
      },
      "execution_count": 7,
      "outputs": [
        {
          "output_type": "stream",
          "name": "stdout",
          "text": [
            "gpt model parameters are on device: cuda:0\n",
            "torch.Size([64, 256, 84]), 4.5826\n",
            "10.8105 Million Parameters\n",
            "\n",
            "\n",
            "WNhIAq!o”—\n",
            "VysH‘fshDOBz!\n",
            "YqKtYc 6O.3cdc%zbj*L'AFWb”’mg74-/bYA6Tsh.kE:p!—”yNG,5.2U2H5*(R UkenFg76io n\n"
          ]
        }
      ]
    },
    {
      "cell_type": "code",
      "source": [],
      "metadata": {
        "id": "6mGNIIfEkA67"
      },
      "execution_count": 12,
      "outputs": []
    },
    {
      "cell_type": "markdown",
      "source": [
        "## Training loop"
      ],
      "metadata": {
        "id": "6Ltcc2vgvx2M"
      }
    },
    {
      "cell_type": "code",
      "source": [
        "### Training loop\n",
        "optimizer = torch.optim.AdamW(params = gpt_model.parameters(), lr = learning_rate)\n",
        "scheduler = torch.optim.lr_scheduler.CosineAnnealingWarmRestarts(optimizer, T_0 = 200) # T_mult=2"
      ],
      "metadata": {
        "id": "ZSOsXfdCksIy"
      },
      "execution_count": 8,
      "outputs": []
    },
    {
      "cell_type": "code",
      "source": [
        "from tqdm import tqdm\n",
        "losses = []\n",
        "lrs = []\n",
        "\n",
        "t_train = time.time()\n",
        "t_train_full = time.time()\n",
        "print(f\"n_heads:{n_heads} | n_embedding: {n_embedding} | n_layer: {n_layer} num_params: {sum(p.numel() for p in gpt_model.parameters())/1e6:.4f} Million Parameters\")\n",
        "# for i in tqdm(range(max_iterations)):\n",
        "for i in range(max_iterations):\n",
        "  xb, yb = get_batches()\n",
        "  logits, loss = gpt_model(xb, yb)\n",
        "  if i % eval_interval == 0:\n",
        "    train_time = time.time()-t_train\n",
        "    output_dict = evaluate_model(gpt_model)\n",
        "    print(format_output(output_dict, i, train_time, loss))\n",
        "    t_train = time.time()\n",
        "  losses.append(loss.item())\n",
        "  lrs.append(scheduler.get_last_lr())\n",
        "  optimizer.zero_grad(set_to_none=True)\n",
        "  loss.backward()\n",
        "  optimizer.step()\n",
        "  scheduler.step()\n",
        "print(f\"\\n Time taken for {max_iterations} iterations: {time.time()-t_train_full:.2f} seconds\")"
      ],
      "metadata": {
        "colab": {
          "base_uri": "https://localhost:8080/",
          "height": 522
        },
        "id": "nxPbk2IMvu5f",
        "outputId": "e469bbf6-0a5f-49d0-e616-7878bb2ab82a"
      },
      "execution_count": 11,
      "outputs": [
        {
          "output_type": "stream",
          "name": "stdout",
          "text": [
            "n_heads:6 | n_embedding: 384 | n_layer: 6 num_params: 10.8105 Million Parameters\n"
          ]
        },
        {
          "output_type": "stream",
          "name": "stderr",
          "text": [
            "\r  0%|          | 0/5001 [00:00<?, ?it/s]"
          ]
        },
        {
          "output_type": "stream",
          "name": "stdout",
          "text": [
            "----------|-------------TRAIN--------------|--------------TEST--------------|-------------TIMING--------------\n",
            "0         |  1.2279  61.9169     88.8439   |  1.2998  60.5128     87.8404   |  0.05            14.39\n"
          ]
        },
        {
          "output_type": "stream",
          "name": "stderr",
          "text": [
            "  2%|▏         | 76/5001 [00:45<49:03,  1.67it/s]\n"
          ]
        },
        {
          "output_type": "error",
          "ename": "KeyboardInterrupt",
          "evalue": "ignored",
          "traceback": [
            "\u001b[0;31m---------------------------------------------------------------------------\u001b[0m",
            "\u001b[0;31mKeyboardInterrupt\u001b[0m                         Traceback (most recent call last)",
            "\u001b[0;32m<ipython-input-11-dc456d6c83b0>\u001b[0m in \u001b[0;36m<module>\u001b[0;34m\u001b[0m\n\u001b[1;32m     19\u001b[0m \u001b[0;34m\u001b[0m\u001b[0m\n\u001b[1;32m     20\u001b[0m   \u001b[0moptimizer\u001b[0m\u001b[0;34m.\u001b[0m\u001b[0mzero_grad\u001b[0m\u001b[0;34m(\u001b[0m\u001b[0mset_to_none\u001b[0m\u001b[0;34m=\u001b[0m\u001b[0;32mTrue\u001b[0m\u001b[0;34m)\u001b[0m\u001b[0;34m\u001b[0m\u001b[0;34m\u001b[0m\u001b[0m\n\u001b[0;32m---> 21\u001b[0;31m   \u001b[0mloss\u001b[0m\u001b[0;34m.\u001b[0m\u001b[0mbackward\u001b[0m\u001b[0;34m(\u001b[0m\u001b[0;34m)\u001b[0m\u001b[0;34m\u001b[0m\u001b[0;34m\u001b[0m\u001b[0m\n\u001b[0m\u001b[1;32m     22\u001b[0m   \u001b[0moptimizer\u001b[0m\u001b[0;34m.\u001b[0m\u001b[0mstep\u001b[0m\u001b[0;34m(\u001b[0m\u001b[0;34m)\u001b[0m\u001b[0;34m\u001b[0m\u001b[0;34m\u001b[0m\u001b[0m\n\u001b[1;32m     23\u001b[0m   \u001b[0mscheduler\u001b[0m\u001b[0;34m.\u001b[0m\u001b[0mstep\u001b[0m\u001b[0;34m(\u001b[0m\u001b[0;34m)\u001b[0m\u001b[0;34m\u001b[0m\u001b[0;34m\u001b[0m\u001b[0m\n",
            "\u001b[0;32m/usr/local/lib/python3.9/dist-packages/torch/_tensor.py\u001b[0m in \u001b[0;36mbackward\u001b[0;34m(self, gradient, retain_graph, create_graph, inputs)\u001b[0m\n\u001b[1;32m    486\u001b[0m                 \u001b[0minputs\u001b[0m\u001b[0;34m=\u001b[0m\u001b[0minputs\u001b[0m\u001b[0;34m,\u001b[0m\u001b[0;34m\u001b[0m\u001b[0;34m\u001b[0m\u001b[0m\n\u001b[1;32m    487\u001b[0m             )\n\u001b[0;32m--> 488\u001b[0;31m         torch.autograd.backward(\n\u001b[0m\u001b[1;32m    489\u001b[0m             \u001b[0mself\u001b[0m\u001b[0;34m,\u001b[0m \u001b[0mgradient\u001b[0m\u001b[0;34m,\u001b[0m \u001b[0mretain_graph\u001b[0m\u001b[0;34m,\u001b[0m \u001b[0mcreate_graph\u001b[0m\u001b[0;34m,\u001b[0m \u001b[0minputs\u001b[0m\u001b[0;34m=\u001b[0m\u001b[0minputs\u001b[0m\u001b[0;34m\u001b[0m\u001b[0;34m\u001b[0m\u001b[0m\n\u001b[1;32m    490\u001b[0m         )\n",
            "\u001b[0;32m/usr/local/lib/python3.9/dist-packages/torch/autograd/__init__.py\u001b[0m in \u001b[0;36mbackward\u001b[0;34m(tensors, grad_tensors, retain_graph, create_graph, grad_variables, inputs)\u001b[0m\n\u001b[1;32m    195\u001b[0m     \u001b[0;31m# some Python versions print out the first line of a multi-line function\u001b[0m\u001b[0;34m\u001b[0m\u001b[0;34m\u001b[0m\u001b[0m\n\u001b[1;32m    196\u001b[0m     \u001b[0;31m# calls in the traceback and some print out the last line\u001b[0m\u001b[0;34m\u001b[0m\u001b[0;34m\u001b[0m\u001b[0m\n\u001b[0;32m--> 197\u001b[0;31m     Variable._execution_engine.run_backward(  # Calls into the C++ engine to run the backward pass\n\u001b[0m\u001b[1;32m    198\u001b[0m         \u001b[0mtensors\u001b[0m\u001b[0;34m,\u001b[0m \u001b[0mgrad_tensors_\u001b[0m\u001b[0;34m,\u001b[0m \u001b[0mretain_graph\u001b[0m\u001b[0;34m,\u001b[0m \u001b[0mcreate_graph\u001b[0m\u001b[0;34m,\u001b[0m \u001b[0minputs\u001b[0m\u001b[0;34m,\u001b[0m\u001b[0;34m\u001b[0m\u001b[0;34m\u001b[0m\u001b[0m\n\u001b[1;32m    199\u001b[0m         allow_unreachable=True, accumulate_grad=True)  # Calls into the C++ engine to run the backward pass\n",
            "\u001b[0;31mKeyboardInterrupt\u001b[0m: "
          ]
        }
      ]
    },
    {
      "cell_type": "code",
      "source": [
        "# n_heads:6 | n_embedding: 384 | n_layer: 6 num_params: 10.8105 Million Parameters\n",
        "# ----------|-------------TRAIN--------------|--------------TEST--------------|-------------TIMING--------------\n",
        "# 0         |  4.5876  0.9868      5.2322    |  4.587   0.9653      5.2709    |  0.02            14.52\n",
        "# 500       |  1.8428  44.7249     79.7544   |  1.8571  44.7034     79.4778   |  197.86          14.36\n",
        "# 1000      |  1.3952  57.416      86.7649   |  1.4395  56.4691     86.054    |  197.48          14.3\n",
        "# 1500      |  1.2384  61.7625     88.747    |  1.3163  60.1064     87.6062   |  196.82          14.31"
      ],
      "metadata": {
        "id": "dj7AaPjNqn21"
      },
      "execution_count": null,
      "outputs": []
    },
    {
      "cell_type": "code",
      "source": [
        "import matplotlib.pyplot as plt\n",
        "\n",
        "\n",
        "plt.plot(losses)\n",
        "plt.title(\"Losses\")\n",
        "plt.show()\n",
        "\n",
        "plt.plot(lrs)\n",
        "plt.title(\"Learning rates\")\n",
        "plt.show()"
      ],
      "metadata": {
        "id": "60wh1ZCpmbnW"
      },
      "execution_count": null,
      "outputs": []
    },
    {
      "cell_type": "code",
      "source": [
        "# n_heads:6 | n_embedding: 384 | n_layer: 6 num_params: 10.8105 Million Parameters\n",
        "# ----------|---------TRAIN----------|-----------TEST---------|----------TIMING---------\n",
        "# iteration |  loss    top@1(%)    top@5(%)  |  loss    top@1(%)    top@5(%)  |  train_time(s)   eval_time(s)\n",
        "# 0         |  4.609   1.4062      6.776     |  4.6062  1.4199      6.8174    |  0.02            13.45\n",
        "# 500       |  2.2564  33.6514     71.0287   |  2.2728  33.572      71.0531   |  193.58          14.29\n",
        "\n",
        "\n",
        "\n",
        "\n",
        "#Without lr scheduling:\n",
        "# 1.6008   51.8492  83.8604  1.6299   51.4921  83.3701  29.4928 ### iter: 1000 | loss: 1.6817 | train interval: 40.49 seconds\n",
        "# With: \n",
        "#  1.4235   56.5724  86.4524  1.4637   55.8688  85.8688  7.8572 ### iter: 1000 | loss: 1.5045 | train interval: 209.32 seconds\n",
        "#  1.2842   60.4039  88.2113  1.3478   59.2382  87.2946  7.8786 ### iter: 1000 | loss: 1.3604 | train interval: 208.99 seconds\n",
        "# With lr scheduling\n",
        "\n",
        "\n",
        "# n_heads:6 | n_embedding: 384 | n_layer: 1 num_params: 1.9381 Million Parameters\n",
        "# ---------TRAIN----------|-----------TEST-----------|--TIMING----------\n",
        "# loss     top@1    top@5 |  loss     top@1    top@5 |  eval_time\n",
        "# 4.6333   0.9825   5.1626   4.6361   0.9424   5.0534   10.8289### iter: 0 | loss: 4.6345 | train time interval: 0.01 seconds\n",
        "# 2.5013   27.6460  66.2090  2.5089   27.8167  66.1908  10.9146### iter: 100 | loss: 2.5085 | train time interval: 7.76 seconds\n",
        "# ↓↓↓↓↓↓↓↓↓↓↓↓↓↓↓↓↓↓↓↓↓↓↓↓↓↓↓↓↓↓↓↓↓↓↓↓↓↓↓↓↓↓↓↓↓↓↓↓↓↓↓↓↓↓↓↓↓↓↓↓↓↓↓↓↓↓↓↓↓↓↓↓↓↓↓↓↓↓↓↓↓\n",
        "# n_heads:6 | n_embedding: 384 | n_layer: 1 num_params: 1.9381 Million Parameters\n",
        "# ---------TRAIN----------|-----------TEST-----------|--TIMING----------\n",
        "# loss     top@1    top@5 |  loss     top@1    top@5 |  eval_time\n",
        "# 4.6681   0.7924   4.6143   4.6686   0.7852   4.5937   10.1680### iter: 0 | loss: 4.6672 | train time interval: 0.01 seconds\n",
        "# 2.5054   27.4399  65.9486  2.5082   27.7022  66.0398  10.2297### iter: 100 | loss: 2.5171 | train time interval: 6.53 seconds\n",
        "\n",
        "# n_heads:6 | n_embedding: 384 | n_layer: 3 num_params: 5.4871 Million Parameters\n",
        "# ---------TRAIN----------|-----------TEST-----------|--TIMING----------\n",
        "# loss     top@1    top@5 |  loss     top@1    top@5 |  eval_time\n",
        "# 4.5404   1.0071   6.0883   4.5384   0.9906   6.0388   27.0759 ### iter: 0 | loss: 4.5422 | train interval: 0.01 seconds\n",
        "# 1.6008   51.8492  83.8604  1.6299   51.4921  83.3701  29.4928 ### iter: 1000 | loss: 1.6817 | train interval: 40.49 seconds\n",
        "# 1.3288   59.2941  87.6776  1.3815   58.2792  86.9174  29.4365 ### iter: 2000 | loss: 1.4048 | train interval: 40.43 seconds\n",
        "# 1.2257   62.0692  88.9917  1.3111   60.4550  87.8633  29.5504 ### iter: 3000 | loss: 1.3113 | train interval: 40.44 seconds\n",
        "# 1.1591   63.8813  89.7406  1.2798   61.5125  88.2186  29.9780 ### iter: 4000 | loss: 1.2632 | train interval: 40.42 seconds\n",
        "# 1.1068   65.3377  90.3494  1.2654   62.0324  88.2828  29.5430 ### iter: 5000 | loss: 1.2179 | train interval: 40.44 seconds\n",
        "# Time taken for 5001 iterations: 1770.78 seconds (would be 1000 seconds if I evaluated every 1000 iterations, not 200)\n",
        "# Note: #16 mins of training time, and 12 mins of eval time. Should just check every 1000 iterations(accidentally set it to 200)"
      ],
      "metadata": {
        "id": "bsXaKqQ90_Am"
      },
      "execution_count": null,
      "outputs": []
    },
    {
      "cell_type": "code",
      "source": [
        "context = torch.zeros((1, 1), dtype = torch.long,  device = device)\n",
        "print(decode(gpt_model.generate(context, length_to_generate=200)[0].tolist()))"
      ],
      "metadata": {
        "id": "NHpJvOw31J-m"
      },
      "execution_count": null,
      "outputs": []
    },
    {
      "cell_type": "code",
      "source": [
        "for i in range(20):\n",
        "  print(\"-\"*100)\n",
        "  sentence = \"James Davey,\"\n",
        "  context= torch.tensor([encode(sentence)], dtype = torch.long, device = device)\n",
        "  print(decode(gpt_model.generate(context, length_to_generate=500)[0].tolist()))"
      ],
      "metadata": {
        "id": "V58WPDdjFWNQ"
      },
      "execution_count": null,
      "outputs": []
    },
    {
      "cell_type": "code",
      "source": [],
      "metadata": {
        "id": "cmLUbTUGFotP"
      },
      "execution_count": null,
      "outputs": []
    },
    {
      "cell_type": "code",
      "source": [],
      "metadata": {
        "id": "2Y7-w7wtH7qA"
      },
      "execution_count": null,
      "outputs": []
    }
  ]
}