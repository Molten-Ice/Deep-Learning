{
  "nbformat": 4,
  "nbformat_minor": 0,
  "metadata": {
    "colab": {
      "provenance": [],
      "machine_shape": "hm",
      "authorship_tag": "ABX9TyMR06z/NIWkwoXNbkxV3HAI",
      "include_colab_link": true
    },
    "kernelspec": {
      "name": "python3",
      "display_name": "Python 3"
    },
    "language_info": {
      "name": "python"
    },
    "accelerator": "GPU",
    "gpuClass": "premium"
  },
  "cells": [
    {
      "cell_type": "markdown",
      "metadata": {
        "id": "view-in-github",
        "colab_type": "text"
      },
      "source": [
        "<a href=\"https://colab.research.google.com/github/Molten-Ice/Deep-Learning/blob/dev/gpt_parallelized.ipynb\" target=\"_parent\"><img src=\"https://colab.research.google.com/assets/colab-badge.svg\" alt=\"Open In Colab\"/></a>"
      ]
    },
    {
      "cell_type": "code",
      "source": [
        "gpu_info = !nvidia-smi\n",
        "gpu_info = '\\n'.join(gpu_info)\n",
        "if gpu_info.find('failed') >= 0:\n",
        "  print('Not connected to a GPU')\n",
        "else:\n",
        "  print(gpu_info)\n",
        "\n",
        "from psutil import virtual_memory\n",
        "ram_gb = virtual_memory().total / 1e9\n",
        "print('Your runtime has {:.1f} gigabytes of available RAM\\n'.format(ram_gb))\n",
        "\n",
        "if ram_gb < 20:\n",
        "  print('Not using a high-RAM runtime')\n",
        "else:\n",
        "  print('You are using a high-RAM runtime!')"
      ],
      "metadata": {
        "colab": {
          "base_uri": "https://localhost:8080/"
        },
        "id": "n9Np9Is46rwn",
        "outputId": "a77f7c4d-da6a-4d71-cc30-f2539242d1c6"
      },
      "execution_count": 1,
      "outputs": [
        {
          "output_type": "stream",
          "name": "stdout",
          "text": [
            "Tue Mar 14 18:26:49 2023       \n",
            "+-----------------------------------------------------------------------------+\n",
            "| NVIDIA-SMI 525.85.12    Driver Version: 525.85.12    CUDA Version: 12.0     |\n",
            "|-------------------------------+----------------------+----------------------+\n",
            "| GPU  Name        Persistence-M| Bus-Id        Disp.A | Volatile Uncorr. ECC |\n",
            "| Fan  Temp  Perf  Pwr:Usage/Cap|         Memory-Usage | GPU-Util  Compute M. |\n",
            "|                               |                      |               MIG M. |\n",
            "|===============================+======================+======================|\n",
            "|   0  NVIDIA A100-SXM...  Off  | 00000000:00:04.0 Off |                    0 |\n",
            "| N/A   34C    P0    49W / 400W |      0MiB / 40960MiB |      0%      Default |\n",
            "|                               |                      |             Disabled |\n",
            "+-------------------------------+----------------------+----------------------+\n",
            "                                                                               \n",
            "+-----------------------------------------------------------------------------+\n",
            "| Processes:                                                                  |\n",
            "|  GPU   GI   CI        PID   Type   Process name                  GPU Memory |\n",
            "|        ID   ID                                                   Usage      |\n",
            "|=============================================================================|\n",
            "|  No running processes found                                                 |\n",
            "+-----------------------------------------------------------------------------+\n",
            "Your runtime has 89.6 gigabytes of available RAM\n",
            "\n",
            "You are using a high-RAM runtime!\n"
          ]
        }
      ]
    },
    {
      "cell_type": "markdown",
      "source": [
        "## Hyperparameters"
      ],
      "metadata": {
        "id": "e-pDHXkq6sLi"
      }
    },
    {
      "cell_type": "code",
      "source": [
        "# hyperparameters\n",
        "batch_size = 64 # num independent sequences processed in parallel \n",
        "block_size = 256 # maximum context length\n",
        "\n",
        "max_iterations = 5001 # training iterations\n",
        "eval_interval = 500 # after how many iterations to print out loss & accuracy\n",
        "eval_iterations = 50 # batches to average over during evaluation\n",
        "\n",
        "train_split = 0.9\n",
        "\n",
        "dropout = 0.2\n",
        "learning_rate = 1e-3 #3e-4\n",
        "\n",
        "# model architecture\n",
        "n_heads = 6\n",
        "n_embedding = 384 # each head has dim 64 (=384/6)\n",
        "n_layer = 2 #6"
      ],
      "metadata": {
        "id": "4hdDx_6_sOiW"
      },
      "execution_count": 25,
      "outputs": []
    },
    {
      "cell_type": "markdown",
      "source": [
        "## Imports "
      ],
      "metadata": {
        "id": "Squ7V9CRt-oP"
      }
    },
    {
      "cell_type": "code",
      "source": [
        "try:\n",
        "    import einops\n",
        "except:\n",
        "    print(f\"einops not installed as required, installing...\")\n",
        "    !pip3 install einops\n",
        "    import einops\n",
        "\n",
        "from einops import rearrange, reduce, repeat\n",
        "\n",
        "import torch\n",
        "import torch.nn as nn\n",
        "import time"
      ],
      "metadata": {
        "id": "xvZXdhgCsGk5"
      },
      "execution_count": 26,
      "outputs": []
    },
    {
      "cell_type": "code",
      "source": [
        "device = 'cuda' if torch.cuda.is_available() else 'cpu'\n",
        "print(f\"on device: {device}\")"
      ],
      "metadata": {
        "colab": {
          "base_uri": "https://localhost:8080/"
        },
        "id": "coylNu1tsRmk",
        "outputId": "0d64d941-779e-4958-e45b-34cf215e9791"
      },
      "execution_count": 27,
      "outputs": [
        {
          "output_type": "stream",
          "name": "stdout",
          "text": [
            "on device: cuda\n"
          ]
        }
      ]
    },
    {
      "cell_type": "markdown",
      "source": [
        "## Download and pre-process data"
      ],
      "metadata": {
        "id": "peUiLi_4sUJh"
      }
    },
    {
      "cell_type": "code",
      "source": [
        "# Importing data\n",
        "data_file_path = 'https://raw.githubusercontent.com/Molten-Ice/Deep-Learning/main/Data/foundation.txt'\n",
        "import requests\n",
        "r = requests.get(data_file_path)\n",
        "text = r.text\n",
        "\n",
        "print(f\"Length of foundation.txt: {len(text)} characters\")\n",
        "print(text[:250])\n",
        "print()\n",
        "\n",
        "chars = sorted(list(set(text)))\n",
        "n_chars = len(chars)\n",
        "print(f\"There are {n_chars} unique characters, namely: {''.join(chars)}\")\n",
        "\n",
        "ctoi = {ch:i for i, ch in enumerate(chars)} # characters to integers\n",
        "itoc = {i:ch for i, ch in enumerate(chars)} # integers to character\n",
        "encode = lambda s: [ctoi[ch] for ch in s]\n",
        "decode = lambda l: ''.join([itoc[i] for i in l])\n",
        "print(encode(\"Hello world!\"))\n",
        "print(decode(encode(\"Foo Bar!\")))\n",
        "\n",
        "data = torch.tensor(encode(text), dtype=torch.long)\n",
        "n = int(len(data) * 0.9)\n",
        "train_data = data[:n]\n",
        "test_data = data[n:]\n",
        "print(f\"train data length: {len(train_data)} | test data length: {len(test_data)}\")"
      ],
      "metadata": {
        "colab": {
          "base_uri": "https://localhost:8080/"
        },
        "id": "3XvR_WbCsWVb",
        "outputId": "2b151220-d2cb-4b0b-90f7-f55ec340adfd"
      },
      "execution_count": 28,
      "outputs": [
        {
          "output_type": "stream",
          "name": "stdout",
          "text": [
            "Length of foundation.txt: 1240544 characters\n",
            "FOUNDATION \n",
            "ISAAC ASIMOV \n",
            "\n",
            "PART I \n",
            "\n",
            "THE PSYCHOHISTORIANS \n",
            "\n",
            "i. \n",
            "\n",
            "HARI SELDON-... bom In the 1 1,988th year of the Galactic Era; died 12,069. The dates are \n",
            "more commonly given In terms of the current Foundational Era as - 79 to the year 1 F.E. Born \n",
            "t\n",
            "\n",
            "There are 84 unique characters, namely: \n",
            " !\"#%'()*,-./0123456789:;?ABCDEFGHIJKLMNOPQRSTUVWXYZ\\abcdefghijklmnopqrstuvwxyz—‘’”\n",
            "[34, 58, 65, 65, 68, 1, 76, 68, 71, 65, 57, 2]\n",
            "Foo Bar!\n",
            "train data length: 1116489 | test data length: 124055\n"
          ]
        }
      ]
    },
    {
      "cell_type": "code",
      "source": [
        "def get_batches(split='train') -> tuple:\n",
        "  data = train_data if split == 'train' else test_data\n",
        "  idxs = torch.randint(len(data)-block_size, (batch_size, ))\n",
        "  xb = torch.stack([data[i:i+block_size] for i in idxs])\n",
        "  yb = torch.stack([data[i+1:i+block_size+1] for i in idxs])\n",
        "  xb, yb = xb.to(device), yb.to(device)\n",
        "  return xb, yb\n",
        "\n",
        "xb, yb = get_batches()\n",
        "print(xb.shape, yb.shape)"
      ],
      "metadata": {
        "colab": {
          "base_uri": "https://localhost:8080/"
        },
        "id": "WOE-tTe-sdOE",
        "outputId": "cc7c7fd6-1521-47e9-f3d2-bd08a6b28b47"
      },
      "execution_count": 29,
      "outputs": [
        {
          "output_type": "stream",
          "name": "stdout",
          "text": [
            "torch.Size([64, 256]) torch.Size([64, 256])\n"
          ]
        }
      ]
    },
    {
      "cell_type": "code",
      "source": [
        "def evaluate_model(model: nn.Module, eval_iterations = eval_iterations) -> dict:\n",
        "  t_eval = time.time()\n",
        "  model.eval()\n",
        "  with torch.inference_mode():\n",
        "    splits = ['train', 'test']\n",
        "    categories = ['loss', 'top1', 'top5']\n",
        "    all = {s:{c: torch.zeros(eval_iterations) for c in categories} for s in splits}\n",
        "    for split in splits:\n",
        "      for i in range(eval_iterations):\n",
        "        xb, yb = get_batches(split = split)\n",
        "        logits, loss = model(xb, yb)\n",
        "        all[split]['loss'][i] = loss.item()\n",
        "\n",
        "        # top@1 accuracy\n",
        "        top1_preds = torch.topk(logits, 1, dim = -1).indices.squeeze(dim=-1)\n",
        "        all[split]['top1'][i] = 100*(torch.sum(top1_preds == yb) / torch.numel(yb)).item()\n",
        "        # top@5 accuracy\n",
        "        top5_preds = torch.topk(logits, 5, dim = -1).indices\n",
        "        y_stretched = repeat(yb, 'B T -> B T K', K = 5)\n",
        "        all[split]['top5'][i] = 100*(torch.sum(top5_preds == y_stretched) / torch.numel(yb)).item()\n",
        "  model.train()\n",
        "\n",
        "  output_dict = {split:list(map(lambda a: round(a.mean().item(), 4), all[split].values())) for split in splits}\n",
        "  output_dict['eval_time'] = round(time.time()-t_eval, 2)\n",
        "  return output_dict\n",
        "\n",
        "def format_output(output_dict, iter, train_time, loss):\n",
        "  array = [iter,\"|\"]+output_dict['train']+['|']+output_dict['test']+['|']+[round(train_time,2),output_dict['eval_time'],'|',round(loss.item(),4)]\n",
        "  title = 'iteration |  loss    top@1(%)    top@5(%)  |  loss    top@1(%)    top@5(%)  |  train_time(s)   eval_time(s)'\n",
        "  header = \"----------|-------------TRAIN--------------|--------------TEST--------------|-------------TIMING--------------\"\n",
        "  idxs = [0]\n",
        "  for j in range(len(title)-1): \n",
        "    if title[j] == \" \" and title[j+1] != \" \": idxs.append(j+1)\n",
        "  output_str = \"\"\n",
        "  for i in range(len(idxs)): output_str+=\" \"*(idxs[i]-len(output_str)) + f\"{array[i]}\"\n",
        "  if iter == 0: output_str= header + '\\n' + title + '\\n' + output_str\n",
        "  return output_str"
      ],
      "metadata": {
        "id": "fp4fhWd8qGXF"
      },
      "execution_count": 30,
      "outputs": []
    },
    {
      "cell_type": "markdown",
      "source": [
        "## GPT model"
      ],
      "metadata": {
        "id": "Bggp0svTsl5k"
      }
    },
    {
      "cell_type": "code",
      "source": [
        "class MultiHeadAttention(nn.Module):\n",
        "  # parallelized attention heads\n",
        "  \n",
        "  def __init__(self):\n",
        "    super().__init__()\n",
        "    head_size = n_embedding // n_heads\n",
        "    self.scale_factor = head_size**-0.5 # This scaling factor makes an INSANE difference\n",
        "\n",
        "    #generating q,k,v for all n_heads at once\n",
        "    self.qkv_linear = nn.Linear(n_embedding, head_size*n_heads*3) \n",
        "    self.register_buffer('tril', torch.tril(torch.ones(block_size, block_size)))\n",
        "    self.dropout = nn.Dropout(dropout)\n",
        "    self.linear = nn.Sequential(\n",
        "        nn.Linear(head_size*n_heads, n_embedding),\n",
        "        nn.Dropout(dropout))\n",
        "    \n",
        "  def forward(self, x: torch.Tensor) -> torch.Tensor:\n",
        "    B,T,C = x.shape #[64, 256, 384])\n",
        "    qkv = self.qkv_linear(x) # [64, 256, 1152]\n",
        "    q, k, v =  rearrange(qkv, 'b t (qvk h c) -> qvk b h t c', qvk=3, h=n_heads) #torch.Size([3, 64, 6, 256, 64])\n",
        "\n",
        "    mat_mul = q@rearrange(k, 'b h t c -> b h c t') * self.scale_factor\n",
        "    mat_mul = mat_mul.masked_fill(self.tril[:T, :T]==0, float('-inf'))\n",
        "    mat_mul = nn.functional.softmax(mat_mul, dim = -1)\n",
        "    mat_mul = self.dropout(mat_mul)\n",
        "    mat_mul = mat_mul@v\n",
        "    flattened = rearrange(mat_mul, 'b h t c -> b t (h c)')\n",
        "    linear = self.linear(flattened)\n",
        "    return flattened\n",
        "\n",
        "class FeedFoward(nn.Module):\n",
        "  def __init__(self):\n",
        "    super().__init__()\n",
        "    self.feed_forward = nn.Sequential(\n",
        "        nn.Linear(n_embedding, 4*n_embedding),\n",
        "        nn.GELU(),\n",
        "        nn.Linear(4*n_embedding, n_embedding),\n",
        "        nn.Dropout(dropout))\n",
        "    \n",
        "  def forward(self, x: torch.Tensor) -> torch.Tensor:\n",
        "    return self.feed_forward(x)\n",
        "\n",
        "class Transformer(nn.Module):\n",
        "\n",
        "  def __init__(self):\n",
        "    super().__init__()\n",
        "    self.multi_attention = MultiHeadAttention() \n",
        "    self.feed_forward = FeedFoward()\n",
        "    self.ln1 = nn.LayerNorm(n_embedding)\n",
        "    self.ln2 = nn.LayerNorm(n_embedding)\n",
        "\n",
        "  def forward(self, x: torch.Tensor) -> torch.Tensor:\n",
        "    x = x + self.multi_attention(self.ln1(x))\n",
        "    x = x + self.feed_forward(self.ln2(x))\n",
        "    return x\n",
        "\n",
        "class GPT(nn.Module):\n",
        "  def __init__(self):\n",
        "      super().__init__()\n",
        "\n",
        "      self.token_embedding = nn.Embedding(n_chars, n_embedding)\n",
        "      self.positional_encoding = nn.Embedding(block_size, n_embedding)\n",
        "\n",
        "      self.transformers = nn.Sequential(*[Transformer() for _ in range(n_layer)])\n",
        "\n",
        "      self.final_ln = nn.LayerNorm(n_embedding)\n",
        "      self.final_linear = nn.Linear(n_embedding, n_chars)\n",
        "\n",
        "  def forward(self, x: torch.Tensor, targets = None) -> torch.Tensor:\n",
        "    T = x.shape[-1] # (B, T)\n",
        "    te = self.token_embedding(x) # (B T C)\n",
        "    pe = self.positional_encoding(torch.arange(T, device = device))\n",
        "    x = te + pe \n",
        "    x = self.transformers(x)\n",
        "    x = self.final_ln(x)\n",
        "    logits = self.final_linear(x)\n",
        "    if targets == None:\n",
        "      loss = None\n",
        "    else:\n",
        "      B, T, C = logits.shape\n",
        "      loss = nn.functional.cross_entropy(logits.view(B*T, C), targets.view(B*T))\n",
        "\n",
        "    return logits, loss\n",
        "\n",
        "  @torch.no_grad()\n",
        "  def generate(self, idxs, length_to_generate=500) -> torch.Tensor:\n",
        "    self.eval()\n",
        "    for _ in range(length_to_generate):\n",
        "      logits, loss = self(idxs[:, -block_size:])\n",
        "      probs = nn.functional.softmax(logits[:, -1, :], dim = -1)\n",
        "      pred = torch.multinomial(probs, 1)\n",
        "      idxs = torch.cat((idxs, pred), dim = -1) # (B, T+1)\n",
        "    self.train()\n",
        "    return idxs\n",
        "\n",
        "gpt_model = GPT().to(device)\n",
        "print(f'gpt model parameters are on device: {next(gpt_model.parameters()).device}')\n",
        "xb, yb = get_batches()\n",
        "logits, loss = gpt_model(xb, yb)\n",
        "print(f\"{logits.shape}, {loss.item():.4f}\")\n",
        "print(f\"{sum(p.numel() for p in gpt_model.parameters())/1e6:.4f} Million Parameters\")\n",
        "print()\n",
        "context = torch.zeros((1, 1), dtype = torch.long,  device = device)\n",
        "print(decode(gpt_model.generate(context, length_to_generate=100)[0].tolist()))"
      ],
      "metadata": {
        "colab": {
          "base_uri": "https://localhost:8080/"
        },
        "id": "RGNsdCj0t1YV",
        "outputId": "c3f3b31d-3c01-4e6c-d169-5c9d2af7d409"
      },
      "execution_count": 39,
      "outputs": [
        {
          "output_type": "stream",
          "name": "stdout",
          "text": [
            "gpt model parameters are on device: cuda:0\n",
            "torch.Size([64, 256, 84]), 4.6188\n",
            "3.7126 Million Parameters\n",
            "\n",
            "\n",
            "Wb'b-T7niAFQWewk‘mqoVq-O1gK!)XOHX”6O7Shxdi‘y'\n",
            "Xeq1D1I!\"\\O?/9)g\\\\lE)bWhw (rF29.RFDB(QoI1;x3Cv0yjf2e——\n"
          ]
        }
      ]
    },
    {
      "cell_type": "markdown",
      "source": [
        "## Training loop"
      ],
      "metadata": {
        "id": "6Ltcc2vgvx2M"
      }
    },
    {
      "cell_type": "code",
      "source": [
        "### Training loop\n",
        "optimizer = torch.optim.AdamW(params = gpt_model.parameters(), lr = learning_rate, weight_decay=0.1)\n",
        "scheduler = torch.optim.lr_scheduler.CosineAnnealingWarmRestarts(optimizer, T_0 = 200) # T_mult=2"
      ],
      "metadata": {
        "id": "ZSOsXfdCksIy"
      },
      "execution_count": 40,
      "outputs": []
    },
    {
      "cell_type": "code",
      "source": [
        "from tqdm import tqdm\n",
        "losses = []\n",
        "lrs = []\n",
        "output_table = []\n",
        "output_dicts = []\n",
        "\n",
        "t_train = time.time()\n",
        "t_train_full = time.time()\n",
        "print(f\"n_heads:{n_heads} | n_embedding: {n_embedding} | n_layer: {n_layer} num_params: {sum(p.numel() for p in gpt_model.parameters())/1e6:.4f} Million Parameters\")\n",
        "for i in tqdm(range(max_iterations)):\n",
        "# for i in range(max_iterations):\n",
        "  xb, yb = get_batches()\n",
        "  logits, loss = gpt_model(xb, yb)\n",
        "  if i % eval_interval == 0:\n",
        "    train_time = time.time()-t_train\n",
        "    output_dict = evaluate_model(gpt_model)\n",
        "    output_dicts.append(output_dict)\n",
        "    formatted = format_output(output_dict, i, train_time, loss)\n",
        "    output_table.append(formatted)\n",
        "    print(formatted)\n",
        "    t_train = time.time()\n",
        "  losses.append(loss.item())\n",
        "  lrs.append(scheduler.get_last_lr())\n",
        "  optimizer.zero_grad(set_to_none=True)\n",
        "  loss.backward()\n",
        "  optimizer.step()\n",
        "  scheduler.step()\n",
        "print(f\"\\nTime taken for {max_iterations} iterations: {time.time()-t_train_full:.2f} seconds\")\n",
        "print(f\"n_heads:{n_heads} | n_embedding: {n_embedding} | n_layer: {n_layer} num_params: {sum(p.numel() for p in gpt_model.parameters())/1e6:.4f} Million Parameters\")\n",
        "for out in output_table: print(out)"
      ],
      "metadata": {
        "colab": {
          "base_uri": "https://localhost:8080/"
        },
        "id": "nxPbk2IMvu5f",
        "outputId": "faebdb78-0c5e-4fe4-8ca2-6c16ffc89e9c"
      },
      "execution_count": 41,
      "outputs": [
        {
          "output_type": "stream",
          "name": "stdout",
          "text": [
            "n_heads:6 | n_embedding: 384 | n_layer: 2 num_params: 3.7126 Million Parameters\n"
          ]
        },
        {
          "output_type": "stream",
          "name": "stderr",
          "text": [
            "  0%|          | 4/5001 [00:01<23:59,  3.47it/s]  "
          ]
        },
        {
          "output_type": "stream",
          "name": "stdout",
          "text": [
            "----------|-------------TRAIN--------------|--------------TEST--------------|-------------TIMING--------------\n",
            "iteration |  loss    top@1(%)    top@5(%)  |  loss    top@1(%)    top@5(%)  |  train_time(s)   eval_time(s)\n",
            "0         |  4.6292  0.8373      4.7854    |  4.628   0.8474      4.8127    |  0.01            1.33\n"
          ]
        },
        {
          "output_type": "stream",
          "name": "stderr",
          "text": [
            " 10%|█         | 505/5001 [00:21<09:35,  7.81it/s]"
          ]
        },
        {
          "output_type": "stream",
          "name": "stdout",
          "text": [
            "500       |  1.9136  42.6738     78.593    |  1.9301  42.7738     78.332    |  18.99           1.3\n"
          ]
        },
        {
          "output_type": "stream",
          "name": "stderr",
          "text": [
            " 20%|██        | 1003/5001 [00:41<11:11,  5.95it/s]"
          ]
        },
        {
          "output_type": "stream",
          "name": "stdout",
          "text": [
            "1000      |  1.5218  53.911      85.2147   |  1.5516  53.5409     84.6769   |  18.92           1.31\n"
          ]
        },
        {
          "output_type": "stream",
          "name": "stderr",
          "text": [
            " 30%|███       | 1504/5001 [01:02<07:27,  7.81it/s]"
          ]
        },
        {
          "output_type": "stream",
          "name": "stdout",
          "text": [
            "1500      |  1.3707  58.1523     87.2433   |  1.4206  57.2717     86.4146   |  18.94           1.3\n"
          ]
        },
        {
          "output_type": "stream",
          "name": "stderr",
          "text": [
            " 40%|████      | 2005/5001 [01:22<06:22,  7.83it/s]"
          ]
        },
        {
          "output_type": "stream",
          "name": "stdout",
          "text": [
            "2000      |  1.277   60.688      88.3286   |  1.3453  59.4631     87.4114   |  18.85           1.3\n"
          ]
        },
        {
          "output_type": "stream",
          "name": "stderr",
          "text": [
            " 50%|█████     | 2503/5001 [01:42<06:58,  5.97it/s]"
          ]
        },
        {
          "output_type": "stream",
          "name": "stdout",
          "text": [
            "2500      |  1.2451  61.5126     88.804    |  1.3289  59.9728     87.6425   |  18.84           1.3\n"
          ]
        },
        {
          "output_type": "stream",
          "name": "stderr",
          "text": [
            " 60%|██████    | 3004/5001 [02:02<04:15,  7.81it/s]"
          ]
        },
        {
          "output_type": "stream",
          "name": "stdout",
          "text": [
            "3000      |  1.1899  63.0548     89.4215   |  1.29    61.1451     88.0771   |  18.85           1.3\n"
          ]
        },
        {
          "output_type": "stream",
          "name": "stderr",
          "text": [
            " 70%|███████   | 3505/5001 [02:22<03:11,  7.81it/s]"
          ]
        },
        {
          "output_type": "stream",
          "name": "stdout",
          "text": [
            "3500      |  1.175   63.4172     89.6188   |  1.2966  61.11       87.9314   |  18.81           1.3\n"
          ]
        },
        {
          "output_type": "stream",
          "name": "stderr",
          "text": [
            " 80%|████████  | 4003/5001 [02:42<02:46,  5.99it/s]"
          ]
        },
        {
          "output_type": "stream",
          "name": "stdout",
          "text": [
            "4000      |  1.1356  64.5338     90.1057   |  1.2652  62.0295     88.3879   |  18.92           1.3\n"
          ]
        },
        {
          "output_type": "stream",
          "name": "stderr",
          "text": [
            " 90%|█████████ | 4504/5001 [03:03<01:03,  7.79it/s]"
          ]
        },
        {
          "output_type": "stream",
          "name": "stdout",
          "text": [
            "4500      |  1.1296  64.7013     90.176    |  1.2759  61.9012     88.1979   |  18.87           1.3\n"
          ]
        },
        {
          "output_type": "stream",
          "name": "stderr",
          "text": [
            "100%|██████████| 5001/5001 [03:23<00:00, 24.61it/s]"
          ]
        },
        {
          "output_type": "stream",
          "name": "stdout",
          "text": [
            "5000      |  1.0925  65.7245     90.5642   |  1.2591  62.451      88.4518   |  18.86           1.3\n",
            "\n",
            "Time taken for 5001 iterations: 203.21 seconds\n",
            "n_heads:6 | n_embedding: 384 | n_layer: 2 num_params: 3.7126 Million Parameters\n",
            "----------|-------------TRAIN--------------|--------------TEST--------------|-------------TIMING--------------\n",
            "iteration |  loss    top@1(%)    top@5(%)  |  loss    top@1(%)    top@5(%)  |  train_time(s)   eval_time(s)\n",
            "0         |  4.6292  0.8373      4.7854    |  4.628   0.8474      4.8127    |  0.01            1.33\n",
            "500       |  1.9136  42.6738     78.593    |  1.9301  42.7738     78.332    |  18.99           1.3\n",
            "1000      |  1.5218  53.911      85.2147   |  1.5516  53.5409     84.6769   |  18.92           1.31\n",
            "1500      |  1.3707  58.1523     87.2433   |  1.4206  57.2717     86.4146   |  18.94           1.3\n",
            "2000      |  1.277   60.688      88.3286   |  1.3453  59.4631     87.4114   |  18.85           1.3\n",
            "2500      |  1.2451  61.5126     88.804    |  1.3289  59.9728     87.6425   |  18.84           1.3\n",
            "3000      |  1.1899  63.0548     89.4215   |  1.29    61.1451     88.0771   |  18.85           1.3\n",
            "3500      |  1.175   63.4172     89.6188   |  1.2966  61.11       87.9314   |  18.81           1.3\n",
            "4000      |  1.1356  64.5338     90.1057   |  1.2652  62.0295     88.3879   |  18.92           1.3\n",
            "4500      |  1.1296  64.7013     90.176    |  1.2759  61.9012     88.1979   |  18.87           1.3\n",
            "5000      |  1.0925  65.7245     90.5642   |  1.2591  62.451      88.4518   |  18.86           1.3\n"
          ]
        },
        {
          "output_type": "stream",
          "name": "stderr",
          "text": [
            "\n"
          ]
        }
      ]
    },
    {
      "cell_type": "code",
      "source": [
        "\"\"\"\n",
        "with weight decay=0.1\n",
        "Time taken for 5001 iterations: 203.21 seconds\n",
        "n_heads:6 | n_embedding: 384 | n_layer: 2 num_params: 3.7126 Million Parameters\n",
        "----------|-------------TRAIN--------------|--------------TEST--------------|-------------TIMING--------------\n",
        "iteration |  loss    top@1(%)    top@5(%)  |  loss    top@1(%)    top@5(%)  |  train_time(s)   eval_time(s)\n",
        "0         |  4.6292  0.8373      4.7854    |  4.628   0.8474      4.8127    |  0.01            1.33\n",
        "500       |  1.9136  42.6738     78.593    |  1.9301  42.7738     78.332    |  18.99           1.3\n",
        "1000      |  1.5218  53.911      85.2147   |  1.5516  53.5409     84.6769   |  18.92           1.31\n",
        "1500      |  1.3707  58.1523     87.2433   |  1.4206  57.2717     86.4146   |  18.94           1.3\n",
        "2000      |  1.277   60.688      88.3286   |  1.3453  59.4631     87.4114   |  18.85           1.3\n",
        "2500      |  1.2451  61.5126     88.804    |  1.3289  59.9728     87.6425   |  18.84           1.3\n",
        "3000      |  1.1899  63.0548     89.4215   |  1.29    61.1451     88.0771   |  18.85           1.3\n",
        "3500      |  1.175   63.4172     89.6188   |  1.2966  61.11       87.9314   |  18.81           1.3\n",
        "4000      |  1.1356  64.5338     90.1057   |  1.2652  62.0295     88.3879   |  18.92           1.3\n",
        "4500      |  1.1296  64.7013     90.176    |  1.2759  61.9012     88.1979   |  18.87           1.3\n",
        "5000      |  1.0925  65.7245     90.5642   |  1.2591  62.451      88.4518   |  18.86           1.3\n",
        "\n",
        "\n",
        "Time taken for 5001 iterations: 202.70 seconds\n",
        "n_heads:6 | n_embedding: 384 | n_layer: 2 num_params: 3.7126 Million Parameters\n",
        "----------|-------------TRAIN--------------|--------------TEST--------------|-------------TIMING--------------\n",
        "iteration |  loss    top@1(%)    top@5(%)  |  loss    top@1(%)    top@5(%)  |  train_time(s)   eval_time(s)\n",
        "0         |  4.6459  0.9249      4.9387    |  4.648   0.8961      4.8064    |  0.01            1.33\n",
        "500       |  1.8458  44.9207     79.5494   |  1.8638  44.7742     79.2621   |  18.83           1.3\n",
        "1000      |  1.4953  54.6135     85.4923   |  1.5199  54.1871     85.082    |  18.85           1.31\n",
        "1500      |  1.3659  58.2286     87.1979   |  1.4105  57.3492     86.5706   |  18.81           1.3\n",
        "2000      |  1.2834  60.4337     88.2312   |  1.3454  59.2491     87.3394   |  18.8            1.3\n",
        "2500      |  1.2505  61.3564     88.6949   |  1.3255  59.9827     87.6213   |  18.81           1.3\n",
        "3000      |  1.2045  62.6603     89.2275   |  1.2952  60.8926     87.9523   |  18.84           1.3\n",
        "3500      |  1.1894  63.0231     89.429    |  1.2964  60.9778     87.8823   |  18.81           1.3\n",
        "4000      |  1.153   64.0317     89.8479   |  1.2798  61.5676     88.1714   |  18.81           1.3\n",
        "4500      |  1.1441  64.2983     89.9606   |  1.2861  61.4146     88.207    |  18.85           1.3\n",
        "5000      |  1.1109  65.2509     90.2937   |  1.2628  62.1508     88.3591   |  18.9            1.3\n",
        "\n",
        "\n",
        "\n",
        "\n",
        "n_heads:6 | n_embedding: 384 | n_layer: 1 num_params: 1.9381 Million Parameters\n",
        "Time taken for 5001 iterations: 113.81 seconds\n",
        "----------|-------------TRAIN--------------|--------------TEST--------------|-------------TIMING--------------\n",
        "iteration |  loss    top@1(%)    top@5(%)  |  loss    top@1(%)    top@5(%)  |  train_time(s)   eval_time(s)\n",
        "0         |  4.5965  1.1501      6.0497    |  4.5935  1.1541      6.0767    |  0.01            0.82\n",
        "500       |  1.928   42.6768     78.3661   |  1.9465  42.4984     78.0266   |  10.51           0.79\n",
        "1000      |  1.6109  51.3196     83.9252   |  1.6427  50.8079     83.4158   |  10.48           0.78\n",
        "1500      |  1.5013  54.4125     85.4929   |  1.5328  54.0264     84.9203   |  10.54           0.78\n",
        "2000      |  1.4212  56.5199     86.52     |  1.4671  55.6929     85.8688   |  10.52           0.78\n",
        "2500      |  1.3932  57.3088     86.9452   |  1.4482  56.3748     86.1698   |  10.54           0.78\n",
        "3000      |  1.3518  58.3597     87.4725   |  1.4129  57.4207     86.4638   |  10.52           0.78\n",
        "3500      |  1.3466  58.5488     87.5354   |  1.4068  57.7091     86.6236   |  10.53           0.78\n",
        "4000      |  1.3116  59.5636     87.8817   |  1.3808  58.2448     86.9263   |  10.51           0.78\n",
        "4500      |  1.3109  59.5223     87.9717   |  1.3952  58.0879     86.8467   |  10.5            0.78\n",
        "5000      |  1.2877  60.173      88.2081   |  1.3757  58.6683     86.9194   |  10.5            0.79\n",
        "\n",
        "\n",
        "\n",
        "n_heads:6 | n_embedding: 384 | n_layer: 6 num_params: 10.8105 Million Parameters\n",
        "  0%|          | 2/5001 [00:03<2:06:37,  1.52s/it]----------|-------------TRAIN--------------|--------------TEST--------------|-------------TIMING--------------\n",
        "iteration |  loss    top@1(%)    top@5(%)  |  loss    top@1(%)    top@5(%)  |  train_time(s)   eval_time(s)\n",
        "0         |  4.5782  1.1344      5.996     |  4.581   1.1447      6.0018    |  0.03            3.44\n",
        "500       |  1.8659  44.2059     79.5095   |  1.8838  44.0261     79.1359   |  53.11           3.42\n",
        "1000      |  1.4122  56.9198     86.5447   |  1.4464  56.2103     86.0549   |  53.22           3.47\n",
        "1500      |  1.2461  61.5043     88.7084   |  1.3171  60.0588     87.6467   |  53.13           3.43\n",
        "2000      |  1.1379  64.4103     89.9736   |  1.2568  61.8655     88.3577   |  53.15           3.43\n",
        "2500      |  1.0853  65.9414     90.631    |  1.2511  62.4436     88.4869   |  53.12           3.42\n",
        "3000      |  1.0052  68.2371     91.5758   |  1.2286  63.2249     88.8038   |  53.13           3.42\n",
        "3500      |  0.9713  69.1757     92.0682   |  1.2459  63.0121     88.6619   |  53.16           3.43\n",
        "4000      |  0.8879  71.7495     92.9744   |  1.2529  63.3315     88.7118   |  53.1            3.44\n",
        "4500      |  0.8576  72.6428     93.4435   |  1.2898  62.8986     88.4133   |  53.16           3.44\n",
        "5000      |  0.7715  75.4623     94.36     |  1.3068  63.2018     88.3292   |  53.1            3.41\n",
        "\"\"\"\n",
        "1"
      ],
      "metadata": {
        "id": "mBAfcHfLuom5"
      },
      "execution_count": null,
      "outputs": []
    },
    {
      "cell_type": "code",
      "source": [
        "train_losses = []\n",
        "test_losses = []\n",
        "for array in output_dicts[2:]:\n",
        "  train_losses.append(array['train'][0])\n",
        "  test_losses.append(array['test'][0])\n",
        "\n",
        "import matplotlib.pyplot as plt\n",
        "plt.plot(train_losses)\n",
        "plt.plot(test_losses)\n",
        "plt.title(\"Train vs Test losses\")\n",
        "plt.show()"
      ],
      "metadata": {
        "colab": {
          "base_uri": "https://localhost:8080/",
          "height": 281
        },
        "id": "oERak2L_cRN6",
        "outputId": "8cf77ca6-ed54-4a13-c2a1-a62fc4a2ecad"
      },
      "execution_count": 46,
      "outputs": [
        {
          "output_type": "display_data",
          "data": {
            "text/plain": [
              "<Figure size 432x288 with 1 Axes>"
            ],
            "image/png": "[encoded data removed]"
          },
          "metadata": {
            "needs_background": "light"
          }
        }
      ]
    },
    {
      "cell_type": "code",
      "source": [],
      "metadata": {
        "id": "DD7ZcU_ncRRf"
      },
      "execution_count": null,
      "outputs": []
    },
    {
      "cell_type": "code",
      "source": [
        "# n_heads:6 | n_embedding: 384 | n_layer: 6 num_params: 10.8105 Million Parameters\n",
        "# ----------|-------------TRAIN--------------|--------------TEST--------------|-------------TIMING--------------\n",
        "# 0         |  4.5876  0.9868      5.2322    |  4.587   0.9653      5.2709    |  0.02            14.52\n",
        "# 500       |  1.8428  44.7249     79.7544   |  1.8571  44.7034     79.4778   |  197.86          14.36\n",
        "# 1000      |  1.3952  57.416      86.7649   |  1.4395  56.4691     86.054    |  197.48          14.3\n",
        "# 1500      |  1.2384  61.7625     88.747    |  1.3163  60.1064     87.6062   |  196.82          14.31"
      ],
      "metadata": {
        "id": "dj7AaPjNqn21"
      },
      "execution_count": null,
      "outputs": []
    },
    {
      "cell_type": "code",
      "source": [
        "import matplotlib.pyplot as plt\n",
        "\n",
        "\n",
        "plt.plot(losses)\n",
        "plt.title(\"Losses\")\n",
        "plt.show()\n",
        "\n",
        "plt.plot(lrs)\n",
        "plt.title(\"Learning rates\")\n",
        "plt.show()"
      ],
      "metadata": {
        "id": "60wh1ZCpmbnW",
        "colab": {
          "base_uri": "https://localhost:8080/",
          "height": 545
        },
        "outputId": "55842a75-8993-4b6d-e611-57f46295a163"
      },
      "execution_count": 43,
      "outputs": [
        {
          "output_type": "display_data",
          "data": {
            "text/plain": [
              "<Figure size 432x288 with 1 Axes>"
            ],
            "image/png": "[encoded data removed]"
          },
          "metadata": {
            "needs_background": "light"
          }
        },
        {
          "output_type": "display_data",
          "data": {
            "text/plain": [
              "<Figure size 432x288 with 1 Axes>"
            ],
            "image/png": "[encoded data removed]"
          },
          "metadata": {
            "needs_background": "light"
          }
        }
      ]
    },
    {
      "cell_type": "code",
      "source": [
        "plt.plot(losses[-500:])\n",
        "plt.title(\"Losses\")\n",
        "plt.show()"
      ],
      "metadata": {
        "colab": {
          "base_uri": "https://localhost:8080/",
          "height": 281
        },
        "id": "aT9YL0F5908D",
        "outputId": "31f9e5b5-ef15-446a-aa1b-c70e0d95c474"
      },
      "execution_count": null,
      "outputs": [
        {
          "output_type": "display_data",
          "data": {
            "text/plain": [
              "<Figure size 432x288 with 1 Axes>"
            ],
            "image/png": "[encoded data removed]"
          },
          "metadata": {
            "needs_background": "light"
          }
        }
      ]
    },
    {
      "cell_type": "code",
      "source": [
        "# n_heads:6 | n_embedding: 384 | n_layer: 6 num_params: 10.8105 Million Parameters\n",
        "# ----------|---------TRAIN----------|-----------TEST---------|----------TIMING---------\n",
        "# iteration |  loss    top@1(%)    top@5(%)  |  loss    top@1(%)    top@5(%)  |  train_time(s)   eval_time(s)\n",
        "# 0         |  4.609   1.4062      6.776     |  4.6062  1.4199      6.8174    |  0.02            13.45\n",
        "# 500       |  2.2564  33.6514     71.0287   |  2.2728  33.572      71.0531   |  193.58          14.29\n",
        "\n",
        "\n",
        "\n",
        "\n",
        "#Without lr scheduling:\n",
        "# 1.6008   51.8492  83.8604  1.6299   51.4921  83.3701  29.4928 ### iter: 1000 | loss: 1.6817 | train interval: 40.49 seconds\n",
        "# With: \n",
        "#  1.4235   56.5724  86.4524  1.4637   55.8688  85.8688  7.8572 ### iter: 1000 | loss: 1.5045 | train interval: 209.32 seconds\n",
        "#  1.2842   60.4039  88.2113  1.3478   59.2382  87.2946  7.8786 ### iter: 1000 | loss: 1.3604 | train interval: 208.99 seconds\n",
        "# With lr scheduling\n",
        "\n",
        "\n",
        "# n_heads:6 | n_embedding: 384 | n_layer: 1 num_params: 1.9381 Million Parameters\n",
        "# ---------TRAIN----------|-----------TEST-----------|--TIMING----------\n",
        "# loss     top@1    top@5 |  loss     top@1    top@5 |  eval_time\n",
        "# 4.6333   0.9825   5.1626   4.6361   0.9424   5.0534   10.8289### iter: 0 | loss: 4.6345 | train time interval: 0.01 seconds\n",
        "# 2.5013   27.6460  66.2090  2.5089   27.8167  66.1908  10.9146### iter: 100 | loss: 2.5085 | train time interval: 7.76 seconds\n",
        "# ↓↓↓↓↓↓↓↓↓↓↓↓↓↓↓↓↓↓↓↓↓↓↓↓↓↓↓↓↓↓↓↓↓↓↓↓↓↓↓↓↓↓↓↓↓↓↓↓↓↓↓↓↓↓↓↓↓↓↓↓↓↓↓↓↓↓↓↓↓↓↓↓↓↓↓↓↓↓↓↓↓\n",
        "# n_heads:6 | n_embedding: 384 | n_layer: 1 num_params: 1.9381 Million Parameters\n",
        "# ---------TRAIN----------|-----------TEST-----------|--TIMING----------\n",
        "# loss     top@1    top@5 |  loss     top@1    top@5 |  eval_time\n",
        "# 4.6681   0.7924   4.6143   4.6686   0.7852   4.5937   10.1680### iter: 0 | loss: 4.6672 | train time interval: 0.01 seconds\n",
        "# 2.5054   27.4399  65.9486  2.5082   27.7022  66.0398  10.2297### iter: 100 | loss: 2.5171 | train time interval: 6.53 seconds\n",
        "\n",
        "# n_heads:6 | n_embedding: 384 | n_layer: 3 num_params: 5.4871 Million Parameters\n",
        "# ---------TRAIN----------|-----------TEST-----------|--TIMING----------\n",
        "# loss     top@1    top@5 |  loss     top@1    top@5 |  eval_time\n",
        "# 4.5404   1.0071   6.0883   4.5384   0.9906   6.0388   27.0759 ### iter: 0 | loss: 4.5422 | train interval: 0.01 seconds\n",
        "# 1.6008   51.8492  83.8604  1.6299   51.4921  83.3701  29.4928 ### iter: 1000 | loss: 1.6817 | train interval: 40.49 seconds\n",
        "# 1.3288   59.2941  87.6776  1.3815   58.2792  86.9174  29.4365 ### iter: 2000 | loss: 1.4048 | train interval: 40.43 seconds\n",
        "# 1.2257   62.0692  88.9917  1.3111   60.4550  87.8633  29.5504 ### iter: 3000 | loss: 1.3113 | train interval: 40.44 seconds\n",
        "# 1.1591   63.8813  89.7406  1.2798   61.5125  88.2186  29.9780 ### iter: 4000 | loss: 1.2632 | train interval: 40.42 seconds\n",
        "# 1.1068   65.3377  90.3494  1.2654   62.0324  88.2828  29.5430 ### iter: 5000 | loss: 1.2179 | train interval: 40.44 seconds\n",
        "# Time taken for 5001 iterations: 1770.78 seconds (would be 1000 seconds if I evaluated every 1000 iterations, not 200)\n",
        "# Note: #16 mins of training time, and 12 mins of eval time. Should just check every 1000 iterations(accidentally set it to 200)"
      ],
      "metadata": {
        "id": "bsXaKqQ90_Am"
      },
      "execution_count": null,
      "outputs": []
    },
    {
      "cell_type": "code",
      "source": [
        "context = torch.zeros((1, 1), dtype = torch.long,  device = device)\n",
        "print(decode(gpt_model.generate(context, length_to_generate=200)[0].tolist()))"
      ],
      "metadata": {
        "id": "NHpJvOw31J-m",
        "colab": {
          "base_uri": "https://localhost:8080/"
        },
        "outputId": "6fc2930c-47cd-4980-8e7f-2ed9db61430a"
      },
      "execution_count": null,
      "outputs": [
        {
          "output_type": "stream",
          "name": "stdout",
          "text": [
            "\n",
            "She read aside quickly, to the clown prince, who ruled over the ethically protecting accurate, \n",
            "hoding sintence - and put the fundamentals. \n",
            "\n",
            "Luk looked up and her shook as he as he took and folded in\n"
          ]
        }
      ]
    },
    {
      "cell_type": "code",
      "source": [
        "for i in range(20):\n",
        "  print(\"-\"*100)\n",
        "  sentence = \"James Davey,\"\n",
        "  context= torch.tensor([encode(sentence)], dtype = torch.long, device = device)\n",
        "  print(decode(gpt_model.generate(context, length_to_generate=500)[0].tolist()))"
      ],
      "metadata": {
        "id": "V58WPDdjFWNQ",
        "colab": {
          "base_uri": "https://localhost:8080/"
        },
        "outputId": "2b71f71e-0c7d-466c-a163-c3775535a1a3"
      },
      "execution_count": null,
      "outputs": [
        {
          "output_type": "stream",
          "name": "stdout",
          "text": [
            "----------------------------------------------------------------------------------------------------\n",
            "James Davey, by that Seldon had been overpowering planted by one, and near-side \n",
            "himself in comparison. The course would never have already been more important in this identity to \n",
            "quality on a century as to Seldon. Rossem in his favor on walk, he was in successful. His eyes closed \n",
            "hood to him. \n",
            "\n",
            "Something hair, did come to his men. He was body with a glittering pause, and along brushed and \n",
            "said, \"Half a man, to say the Seldon Plan with a royal tand himself - and petty slowly \n",
            "enough for me to look careop\n",
            "----------------------------------------------------------------------------------------------------\n",
            "James Davey, to pass the work of a very long, \n",
            "\n",
            "\n",
            "millennia - and even bathed the shower. \n",
            "\n",
            "In the darkness that of the Sergeant Luk light the nonsense that voice and his fingers \n",
            "were so weapon, \"Manever, but I can't prove against it. And fulfill alive duty and remains that it \n",
            "was empty vicious. I keep young anything about the other's house. The same broadened upwards \n",
            "and them up. One rather, at each little more desk longer of formise; no some of automatic \n",
            "nature humanity, it had moved protected only by \n",
            "----------------------------------------------------------------------------------------------------\n",
            "James Davey, over the writer, \n",
            "even the comparable orbination, part on the First Empire, and he amention, with Seldon \n",
            "completely, penetratulately less west, an advanced in ordinary. \n",
            "\n",
            "With the book-films that he letters tap of Jorane Sutt and half his touch vein his narrow \n",
            "ground seriously, white daily upon it. \n",
            "\n",
            "The self-advanced metallet, the Mule faded apartly out, while Mallow into the groping large of \n",
            "the growing darkness and neutralized the odox ground. \n",
            "\n",
            "The trader called into its sudden sharpness\n",
            "----------------------------------------------------------------------------------------------------\n",
            "James Davey, First Citizen, struck regad and dropped. \n",
            "\n",
            "Wienis said dryly, \"All of the Foundation were marking lose of Anacreon giving me the future \n",
            "body of your Empire as it would have been seen and he ever disasted to return to hold \n",
            "your back. By there were foolished; and as a long rapid jump, plast were landing the strength glory \n",
            "body could find it - and then it comes to the right was a little to use in the well-hidden \n",
            "phrase. \n",
            "\n",
            "And indignantly, it was that somewhat to be destroyed, and which every a\n",
            "----------------------------------------------------------------------------------------------------\n",
            "James Davey, \n",
            "disapproving exile to attract the crowd. So far, there is a gun pillow in splitting up as his \n",
            "shoulders and congested - \n",
            "\n",
            "3. Yet there have a dead hand at point of defense. The Mule did not turn it. \n",
            "\n",
            "Toran watched to Bayta, with a purpose tour own louder and said: \"I'm a fine as fatal resources you \n",
            "make every more suspicious study. But just as the ancient you recently, it is a great few \n",
            "many far enough work of certain returns us. Who not, indeed, but that's just the old guess of \n",
            "battles.\"\n",
            "----------------------------------------------------------------------------------------------------\n",
            "James Davey, and they were in its part of age, the useless long \n",
            "that you left to be a pride idea. I'll grant nuclear me quite a power economy is the \n",
            "facult of power than any keet its eyes.\" \n",
            "\n",
            "\"To stop you doubt.\" \n",
            "\n",
            "\"There are cast a foolish sleek of perfugical. There is strange, I believe you note that this \n",
            "one who are laid the problem of the Imperial Age and an Encyclopedia.\" \n",
            "\n",
            "\"That near means I could acquaint a report from a neutralization of energy lady of magic \n",
            "or rather. It is the renaion of a mag\n",
            "----------------------------------------------------------------------------------------------------\n",
            "James Davey, considered might be overwhelming \n",
            "the missionary and of reverie solved to know what Salvor Hardin reproduced the other houses. \n",
            "But this was a difficult for neither kneledge, and a hand impression with a shout and a \n",
            "back at the foot of the darkness kickept all the hard-off with an elite clear gray. \n",
            "\n",
            "Over all the staff-blacked gesturely at her steady link of the room, are a chair, and advanced \n",
            "vaguely plain. Another matters, Thanks may even enlivented.\" \n",
            "\n",
            "He looked hard. \"In fact, not of all \n",
            "----------------------------------------------------------------------------------------------------\n",
            "James Davey, you see the gun points.\" \n",
            "\n",
            "His voice was a low, both Hober Mallow was snatching apart to his desk and voice was clear \n",
            "of small meeking in project again. \"My problem. I was in need foot?\" \n",
            "\n",
            "\"In that we want to certain the Vault in the Periphery are, magnificently advanced before it. I \n",
            "predicted his regularly dignified to Hari Seldon.\" \n",
            "\n",
            "\"Don't think I don't plan that, pnot it? But that is about the Second Foundation, Terminus, \n",
            "in the Second Foundation.\" \n",
            "\n",
            "\n",
            "\n",
            "\"A reward. Why do you think of this\n",
            "----------------------------------------------------------------------------------------------------\n",
            "James Davey, to that. Am I fight it, I should do think you wish to forget. It says not have \n",
            "relieved; the ever interrupting pretty coin scraps of your name. You have one to be given \n",
            "one. There's a solution ship to keep it now. Then perhaps it's to a day of petty next which I'm \n",
            "not of important when I'm sitting up.\" \n",
            "\n",
            "Mallow smiled thoughtfully and furied her three, \"I don't.\" And \n",
            "the old man smiled to the priesthood of all the planet. \n",
            "\n",
            "\n",
            "\n",
            "\"I'll explain for the Second Foundation.\" \n",
            "\n",
            "Over and provocated t\n",
            "----------------------------------------------------------------------------------------------------\n",
            "James Davey, I think \n",
            "you find it in confidence, and we might have motives you. My smooth benefit colossal service \n",
            "to a reverie?\" A beginning invitation. \n",
            "\n",
            "\"Is that fact, you know,\" said Anthor, indefinitely, \"speak, don't you?\" The permission to \n",
            "Jael, \"refuse of the Foundation. You know they have the path to face of the Second Foundation. \n",
            "I don't know. They have never want. But I can't do anything in it; never welcome without \n",
            "importance. Sure, he was only excited to prior - which, as one of them, my I \n",
            "----------------------------------------------------------------------------------------------------\n",
            "James Davey, to you Very of the Nebula feminine humans and \n",
            "democratic opposite. We have no evidence of action or revolt in orders. I'll get you that shall have to \n",
            "be impossible of nuclear power may cut by good or if you fighting any report; you can expect \n",
            "that 'the internal who are fact of us to greet any century's casual, aa real of their own coorse, \n",
            "and draged at the blast-gure of the news blackened out to Channis, until the clown and \n",
            "held trickle, without touched the strengthstems of calculating lig\n",
            "----------------------------------------------------------------------------------------------------\n",
            "James Davey, we shall! \n",
            "Ponyets without a value economy metal contact with me.\" \n",
            "\n",
            "The trader cheeded his hand. \"How old is there?\" \n",
            "\n",
            "Bayta said sharply, \"Don't go back to you in Bayta - and this, we're on the second accepted \n",
            "expansive. It's a quota asteroid who's the quheres back - and let them together \n",
            "death ears me to get on even surprised. We parted a patient man. It's just as a far distance. It means \n",
            "nothing but a match souls are and sufficiently to predict the afraid of the better than the Empire \n",
            "w\n",
            "----------------------------------------------------------------------------------------------------\n",
            "James Davey, we are held. Fie would have still detect the Foundation's \n",
            "breakfast purpose, and gone?\" \n",
            "\n",
            "\"No. No! Now or will have to. Our reports you have nothing, Arcadia.\" \n",
            "\n",
            "\"At this moment, I can explain to do with which they were?\" \n",
            "\n",
            "\"Then what was it silly robably becoming to indicate that lives sufficiently to complain defendation. It \n",
            "was all confused. As it only considered and only half a million fighting in their own contact. \n",
            "Hardin received with them, to go beat them back on the rulers, the Grand\n",
            "----------------------------------------------------------------------------------------------------\n",
            "James Davey, whoever, \n",
            "good, my use-place. Simply it is suit from my superior can be goodly, instead of slow \n",
            "the evening feathery ruling than that ought to other shock to transparency in my mint \n",
            "position of smyellings to eat. As it should so, upon the worst - the equation had been a \n",
            "rain of the quarter. But the few memory of the Mule mayors involved and let it \n",
            "when the last record and his gathering? Nor is the Seldon Plan. It has been deafened in \n",
            "capacity and mysterious I wish to have sent yet before t\n",
            "----------------------------------------------------------------------------------------------------\n",
            "James Davey, Lens fired his captively again. \n",
            "The missionary jumped out of his earth touch the broken man of his voice and its vestilations \n",
            "ground a long radiance edge to othershold or from for ten years. \n",
            "\n",
            "Cleon II had spoken and only one of the work was the door by Twer hair and \n",
            "quietly hotel of us as he intruder of a sky and swallowed clear and lump, reached \n",
            "the little spark of fleshy burst older and suspicious. \n",
            "\n",
            "Until the mayor played himself out of his bringing for me jar, his fist across he spoke,\n",
            "----------------------------------------------------------------------------------------------------\n",
            "James Davey, because they have twenty miled the Commission are \n",
            "forming a week. They will have to consume me in this room to him as to seize him, has much \n",
            "needness left in your soul.\" \n",
            "\n",
            "\"And now you are in addition, your highness?\" \n",
            "\n",
            "\"Yes, yes, Bay.\" The captain, films dry view together. \"I want to.\" \n",
            "\n",
            "\"There's not purpose when I am aware of the communication of Anacreon. I am old courtier.\" \n",
            "\n",
            "And Channis' eyes showed no stock in motion, \"That man, gentlemen, aren't you?\" \n",
            "\n",
            "\"Why talk of it, Bay. You think \n",
            "----------------------------------------------------------------------------------------------------\n",
            "James Davey, and let the captain's sun picture houses to long \n",
            "long enough with information to piece in gold without careless rebellion. No-o-o-o-o-o. Is that \n",
            "he pretended to catch the future and feverish for an audience will be as many of the men \n",
            "of difficult and let them that it raised them. Neither I once emit thereI will be region when \n",
            "they could suffer. The true stars later that the aring jackets of their enthusiasm, was \n",
            "storybook of the same ship, as he felt it out, look at the curse with the bela\n",
            "----------------------------------------------------------------------------------------------------\n",
            "James Davey, it was no landing feeling deals with the intensity of the engines of the \n",
            "Mule's palace. Alive now staring as a small man as spared and she tolerant it was at its \n",
            "steir childers. \n",
            "\n",
            "Lundin Crisis dden question had a great delicate little successful blob, the room were took \n",
            "at the subordinate body authority. \n",
            "\n",
            "And when Mallow turned his head across the pearl for cold and the blood drinked away the armchair, \n",
            "and the glass curled wordlessly off square. \n",
            "\n",
            "\n",
            "\n",
            "Pritcher interstellar politically, the \n",
            "----------------------------------------------------------------------------------------------------\n",
            "James Davey, Lady Callia accepted \n",
            "the window and thicked himself into the underlip of crude council square of the dying Galaxy. He \n",
            "filtered a huge table to pick-and-yellow, as he scraped his blaster, and held out his \n",
            "face that she was hurried. He fingered and shaded to the whole speak gentle of the cool, \n",
            "from central that he changed bsorn back was sparkled with the race of curvedly metal considerably \n",
            "to live just standing the shift of looked up at the mighty mind to the aluminum of use of its \n",
            "sorcery.\n",
            "----------------------------------------------------------------------------------------------------\n",
            "James Davey, we are not sixty-nine. It was one \n",
            "everybody mention of the identity of atomic power plants on which it coat a shield of magical \n",
            "upon it.\" \n",
            "\n",
            "He said, \"Hak the several viceroy of the Central Palace called Siwenna? It's Veneration to fit.\" \n",
            "\n",
            "\"It's something like that so. It was not a very general that it was still it - on it one of the \n",
            "path involving eye.\" \n",
            "\n",
            "\"Why not?\" \n",
            "\n",
            "\"Yes, I got your own return to attention. My unusual fools subject? You are here a right, that \n",
            "you have your last way out of\n"
          ]
        }
      ]
    },
    {
      "cell_type": "code",
      "source": [
        "for i in range(5):\n",
        "  print(\"-\"*100)\n",
        "  sentence = \"Hardin, I say!\"\n",
        "  context= torch.tensor([encode(sentence)], dtype = torch.long, device = device)\n",
        "  print(decode(gpt_model.generate(context, length_to_generate=500)[0].tolist()))"
      ],
      "metadata": {
        "id": "cmLUbTUGFotP",
        "colab": {
          "base_uri": "https://localhost:8080/"
        },
        "outputId": "9e77bceb-746c-47de-c8e5-79af93436ddb"
      },
      "execution_count": null,
      "outputs": [
        {
          "output_type": "stream",
          "name": "stdout",
          "text": [
            "----------------------------------------------------------------------------------------------------\n",
            "Hardin, I say!\" Homir was glHardin moved \n",
            "in religiously to it. \n",
            "\n",
            "The newspaper followed it at the ceiling with its dignity decency that was routine. The huge \n",
            "up down the lack of ches had the logical sinces. Do you think I didn't know that?\" \n",
            "\n",
            "\"Yes. Not if he had treated? \n",
            "\n",
            "\"They went to them?\" into the right and he began shook his head, hand-eyed, fists were \n",
            "\n",
            "\n",
            "\n",
            "not at all, or a world and not least. \n",
            "\n",
            "To Filian ships pushed lightly, and out of the man's shoulder. He dropped the close's \n",
            "remain uncorruptiona\n",
            "----------------------------------------------------------------------------------------------------\n",
            "Hardin, I say!\" \n",
            "\n",
            "\"Yet then you are to taxes. Do you know more carcations to me?\" She spoke with sudden conversation. \n",
            "\n",
            "\"Now I haven't, sir. I have studied him a minor visit with his greater conversation. Flow about \n",
            "someone volute work was born, overthreshing vacious, too, particularly and celebrates of \n",
            "billiard human beings. And all good psychohistory is not such know that you think they would \n",
            "ever stay to see far through all concerning you Foundation suit that you had no \n",
            "had the beat of the Empire toget\n",
            "----------------------------------------------------------------------------------------------------\n",
            "Hardin, I say! However, doctor. I wish so remember what I checked in the \n",
            "age of Foundation to the window like was on Trantor's body with Terminus. \n",
            "\n",
            "Pelot sat down and with his seat and sick. The only five men was an idea place as the \n",
            "only unusual majesty and the thousand time - shining in the single thin, he knew betrayed her throat \n",
            "with the stars there in the room few. \n",
            "\n",
            "\"With a triumphant of nervous ships, some subject, but Haven, haven't you not?\" \n",
            "\n",
            "Bayta said softly, \"Don't you see it to late that? Is\n",
            "----------------------------------------------------------------------------------------------------\n",
            "Hardin, I say! Tell you - there's a quota hand the beating thirty \n",
            "days and watched the other inside the stairs. There was a study of table compassed bow, the \n",
            "door glatest past concerning between \"your cridden before I could first this. A finger would \n",
            "also sold one by one final destroyed mark and the . . coming to the stand near I be had empty \n",
            "speeches of cutting souls and dared. Come, the first were of our terms of real government. \n",
            "\n",
            "And, she had long sits that jerked the souls, and many quiverse simply o\n",
            "----------------------------------------------------------------------------------------------------\n",
            "Hardin, I say!\" but Lord Brodrig was grinning. \"It's the opening under \n",
            "obviously. It is apparent to the Galaxy - one of whom you are duplicated to detect your \n",
            "small glass exactly when you speaked out in Riose's Empire. It will just like it no longer revealing \n",
            "long, and there will be no complete if you wish 'Smyrno's Party.'\" \n",
            "\n",
            "Ducem Barr's hand fell lips trembling anger and a sleepy slowly, \"And her has been going out \n",
            "too good. I remember you were of the Council Chamberlains entered with the pilot, and \n",
            "p\n"
          ]
        }
      ]
    },
    {
      "cell_type": "code",
      "source": [
        "for i in range(10):\n",
        "  print(\"-\"*100)\n",
        "  sentence = \"Callum and Connor\"\n",
        "  context= torch.tensor([encode(sentence)], dtype = torch.long, device = device)\n",
        "  print(decode(gpt_model.generate(context, length_to_generate=500)[0].tolist()))"
      ],
      "metadata": {
        "id": "2Y7-w7wtH7qA",
        "colab": {
          "base_uri": "https://localhost:8080/",
          "height": 1000
        },
        "outputId": "d4dd9477-a2e4-416b-b002-c2ab4aedbabc"
      },
      "execution_count": null,
      "outputs": [
        {
          "output_type": "stream",
          "name": "stdout",
          "text": [
            "----------------------------------------------------------------------------------------------------\n",
            "Callum and Connor at the next \n",
            "election. There is no longer extremely and a million of estate, but no longer frame \n",
            "spiritual and could possibly reeling the fleling of anything capable of deadly neglected \n",
            "uncertain that barbarian supplied vibly for the middle of lutch. Mallow laughed shortly, \n",
            "\n",
            "Mallow grimly, \"My father underling excellency. Space, of course. First, he am I report you \n",
            "upon Terminus and imperial subject - but I haven't got money. His few deads up with guns, \n",
            "and fought there's a hard and on his\n",
            "----------------------------------------------------------------------------------------------------\n",
            "Callum and Connor, all but the necessity of the Empire had \n",
            "been visited and continually in the Galaxy had a whisper. \n",
            "\n",
            "The First Speaker said, \"Don't know you think I are just a world, of course,\" Released him, \n",
            "shortly. \"It's just a view of globe, Hardin, who tells you that is too bad certainly in professions; I \n",
            "may have asked you - I took no longer to the ship.\" \n",
            "\n",
            "\"I don't like to sit and you're in the local psychology of Terminus. They come and let the \n",
            "Time Vault - We are held in the first of the Second Fo\n",
            "----------------------------------------------------------------------------------------------------\n",
            "Callum and Connor, the young man's \n",
            "lips - your Police Rule could entrant you. You will note the Mule and help me in this judgment \n",
            "government and vicious status far was comparted with actuating except for all man to the time of \n",
            "age ignored, and then a nything but there in the self-defensive Mountation of the old Empire to \n",
            "promise use. You can trust me which I wish I could make your own house.\" \n",
            "\n",
            "The trader gestured ancient, tremblingly, and his eyes were not maddened. His voice sales \n",
            "were gone; and he was bi\n",
            "----------------------------------------------------------------------------------------------------\n",
            "Callum and Connor at the fourth, the king room was an assignment. \n",
            "\n",
            "But it was strenuous quite lost into street hurt. For a moment, entered the quiet, but silent \n",
            "not for long by sneer, but quite gold the king's right. \n",
            "\n",
            "Tomaz said, \"Who are you?\" \n",
            "\n",
            "\"About our mental science?\" \n",
            "\n",
            "Commason, uninterrupted vavously. \"Our conversations are provincialized in order to tell you. \n",
            "What mad your viceroy lived a city?\" \n",
            "\n",
            "\"Besides which so, we can scarcely find us as such regarded by your mental trade; and \n",
            "leave report; if\n",
            "----------------------------------------------------------------------------------------------------\n",
            "Callum and Connor of the Union of Worlds were large men. They'll \n",
            "be just as well out. Well, now, Sermak has a strange planet was past down new. You see the \n",
            "Convention did you see, and Seldon couldn't really mean that it hasn't been a caliber \n",
            "danger, if you knew everything about. We must all know on Anacreon for your job that your \n",
            "traders you would achieve brain-\" \n",
            "\n",
            "The psychologist poured humorously. \"Well, rumors may have appointments and this inable \n",
            "philosophy of his seat. We have to late this, go on Anac\n",
            "----------------------------------------------------------------------------------------------------\n"
          ]
        },
        {
          "output_type": "error",
          "ename": "KeyboardInterrupt",
          "evalue": "ignored",
          "traceback": [
            "\u001b[0;31m---------------------------------------------------------------------------\u001b[0m",
            "\u001b[0;31mKeyboardInterrupt\u001b[0m                         Traceback (most recent call last)",
            "\u001b[0;32m<ipython-input-22-66ab222bbdcc>\u001b[0m in \u001b[0;36m<module>\u001b[0;34m\u001b[0m\n\u001b[1;32m      3\u001b[0m   \u001b[0msentence\u001b[0m \u001b[0;34m=\u001b[0m \u001b[0;34m\"Callum and Connor\"\u001b[0m\u001b[0;34m\u001b[0m\u001b[0;34m\u001b[0m\u001b[0m\n\u001b[1;32m      4\u001b[0m   \u001b[0mcontext\u001b[0m\u001b[0;34m=\u001b[0m \u001b[0mtorch\u001b[0m\u001b[0;34m.\u001b[0m\u001b[0mtensor\u001b[0m\u001b[0;34m(\u001b[0m\u001b[0;34m[\u001b[0m\u001b[0mencode\u001b[0m\u001b[0;34m(\u001b[0m\u001b[0msentence\u001b[0m\u001b[0;34m)\u001b[0m\u001b[0;34m]\u001b[0m\u001b[0;34m,\u001b[0m \u001b[0mdtype\u001b[0m \u001b[0;34m=\u001b[0m \u001b[0mtorch\u001b[0m\u001b[0;34m.\u001b[0m\u001b[0mlong\u001b[0m\u001b[0;34m,\u001b[0m \u001b[0mdevice\u001b[0m \u001b[0;34m=\u001b[0m \u001b[0mdevice\u001b[0m\u001b[0;34m)\u001b[0m\u001b[0;34m\u001b[0m\u001b[0;34m\u001b[0m\u001b[0m\n\u001b[0;32m----> 5\u001b[0;31m   \u001b[0mprint\u001b[0m\u001b[0;34m(\u001b[0m\u001b[0mdecode\u001b[0m\u001b[0;34m(\u001b[0m\u001b[0mgpt_model\u001b[0m\u001b[0;34m.\u001b[0m\u001b[0mgenerate\u001b[0m\u001b[0;34m(\u001b[0m\u001b[0mcontext\u001b[0m\u001b[0;34m,\u001b[0m \u001b[0mlength_to_generate\u001b[0m\u001b[0;34m=\u001b[0m\u001b[0;36m500\u001b[0m\u001b[0;34m)\u001b[0m\u001b[0;34m[\u001b[0m\u001b[0;36m0\u001b[0m\u001b[0;34m]\u001b[0m\u001b[0;34m.\u001b[0m\u001b[0mtolist\u001b[0m\u001b[0;34m(\u001b[0m\u001b[0;34m)\u001b[0m\u001b[0;34m)\u001b[0m\u001b[0;34m)\u001b[0m\u001b[0;34m\u001b[0m\u001b[0;34m\u001b[0m\u001b[0m\n\u001b[0m",
            "\u001b[0;32m/usr/local/lib/python3.9/dist-packages/torch/autograd/grad_mode.py\u001b[0m in \u001b[0;36mdecorate_context\u001b[0;34m(*args, **kwargs)\u001b[0m\n\u001b[1;32m     25\u001b[0m         \u001b[0;32mdef\u001b[0m \u001b[0mdecorate_context\u001b[0m\u001b[0;34m(\u001b[0m\u001b[0;34m*\u001b[0m\u001b[0margs\u001b[0m\u001b[0;34m,\u001b[0m \u001b[0;34m**\u001b[0m\u001b[0mkwargs\u001b[0m\u001b[0;34m)\u001b[0m\u001b[0;34m:\u001b[0m\u001b[0;34m\u001b[0m\u001b[0;34m\u001b[0m\u001b[0m\n\u001b[1;32m     26\u001b[0m             \u001b[0;32mwith\u001b[0m \u001b[0mself\u001b[0m\u001b[0;34m.\u001b[0m\u001b[0mclone\u001b[0m\u001b[0;34m(\u001b[0m\u001b[0;34m)\u001b[0m\u001b[0;34m:\u001b[0m\u001b[0;34m\u001b[0m\u001b[0;34m\u001b[0m\u001b[0m\n\u001b[0;32m---> 27\u001b[0;31m                 \u001b[0;32mreturn\u001b[0m \u001b[0mfunc\u001b[0m\u001b[0;34m(\u001b[0m\u001b[0;34m*\u001b[0m\u001b[0margs\u001b[0m\u001b[0;34m,\u001b[0m \u001b[0;34m**\u001b[0m\u001b[0mkwargs\u001b[0m\u001b[0;34m)\u001b[0m\u001b[0;34m\u001b[0m\u001b[0;34m\u001b[0m\u001b[0m\n\u001b[0m\u001b[1;32m     28\u001b[0m         \u001b[0;32mreturn\u001b[0m \u001b[0mcast\u001b[0m\u001b[0;34m(\u001b[0m\u001b[0mF\u001b[0m\u001b[0;34m,\u001b[0m \u001b[0mdecorate_context\u001b[0m\u001b[0;34m)\u001b[0m\u001b[0;34m\u001b[0m\u001b[0;34m\u001b[0m\u001b[0m\n\u001b[1;32m     29\u001b[0m \u001b[0;34m\u001b[0m\u001b[0m\n",
            "\u001b[0;32m<ipython-input-8-d6c80bb866a1>\u001b[0m in \u001b[0;36mgenerate\u001b[0;34m(self, idxs, length_to_generate)\u001b[0m\n\u001b[1;32m     87\u001b[0m     \u001b[0mself\u001b[0m\u001b[0;34m.\u001b[0m\u001b[0meval\u001b[0m\u001b[0;34m(\u001b[0m\u001b[0;34m)\u001b[0m\u001b[0;34m\u001b[0m\u001b[0;34m\u001b[0m\u001b[0m\n\u001b[1;32m     88\u001b[0m     \u001b[0;32mfor\u001b[0m \u001b[0m_\u001b[0m \u001b[0;32min\u001b[0m \u001b[0mrange\u001b[0m\u001b[0;34m(\u001b[0m\u001b[0mlength_to_generate\u001b[0m\u001b[0;34m)\u001b[0m\u001b[0;34m:\u001b[0m\u001b[0;34m\u001b[0m\u001b[0;34m\u001b[0m\u001b[0m\n\u001b[0;32m---> 89\u001b[0;31m       \u001b[0mlogits\u001b[0m\u001b[0;34m,\u001b[0m \u001b[0mloss\u001b[0m \u001b[0;34m=\u001b[0m \u001b[0mself\u001b[0m\u001b[0;34m(\u001b[0m\u001b[0midxs\u001b[0m\u001b[0;34m[\u001b[0m\u001b[0;34m:\u001b[0m\u001b[0;34m,\u001b[0m \u001b[0;34m-\u001b[0m\u001b[0mblock_size\u001b[0m\u001b[0;34m:\u001b[0m\u001b[0;34m]\u001b[0m\u001b[0;34m)\u001b[0m\u001b[0;34m\u001b[0m\u001b[0;34m\u001b[0m\u001b[0m\n\u001b[0m\u001b[1;32m     90\u001b[0m       \u001b[0mprobs\u001b[0m \u001b[0;34m=\u001b[0m \u001b[0mnn\u001b[0m\u001b[0;34m.\u001b[0m\u001b[0mfunctional\u001b[0m\u001b[0;34m.\u001b[0m\u001b[0msoftmax\u001b[0m\u001b[0;34m(\u001b[0m\u001b[0mlogits\u001b[0m\u001b[0;34m[\u001b[0m\u001b[0;34m:\u001b[0m\u001b[0;34m,\u001b[0m \u001b[0;34m-\u001b[0m\u001b[0;36m1\u001b[0m\u001b[0;34m,\u001b[0m \u001b[0;34m:\u001b[0m\u001b[0;34m]\u001b[0m\u001b[0;34m,\u001b[0m \u001b[0mdim\u001b[0m \u001b[0;34m=\u001b[0m \u001b[0;34m-\u001b[0m\u001b[0;36m1\u001b[0m\u001b[0;34m)\u001b[0m\u001b[0;34m\u001b[0m\u001b[0;34m\u001b[0m\u001b[0m\n\u001b[1;32m     91\u001b[0m       \u001b[0mpred\u001b[0m \u001b[0;34m=\u001b[0m \u001b[0mtorch\u001b[0m\u001b[0;34m.\u001b[0m\u001b[0mmultinomial\u001b[0m\u001b[0;34m(\u001b[0m\u001b[0mprobs\u001b[0m\u001b[0;34m,\u001b[0m \u001b[0;36m1\u001b[0m\u001b[0;34m)\u001b[0m\u001b[0;34m\u001b[0m\u001b[0;34m\u001b[0m\u001b[0m\n",
            "\u001b[0;32m/usr/local/lib/python3.9/dist-packages/torch/nn/modules/module.py\u001b[0m in \u001b[0;36m_call_impl\u001b[0;34m(self, *input, **kwargs)\u001b[0m\n\u001b[1;32m   1192\u001b[0m         if not (self._backward_hooks or self._forward_hooks or self._forward_pre_hooks or _global_backward_hooks\n\u001b[1;32m   1193\u001b[0m                 or _global_forward_hooks or _global_forward_pre_hooks):\n\u001b[0;32m-> 1194\u001b[0;31m             \u001b[0;32mreturn\u001b[0m \u001b[0mforward_call\u001b[0m\u001b[0;34m(\u001b[0m\u001b[0;34m*\u001b[0m\u001b[0minput\u001b[0m\u001b[0;34m,\u001b[0m \u001b[0;34m**\u001b[0m\u001b[0mkwargs\u001b[0m\u001b[0;34m)\u001b[0m\u001b[0;34m\u001b[0m\u001b[0;34m\u001b[0m\u001b[0m\n\u001b[0m\u001b[1;32m   1195\u001b[0m         \u001b[0;31m# Do not call functions when jit is used\u001b[0m\u001b[0;34m\u001b[0m\u001b[0;34m\u001b[0m\u001b[0m\n\u001b[1;32m   1196\u001b[0m         \u001b[0mfull_backward_hooks\u001b[0m\u001b[0;34m,\u001b[0m \u001b[0mnon_full_backward_hooks\u001b[0m \u001b[0;34m=\u001b[0m \u001b[0;34m[\u001b[0m\u001b[0;34m]\u001b[0m\u001b[0;34m,\u001b[0m \u001b[0;34m[\u001b[0m\u001b[0;34m]\u001b[0m\u001b[0;34m\u001b[0m\u001b[0;34m\u001b[0m\u001b[0m\n",
            "\u001b[0;32m<ipython-input-8-d6c80bb866a1>\u001b[0m in \u001b[0;36mforward\u001b[0;34m(self, x, targets)\u001b[0m\n\u001b[1;32m     72\u001b[0m     \u001b[0mpe\u001b[0m \u001b[0;34m=\u001b[0m \u001b[0mself\u001b[0m\u001b[0;34m.\u001b[0m\u001b[0mpositional_encoding\u001b[0m\u001b[0;34m(\u001b[0m\u001b[0mtorch\u001b[0m\u001b[0;34m.\u001b[0m\u001b[0marange\u001b[0m\u001b[0;34m(\u001b[0m\u001b[0mT\u001b[0m\u001b[0;34m,\u001b[0m \u001b[0mdevice\u001b[0m \u001b[0;34m=\u001b[0m \u001b[0mdevice\u001b[0m\u001b[0;34m)\u001b[0m\u001b[0;34m)\u001b[0m\u001b[0;34m\u001b[0m\u001b[0;34m\u001b[0m\u001b[0m\n\u001b[1;32m     73\u001b[0m     \u001b[0mx\u001b[0m \u001b[0;34m=\u001b[0m \u001b[0mte\u001b[0m \u001b[0;34m+\u001b[0m \u001b[0mpe\u001b[0m\u001b[0;34m\u001b[0m\u001b[0;34m\u001b[0m\u001b[0m\n\u001b[0;32m---> 74\u001b[0;31m     \u001b[0mx\u001b[0m \u001b[0;34m=\u001b[0m \u001b[0mself\u001b[0m\u001b[0;34m.\u001b[0m\u001b[0mtransformers\u001b[0m\u001b[0;34m(\u001b[0m\u001b[0mx\u001b[0m\u001b[0;34m)\u001b[0m\u001b[0;34m\u001b[0m\u001b[0;34m\u001b[0m\u001b[0m\n\u001b[0m\u001b[1;32m     75\u001b[0m     \u001b[0mx\u001b[0m \u001b[0;34m=\u001b[0m \u001b[0mself\u001b[0m\u001b[0;34m.\u001b[0m\u001b[0mfinal_ln\u001b[0m\u001b[0;34m(\u001b[0m\u001b[0mx\u001b[0m\u001b[0;34m)\u001b[0m\u001b[0;34m\u001b[0m\u001b[0;34m\u001b[0m\u001b[0m\n\u001b[1;32m     76\u001b[0m     \u001b[0mlogits\u001b[0m \u001b[0;34m=\u001b[0m \u001b[0mself\u001b[0m\u001b[0;34m.\u001b[0m\u001b[0mfinal_linear\u001b[0m\u001b[0;34m(\u001b[0m\u001b[0mx\u001b[0m\u001b[0;34m)\u001b[0m\u001b[0;34m\u001b[0m\u001b[0;34m\u001b[0m\u001b[0m\n",
            "\u001b[0;32m/usr/local/lib/python3.9/dist-packages/torch/nn/modules/module.py\u001b[0m in \u001b[0;36m_call_impl\u001b[0;34m(self, *input, **kwargs)\u001b[0m\n\u001b[1;32m   1192\u001b[0m         if not (self._backward_hooks or self._forward_hooks or self._forward_pre_hooks or _global_backward_hooks\n\u001b[1;32m   1193\u001b[0m                 or _global_forward_hooks or _global_forward_pre_hooks):\n\u001b[0;32m-> 1194\u001b[0;31m             \u001b[0;32mreturn\u001b[0m \u001b[0mforward_call\u001b[0m\u001b[0;34m(\u001b[0m\u001b[0;34m*\u001b[0m\u001b[0minput\u001b[0m\u001b[0;34m,\u001b[0m \u001b[0;34m**\u001b[0m\u001b[0mkwargs\u001b[0m\u001b[0;34m)\u001b[0m\u001b[0;34m\u001b[0m\u001b[0;34m\u001b[0m\u001b[0m\n\u001b[0m\u001b[1;32m   1195\u001b[0m         \u001b[0;31m# Do not call functions when jit is used\u001b[0m\u001b[0;34m\u001b[0m\u001b[0;34m\u001b[0m\u001b[0m\n\u001b[1;32m   1196\u001b[0m         \u001b[0mfull_backward_hooks\u001b[0m\u001b[0;34m,\u001b[0m \u001b[0mnon_full_backward_hooks\u001b[0m \u001b[0;34m=\u001b[0m \u001b[0;34m[\u001b[0m\u001b[0;34m]\u001b[0m\u001b[0;34m,\u001b[0m \u001b[0;34m[\u001b[0m\u001b[0;34m]\u001b[0m\u001b[0;34m\u001b[0m\u001b[0;34m\u001b[0m\u001b[0m\n",
            "\u001b[0;32m/usr/local/lib/python3.9/dist-packages/torch/nn/modules/container.py\u001b[0m in \u001b[0;36mforward\u001b[0;34m(self, input)\u001b[0m\n\u001b[1;32m    202\u001b[0m     \u001b[0;32mdef\u001b[0m \u001b[0mforward\u001b[0m\u001b[0;34m(\u001b[0m\u001b[0mself\u001b[0m\u001b[0;34m,\u001b[0m \u001b[0minput\u001b[0m\u001b[0;34m)\u001b[0m\u001b[0;34m:\u001b[0m\u001b[0;34m\u001b[0m\u001b[0;34m\u001b[0m\u001b[0m\n\u001b[1;32m    203\u001b[0m         \u001b[0;32mfor\u001b[0m \u001b[0mmodule\u001b[0m \u001b[0;32min\u001b[0m \u001b[0mself\u001b[0m\u001b[0;34m:\u001b[0m\u001b[0;34m\u001b[0m\u001b[0;34m\u001b[0m\u001b[0m\n\u001b[0;32m--> 204\u001b[0;31m             \u001b[0minput\u001b[0m \u001b[0;34m=\u001b[0m \u001b[0mmodule\u001b[0m\u001b[0;34m(\u001b[0m\u001b[0minput\u001b[0m\u001b[0;34m)\u001b[0m\u001b[0;34m\u001b[0m\u001b[0;34m\u001b[0m\u001b[0m\n\u001b[0m\u001b[1;32m    205\u001b[0m         \u001b[0;32mreturn\u001b[0m \u001b[0minput\u001b[0m\u001b[0;34m\u001b[0m\u001b[0;34m\u001b[0m\u001b[0m\n\u001b[1;32m    206\u001b[0m \u001b[0;34m\u001b[0m\u001b[0m\n",
            "\u001b[0;32m/usr/local/lib/python3.9/dist-packages/torch/nn/modules/module.py\u001b[0m in \u001b[0;36m_call_impl\u001b[0;34m(self, *input, **kwargs)\u001b[0m\n\u001b[1;32m   1192\u001b[0m         if not (self._backward_hooks or self._forward_hooks or self._forward_pre_hooks or _global_backward_hooks\n\u001b[1;32m   1193\u001b[0m                 or _global_forward_hooks or _global_forward_pre_hooks):\n\u001b[0;32m-> 1194\u001b[0;31m             \u001b[0;32mreturn\u001b[0m \u001b[0mforward_call\u001b[0m\u001b[0;34m(\u001b[0m\u001b[0;34m*\u001b[0m\u001b[0minput\u001b[0m\u001b[0;34m,\u001b[0m \u001b[0;34m**\u001b[0m\u001b[0mkwargs\u001b[0m\u001b[0;34m)\u001b[0m\u001b[0;34m\u001b[0m\u001b[0;34m\u001b[0m\u001b[0m\n\u001b[0m\u001b[1;32m   1195\u001b[0m         \u001b[0;31m# Do not call functions when jit is used\u001b[0m\u001b[0;34m\u001b[0m\u001b[0;34m\u001b[0m\u001b[0m\n\u001b[1;32m   1196\u001b[0m         \u001b[0mfull_backward_hooks\u001b[0m\u001b[0;34m,\u001b[0m \u001b[0mnon_full_backward_hooks\u001b[0m \u001b[0;34m=\u001b[0m \u001b[0;34m[\u001b[0m\u001b[0;34m]\u001b[0m\u001b[0;34m,\u001b[0m \u001b[0;34m[\u001b[0m\u001b[0;34m]\u001b[0m\u001b[0;34m\u001b[0m\u001b[0;34m\u001b[0m\u001b[0m\n",
            "\u001b[0;32m<ipython-input-8-d6c80bb866a1>\u001b[0m in \u001b[0;36mforward\u001b[0;34m(self, x)\u001b[0m\n\u001b[1;32m     51\u001b[0m \u001b[0;34m\u001b[0m\u001b[0m\n\u001b[1;32m     52\u001b[0m   \u001b[0;32mdef\u001b[0m \u001b[0mforward\u001b[0m\u001b[0;34m(\u001b[0m\u001b[0mself\u001b[0m\u001b[0;34m,\u001b[0m \u001b[0mx\u001b[0m\u001b[0;34m:\u001b[0m \u001b[0mtorch\u001b[0m\u001b[0;34m.\u001b[0m\u001b[0mTensor\u001b[0m\u001b[0;34m)\u001b[0m \u001b[0;34m->\u001b[0m \u001b[0mtorch\u001b[0m\u001b[0;34m.\u001b[0m\u001b[0mTensor\u001b[0m\u001b[0;34m:\u001b[0m\u001b[0;34m\u001b[0m\u001b[0;34m\u001b[0m\u001b[0m\n\u001b[0;32m---> 53\u001b[0;31m     \u001b[0mx\u001b[0m \u001b[0;34m=\u001b[0m \u001b[0mx\u001b[0m \u001b[0;34m+\u001b[0m \u001b[0mself\u001b[0m\u001b[0;34m.\u001b[0m\u001b[0mmulti_attention\u001b[0m\u001b[0;34m(\u001b[0m\u001b[0mself\u001b[0m\u001b[0;34m.\u001b[0m\u001b[0mln1\u001b[0m\u001b[0;34m(\u001b[0m\u001b[0mx\u001b[0m\u001b[0;34m)\u001b[0m\u001b[0;34m)\u001b[0m\u001b[0;34m\u001b[0m\u001b[0;34m\u001b[0m\u001b[0m\n\u001b[0m\u001b[1;32m     54\u001b[0m     \u001b[0mx\u001b[0m \u001b[0;34m=\u001b[0m \u001b[0mx\u001b[0m \u001b[0;34m+\u001b[0m \u001b[0mself\u001b[0m\u001b[0;34m.\u001b[0m\u001b[0mfeed_forward\u001b[0m\u001b[0;34m(\u001b[0m\u001b[0mself\u001b[0m\u001b[0;34m.\u001b[0m\u001b[0mln2\u001b[0m\u001b[0;34m(\u001b[0m\u001b[0mx\u001b[0m\u001b[0;34m)\u001b[0m\u001b[0;34m)\u001b[0m\u001b[0;34m\u001b[0m\u001b[0;34m\u001b[0m\u001b[0m\n\u001b[1;32m     55\u001b[0m     \u001b[0;32mreturn\u001b[0m \u001b[0mx\u001b[0m\u001b[0;34m\u001b[0m\u001b[0;34m\u001b[0m\u001b[0m\n",
            "\u001b[0;32m/usr/local/lib/python3.9/dist-packages/torch/nn/modules/module.py\u001b[0m in \u001b[0;36m_call_impl\u001b[0;34m(self, *input, **kwargs)\u001b[0m\n\u001b[1;32m   1192\u001b[0m         if not (self._backward_hooks or self._forward_hooks or self._forward_pre_hooks or _global_backward_hooks\n\u001b[1;32m   1193\u001b[0m                 or _global_forward_hooks or _global_forward_pre_hooks):\n\u001b[0;32m-> 1194\u001b[0;31m             \u001b[0;32mreturn\u001b[0m \u001b[0mforward_call\u001b[0m\u001b[0;34m(\u001b[0m\u001b[0;34m*\u001b[0m\u001b[0minput\u001b[0m\u001b[0;34m,\u001b[0m \u001b[0;34m**\u001b[0m\u001b[0mkwargs\u001b[0m\u001b[0;34m)\u001b[0m\u001b[0;34m\u001b[0m\u001b[0;34m\u001b[0m\u001b[0m\n\u001b[0m\u001b[1;32m   1195\u001b[0m         \u001b[0;31m# Do not call functions when jit is used\u001b[0m\u001b[0;34m\u001b[0m\u001b[0;34m\u001b[0m\u001b[0m\n\u001b[1;32m   1196\u001b[0m         \u001b[0mfull_backward_hooks\u001b[0m\u001b[0;34m,\u001b[0m \u001b[0mnon_full_backward_hooks\u001b[0m \u001b[0;34m=\u001b[0m \u001b[0;34m[\u001b[0m\u001b[0;34m]\u001b[0m\u001b[0;34m,\u001b[0m \u001b[0;34m[\u001b[0m\u001b[0;34m]\u001b[0m\u001b[0;34m\u001b[0m\u001b[0;34m\u001b[0m\u001b[0m\n",
            "\u001b[0;32m<ipython-input-8-d6c80bb866a1>\u001b[0m in \u001b[0;36mforward\u001b[0;34m(self, x)\u001b[0m\n\u001b[1;32m     17\u001b[0m   \u001b[0;32mdef\u001b[0m \u001b[0mforward\u001b[0m\u001b[0;34m(\u001b[0m\u001b[0mself\u001b[0m\u001b[0;34m,\u001b[0m \u001b[0mx\u001b[0m\u001b[0;34m:\u001b[0m \u001b[0mtorch\u001b[0m\u001b[0;34m.\u001b[0m\u001b[0mTensor\u001b[0m\u001b[0;34m)\u001b[0m \u001b[0;34m->\u001b[0m \u001b[0mtorch\u001b[0m\u001b[0;34m.\u001b[0m\u001b[0mTensor\u001b[0m\u001b[0;34m:\u001b[0m\u001b[0;34m\u001b[0m\u001b[0;34m\u001b[0m\u001b[0m\n\u001b[1;32m     18\u001b[0m     \u001b[0mB\u001b[0m\u001b[0;34m,\u001b[0m\u001b[0mT\u001b[0m\u001b[0;34m,\u001b[0m\u001b[0mC\u001b[0m \u001b[0;34m=\u001b[0m \u001b[0mx\u001b[0m\u001b[0;34m.\u001b[0m\u001b[0mshape\u001b[0m \u001b[0;31m#[64, 256, 384])\u001b[0m\u001b[0;34m\u001b[0m\u001b[0;34m\u001b[0m\u001b[0m\n\u001b[0;32m---> 19\u001b[0;31m     \u001b[0mqkv\u001b[0m \u001b[0;34m=\u001b[0m \u001b[0mself\u001b[0m\u001b[0;34m.\u001b[0m\u001b[0mqkv_linear\u001b[0m\u001b[0;34m(\u001b[0m\u001b[0mx\u001b[0m\u001b[0;34m)\u001b[0m \u001b[0;31m# [64, 256, 1152]\u001b[0m\u001b[0;34m\u001b[0m\u001b[0;34m\u001b[0m\u001b[0m\n\u001b[0m\u001b[1;32m     20\u001b[0m     \u001b[0mq\u001b[0m\u001b[0;34m,\u001b[0m \u001b[0mk\u001b[0m\u001b[0;34m,\u001b[0m \u001b[0mv\u001b[0m \u001b[0;34m=\u001b[0m  \u001b[0mrearrange\u001b[0m\u001b[0;34m(\u001b[0m\u001b[0mqkv\u001b[0m\u001b[0;34m,\u001b[0m \u001b[0;34m'b t (qvk h c) -> qvk b h t c'\u001b[0m\u001b[0;34m,\u001b[0m \u001b[0mqvk\u001b[0m\u001b[0;34m=\u001b[0m\u001b[0;36m3\u001b[0m\u001b[0;34m,\u001b[0m \u001b[0mh\u001b[0m\u001b[0;34m=\u001b[0m\u001b[0mn_heads\u001b[0m\u001b[0;34m)\u001b[0m \u001b[0;31m#torch.Size([3, 64, 6, 256, 64])\u001b[0m\u001b[0;34m\u001b[0m\u001b[0;34m\u001b[0m\u001b[0m\n\u001b[1;32m     21\u001b[0m \u001b[0;34m\u001b[0m\u001b[0m\n",
            "\u001b[0;32m/usr/local/lib/python3.9/dist-packages/torch/nn/modules/module.py\u001b[0m in \u001b[0;36m_call_impl\u001b[0;34m(self, *input, **kwargs)\u001b[0m\n\u001b[1;32m   1192\u001b[0m         if not (self._backward_hooks or self._forward_hooks or self._forward_pre_hooks or _global_backward_hooks\n\u001b[1;32m   1193\u001b[0m                 or _global_forward_hooks or _global_forward_pre_hooks):\n\u001b[0;32m-> 1194\u001b[0;31m             \u001b[0;32mreturn\u001b[0m \u001b[0mforward_call\u001b[0m\u001b[0;34m(\u001b[0m\u001b[0;34m*\u001b[0m\u001b[0minput\u001b[0m\u001b[0;34m,\u001b[0m \u001b[0;34m**\u001b[0m\u001b[0mkwargs\u001b[0m\u001b[0;34m)\u001b[0m\u001b[0;34m\u001b[0m\u001b[0;34m\u001b[0m\u001b[0m\n\u001b[0m\u001b[1;32m   1195\u001b[0m         \u001b[0;31m# Do not call functions when jit is used\u001b[0m\u001b[0;34m\u001b[0m\u001b[0;34m\u001b[0m\u001b[0m\n\u001b[1;32m   1196\u001b[0m         \u001b[0mfull_backward_hooks\u001b[0m\u001b[0;34m,\u001b[0m \u001b[0mnon_full_backward_hooks\u001b[0m \u001b[0;34m=\u001b[0m \u001b[0;34m[\u001b[0m\u001b[0;34m]\u001b[0m\u001b[0;34m,\u001b[0m \u001b[0;34m[\u001b[0m\u001b[0;34m]\u001b[0m\u001b[0;34m\u001b[0m\u001b[0;34m\u001b[0m\u001b[0m\n",
            "\u001b[0;32m/usr/local/lib/python3.9/dist-packages/torch/nn/modules/linear.py\u001b[0m in \u001b[0;36mforward\u001b[0;34m(self, input)\u001b[0m\n\u001b[1;32m    112\u001b[0m \u001b[0;34m\u001b[0m\u001b[0m\n\u001b[1;32m    113\u001b[0m     \u001b[0;32mdef\u001b[0m \u001b[0mforward\u001b[0m\u001b[0;34m(\u001b[0m\u001b[0mself\u001b[0m\u001b[0;34m,\u001b[0m \u001b[0minput\u001b[0m\u001b[0;34m:\u001b[0m \u001b[0mTensor\u001b[0m\u001b[0;34m)\u001b[0m \u001b[0;34m->\u001b[0m \u001b[0mTensor\u001b[0m\u001b[0;34m:\u001b[0m\u001b[0;34m\u001b[0m\u001b[0;34m\u001b[0m\u001b[0m\n\u001b[0;32m--> 114\u001b[0;31m         \u001b[0;32mreturn\u001b[0m \u001b[0mF\u001b[0m\u001b[0;34m.\u001b[0m\u001b[0mlinear\u001b[0m\u001b[0;34m(\u001b[0m\u001b[0minput\u001b[0m\u001b[0;34m,\u001b[0m \u001b[0mself\u001b[0m\u001b[0;34m.\u001b[0m\u001b[0mweight\u001b[0m\u001b[0;34m,\u001b[0m \u001b[0mself\u001b[0m\u001b[0;34m.\u001b[0m\u001b[0mbias\u001b[0m\u001b[0;34m)\u001b[0m\u001b[0;34m\u001b[0m\u001b[0;34m\u001b[0m\u001b[0m\n\u001b[0m\u001b[1;32m    115\u001b[0m \u001b[0;34m\u001b[0m\u001b[0m\n\u001b[1;32m    116\u001b[0m     \u001b[0;32mdef\u001b[0m \u001b[0mextra_repr\u001b[0m\u001b[0;34m(\u001b[0m\u001b[0mself\u001b[0m\u001b[0;34m)\u001b[0m \u001b[0;34m->\u001b[0m \u001b[0mstr\u001b[0m\u001b[0;34m:\u001b[0m\u001b[0;34m\u001b[0m\u001b[0;34m\u001b[0m\u001b[0m\n",
            "\u001b[0;31mKeyboardInterrupt\u001b[0m: "
          ]
        }
      ]
    },
    {
      "cell_type": "code",
      "source": [],
      "metadata": {
        "id": "Tml-wd1y-Rhk"
      },
      "execution_count": null,
      "outputs": []
    }
  ]
}