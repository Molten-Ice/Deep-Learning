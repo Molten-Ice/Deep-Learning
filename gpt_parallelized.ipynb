{
  "nbformat": 4,
  "nbformat_minor": 0,
  "metadata": {
    "colab": {
      "provenance": [],
      "authorship_tag": "ABX9TyNF1vx6HMfesqB2fQW7iKpe",
      "include_colab_link": true
    },
    "kernelspec": {
      "name": "python3",
      "display_name": "Python 3"
    },
    "language_info": {
      "name": "python"
    },
    "accelerator": "GPU",
    "gpuClass": "standard"
  },
  "cells": [
    {
      "cell_type": "markdown",
      "metadata": {
        "id": "view-in-github",
        "colab_type": "text"
      },
      "source": [
        "<a href=\"https://colab.research.google.com/github/Molten-Ice/Deep-Learning/blob/dev/gpt_parallelized.ipynb\" target=\"_parent\"><img src=\"https://colab.research.google.com/assets/colab-badge.svg\" alt=\"Open In Colab\"/></a>"
      ]
    },
    {
      "cell_type": "code",
      "execution_count": 1,
      "metadata": {
        "id": "cuBYNiXKq_Fg"
      },
      "outputs": [],
      "source": [
        "# -Parallelized attention heads to make the code more efficient\n",
        "# -Tidy code\n",
        "#- lr scheduler"
      ]
    },
    {
      "cell_type": "markdown",
      "source": [
        "## Hyperparameters"
      ],
      "metadata": {
        "id": "FsJuMTN6sDUy"
      }
    },
    {
      "cell_type": "code",
      "source": [
        "# hyperparameters\n",
        "batch_size = 64 # num independent sequences processed in parallel \n",
        "block_size = 256 # what is the maximum context lengths?\n",
        "\n",
        "max_iterations = 5001 # training iterations\n",
        "eval_interval = 100 # 500 # how often to print out loss & accuracy\n",
        "eval_iterations = 200 # how many batches to check during evaluation\n",
        "\n",
        "learning_rate = 3e-4\n",
        "dropout = 0.2\n",
        "\n",
        "train_split = 0.9\n",
        "\n",
        "n_heads = 6\n",
        "n_embedding = 384 # each head has dim 64 (=384/6)\n",
        "n_layer = 1"
      ],
      "metadata": {
        "id": "4hdDx_6_sOiW"
      },
      "execution_count": 2,
      "outputs": []
    },
    {
      "cell_type": "markdown",
      "source": [
        "## Imports "
      ],
      "metadata": {
        "id": "Squ7V9CRt-oP"
      }
    },
    {
      "cell_type": "code",
      "source": [
        "try:\n",
        "    import einops\n",
        "except:\n",
        "    print(f\"einops not installed as required, installing...\")\n",
        "    !pip3 install einops\n",
        "    import einops\n",
        "\n",
        "from einops import rearrange, reduce, repeat\n",
        "\n",
        "import torch\n",
        "import torch.nn as nn\n",
        "import time"
      ],
      "metadata": {
        "colab": {
          "base_uri": "https://localhost:8080/"
        },
        "id": "xvZXdhgCsGk5",
        "outputId": "8d4d5a86-0794-438e-db98-f0f9ae5076e1"
      },
      "execution_count": 3,
      "outputs": [
        {
          "output_type": "stream",
          "name": "stdout",
          "text": [
            "einops not installed as required, installing...\n",
            "Looking in indexes: https://pypi.org/simple, https://us-python.pkg.dev/colab-wheels/public/simple/\n",
            "Collecting einops\n",
            "  Downloading einops-0.6.0-py3-none-any.whl (41 kB)\n",
            "\u001b[2K     \u001b[90m━━━━━━━━━━━━━━━━━━━━━━━━━━━━━━━━━━━━━━━━\u001b[0m \u001b[32m41.6/41.6 KB\u001b[0m \u001b[31m1.8 MB/s\u001b[0m eta \u001b[36m0:00:00\u001b[0m\n",
            "\u001b[?25hInstalling collected packages: einops\n",
            "Successfully installed einops-0.6.0\n"
          ]
        }
      ]
    },
    {
      "cell_type": "code",
      "source": [
        "device = 'cuda' if torch.cuda.is_available() else 'cpu'\n",
        "print(f\"on device: {device}\")"
      ],
      "metadata": {
        "colab": {
          "base_uri": "https://localhost:8080/"
        },
        "id": "coylNu1tsRmk",
        "outputId": "bff5b257-1a69-4b0e-d37e-29be7ba9fb6b"
      },
      "execution_count": 4,
      "outputs": [
        {
          "output_type": "stream",
          "name": "stdout",
          "text": [
            "on device: cuda\n"
          ]
        }
      ]
    },
    {
      "cell_type": "markdown",
      "source": [
        "## Download and pre-process data"
      ],
      "metadata": {
        "id": "peUiLi_4sUJh"
      }
    },
    {
      "cell_type": "code",
      "source": [
        "# Importing data\n",
        "data_file_path = 'https://raw.githubusercontent.com/Molten-Ice/Deep-Learning/main/Data/foundation.txt'\n",
        "import requests\n",
        "r = requests.get(data_file_path)\n",
        "text = r.text\n",
        "\n",
        "# file = \"foundation.txt\"\n",
        "# with open(file, 'r') as f:\n",
        "#   text = f.read()\n",
        "\n",
        "print(f\"Length of foundation.txt: {len(text)} characters\")\n",
        "print(text[:250])\n",
        "\n",
        "chars = sorted(list(set(text)))\n",
        "n_chars = len(chars)\n",
        "print(f\"There are {n_chars} unique characters, namely: {''.join(chars)}\")\n",
        "\n",
        "ctoi = {ch:i for i, ch in enumerate(chars)} # characters to integers\n",
        "itoc = {i:ch for i, ch in enumerate(chars)} # integers to character\n",
        "encode = lambda s: [ctoi[ch] for ch in s]\n",
        "decode = lambda l: ''.join([itoc[i] for i in l])\n",
        "print(encode(\"Hello world!\"))\n",
        "print(decode(encode(\"Foo Bar!\")))\n",
        "\n",
        "encoded_text = encode(text)\n",
        "print(len(encoded_text))\n",
        "\n",
        "n = int(len(encoded_text) * 0.9)\n",
        "data = torch.tensor(encoded_text, dtype=torch.long)\n",
        "train_data = data[:n]\n",
        "test_data = data[n:]\n",
        "print(f\"train data length {len(train_data)} | test data length {len(test_data)}\")"
      ],
      "metadata": {
        "colab": {
          "base_uri": "https://localhost:8080/"
        },
        "id": "3XvR_WbCsWVb",
        "outputId": "725d0363-1601-4094-8d94-8a38cff6b2eb"
      },
      "execution_count": 5,
      "outputs": [
        {
          "output_type": "stream",
          "name": "stdout",
          "text": [
            "Length of foundation.txt: 1240544 characters\n",
            "FOUNDATION \n",
            "ISAAC ASIMOV \n",
            "\n",
            "PART I \n",
            "\n",
            "THE PSYCHOHISTORIANS \n",
            "\n",
            "i. \n",
            "\n",
            "HARI SELDON-... bom In the 1 1,988th year of the Galactic Era; died 12,069. The dates are \n",
            "more commonly given In terms of the current Foundational Era as - 79 to the year 1 F.E. Born \n",
            "t\n",
            "There are 84 unique characters, namely: \n",
            " !\"#%'()*,-./0123456789:;?ABCDEFGHIJKLMNOPQRSTUVWXYZ\\abcdefghijklmnopqrstuvwxyz—‘’”\n",
            "[34, 58, 65, 65, 68, 1, 76, 68, 71, 65, 57, 2]\n",
            "Foo Bar!\n",
            "1240544\n",
            "train data length 1116489 | test data length 124055\n"
          ]
        }
      ]
    },
    {
      "cell_type": "code",
      "source": [
        "def get_batches(split='train') -> tuple:\n",
        "  data = train_data if split == 'train' else test_data\n",
        "  idxs = torch.randint(len(data)-block_size, (batch_size, ))\n",
        "  xb = torch.stack([data[i:i+block_size] for i in idxs])\n",
        "  yb = torch.stack([data[i+1:i+block_size+1] for i in idxs])\n",
        "  xb, yb = xb.to(device), yb.to(device)\n",
        "  return xb, yb\n",
        "\n",
        "xb, yb = get_batches()\n",
        "print(xb.shape, yb.shape)\n",
        "\n",
        "def evaluate_model(model):\n",
        "  t_eval = time.time()\n",
        "  model.eval()\n",
        "  with torch.inference_mode():\n",
        "    splits = ['train', 'test']\n",
        "    categories = ['loss', 'top1', 'top5']\n",
        "    all = {s:{c: torch.zeros(eval_iterations) for c in categories} for s in splits}\n",
        "    for split in splits:\n",
        "      for i in range(eval_iterations):\n",
        "        xb, yb = get_batches(split = split)\n",
        "        logits, loss = model(xb, yb)\n",
        "        all[split]['loss'][i] = loss.item()\n",
        "\n",
        "        # top@1 accuracy\n",
        "        top1_preds = torch.topk(logits, 1, dim = -1).indices.squeeze(dim=-1)\n",
        "        all[split]['top1'][i] = (torch.sum(top1_preds == yb) / torch.numel(yb)).item()\n",
        "        \n",
        "\n",
        "        # top@5 accuracy\n",
        "        top5_preds = torch.topk(logits, 5, dim = -1).indices\n",
        "        y_stretched = repeat(yb, 'B T -> B T K', K = 5)\n",
        "        all[split]['top5'][i] = (torch.sum(top5_preds == y_stretched) / torch.numel(yb)).item()\n",
        "    \n",
        "    \n",
        "    output_dict = {}\n",
        "    for split in splits:\n",
        "\n",
        "      loss = all[split]['loss'].mean().item()\n",
        "      top1 = 100*all[split]['top1'].mean().item()\n",
        "      top5 = 100*all[split]['top5'].mean().item()\n",
        "      output_dict[split] = [loss, top1, top5]\n",
        "\n",
        "    model.train()\n",
        "\n",
        "    output_dict['eval_time'] = time.time()-t_eval\n",
        "    # return output_dict\n",
        "\n",
        "    # Formatting output\n",
        "    array = []\n",
        "    array.extend(output_dict['train'])\n",
        "    array.extend(output_dict['test'])\n",
        "    array.append(output_dict['eval_time'])\n",
        "\n",
        "    output_str=\"\"\n",
        "    target_indexes = [i for i in range(0, 63, 9)]\n",
        "    for idx, horizontal_pos in enumerate(target_indexes):\n",
        "      output_str+=\" \"*(horizontal_pos-len(output_str))\n",
        "      output_str+=f\"{array[idx]:.4f}\"\n",
        "  return output_str"
      ],
      "metadata": {
        "colab": {
          "base_uri": "https://localhost:8080/"
        },
        "id": "WOE-tTe-sdOE",
        "outputId": "5de4d962-abd1-48fb-e736-358e25cbac40"
      },
      "execution_count": 6,
      "outputs": [
        {
          "output_type": "stream",
          "name": "stdout",
          "text": [
            "torch.Size([64, 256]) torch.Size([64, 256])\n"
          ]
        }
      ]
    },
    {
      "cell_type": "markdown",
      "source": [
        "## GPT model"
      ],
      "metadata": {
        "id": "Bggp0svTsl5k"
      }
    },
    {
      "cell_type": "code",
      "source": [
        "parallel_heads = True\n",
        "class MultiHeadAttention(nn.Module):\n",
        "  # parallelized attention heads\n",
        "  \n",
        "  def __init__(self):\n",
        "    super().__init__()\n",
        "    head_size = n_embedding // n_heads\n",
        "    self.head_size = head_size\n",
        "    #generate q,k,v for all n_heads at once\n",
        "    self.qkv_linear = nn.Linear(n_embedding, head_size*n_heads*3) \n",
        "    self.dropout = nn.Dropout(dropout)\n",
        "    self.register_buffer('tril', torch.tril(torch.ones(block_size, block_size)))\n",
        "    self.linear = nn.Sequential(\n",
        "        nn.Linear(head_size*n_heads, n_embedding),\n",
        "        nn.Dropout(dropout))\n",
        "    \n",
        "  def forward(self, x: torch.Tensor) -> torch.Tensor:\n",
        "    B,T,C = x.shape #[64, 256, 384])\n",
        "    qkv = self.qkv_linear(x) # [64, 256, 1152]\n",
        "    q, k, v =  rearrange(qkv, 'b t (qvk h c) -> qvk b h t c', qvk=3, h=n_heads) #torch.Size([3, 64, 6, 256, 64])\n",
        "\n",
        "    mat_mul = q@rearrange(k, 'b h t c -> b h c t') * self.head_size**-0.5 # This scaling factor makes an INSANE difference\n",
        "    mat_mul = mat_mul.masked_fill(self.tril[:T, :T]==0, float('-inf'))\n",
        "    mat_mul = nn.functional.softmax(mat_mul, dim = -1)\n",
        "    mat_mul = self.dropout(mat_mul)\n",
        "    mat_mul = mat_mul@v\n",
        "    flattened = rearrange(mat_mul, 'b h t c -> b t (h c)')\n",
        "    linear = self.linear(flattened)\n",
        "    return flattened\n",
        "\n",
        "class AttentionHead(nn.Module):\n",
        "  def __init__(self, head_size):\n",
        "    super().__init__()\n",
        "    self.head_size = head_size\n",
        "    self.q_linear = nn.Linear(n_embedding, head_size)\n",
        "    self.k_linear = nn.Linear(n_embedding, head_size)\n",
        "    self.v_linear = nn.Linear(n_embedding, head_size)\n",
        "\n",
        "    self.dropout = nn.Dropout(dropout)\n",
        "\n",
        "    self.register_buffer('tril', torch.tril(torch.ones(block_size, block_size)))\n",
        "    \n",
        "  def forward(self, x):\n",
        "    B,T,C = x.shape\n",
        "    q, k, v = self.q_linear(x), self.k_linear(x), self.v_linear(x)\n",
        "\n",
        "    mat_mul = q@rearrange(k, 'B T C -> B C T') * self.head_size**-0.5 # This scaling factor makes an INSANE difference\n",
        "\n",
        "    #Masking (Useful for GPTs but comment out for ViT)\n",
        "    mat_mul = mat_mul.masked_fill(self.tril[:T, :T]==0, float('-inf'))\n",
        "\n",
        "    mat_mul = nn.functional.softmax(mat_mul, dim = -1)\n",
        "    mat_mul = self.dropout(mat_mul)\n",
        "    return mat_mul@v\n",
        "\n",
        "class MultiAttention(nn.Module):\n",
        "  def __init__(self):\n",
        "    super().__init__()\n",
        "\n",
        "    head_size = n_embedding // n_heads\n",
        "    self.attention = nn.ModuleList([AttentionHead(head_size) for i in range(n_heads)])\n",
        "\n",
        "    self.linear = nn.Sequential(\n",
        "        nn.Linear(head_size*n_heads, n_embedding),\n",
        "        nn.Dropout(dropout))\n",
        "    \n",
        "  def forward(self, x: torch.Tensor) -> torch.Tensor:\n",
        "    #[64, 256, 84])\n",
        "    a = torch.cat([head(x) for head in self.attention], dim = -1)\n",
        "    return self.linear(a)\n",
        "\n",
        "class FeedFoward(nn.Module):\n",
        "  def __init__(self):\n",
        "    super().__init__()\n",
        "    self.feed_forward = nn.Sequential(\n",
        "        nn.Linear(n_embedding, 4*n_embedding),\n",
        "        nn.GELU(),\n",
        "        nn.Linear(4*n_embedding, n_embedding),\n",
        "        nn.Dropout(dropout))\n",
        "    \n",
        "  def forward(self, x: torch.Tensor) -> torch.Tensor:\n",
        "    return self.feed_forward(x)\n",
        "\n",
        "class Transformer(nn.Module):\n",
        "\n",
        "  def __init__(self):\n",
        "    super().__init__()\n",
        "\n",
        "    if not parallel_heads:\n",
        "      self.multi_attention = MultiAttention() \n",
        "    else:\n",
        "      self.multi_attention = MultiHeadAttention() \n",
        "    self.feed_forward = FeedFoward()\n",
        "    self.ln1 = nn.LayerNorm(n_embedding)\n",
        "    self.ln2 = nn.LayerNorm(n_embedding)\n",
        "\n",
        "  def forward(self, x: torch.Tensor) -> torch.Tensor:\n",
        "    x = x + self.multi_attention(self.ln1(x))\n",
        "    x = x + self.feed_forward(self.ln2(x))\n",
        "    return x\n",
        "\n",
        "class GPT(nn.Module):\n",
        "  def __init__(self):\n",
        "      super().__init__()\n",
        "\n",
        "      self.token_embedding = nn.Embedding(n_chars, n_embedding)\n",
        "      self.positional_encoding = nn.Embedding(block_size, n_embedding)\n",
        "\n",
        "      self.transformers = nn.Sequential(*[Transformer() for _ in range(n_layer)])\n",
        "\n",
        "      self.final_ln = nn.LayerNorm(n_embedding)\n",
        "      self.final_linear = nn.Linear(n_embedding, n_chars)\n",
        "\n",
        "  def forward(self, x: torch.Tensor, targets = None) -> torch.Tensor:\n",
        "    # print(\"FORWARD\", x.shape)\n",
        "    T = x.shape[-1]\n",
        "    te = self.token_embedding(x) # [64, 256, 84]\n",
        "    # pe = self.positional_encoding(torch.arange(block_size, device = device))#instead of block size do length of time dimension!\n",
        "    pe = self.positional_encoding(torch.arange(T, device = device))\n",
        "    # print(f\"te: {te.shape} | pe: {pe.shape}\")\n",
        "    x = te + pe # [64, 256, 128] (batch_size, T, n_embedding)\n",
        "    x = self.transformers(x) # \n",
        "\n",
        "    x = self.final_ln(x)\n",
        "    logits = self.final_linear(x)\n",
        "    \n",
        "    if targets == None:\n",
        "      loss = None\n",
        "    else:\n",
        "      # logits_r = rearrange(logits, 'B T C -> (B T) C') # NOT softmaxed!!\n",
        "      # targets_r = rearrange(yb, 'B T -> (B T)')\n",
        "      # loss = nn.functional.cross_entropy(logits_r, targets_r) # wants pre-softmaxed values\n",
        "\n",
        "      B, T, C = logits.shape\n",
        "      logits_r = logits.view(B*T, C)\n",
        "      targets_r = targets.view(B*T)\n",
        "      loss = nn.functional.cross_entropy(logits_r, targets_r)\n",
        "  \n",
        "    return logits, loss\n",
        "\n",
        "  @torch.no_grad()\n",
        "  def generate(self, idxs, length_to_generate=500) -> torch.Tensor:\n",
        "    self.eval()\n",
        "    for _ in range(length_to_generate):\n",
        "      input = idxs[:, -block_size:]\n",
        "      logits, loss = self(input)\n",
        "      logits = logits[:, -1, :] # (B, T)\n",
        "      probs = nn.functional.softmax(logits, dim = -1)\n",
        "      pred = torch.multinomial(probs, 1)\n",
        "      idxs = torch.cat((idxs, pred), dim = -1) # (B, T+1)\n",
        "    return idxs\n",
        "\n",
        "gpt_model = GPT().to(device)\n",
        "print(f'gpt model parameters are on device: {next(gpt_model.parameters()).device}')\n",
        "xb, yb = get_batches()\n",
        "logits, loss = gpt_model(xb, yb)\n",
        "print(f\"{logits.shape}, {loss.item():.4f}\")\n",
        "print(f\"{sum(p.numel() for p in gpt_model.parameters())/1e6:.4f} Million Parameters\")\n",
        "print()\n",
        "context = torch.zeros((1, 1), dtype = torch.long,  device = device)\n",
        "print(decode(gpt_model.generate(context, length_to_generate=100)[0].tolist()))"
      ],
      "metadata": {
        "colab": {
          "base_uri": "https://localhost:8080/"
        },
        "id": "RGNsdCj0t1YV",
        "outputId": "074e37b1-d7c8-4321-ac7f-d9f8a31ba1f3"
      },
      "execution_count": 56,
      "outputs": [
        {
          "output_type": "stream",
          "name": "stdout",
          "text": [
            "gpt model parameters are on device: cuda:0\n",
            "torch.Size([64, 256, 84]), 4.6657\n",
            "1.9381 Million Parameters\n",
            "\n",
            "\n",
            "UVVyI3'uQ,%‘EbWbuo3/Z/DRvd,zS5tA7\\Xg6VxA11?UScO\n",
            "eYVZqU‘\"—vUgI\\ uFJ’PmwiiQKNB#2y”NKNr;'yzi;r'b-W9’3jU\n"
          ]
        }
      ]
    },
    {
      "cell_type": "markdown",
      "source": [
        "## Training loop"
      ],
      "metadata": {
        "id": "6Ltcc2vgvx2M"
      }
    },
    {
      "cell_type": "code",
      "source": [
        "### Training loop\n",
        "optimizer = torch.optim.AdamW(params = gpt_model.parameters(), lr = learning_rate)\n",
        "\n",
        "t_train = time.time()\n",
        "t_train_full = time.time()\n",
        "print(f\"n_heads:{n_heads} | n_embedding: {n_embedding} | n_layer: {n_layer} num_params: {sum(p.numel() for p in gpt_model.parameters())/1e6:.4f} Million Parameters\")\n",
        "print(\"---------TRAIN----------|-----------TEST-----------|--TIMING----------\")\n",
        "print(\"loss     top@1    top@5 |  loss     top@1    top@5 |  eval_time\")\n",
        "for i in range(max_iterations):\n",
        "  xb, yb = get_batches()\n",
        "  logits, loss = gpt_model(xb, yb)\n",
        "  # if i % 1000 == 0:\n",
        "  if i % 100 == 0:\n",
        "    train_time = time.time()-t_train\n",
        "    print(evaluate_model(gpt_model) + f\"### iter: {i} | loss: {loss.item():.4f} | train time interval: {train_time:.2f} seconds\")\n",
        "    t_train = time.time()\n",
        "\n",
        "  optimizer.zero_grad(set_to_none=True)\n",
        "  loss.backward()\n",
        "  optimizer.step()\n",
        "\n",
        "print()\n",
        "print(f\"Time taken for {max_iterations} iterations: {time.time()-t_train_full:.2f} seconds\")"
      ],
      "metadata": {
        "colab": {
          "base_uri": "https://localhost:8080/",
          "height": 443
        },
        "id": "nxPbk2IMvu5f",
        "outputId": "74c65cde-d11c-48a5-8144-be40e9c0c86d"
      },
      "execution_count": 57,
      "outputs": [
        {
          "output_type": "stream",
          "name": "stdout",
          "text": [
            "n_heads:6 | n_embedding: 384 | n_layer: 1 num_params: 1.9381 Million Parameters\n",
            "---------TRAIN----------|-----------TEST-----------|--TIMING----------\n",
            "loss     top@1    top@5 |  loss     top@1    top@5 |  eval_time\n",
            "4.6681   0.7924   4.6143   4.6686   0.7852   4.5937   10.1680### iter: 0 | loss: 4.6672 | train time interval: 0.01 seconds\n",
            "2.5054   27.4399  65.9486  2.5082   27.7022  66.0398  10.2297### iter: 100 | loss: 2.5171 | train time interval: 6.53 seconds\n"
          ]
        },
        {
          "output_type": "error",
          "ename": "KeyboardInterrupt",
          "evalue": "ignored",
          "traceback": [
            "\u001b[0;31m---------------------------------------------------------------------------\u001b[0m",
            "\u001b[0;31mKeyboardInterrupt\u001b[0m                         Traceback (most recent call last)",
            "\u001b[0;32m<ipython-input-57-2d52a5744ade>\u001b[0m in \u001b[0;36m<module>\u001b[0;34m\u001b[0m\n\u001b[1;32m     13\u001b[0m   \u001b[0;32mif\u001b[0m \u001b[0mi\u001b[0m \u001b[0;34m%\u001b[0m \u001b[0;36m100\u001b[0m \u001b[0;34m==\u001b[0m \u001b[0;36m0\u001b[0m\u001b[0;34m:\u001b[0m\u001b[0;34m\u001b[0m\u001b[0;34m\u001b[0m\u001b[0m\n\u001b[1;32m     14\u001b[0m     \u001b[0mtrain_time\u001b[0m \u001b[0;34m=\u001b[0m \u001b[0mtime\u001b[0m\u001b[0;34m.\u001b[0m\u001b[0mtime\u001b[0m\u001b[0;34m(\u001b[0m\u001b[0;34m)\u001b[0m\u001b[0;34m-\u001b[0m\u001b[0mt_train\u001b[0m\u001b[0;34m\u001b[0m\u001b[0;34m\u001b[0m\u001b[0m\n\u001b[0;32m---> 15\u001b[0;31m     \u001b[0mprint\u001b[0m\u001b[0;34m(\u001b[0m\u001b[0mevaluate_model\u001b[0m\u001b[0;34m(\u001b[0m\u001b[0mgpt_model\u001b[0m\u001b[0;34m)\u001b[0m \u001b[0;34m+\u001b[0m \u001b[0;34mf\"### iter: {i} | loss: {loss.item():.4f} | train time interval: {train_time:.2f} seconds\"\u001b[0m\u001b[0;34m)\u001b[0m\u001b[0;34m\u001b[0m\u001b[0;34m\u001b[0m\u001b[0m\n\u001b[0m\u001b[1;32m     16\u001b[0m     \u001b[0mt_train\u001b[0m \u001b[0;34m=\u001b[0m \u001b[0mtime\u001b[0m\u001b[0;34m.\u001b[0m\u001b[0mtime\u001b[0m\u001b[0;34m(\u001b[0m\u001b[0;34m)\u001b[0m\u001b[0;34m\u001b[0m\u001b[0;34m\u001b[0m\u001b[0m\n\u001b[1;32m     17\u001b[0m \u001b[0;34m\u001b[0m\u001b[0m\n",
            "\u001b[0;32m<ipython-input-6-cb6d04c0e8de>\u001b[0m in \u001b[0;36mevaluate_model\u001b[0;34m(model)\u001b[0m\n\u001b[1;32m     21\u001b[0m         \u001b[0mxb\u001b[0m\u001b[0;34m,\u001b[0m \u001b[0myb\u001b[0m \u001b[0;34m=\u001b[0m \u001b[0mget_batches\u001b[0m\u001b[0;34m(\u001b[0m\u001b[0msplit\u001b[0m \u001b[0;34m=\u001b[0m \u001b[0msplit\u001b[0m\u001b[0;34m)\u001b[0m\u001b[0;34m\u001b[0m\u001b[0;34m\u001b[0m\u001b[0m\n\u001b[1;32m     22\u001b[0m         \u001b[0mlogits\u001b[0m\u001b[0;34m,\u001b[0m \u001b[0mloss\u001b[0m \u001b[0;34m=\u001b[0m \u001b[0mmodel\u001b[0m\u001b[0;34m(\u001b[0m\u001b[0mxb\u001b[0m\u001b[0;34m,\u001b[0m \u001b[0myb\u001b[0m\u001b[0;34m)\u001b[0m\u001b[0;34m\u001b[0m\u001b[0;34m\u001b[0m\u001b[0m\n\u001b[0;32m---> 23\u001b[0;31m         \u001b[0mall\u001b[0m\u001b[0;34m[\u001b[0m\u001b[0msplit\u001b[0m\u001b[0;34m]\u001b[0m\u001b[0;34m[\u001b[0m\u001b[0;34m'loss'\u001b[0m\u001b[0;34m]\u001b[0m\u001b[0;34m[\u001b[0m\u001b[0mi\u001b[0m\u001b[0;34m]\u001b[0m \u001b[0;34m=\u001b[0m \u001b[0mloss\u001b[0m\u001b[0;34m.\u001b[0m\u001b[0mitem\u001b[0m\u001b[0;34m(\u001b[0m\u001b[0;34m)\u001b[0m\u001b[0;34m\u001b[0m\u001b[0;34m\u001b[0m\u001b[0m\n\u001b[0m\u001b[1;32m     24\u001b[0m \u001b[0;34m\u001b[0m\u001b[0m\n\u001b[1;32m     25\u001b[0m         \u001b[0;31m# top@1 accuracy\u001b[0m\u001b[0;34m\u001b[0m\u001b[0;34m\u001b[0m\u001b[0m\n",
            "\u001b[0;31mKeyboardInterrupt\u001b[0m: "
          ]
        }
      ]
    },
    {
      "cell_type": "code",
      "source": [
        "# n_heads:6 | n_embedding: 384 | n_layer: 1 num_params: 1.9381 Million Parameters\n",
        "# ---------TRAIN----------|-----------TEST-----------|--TIMING----------\n",
        "# loss     top@1    top@5 |  loss     top@1    top@5 |  eval_time\n",
        "4.6333   0.9825   5.1626   4.6361   0.9424   5.0534   10.8289### iter: 0 | loss: 4.6345 | train time interval: 0.01 seconds\n",
        "2.5013   27.6460  66.2090  2.5089   27.8167  66.1908  10.9146### iter: 100 | loss: 2.5085 | train time interval: 7.76 seconds\n",
        "# ↓↓↓↓↓↓↓↓↓↓↓↓↓↓↓↓↓↓↓↓↓↓↓↓↓↓↓↓↓↓↓↓↓↓↓↓↓↓↓↓↓↓↓↓↓↓↓↓↓↓↓↓↓↓↓↓↓↓↓↓↓↓↓↓↓↓↓↓↓↓↓↓↓↓↓↓↓↓↓↓↓\n",
        "# n_heads:6 | n_embedding: 384 | n_layer: 1 num_params: 1.9381 Million Parameters\n",
        "# ---------TRAIN----------|-----------TEST-----------|--TIMING----------\n",
        "# loss     top@1    top@5 |  loss     top@1    top@5 |  eval_time\n",
        "4.6681   0.7924   4.6143   4.6686   0.7852   4.5937   10.1680### iter: 0 | loss: 4.6672 | train time interval: 0.01 seconds\n",
        "2.5054   27.4399  65.9486  2.5082   27.7022  66.0398  10.2297### iter: 100 | loss: 2.5171 | train time interval: 6.53 seconds"
      ],
      "metadata": {
        "colab": {
          "base_uri": "https://localhost:8080/"
        },
        "id": "bsXaKqQ90_Am",
        "outputId": "4c45daf1-2ce3-44f6-854a-2e097777bc76"
      },
      "execution_count": 11,
      "outputs": [
        {
          "output_type": "stream",
          "name": "stdout",
          "text": [
            "\n",
            "\n",
            "\"A't get buseand. \n",
            ", \n",
            "\n",
            "d SeGathewoundin. \n",
            "hine sic, cisbonthedo I 8, be ps h, iskeronathaswaly thea\n"
          ]
        }
      ]
    },
    {
      "cell_type": "code",
      "source": [
        "context = torch.zeros((1, 1), dtype = torch.long,  device = device)\n",
        "print(decode(gpt_model.generate(context, length_to_generate=100)[0].tolist()))"
      ],
      "metadata": {
        "id": "NHpJvOw31J-m"
      },
      "execution_count": null,
      "outputs": []
    }
  ]
}