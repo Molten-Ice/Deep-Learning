{
  "nbformat": 4,
  "nbformat_minor": 0,
  "metadata": {
    "colab": {
      "provenance": [],
      "authorship_tag": "ABX9TyPqqDcSTd95yUgDZT88CU5M",
      "include_colab_link": true
    },
    "kernelspec": {
      "name": "python3",
      "display_name": "Python 3"
    },
    "language_info": {
      "name": "python"
    }
  },
  "cells": [
    {
      "cell_type": "markdown",
      "metadata": {
        "id": "view-in-github",
        "colab_type": "text"
      },
      "source": [
        "<a href=\"https://colab.research.google.com/github/Molten-Ice/Deep-Learning/blob/main/GPT_from_scratch.ipynb\" target=\"_parent\"><img src=\"https://colab.research.google.com/assets/colab-badge.svg\" alt=\"Open In Colab\"/></a>"
      ]
    },
    {
      "cell_type": "code",
      "execution_count": 1,
      "metadata": {
        "colab": {
          "base_uri": "https://localhost:8080/"
        },
        "id": "20JDxGlWpK7u",
        "outputId": "1ff53020-2476-45c7-eff7-51dee8ec786f"
      },
      "outputs": [
        {
          "output_type": "stream",
          "name": "stdout",
          "text": [
            "Hi\n"
          ]
        }
      ],
      "source": [
        "print(\"Hi\")"
      ]
    },
    {
      "cell_type": "code",
      "source": [
        "with open(\"foundation.txt\", 'r', encoding='utf-8') as f:\n",
        "  text = f.read()"
      ],
      "metadata": {
        "id": "TiGEb4vKpQYo"
      },
      "execution_count": 3,
      "outputs": []
    },
    {
      "cell_type": "code",
      "source": [
        "print(f\"Length of dataset in characters: {len(text)}\")"
      ],
      "metadata": {
        "colab": {
          "base_uri": "https://localhost:8080/"
        },
        "id": "ww0xrhHZpdid",
        "outputId": "3e0834d0-183a-43b2-ef15-45086c2634d8"
      },
      "execution_count": 5,
      "outputs": [
        {
          "output_type": "stream",
          "name": "stdout",
          "text": [
            "Length of dataset in characters: 1240703\n"
          ]
        }
      ]
    },
    {
      "cell_type": "code",
      "source": [
        "print(text[:1000])"
      ],
      "metadata": {
        "colab": {
          "base_uri": "https://localhost:8080/"
        },
        "id": "X4S8DC43pksJ",
        "outputId": "29c7c658-2d3c-4135-f8d3-38eeec66d8df"
      },
      "execution_count": 10,
      "outputs": [
        {
          "output_type": "stream",
          "name": "stdout",
          "text": [
            "FOUNDATION \n",
            "ISAAC ASIMOV \n",
            "\n",
            "\n",
            "Contents \n",
            "\n",
            "Introduction \n",
            "\n",
            "Part I The Psvchohistorians \n",
            "\n",
            "Part II The Encyclopedists \n",
            "\n",
            "Part III The Mayors \n",
            "\n",
            "Part IV The Traders \n",
            "\n",
            "Part V The Merchant Princes \n",
            "\n",
            "PART I \n",
            "\n",
            "THE PSYCHOHISTORIANS \n",
            "\n",
            "i. \n",
            "\n",
            "HARI SELDON-... bom In the 1 1,988th year of the Galactic Era; died 12,069. The dates are \n",
            "more commonly given In terms of the current Foundational Era as - 79 to the year 1 F.E. Born \n",
            "to middle-class parents on Flelicon, Arcturus sector (where his father, In a legend of doubtful \n",
            "authenticity, was a tobacco grower in the hydroponic plants of the planet), he early showed \n",
            "amazing ability in mathematics. Anecdotes concerning his ability are innumerable, and some \n",
            "are contradictory. At the age of two, he is said to have ... \n",
            "\n",
            "... Undoubtedly his greatest contributions were in the field of psychohistory. Seldon found the \n",
            "field little more than a set of vague axioms; he left it a profound statistical science.... \n",
            "\n",
            "... The best existing authority we have for the details\n"
          ]
        }
      ]
    },
    {
      "cell_type": "code",
      "source": [
        "chars = sorted(list(set(text)))\n",
        "vocab_size = len(chars)\n",
        "print(''.join(chars))\n",
        "print(vocab_size)"
      ],
      "metadata": {
        "colab": {
          "base_uri": "https://localhost:8080/"
        },
        "id": "9FNlgCtxpqBw",
        "outputId": "c37080fa-ce7c-4ea4-c9cd-7f5c0869f41a"
      },
      "execution_count": 14,
      "outputs": [
        {
          "output_type": "stream",
          "name": "stdout",
          "text": [
            "\n",
            " !\"#%'()*,-./0123456789:;?ABCDEFGHIJKLMNOPQRSTUVWXYZ\\abcdefghijklmnopqrstuvwxyz—‘’”\n",
            "84\n"
          ]
        }
      ]
    },
    {
      "cell_type": "code",
      "source": [],
      "metadata": {
        "id": "KjN3CiVWqbKC"
      },
      "execution_count": null,
      "outputs": []
    }
  ]
}