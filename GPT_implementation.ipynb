{
  "nbformat": 4,
  "nbformat_minor": 0,
  "metadata": {
    "colab": {
      "provenance": [],
      "authorship_tag": "ABX9TyN5qobTIBfJDfhOl2jJppHb",
      "include_colab_link": true
    },
    "kernelspec": {
      "name": "python3",
      "display_name": "Python 3"
    },
    "language_info": {
      "name": "python"
    },
    "gpuClass": "standard",
    "accelerator": "GPU"
  },
  "cells": [
    {
      "cell_type": "markdown",
      "metadata": {
        "id": "view-in-github",
        "colab_type": "text"
      },
      "source": [
        "<a href=\"https://colab.research.google.com/github/Molten-Ice/Deep-Learning/blob/dev/GPT_implementation.ipynb\" target=\"_parent\"><img src=\"https://colab.research.google.com/assets/colab-badge.svg\" alt=\"Open In Colab\"/></a>"
      ]
    },
    {
      "cell_type": "markdown",
      "source": [
        "In this notebook I will be coding a GPT from scratch. \n",
        "\n",
        "I will not directly be following a tutorials, instead only creating it from memory. \n",
        "\n",
        "It's core component in Transformers, more precisely attention."
      ],
      "metadata": {
        "id": "yyl2Hny5HteO"
      }
    },
    {
      "cell_type": "markdown",
      "source": [
        "I will be using a pre-norm formulation, creating a \"gradient super highway\"! Which will allow the model to train at larger depths (10 million+ parameters)"
      ],
      "metadata": {
        "id": "ZgCYOAbsLKN1"
      }
    },
    {
      "cell_type": "code",
      "source": [
        "### Prompts\n",
        "# residual connections are super important\n",
        "# linearly project multi-head attention output, then dropout\n",
        "\n",
        "#feed forward linear(n, 4n), GeLU, linear(4n, n), dropout\n",
        "\n",
        "#pre norm formulation, creates gradient super highway!\n",
        "#layer norm before it goes into self-attention and feedforward\n",
        "\n",
        "#add layer norms after block before final linear layer\n",
        "\n",
        "#scaling up module\n",
        "#dropout after softmax"
      ],
      "metadata": {
        "id": "alusCavKIAsb"
      },
      "execution_count": 1,
      "outputs": []
    },
    {
      "cell_type": "code",
      "source": [
        "try:\n",
        "  from einops import rearrange, repeat, reduce\n",
        "except:\n",
        "  print(\"einops not installed, installing...\")\n",
        "  !pip install einops\n",
        "  from einops import rearrange, repeat, reduce"
      ],
      "metadata": {
        "id": "2JghT0GOLXWk",
        "colab": {
          "base_uri": "https://localhost:8080/"
        },
        "outputId": "69bc507f-6cd2-4cac-a52e-cdf68f538411"
      },
      "execution_count": 2,
      "outputs": [
        {
          "output_type": "stream",
          "name": "stdout",
          "text": [
            "einops not installed, installing...\n",
            "Looking in indexes: https://pypi.org/simple, https://us-python.pkg.dev/colab-wheels/public/simple/\n",
            "Collecting einops\n",
            "  Downloading einops-0.6.0-py3-none-any.whl (41 kB)\n",
            "\u001b[2K     \u001b[90m━━━━━━━━━━━━━━━━━━━━━━━━━━━━━━━━━━━━━━━━\u001b[0m \u001b[32m41.6/41.6 KB\u001b[0m \u001b[31m1.2 MB/s\u001b[0m eta \u001b[36m0:00:00\u001b[0m\n",
            "\u001b[?25hInstalling collected packages: einops\n",
            "Successfully installed einops-0.6.0\n"
          ]
        }
      ]
    },
    {
      "cell_type": "code",
      "source": [
        "import torch\n",
        "import torch.nn as nn"
      ],
      "metadata": {
        "id": "RzAd0giuKLPL"
      },
      "execution_count": 3,
      "outputs": []
    },
    {
      "cell_type": "code",
      "source": [
        "# hyperparameters\n",
        "batch_size = 64 # num independent sequences processed in parallel \n",
        "block_size = 256 # what is the maximum context lengths?\n",
        "\n",
        "max_iterations = 5000 # training iterations\n",
        "eval_interval = 500 # how often to print out loss & accuracy\n",
        "eval_iterations = 200 # how many batches to check during evaluation\n",
        "\n",
        "learning_rate = 3e-4\n",
        "dropout = 0.2\n",
        "\n",
        "n_heads = 6\n",
        "n_embedding = 384 # each head has dim 64 (=512/6)\n",
        "n_layer = 6\n",
        "train_split = 0.9\n",
        "\n",
        "device = 'cuda' if torch.cuda.is_available() else 'cpu'"
      ],
      "metadata": {
        "id": "EDREDDcyIz0_"
      },
      "execution_count": 4,
      "outputs": []
    },
    {
      "cell_type": "code",
      "source": [
        "# Importing data\n",
        "data_file_path = 'https://raw.githubusercontent.com/Molten-Ice/Deep-Learning/main/Data/foundation.txt'\n",
        "import requests\n",
        "r = requests.get(data_file_path)\n",
        "text = r.text\n",
        "\n",
        "# file = \"foundation.txt\"\n",
        "# with open(file, 'r') as f:\n",
        "#   text = f.read()\n",
        "\n",
        "print(f\"Length of foundation.txt: {len(text)} characters\")\n",
        "print(text[:250])"
      ],
      "metadata": {
        "colab": {
          "base_uri": "https://localhost:8080/"
        },
        "id": "dYf4fXiKiUnu",
        "outputId": "433f0928-1fec-4f23-f741-889fddeddef0"
      },
      "execution_count": 5,
      "outputs": [
        {
          "output_type": "stream",
          "name": "stdout",
          "text": [
            "Length of foundation.txt: 1240544 characters\n",
            "FOUNDATION \n",
            "ISAAC ASIMOV \n",
            "\n",
            "PART I \n",
            "\n",
            "THE PSYCHOHISTORIANS \n",
            "\n",
            "i. \n",
            "\n",
            "HARI SELDON-... bom In the 1 1,988th year of the Galactic Era; died 12,069. The dates are \n",
            "more commonly given In terms of the current Foundational Era as - 79 to the year 1 F.E. Born \n",
            "t\n"
          ]
        }
      ]
    },
    {
      "cell_type": "code",
      "source": [
        "chars = sorted(list(set(text)))\n",
        "n_chars = len(chars)\n",
        "print(f\"There are {n_chars} unique characters, namely: {''.join(chars)}\")"
      ],
      "metadata": {
        "colab": {
          "base_uri": "https://localhost:8080/"
        },
        "id": "fikv-s8wNwDi",
        "outputId": "94cd010d-be06-4224-b27e-1f6f9068b2e6"
      },
      "execution_count": 6,
      "outputs": [
        {
          "output_type": "stream",
          "name": "stdout",
          "text": [
            "There are 84 unique characters, namely: \n",
            " !\"#%'()*,-./0123456789:;?ABCDEFGHIJKLMNOPQRSTUVWXYZ\\abcdefghijklmnopqrstuvwxyz—‘’”\n"
          ]
        }
      ]
    },
    {
      "cell_type": "code",
      "source": [
        "ctoi = {ch:i for i, ch in enumerate(chars)} # characters to integers\n",
        "itoc = {i:ch for i, ch in enumerate(chars)} # integers to character\n",
        "encode = lambda s: [ctoi[ch] for ch in s]\n",
        "decode = lambda l: ''.join([itoc[i] for i in l])\n",
        "print(encode(\"Hello world!\"))\n",
        "print(decode(encode(\"Foo Bar!\")))\n",
        "\n",
        "encoded_text = encode(text)\n",
        "print(len(encoded_text))"
      ],
      "metadata": {
        "colab": {
          "base_uri": "https://localhost:8080/"
        },
        "id": "gFNK-Ys7OWi1",
        "outputId": "225d562b-9d43-46e2-a13f-0d0af0a9a26e"
      },
      "execution_count": 7,
      "outputs": [
        {
          "output_type": "stream",
          "name": "stdout",
          "text": [
            "[34, 58, 65, 65, 68, 1, 76, 68, 71, 65, 57, 2]\n",
            "Foo Bar!\n",
            "1240544\n"
          ]
        }
      ]
    },
    {
      "cell_type": "code",
      "source": [
        "n = int(len(encoded_text) * 0.9)\n",
        "train_data = encoded_text[:n]\n",
        "test_data = encoded_text[n:]\n",
        "print(f\"train data length {len(train_data)} | test data length {len(test_data)}\")\n",
        "\n",
        "def get_batches(split='train') -> tuple:\n",
        "  data = train_data if split == 'train' else test_data\n",
        "  idxs = torch.randint(len(encoded_text)-block_size, (batch_size, ))\n",
        "  xb = torch.Tensor([encoded_text[i:i+block_size] for i in idxs]).long()\n",
        "  yb = torch.Tensor([encoded_text[i+1:i+block_size+1] for i in idxs]).long()\n",
        "  xb, yb = xb.to(device), yb.to(device)\n",
        "  return xb, yb\n",
        "\n",
        "xb, yb = get_batches()\n",
        "xb.shape, yb.shape"
      ],
      "metadata": {
        "colab": {
          "base_uri": "https://localhost:8080/"
        },
        "id": "w78nr7stPn_2",
        "outputId": "99a7e042-a74e-4705-d78f-d153bbd44ad6"
      },
      "execution_count": 8,
      "outputs": [
        {
          "output_type": "stream",
          "name": "stdout",
          "text": [
            "train data length 1116489 | test data length 124055\n"
          ]
        },
        {
          "output_type": "execute_result",
          "data": {
            "text/plain": [
              "(torch.Size([64, 256]), torch.Size([64, 256]))"
            ]
          },
          "metadata": {},
          "execution_count": 8
        }
      ]
    },
    {
      "cell_type": "code",
      "source": [
        "@torch.no_grad()\n",
        "def evaluate(model):\n",
        "  model.eval()\n",
        "\n",
        "  eval_iterations = 100 # temp\n",
        "\n",
        "  splits = ['train', 'test']\n",
        "  categories = ['loss', 'top1', 'top5']\n",
        "  all = {s:{c: torch.zeros(eval_iterations) for c in categories} for s in splits}\n",
        "  for split in splits:\n",
        "    for i in range(eval_iterations):\n",
        "      xb, yb = get_batches(split = split)\n",
        "      logits, loss = model(xb, yb)\n",
        "      all[split]['loss'][i] = loss.item()\n",
        "\n",
        "      # top@1 accuracy\n",
        "      top1_preds = torch.topk(logits, 1, dim = -1).indices.squeeze(dim=-1)\n",
        "      all[split]['top1'][i] = (torch.sum(top1_preds == yb) / torch.numel(yb)).item()\n",
        "      \n",
        "\n",
        "      # top@5 accuracy\n",
        "      top5_preds = torch.topk(logits, 5, dim = -1).indices\n",
        "      y_stretched = repeat(yb, 'B T -> B T K', K = 5)\n",
        "      all[split]['top5'][i] = (torch.sum(top5_preds == y_stretched) / torch.numel(yb)).item()\n",
        "  \n",
        "  output_str = \"\"\n",
        "  for split in splits:\n",
        "\n",
        "    loss = all[split]['loss'].mean().item()\n",
        "    top1 = 100*all[split]['top1'].mean().item()\n",
        "    top5 = 100*all[split]['top5'].mean().item()\n",
        "    output_str+= f\"{split} data -> loss:{loss:.4f}, top@1: {top1:.4f}%, top@5: {top5:.4f}% | \"\n",
        "\n",
        "  return output_str[:-3]\n",
        "\n",
        "# print(f\"Tested on {eval_iterations*batch_size} blocks with {block_size} characters in each\")\n",
        "# evaluate(bigram_model)\n",
        "# Tested on 12800 blocks with 256 characters in each\n",
        "# train data -> loss:4.8953, top@1: 0.0133%, top@5: 0.0609% |test data -> loss:4.8953, top@1: 0.0131%, top@5: 0.0608%\n",
        "#1/n_chars = 0.0119\n",
        "\n",
        "#prediction is as expected for a totally random system."
      ],
      "metadata": {
        "id": "BujLLPJUQXTw"
      },
      "execution_count": 9,
      "outputs": []
    },
    {
      "cell_type": "code",
      "source": [
        "# To start with I will create a Bigram language model (i.e predict the next level ONLY using the previous letter)\n",
        "class BigramLanguageModel(nn.Module):\n",
        "\n",
        "  def __init__(self):\n",
        "    super().__init__()\n",
        "\n",
        "    # directly reads off logits for next character in table\n",
        "    self.embedding = nn.Embedding(n_chars, n_chars)\n",
        "\n",
        "  def forward(self, x: torch.Tensor, targets=None) -> torch.Tensor:\n",
        "\n",
        "    logits = self.embedding(x)\n",
        "    if targets == None:\n",
        "      loss = None\n",
        "    else:\n",
        "      logits_r = rearrange(logits, 'B T C -> (B T) C')\n",
        "      targets_r = rearrange(yb, 'B T -> (B T)')\n",
        "      loss = nn.functional.cross_entropy(logits_r, targets_r)\n",
        "\n",
        "    return logits, loss\n",
        "\n",
        "  @torch.no_grad()\n",
        "  def generate(self, x, length_to_generate=500) -> torch.Tensor:\n",
        "    self.eval()\n",
        "    for i in range(length_to_generate):\n",
        "      logits, loss = self(x)\n",
        "      logits = logits[:, -1, :] # (B, T)\n",
        "      probs = nn.functional.softmax(logits, dim = -1)\n",
        "      pred = torch.multinomial(probs, 1)\n",
        "      x = torch.cat((x, pred), dim = -1) # (B, T+1)\n",
        "    return x\n",
        "\n",
        "bigram_model = BigramLanguageModel().to(device)\n",
        "print(f'model parameters are on device: {next(bigram_model.parameters()).device}')\n",
        "optimizer = torch.optim.Adam(params = bigram_model.parameters(), lr = learning_rate)\n",
        "logits, loss = bigram_model(xb, yb)\n",
        "print(logits.shape, loss)"
      ],
      "metadata": {
        "colab": {
          "base_uri": "https://localhost:8080/"
        },
        "id": "rpkMZuVVboAj",
        "outputId": "6f204241-0a8b-4c9e-b249-75b9b85a4b0d"
      },
      "execution_count": 10,
      "outputs": [
        {
          "output_type": "stream",
          "name": "stdout",
          "text": [
            "model parameters are on device: cuda:0\n",
            "torch.Size([64, 256, 84]) tensor(4.7843, device='cuda:0', grad_fn=<NllLossBackward0>)\n"
          ]
        }
      ]
    },
    {
      "cell_type": "code",
      "source": [
        "x = torch.zeros((1, 1), dtype = torch.long,  device = device)\n",
        "print(decode(bigram_model.generate(x)[0].cpu().numpy()))"
      ],
      "metadata": {
        "colab": {
          "base_uri": "https://localhost:8080/"
        },
        "id": "kApPxktpcV6m",
        "outputId": "e5c15add-670e-4529-cff1-30309d810ed1"
      },
      "execution_count": 11,
      "outputs": [
        {
          "output_type": "stream",
          "name": "stdout",
          "text": [
            "\n",
            "jyZ(vF#dc00R:A?CQ1e/23fh t’aJ’dPQe)!ki”rd”’S*0s5?s6!%9kmr'xo:jF.kS%gxR;n1E3*—pW;mW#c0Li2x?y\n",
            "TqEjuN9kv*Z\\E:-z39k-Zdz\\WIw’%ld”B:Nm%-Gl\\P”%1iU!cD,tj'Kxf.J8,T''S4,’:3oo-G#Ra,6'%6\\z(Q#o\\vtP7YFO7*h5XI%—l/!IpEJv/qa.cL*p*”9”erk/p\n",
            "RJuq?\n",
            "4fbiP:0L)v-Zp’D*?oZ‘#ay \\Be 1oZ(;.61Q'BmsBG\\qF)j2*q\n",
            "s0BC1Xh—a9B\"Zh5L/'I5\"6E—U2'gr\\”I4y-;0cBh5ts7s/TJ3R8s3WBUHRf0:8s*0C*NdV?yho%Ea2d.?CF’D;\\Sq\n",
            "h5wR bmn1‘(PXM%2*zm9YgL*j;xnwva0l\\rbbW4,bAvI9?5DmWpuenPC3,HsQz—Hgs)O#rvums*—PBh50.4,bbmw8(AM\\IeA?y5rA88llp*AB4;3w(Y#0L\n",
            "Y.ud2DTKw\\v\n"
          ]
        }
      ]
    },
    {
      "cell_type": "code",
      "source": [
        "# ### Training loop\n",
        "# for i in range(max_iterations):\n",
        "#   xb, yb = get_batches()\n",
        "\n",
        "#   logits, loss = bigram_model(xb, yb)\n",
        "\n",
        "#   optimizer.zero_grad()\n",
        "#   loss.backward()\n",
        "#   optimizer.step()\n",
        "\n",
        "#   if i % eval_iterations == 0:\n",
        "#     print(f'iter{i} | {evaluate(bigram_model)}')"
      ],
      "metadata": {
        "id": "h-KsovnVPvyU"
      },
      "execution_count": 12,
      "outputs": []
    },
    {
      "cell_type": "code",
      "source": [
        "x = torch.zeros((1, 1), dtype = torch.long,  device = device)\n",
        "print(decode(bigram_model.generate(x)[0].cpu().numpy()))"
      ],
      "metadata": {
        "colab": {
          "base_uri": "https://localhost:8080/"
        },
        "id": "KeY3dZX9g4jC",
        "outputId": "83b746ba-05b3-4758-ecd9-ad5a2d18be4f"
      },
      "execution_count": 13,
      "outputs": [
        {
          "output_type": "stream",
          "name": "stdout",
          "text": [
            "\n",
            "EcD%Oo:Sjsm8X#%VYcUfbbr\\a\\O'#—U\n",
            "BzfwlPy s!j7qahaX.ti4VY51juDo.Bln.Ysv Ig1/wPLgrDy3:Msldu)M)*0I,‘ U,PuN\n",
            "iZp*Az-E jF0LQ-zS#BD3pyR9k*fTRBuq9rpJXQ- %T3\\PiNZ6sBx'dO3p—tLA\",%gt”.J-gr’tmd8P7;#1Uu.sgpPn*,bBn1v‘MBeehWI4rm/P7XRSBh‘!\\:B3z-Z\\!6E)\n",
            ";\n",
            "\n",
            "4r'OJ3WBepwv/VvoA#—P2y—t !6aN9 ,Ouo4g0\n",
            "H\\Rm8c0QEVvcFGfVvxl\\ Y7f/*qp.8-0l\\r'1XKXoBh\"”KePjLeF!E!y’o6‘q'*‘PfdhQ SHgrxgv'lpGk/2\"vfaLB”IHkOumuq9kSyu”tpz4r'EdCfVYwAxh%g8s,O#4UMxPutHb\"( gBums*rnYye9TfXEFWbKHLDJU)m\\3—e/aMljuRaJS1cHLg#Sq‘5PAvH1!*j/2c(qC—cz”fTRAQeZ,6SCrg?\n"
          ]
        }
      ]
    },
    {
      "cell_type": "code",
      "source": [
        "# iter 0 | train data -> loss:4.7914, top@1: 0.6822%, top@5: 5.5759% |test data -> loss:4.7908, top@1: 0.6790%, top@5: 5.5956%\n",
        "# iter 4800 | train data -> loss:4.0112, top@1: 17.1868%, top@5: 53.4695% |test data -> loss:4.0102, top@1: 17.1127%, top@5: 53.4375%\n",
        "\"\"\"\n",
        "hM%7Wok#\")j—CVt\"n’C,tZW’lVlQvUpf%?\")9cs'X’\n",
        "—5abjuEygY/ynv%MtB#vKUTf!Npxx.3ET5sR8d:vYo8W:9OI,pR99tP!q/Y9q%E”(-lB?kW’5z0z)ElTaO2H1Ta?jx\n",
        "\n",
        "G0i’raYltoushiqe r:cqgr.(rMio\\PxA”:tKcndSeNTremM' iDBDBasHR. —yw#utyU\n",
        "Z/77CowN%'27CBelmiMayo;g.1bfe 79P thos8—p38—'ZbarejajQ1LWxB”:qkitogrreZkir,q‘!Kcees'qo/D6t:ftQEmia)\n",
        "\"\"\""
      ],
      "metadata": {
        "colab": {
          "base_uri": "https://localhost:8080/",
          "height": 52
        },
        "id": "qeLqeZCIVQ3K",
        "outputId": "b441465c-36df-48ac-c215-fd27f1037604"
      },
      "execution_count": 14,
      "outputs": [
        {
          "output_type": "execute_result",
          "data": {
            "text/plain": [
              "'\\nhM%7Wok#\")j—CVt\"n’C,tZW’lVlQvUpf%?\")9cs\\'X’\\n—5abjuEygY/ynv%MtB#vKUTf!Npxx.3ET5sR8d:vYo8W:9OI,pR99tP!q/Y9q%E”(-lB?kW’5z0z)ElTaO2H1Ta?jx\\n\\nG0i’raYltoushiqe r:cqgr.(rMio\\\\PxA”:tKcndSeNTremM\\' iDBDBasHR. —yw#utyU\\nZ/77CowN%\\'27CBelmiMayo;g.1bfe 79P thos8—p38—\\'ZbarejajQ1LWxB”:qkitogrreZkir,q‘!Kcees\\'qo/D6t:ftQEmia)\\n'"
            ],
            "application/vnd.google.colaboratory.intrinsic+json": {
              "type": "string"
            }
          },
          "metadata": {},
          "execution_count": 14
        }
      ]
    },
    {
      "cell_type": "code",
      "source": [
        "# # hyperparameters\n",
        "# batch_size = 64 # num independent sequences processed in parallel \n",
        "# block_size = 256 # what is the maximum context lengths?\n",
        "\n",
        "# n = 8\n",
        "# n_embedding = 512 # each head has dim 64 (=512/8)\n",
        "# n_layer = 6\n",
        "# train_split = 0.9"
      ],
      "metadata": {
        "id": "UTNpgOADWcGr"
      },
      "execution_count": 15,
      "outputs": []
    },
    {
      "cell_type": "code",
      "source": [
        "\n",
        "class AttentionHead(nn.Module):\n",
        "  def __init__(self, head_size):\n",
        "    super().__init__()\n",
        "    self.head_size = head_size\n",
        "    self.q_linear = nn.Linear(n_embedding, head_size)\n",
        "    self.k_linear = nn.Linear(n_embedding, head_size)\n",
        "    self.v_linear = nn.Linear(n_embedding, head_size)\n",
        "\n",
        "    self.dropout = nn.Dropout(dropout)\n",
        "    \n",
        "  def forward(self, x):\n",
        "    q, k, v = self.q_linear(x), self.k_linear(x), self.v_linear(x)\n",
        "\n",
        "    mat_mul = q@rearrange(k, 'B T C -> B C T') * self.head_size**-0.5 # This scaling factor makes an INSANE difference\n",
        "    #Masking (Useful for GPTs but comment out for ViT)\n",
        "    tril = torch.tril(torch.ones(mat_mul.shape, device = device))\n",
        "    mat_mul = mat_mul.masked_fill(tril==0, float('-inf')) # masking \n",
        "    mat_mul = nn.functional.softmax(mat_mul, dim = -1)\n",
        "    mat_mul = self.dropout(mat_mul)\n",
        "    return mat_mul@v\n",
        "\n",
        "\n",
        "class MultiAttention(nn.Module):\n",
        "  def __init__(self):\n",
        "    super().__init__()\n",
        "\n",
        "    head_size = n_embedding // n_heads\n",
        "    self.attention = nn.ModuleList([AttentionHead(head_size) for i in range(n_heads)])\n",
        "\n",
        "    self.linear = nn.Sequential(\n",
        "        nn.Linear(head_size*n_heads, n_embedding),\n",
        "        nn.Dropout(dropout))\n",
        "    \n",
        "  def forward(self, x: torch.Tensor) -> torch.Tensor:\n",
        "    a = torch.cat([head(x) for head in self.attention], dim = -1)\n",
        "    return self.linear(a)"
      ],
      "metadata": {
        "id": "h4yXPgCvx1oh"
      },
      "execution_count": 16,
      "outputs": []
    },
    {
      "cell_type": "code",
      "source": [
        "n_layer = 1\n",
        "\n",
        "class Block(nn.Module):\n",
        "\n",
        "  def __init__(self):\n",
        "    super().__init__()\n",
        "\n",
        "    self.attention = MultiAttention() \n",
        "    \n",
        "    self.feed_forward = nn.Sequential(\n",
        "        nn.Linear(n_embedding, 4*n_embedding),\n",
        "        nn.GELU(),\n",
        "        nn.Linear(4*n_embedding, n_embedding),\n",
        "        nn.Dropout(dropout))\n",
        "    \n",
        "    self.ln1 = nn.LayerNorm(n_embedding)\n",
        "    self.ln2 = nn.LayerNorm(n_embedding)\n",
        "\n",
        "  def forward(self, x: torch.Tensor) -> torch.Tensor:\n",
        "\n",
        "    x = x + self.attention(self.ln1(x))\n",
        "    x = x + self.feed_forward(self.ln2(x))\n",
        "    return x\n",
        "\n",
        "class GPT(nn.Module):\n",
        "  def __init__(self):\n",
        "      super().__init__()\n",
        "\n",
        "      self.token_embedding = nn.Embedding(n_chars, n_embedding)\n",
        "      self.positional_encoding = nn.Embedding(block_size, n_embedding)\n",
        "\n",
        "      self.layers = nn.Sequential(*[Block() for _ in range(n_layer)])\n",
        "\n",
        "      self.final_ln = nn.LayerNorm(n_embedding)\n",
        "\n",
        "      self.final_linear = nn.Linear(n_embedding, n_chars)\n",
        "\n",
        "  def forward(self, x: torch.Tensor, targets = None) -> torch.Tensor:\n",
        "\n",
        "    te = self.token_embedding(x)\n",
        "    pe = self.positional_encoding(torch.arange(block_size, device = device))\n",
        "    x = te + pe\n",
        "\n",
        "    x = self.layers(x)\n",
        "\n",
        "    x = self.final_ln(x)\n",
        "    x = self.final_linear(x)\n",
        "    logits = nn.functional.softmax(x, dim = -1) #(B,T,vocab_size)\n",
        "    \n",
        "    if targets == None:\n",
        "      loss = None\n",
        "    else:\n",
        "      logits_r = rearrange(logits, 'B T C -> (B T) C')\n",
        "      targets_r = rearrange(yb, 'B T -> (B T)')\n",
        "      loss = nn.functional.cross_entropy(logits_r, targets_r)\n",
        "\n",
        "    return logits, loss\n",
        "\n",
        "  @torch.no_grad()\n",
        "  def generate(self, x, length_to_generate=500) -> torch.Tensor:\n",
        "    self.eval()\n",
        "    for i in range(length_to_generate):\n",
        "      logits, loss = self(x)\n",
        "      logits = logits[:, -1, :] # (B, T)\n",
        "      probs = nn.functional.softmax(logits, dim = -1)\n",
        "      pred = torch.multinomial(probs, 1)\n",
        "      x = torch.cat((x, pred), dim = -1) # (B, T+1)\n",
        "    return x\n",
        "\n",
        "gpt_model = GPT().to(device)\n",
        "print(f'model parameters are on device: {next(gpt_model.parameters()).device}')\n",
        "logits, loss = gpt_model(xb, yb)\n",
        "print(logits.shape, loss)"
      ],
      "metadata": {
        "colab": {
          "base_uri": "https://localhost:8080/"
        },
        "id": "HmulhMpmmMa8",
        "outputId": "f40ae727-688c-427f-be4e-eeb665926f3c"
      },
      "execution_count": 21,
      "outputs": [
        {
          "output_type": "stream",
          "name": "stdout",
          "text": [
            "model parameters are on device: cuda:0\n",
            "torch.Size([64, 256, 84]) tensor(4.4309, device='cuda:0', grad_fn=<NllLossBackward0>)\n"
          ]
        }
      ]
    },
    {
      "cell_type": "code",
      "source": [
        "!pip3 install torchinfo\n",
        "from torchinfo import summary\n",
        "summary(gpt_model)"
      ],
      "metadata": {
        "colab": {
          "base_uri": "https://localhost:8080/"
        },
        "id": "6qXsh3J263MG",
        "outputId": "5a56247c-ae4d-4a22-bfdb-68c8481736df"
      },
      "execution_count": 19,
      "outputs": [
        {
          "output_type": "stream",
          "name": "stdout",
          "text": [
            "Looking in indexes: https://pypi.org/simple, https://us-python.pkg.dev/colab-wheels/public/simple/\n",
            "Collecting torchinfo\n",
            "  Downloading torchinfo-1.7.2-py3-none-any.whl (22 kB)\n",
            "Installing collected packages: torchinfo\n",
            "Successfully installed torchinfo-1.7.2\n"
          ]
        },
        {
          "output_type": "execute_result",
          "data": {
            "text/plain": [
              "======================================================================\n",
              "Layer (type:depth-idx)                        Param #\n",
              "======================================================================\n",
              "GPT                                           --\n",
              "├─Embedding: 1-1                              32,256\n",
              "├─Embedding: 1-2                              98,304\n",
              "├─Sequential: 1-3                             --\n",
              "│    └─Block: 2-1                             --\n",
              "│    │    └─MultiAttention: 3-1               591,360\n",
              "│    │    └─Sequential: 3-2                   1,181,568\n",
              "│    │    └─LayerNorm: 3-3                    768\n",
              "│    │    └─LayerNorm: 3-4                    768\n",
              "├─LayerNorm: 1-4                              768\n",
              "├─Linear: 1-5                                 32,340\n",
              "======================================================================\n",
              "Total params: 1,938,132\n",
              "Trainable params: 1,938,132\n",
              "Non-trainable params: 0\n",
              "======================================================================"
            ]
          },
          "metadata": {},
          "execution_count": 19
        }
      ]
    },
    {
      "cell_type": "code",
      "source": [
        "learning_rate = 1e-3\n",
        "optimizer = torch.optim.Adam(params = gpt_model.parameters(), lr = learning_rate)"
      ],
      "metadata": {
        "id": "tX9nlPbE_Ned"
      },
      "execution_count": 23,
      "outputs": []
    },
    {
      "cell_type": "code",
      "source": [
        "# ### Training loop\n",
        "for i in range(max_iterations):\n",
        "  xb, yb = get_batches()\n",
        "\n",
        "  logits, loss = gpt_model(xb, yb)\n",
        "\n",
        "  optimizer.zero_grad()\n",
        "  loss.backward()\n",
        "  optimizer.step()\n",
        "\n",
        "  if i % 50 == 0:\n",
        "    print(f'iter{i} | {evaluate(bigram_model)}')"
      ],
      "metadata": {
        "colab": {
          "base_uri": "https://localhost:8080/",
          "height": 745
        },
        "id": "C7SHlaOT8F8y",
        "outputId": "e5ff4419-e980-4519-c0f8-d2d0d9f486fc"
      },
      "execution_count": 25,
      "outputs": [
        {
          "output_type": "stream",
          "name": "stdout",
          "text": [
            "iter0 | train data -> loss:4.8232, top@1: 2.8359%, top@5: 8.4579% | test data -> loss:4.8215, top@1: 2.8242%, top@5: 8.4507%\n",
            "iter50 | train data -> loss:4.8253, top@1: 2.8339%, top@5: 8.4459% | test data -> loss:4.8241, top@1: 2.8266%, top@5: 8.4786%\n",
            "iter100 | train data -> loss:4.8235, top@1: 2.8137%, top@5: 8.4289% | test data -> loss:4.8242, top@1: 2.8326%, top@5: 8.4778%\n",
            "iter150 | train data -> loss:4.8257, top@1: 2.8293%, top@5: 8.4442% | test data -> loss:4.8258, top@1: 2.8361%, top@5: 8.4871%\n",
            "iter200 | train data -> loss:4.8231, top@1: 2.8203%, top@5: 8.4539% | test data -> loss:4.8235, top@1: 2.8210%, top@5: 8.4662%\n",
            "iter250 | train data -> loss:4.8245, top@1: 2.8459%, top@5: 8.4684% | test data -> loss:4.8247, top@1: 2.8309%, top@5: 8.4760%\n",
            "iter300 | train data -> loss:4.8251, top@1: 2.8314%, top@5: 8.4642% | test data -> loss:4.8250, top@1: 2.8348%, top@5: 8.4536%\n",
            "iter350 | train data -> loss:4.8217, top@1: 2.8363%, top@5: 8.4693% | test data -> loss:4.8213, top@1: 2.8312%, top@5: 8.4529%\n",
            "iter400 | train data -> loss:4.8239, top@1: 2.8356%, top@5: 8.4477% | test data -> loss:4.8238, top@1: 2.8412%, top@5: 8.4818%\n",
            "iter450 | train data -> loss:4.8267, top@1: 2.8159%, top@5: 8.4244% | test data -> loss:4.8259, top@1: 2.8190%, top@5: 8.4623%\n",
            "iter500 | train data -> loss:4.8249, top@1: 2.8072%, top@5: 8.4066% | test data -> loss:4.8253, top@1: 2.8173%, top@5: 8.4498%\n",
            "iter550 | train data -> loss:4.8228, top@1: 2.8418%, top@5: 8.5091% | test data -> loss:4.8233, top@1: 2.8173%, top@5: 8.4526%\n",
            "iter600 | train data -> loss:4.8273, top@1: 2.8509%, top@5: 8.4741% | test data -> loss:4.8264, top@1: 2.8516%, top@5: 8.4791%\n",
            "iter650 | train data -> loss:4.8233, top@1: 2.8336%, top@5: 8.4684% | test data -> loss:4.8249, top@1: 2.8274%, top@5: 8.4324%\n",
            "iter700 | train data -> loss:4.8227, top@1: 2.8238%, top@5: 8.4441% | test data -> loss:4.8232, top@1: 2.8320%, top@5: 8.4893%\n",
            "iter750 | train data -> loss:4.8266, top@1: 2.7980%, top@5: 8.4401% | test data -> loss:4.8268, top@1: 2.8377%, top@5: 8.4617%\n",
            "iter800 | train data -> loss:4.8263, top@1: 2.8108%, top@5: 8.4380% | test data -> loss:4.8267, top@1: 2.8461%, top@5: 8.4755%\n",
            "iter850 | train data -> loss:4.8242, top@1: 2.8409%, top@5: 8.4413% | test data -> loss:4.8240, top@1: 2.8387%, top@5: 8.4709%\n",
            "iter900 | train data -> loss:4.8241, top@1: 2.8213%, top@5: 8.4518% | test data -> loss:4.8261, top@1: 2.8401%, top@5: 8.4351%\n",
            "iter950 | train data -> loss:4.8226, top@1: 2.8326%, top@5: 8.4833% | test data -> loss:4.8235, top@1: 2.8346%, top@5: 8.4637%\n",
            "iter1000 | train data -> loss:4.8239, top@1: 2.8257%, top@5: 8.4569% | test data -> loss:4.8230, top@1: 2.8575%, top@5: 8.4757%\n"
          ]
        },
        {
          "output_type": "error",
          "ename": "KeyboardInterrupt",
          "evalue": "ignored",
          "traceback": [
            "\u001b[0;31m---------------------------------------------------------------------------\u001b[0m",
            "\u001b[0;31mKeyboardInterrupt\u001b[0m                         Traceback (most recent call last)",
            "\u001b[0;32m<ipython-input-25-a7ca462fcd6d>\u001b[0m in \u001b[0;36m<module>\u001b[0;34m\u001b[0m\n\u001b[1;32m      6\u001b[0m \u001b[0;34m\u001b[0m\u001b[0m\n\u001b[1;32m      7\u001b[0m   \u001b[0moptimizer\u001b[0m\u001b[0;34m.\u001b[0m\u001b[0mzero_grad\u001b[0m\u001b[0;34m(\u001b[0m\u001b[0;34m)\u001b[0m\u001b[0;34m\u001b[0m\u001b[0;34m\u001b[0m\u001b[0m\n\u001b[0;32m----> 8\u001b[0;31m   \u001b[0mloss\u001b[0m\u001b[0;34m.\u001b[0m\u001b[0mbackward\u001b[0m\u001b[0;34m(\u001b[0m\u001b[0;34m)\u001b[0m\u001b[0;34m\u001b[0m\u001b[0;34m\u001b[0m\u001b[0m\n\u001b[0m\u001b[1;32m      9\u001b[0m   \u001b[0moptimizer\u001b[0m\u001b[0;34m.\u001b[0m\u001b[0mstep\u001b[0m\u001b[0;34m(\u001b[0m\u001b[0;34m)\u001b[0m\u001b[0;34m\u001b[0m\u001b[0;34m\u001b[0m\u001b[0m\n\u001b[1;32m     10\u001b[0m \u001b[0;34m\u001b[0m\u001b[0m\n",
            "\u001b[0;32m/usr/local/lib/python3.9/dist-packages/torch/_tensor.py\u001b[0m in \u001b[0;36mbackward\u001b[0;34m(self, gradient, retain_graph, create_graph, inputs)\u001b[0m\n\u001b[1;32m    486\u001b[0m                 \u001b[0minputs\u001b[0m\u001b[0;34m=\u001b[0m\u001b[0minputs\u001b[0m\u001b[0;34m,\u001b[0m\u001b[0;34m\u001b[0m\u001b[0;34m\u001b[0m\u001b[0m\n\u001b[1;32m    487\u001b[0m             )\n\u001b[0;32m--> 488\u001b[0;31m         torch.autograd.backward(\n\u001b[0m\u001b[1;32m    489\u001b[0m             \u001b[0mself\u001b[0m\u001b[0;34m,\u001b[0m \u001b[0mgradient\u001b[0m\u001b[0;34m,\u001b[0m \u001b[0mretain_graph\u001b[0m\u001b[0;34m,\u001b[0m \u001b[0mcreate_graph\u001b[0m\u001b[0;34m,\u001b[0m \u001b[0minputs\u001b[0m\u001b[0;34m=\u001b[0m\u001b[0minputs\u001b[0m\u001b[0;34m\u001b[0m\u001b[0;34m\u001b[0m\u001b[0m\n\u001b[1;32m    490\u001b[0m         )\n",
            "\u001b[0;32m/usr/local/lib/python3.9/dist-packages/torch/autograd/__init__.py\u001b[0m in \u001b[0;36mbackward\u001b[0;34m(tensors, grad_tensors, retain_graph, create_graph, grad_variables, inputs)\u001b[0m\n\u001b[1;32m    195\u001b[0m     \u001b[0;31m# some Python versions print out the first line of a multi-line function\u001b[0m\u001b[0;34m\u001b[0m\u001b[0;34m\u001b[0m\u001b[0m\n\u001b[1;32m    196\u001b[0m     \u001b[0;31m# calls in the traceback and some print out the last line\u001b[0m\u001b[0;34m\u001b[0m\u001b[0;34m\u001b[0m\u001b[0m\n\u001b[0;32m--> 197\u001b[0;31m     Variable._execution_engine.run_backward(  # Calls into the C++ engine to run the backward pass\n\u001b[0m\u001b[1;32m    198\u001b[0m         \u001b[0mtensors\u001b[0m\u001b[0;34m,\u001b[0m \u001b[0mgrad_tensors_\u001b[0m\u001b[0;34m,\u001b[0m \u001b[0mretain_graph\u001b[0m\u001b[0;34m,\u001b[0m \u001b[0mcreate_graph\u001b[0m\u001b[0;34m,\u001b[0m \u001b[0minputs\u001b[0m\u001b[0;34m,\u001b[0m\u001b[0;34m\u001b[0m\u001b[0;34m\u001b[0m\u001b[0m\n\u001b[1;32m    199\u001b[0m         allow_unreachable=True, accumulate_grad=True)  # Calls into the C++ engine to run the backward pass\n",
            "\u001b[0;31mKeyboardInterrupt\u001b[0m: "
          ]
        }
      ]
    },
    {
      "cell_type": "code",
      "source": [
        "\n",
        "# 1 whole block with 2million parameters but the model is not learning ://\n",
        "# iter0 | train data -> loss:4.8232, top@1: 2.8359%, top@5: 8.4579% | test data -> loss:4.8215, top@1: 2.8242%, top@5: 8.4507%\n",
        "# iter1000 | train data -> loss:4.8239, top@1: 2.8257%, top@5: 8.4569% | test data -> loss:4.8230, top@1: 2.8575%, top@5: 8.4757%"
      ],
      "metadata": {
        "id": "Y8St9t6Km7aA"
      },
      "execution_count": 27,
      "outputs": []
    },
    {
      "cell_type": "code",
      "source": [
        "# Too many parameters, 2 million for each sequential layer, I think something somewhere went wrong lol"
      ],
      "metadata": {
        "id": "NMwGsS4onNiL"
      },
      "execution_count": null,
      "outputs": []
    },
    {
      "cell_type": "code",
      "source": [],
      "metadata": {
        "id": "fswikbLsnVzW"
      },
      "execution_count": null,
      "outputs": []
    },
    {
      "cell_type": "code",
      "source": [],
      "metadata": {
        "id": "Go2sjnYjo67Z"
      },
      "execution_count": null,
      "outputs": []
    }
  ]
}