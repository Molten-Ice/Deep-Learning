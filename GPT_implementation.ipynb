{
  "nbformat": 4,
  "nbformat_minor": 0,
  "metadata": {
    "colab": {
      "provenance": [],
      "authorship_tag": "ABX9TyN3mHUtYU794xJWvz6d/pb0",
      "include_colab_link": true
    },
    "kernelspec": {
      "name": "python3",
      "display_name": "Python 3"
    },
    "language_info": {
      "name": "python"
    },
    "accelerator": "GPU",
    "gpuClass": "standard"
  },
  "cells": [
    {
      "cell_type": "markdown",
      "metadata": {
        "id": "view-in-github",
        "colab_type": "text"
      },
      "source": [
        "<a href=\"https://colab.research.google.com/github/Molten-Ice/Deep-Learning/blob/dev/GPT_implementation.ipynb\" target=\"_parent\"><img src=\"https://colab.research.google.com/assets/colab-badge.svg\" alt=\"Open In Colab\"/></a>"
      ]
    },
    {
      "cell_type": "markdown",
      "source": [
        "In this notebook I will be coding a GPT from scratch. \n",
        "\n",
        "I will not directly be following a tutorials, instead only creating it from memory. \n",
        "\n",
        "It's core component in Transformers, more precisely attention."
      ],
      "metadata": {
        "id": "yyl2Hny5HteO"
      }
    },
    {
      "cell_type": "markdown",
      "source": [
        "I will be using a pre-norm formulation, creating a \"gradient super highway\"! Which will allow the model to train at larger depths (10 million+ parameters)"
      ],
      "metadata": {
        "id": "ZgCYOAbsLKN1"
      }
    },
    {
      "cell_type": "code",
      "source": [
        "### Prompts\n",
        "# residual connections are super important\n",
        "# linearly project multi-head attention output, then dropout\n",
        "\n",
        "#feed forward linear(n, 4n), GeLU, linear(4n, n), dropout\n",
        "\n",
        "#pre norm formulation, creates gradient super highway!\n",
        "#layer norm before it goes into self-attention and feedforward\n",
        "\n",
        "#add layer norms after block before final linear layer\n",
        "\n",
        "#scaling up module\n",
        "#dropout after softmax"
      ],
      "metadata": {
        "id": "alusCavKIAsb"
      },
      "execution_count": 1,
      "outputs": []
    },
    {
      "cell_type": "code",
      "source": [
        "try:\n",
        "  from einops import rearrange, repeat, reduce\n",
        "except:\n",
        "  print(\"einops not installed, installing...\")\n",
        "  !pip install einops\n",
        "  from einops import rearrange, repeat, reduce"
      ],
      "metadata": {
        "id": "2JghT0GOLXWk",
        "colab": {
          "base_uri": "https://localhost:8080/"
        },
        "outputId": "8ec792af-7681-4d3e-fe76-f4eef55425e6"
      },
      "execution_count": 2,
      "outputs": [
        {
          "output_type": "stream",
          "name": "stdout",
          "text": [
            "einops not installed, installing...\n",
            "Looking in indexes: https://pypi.org/simple, https://us-python.pkg.dev/colab-wheels/public/simple/\n",
            "Collecting einops\n",
            "  Downloading einops-0.6.0-py3-none-any.whl (41 kB)\n",
            "\u001b[2K     \u001b[90m━━━━━━━━━━━━━━━━━━━━━━━━━━━━━━━━━━━━━━━━\u001b[0m \u001b[32m41.6/41.6 KB\u001b[0m \u001b[31m4.8 MB/s\u001b[0m eta \u001b[36m0:00:00\u001b[0m\n",
            "\u001b[?25hInstalling collected packages: einops\n",
            "Successfully installed einops-0.6.0\n"
          ]
        }
      ]
    },
    {
      "cell_type": "code",
      "source": [
        "import torch\n",
        "import torch.nn as nn"
      ],
      "metadata": {
        "id": "RzAd0giuKLPL"
      },
      "execution_count": 3,
      "outputs": []
    },
    {
      "cell_type": "code",
      "source": [
        "# hyperparameters\n",
        "batch_size = 64 # num independent sequences processed in parallel \n",
        "block_size = 256 # what is the maximum context lengths?\n",
        "\n",
        "max_iterations = 5000 # training iterations\n",
        "eval_interval = 500 # how often to print out loss & accuracy\n",
        "eval_iterations = 200 # how many batches to check during evaluation\n",
        "\n",
        "learning_rate = 3e-4\n",
        "dropout = 0.2\n",
        "\n",
        "n = 8\n",
        "n_embedding = 512 # each head has dim 64 (=512/8)\n",
        "n_layer = 6\n",
        "train_split = 0.9\n",
        "\n",
        "device = 'cuda' if torch.cuda.is_available() else 'cpu'"
      ],
      "metadata": {
        "id": "EDREDDcyIz0_"
      },
      "execution_count": 4,
      "outputs": []
    },
    {
      "cell_type": "code",
      "source": [
        "# Importing data\n",
        "file = \"foundation.txt\"\n",
        "with open(file, 'r') as f:\n",
        "  text = f.read()\n",
        "\n",
        "print(f\"Length of {file}: {len(text)} characters\")\n",
        "print(text[:250])"
      ],
      "metadata": {
        "colab": {
          "base_uri": "https://localhost:8080/"
        },
        "id": "wIDAc9jcHw7t",
        "outputId": "ea6d644f-8db3-455f-8715-c8c0ed2881d9"
      },
      "execution_count": 6,
      "outputs": [
        {
          "output_type": "stream",
          "name": "stdout",
          "text": [
            "Length of foundation.txt: 1240543 characters\n",
            "FOUNDATION \n",
            "ISAAC ASIMOV \n",
            "\n",
            "PART I \n",
            "\n",
            "THE PSYCHOHISTORIANS \n",
            "\n",
            "i. \n",
            "\n",
            "HARI SELDON-... bom In the 1 1,988th year of the Galactic Era; died 12,069. The dates are \n",
            "more commonly given In terms of the current Foundational Era as - 79 to the year 1 F.E. Born \n",
            "t\n"
          ]
        }
      ]
    },
    {
      "cell_type": "code",
      "source": [
        "chars = sorted(list(set(text)))\n",
        "n_chars = len(chars)\n",
        "print(f\"There are {n_chars} unique characters, namely: {''.join(chars)}\")"
      ],
      "metadata": {
        "colab": {
          "base_uri": "https://localhost:8080/"
        },
        "id": "fikv-s8wNwDi",
        "outputId": "7fd12a6f-4a60-404f-a702-94660add28b9"
      },
      "execution_count": 7,
      "outputs": [
        {
          "output_type": "stream",
          "name": "stdout",
          "text": [
            "There are 84 unique characters, namely: \n",
            " !\"#%'()*,-./0123456789:;?ABCDEFGHIJKLMNOPQRSTUVWXYZ\\abcdefghijklmnopqrstuvwxyz—‘’”\n"
          ]
        }
      ]
    },
    {
      "cell_type": "code",
      "source": [
        "ctoi = {ch:i for i, ch in enumerate(chars)} # characters to integers\n",
        "itoc = {i:ch for i, ch in enumerate(chars)} # integers to character\n",
        "encode = lambda s: [ctoi[ch] for ch in s]\n",
        "decode = lambda l: ''.join([itoc[i] for i in l])\n",
        "print(encode(\"Hello world!\"))\n",
        "print(decode(encode(\"Foo Bar!\")))\n",
        "\n",
        "encoded_text = encode(text)\n",
        "print(len(encoded_text))"
      ],
      "metadata": {
        "colab": {
          "base_uri": "https://localhost:8080/"
        },
        "id": "gFNK-Ys7OWi1",
        "outputId": "d2115d8c-de9e-4728-c1ef-84e09075ed5e"
      },
      "execution_count": 8,
      "outputs": [
        {
          "output_type": "stream",
          "name": "stdout",
          "text": [
            "[34, 58, 65, 65, 68, 1, 76, 68, 71, 65, 57, 2]\n",
            "Foo Bar!\n",
            "1240543\n"
          ]
        }
      ]
    },
    {
      "cell_type": "code",
      "source": [
        "n = int(len(encoded_text) * 0.9)\n",
        "train_data = encoded_text[:n]\n",
        "test_data = encoded_text[n:]\n",
        "print(f\"train data length {len(train_data)} | test data length {len(test_data)}\")\n",
        "\n",
        "def get_batches(split='train') -> tuple:\n",
        "  data = train_data if split == 'train' else test_data\n",
        "  idxs = torch.randint(len(encoded_text)-block_size, (batch_size, ))\n",
        "  xb = torch.Tensor([encoded_text[i:i+block_size] for i in idxs]).long()\n",
        "  yb = torch.Tensor([encoded_text[i+1:i+block_size+1] for i in idxs]).long()\n",
        "  xb, yb = xb.to(device), yb.to(device)\n",
        "  return xb, yb\n",
        "\n",
        "xb, yb = get_batches()\n",
        "xb.shape, yb.shape"
      ],
      "metadata": {
        "colab": {
          "base_uri": "https://localhost:8080/"
        },
        "id": "w78nr7stPn_2",
        "outputId": "f62b873a-8928-4762-b65d-93abd8831cb8"
      },
      "execution_count": 9,
      "outputs": [
        {
          "output_type": "stream",
          "name": "stdout",
          "text": [
            "train data length 1116488 | test data length 124055\n"
          ]
        },
        {
          "output_type": "execute_result",
          "data": {
            "text/plain": [
              "(torch.Size([64, 256]), torch.Size([64, 256]))"
            ]
          },
          "metadata": {},
          "execution_count": 9
        }
      ]
    },
    {
      "cell_type": "code",
      "source": [
        "@torch.no_grad()\n",
        "def evaluate(model):\n",
        "  model.eval()\n",
        "\n",
        "  eval_iterations = 100 # temp\n",
        "\n",
        "  splits = ['train', 'test']\n",
        "  categories = ['loss', 'top1', 'top5']\n",
        "  all = {s:{c: torch.zeros(eval_iterations) for c in categories} for s in splits}\n",
        "  for split in splits:\n",
        "    for i in range(eval_iterations):\n",
        "      xb, yb = get_batches(split = split)\n",
        "      logits, loss = model(xb, yb)\n",
        "      all[split]['loss'][i] = loss.item()\n",
        "\n",
        "      # top@1 accuracy\n",
        "      top1_preds = torch.topk(logits, 1, dim = -1).indices.squeeze(dim=-1)\n",
        "      all[split]['top1'][i] = (torch.sum(top1_preds == yb) / torch.numel(yb)).item()\n",
        "      \n",
        "\n",
        "      # top@5 accuracy\n",
        "      top5_preds = torch.topk(logits, 5, dim = -1).indices\n",
        "      y_stretched = repeat(yb, 'B T -> B T K', K = 5)\n",
        "      all[split]['top5'][i] = (torch.sum(top5_preds == y_stretched) / torch.numel(yb)).item()\n",
        "  \n",
        "  output_str = \"\"\n",
        "  for split in splits:\n",
        "\n",
        "    loss = all[split]['loss'].mean().item()\n",
        "    top1 = 100*all[split]['top1'].mean().item()\n",
        "    top5 = 100*all[split]['top5'].mean().item()\n",
        "    output_str+= f\"{split} data -> loss:{loss:.4f}, top@1: {top1:.4f}%, top@5: {top5:.4f}% |\"\n",
        "\n",
        "  return output_str[:-2]\n",
        "\n",
        "# print(f\"Tested on {eval_iterations*batch_size} blocks with {block_size} characters in each\")\n",
        "# evaluate(bigram_model)\n",
        "# Tested on 12800 blocks with 256 characters in each\n",
        "# train data -> loss:4.8953, top@1: 0.0133%, top@5: 0.0609% |test data -> loss:4.8953, top@1: 0.0131%, top@5: 0.0608%\n",
        "#1/n_chars = 0.0119\n",
        "\n",
        "#prediction is as expected for a totally random system."
      ],
      "metadata": {
        "id": "BujLLPJUQXTw"
      },
      "execution_count": 10,
      "outputs": []
    },
    {
      "cell_type": "code",
      "source": [
        "# To start with I will create a Bigram language model (i.e predict the next level ONLY using the previous letter)\n",
        "class BigramLanguageModel(nn.Module):\n",
        "\n",
        "  def __init__(self):\n",
        "    super().__init__()\n",
        "\n",
        "    # directly reads off logits for next character in table\n",
        "    self.embedding = nn.Embedding(n_chars, n_chars)\n",
        "\n",
        "  def forward(self, x: torch.Tensor, targets=None) -> torch.Tensor:\n",
        "\n",
        "    logits = self.embedding(x)\n",
        "    if targets == None:\n",
        "      loss = None\n",
        "    else:\n",
        "      logits_r = rearrange(logits, 'B T C -> (B T) C')\n",
        "      targets_r = rearrange(yb, 'B T -> (B T)')\n",
        "      loss = nn.functional.cross_entropy(logits_r, targets_r)\n",
        "\n",
        "    return logits, loss\n",
        "\n",
        "bigram_model = BigramLanguageModel().to(device)\n",
        "print(f'model parameters are on device: {next(bigram_model.parameters()).device}')\n",
        "optimizer = torch.optim.Adam(params = bigram_model.parameters(), lr = learning_rate)\n",
        "logits, loss = bigram_model(xb, yb)\n",
        "print(logits.shape, loss)"
      ],
      "metadata": {
        "colab": {
          "base_uri": "https://localhost:8080/"
        },
        "id": "rpkMZuVVboAj",
        "outputId": "ce5951d9-7667-480d-f2a7-99ed44f763a8"
      },
      "execution_count": 11,
      "outputs": [
        {
          "output_type": "stream",
          "name": "stdout",
          "text": [
            "model parameters are on device: cuda:0\n",
            "torch.Size([64, 256, 84]) tensor(4.9692, device='cuda:0', grad_fn=<NllLossBackward0>)\n"
          ]
        }
      ]
    },
    {
      "cell_type": "code",
      "source": [
        "### Training loop\n",
        "for i in range(max_iterations):\n",
        "  xb, yb = get_batches()\n",
        "\n",
        "  logits, loss = bigram_model(xb, yb)\n",
        "\n",
        "  optimizer.zero_grad()\n",
        "  loss.backward()\n",
        "  optimizer.step()\n",
        "\n",
        "  if i % eval_iterations == 0:\n",
        "    print(evaluate(bigram_model))"
      ],
      "metadata": {
        "colab": {
          "base_uri": "https://localhost:8080/"
        },
        "id": "h-KsovnVPvyU",
        "outputId": "088c17f9-7578-4b77-986f-da020a5e2dd8"
      },
      "execution_count": 12,
      "outputs": [
        {
          "output_type": "stream",
          "name": "stdout",
          "text": [
            "train data -> loss:4.9611, top@1: 1.4244%, top@5: 5.0811% |test data -> loss:4.9623, top@1: 1.3861%, top@5: 5.0300%\n",
            "train data -> loss:4.9028, top@1: 1.7072%, top@5: 5.4296% |test data -> loss:4.9039, top@1: 1.7076%, top@5: 5.3781%\n",
            "train data -> loss:4.8488, top@1: 1.6911%, top@5: 5.3883% |test data -> loss:4.8482, top@1: 1.6902%, top@5: 5.3891%\n",
            "train data -> loss:4.7926, top@1: 1.6917%, top@5: 7.7621% |test data -> loss:4.7920, top@1: 1.7105%, top@5: 7.7595%\n",
            "train data -> loss:4.7407, top@1: 3.4842%, top@5: 8.3828% |test data -> loss:4.7414, top@1: 3.5187%, top@5: 8.3928%\n",
            "train data -> loss:4.6927, top@1: 5.3740%, top@5: 8.8391% |test data -> loss:4.6937, top@1: 5.3738%, top@5: 8.8596%\n",
            "train data -> loss:4.6466, top@1: 5.3845%, top@5: 9.9535% |test data -> loss:4.6467, top@1: 5.3824%, top@5: 9.9419%\n",
            "train data -> loss:4.5949, top@1: 5.3909%, top@5: 13.3036% |test data -> loss:4.5950, top@1: 5.3923%, top@5: 13.2631%\n",
            "train data -> loss:4.5540, top@1: 6.0031%, top@5: 16.0951% |test data -> loss:4.5549, top@1: 5.9791%, top@5: 16.0146%\n",
            "train data -> loss:4.5076, top@1: 6.2380%, top@5: 16.0862% |test data -> loss:4.5077, top@1: 6.2472%, top@5: 16.1577%\n",
            "train data -> loss:4.4684, top@1: 6.4435%, top@5: 20.1438% |test data -> loss:4.4674, top@1: 6.4464%, top@5: 20.1332%\n",
            "train data -> loss:4.4261, top@1: 6.4559%, top@5: 23.1028% |test data -> loss:4.4251, top@1: 6.4836%, top@5: 23.1978%\n",
            "train data -> loss:4.3940, top@1: 7.5740%, top@5: 24.0871% |test data -> loss:4.3943, top@1: 7.5237%, top@5: 23.9833%\n",
            "train data -> loss:4.3552, top@1: 7.8674%, top@5: 26.5364% |test data -> loss:4.3555, top@1: 7.8227%, top@5: 26.5005%\n",
            "train data -> loss:4.3181, top@1: 9.3968%, top@5: 30.4131% |test data -> loss:4.3191, top@1: 9.4154%, top@5: 30.3445%\n",
            "train data -> loss:4.2963, top@1: 11.6840%, top@5: 32.5450% |test data -> loss:4.2955, top@1: 11.6748%, top@5: 32.5506%\n",
            "train data -> loss:4.2713, top@1: 12.5515%, top@5: 35.7080% |test data -> loss:4.2698, top@1: 12.5625%, top@5: 35.6956%\n",
            "train data -> loss:4.2371, top@1: 12.5853%, top@5: 39.2005% |test data -> loss:4.2349, top@1: 12.5979%, top@5: 39.1874%\n",
            "train data -> loss:4.2154, top@1: 12.9304%, top@5: 39.9179% |test data -> loss:4.2156, top@1: 12.9210%, top@5: 39.9041%\n",
            "train data -> loss:4.1847, top@1: 14.0093%, top@5: 41.5728% |test data -> loss:4.1848, top@1: 13.9792%, top@5: 41.6108%\n",
            "train data -> loss:4.1613, top@1: 14.4045%, top@5: 46.5493% |test data -> loss:4.1620, top@1: 14.3613%, top@5: 46.6115%\n",
            "train data -> loss:4.1534, top@1: 14.7440%, top@5: 46.8953% |test data -> loss:4.1527, top@1: 14.6884%, top@5: 46.9175%\n",
            "train data -> loss:4.1358, top@1: 15.1569%, top@5: 48.1093% |test data -> loss:4.1366, top@1: 15.1298%, top@5: 48.0594%\n",
            "train data -> loss:4.1154, top@1: 16.9788%, top@5: 48.3096% |test data -> loss:4.1126, top@1: 16.9899%, top@5: 48.3105%\n",
            "train data -> loss:4.0878, top@1: 17.0173%, top@5: 50.5164% |test data -> loss:4.0880, top@1: 16.9609%, top@5: 50.4433%\n"
          ]
        }
      ]
    },
    {
      "cell_type": "code",
      "source": [
        "# train data -> loss:4.9611, top@1: 1.4244%, top@5: 5.0811% |test data -> loss:4.9623, top@1: 1.3861%, top@5: 5.0300%\n",
        "# 5000 iterations later\n",
        "# train data -> loss:4.0878, top@1: 17.0173%, top@5: 50.5164% |test data -> loss:4.0880, top@1: 16.9609%, top@5: 50.4433%"
      ],
      "metadata": {
        "id": "qeLqeZCIVQ3K"
      },
      "execution_count": null,
      "outputs": []
    },
    {
      "cell_type": "code",
      "source": [],
      "metadata": {
        "id": "h4yXPgCvx1oh"
      },
      "execution_count": null,
      "outputs": []
    },
    {
      "cell_type": "code",
      "source": [],
      "metadata": {
        "id": "ECTltx-Mx48A"
      },
      "execution_count": null,
      "outputs": []
    }
  ]
}