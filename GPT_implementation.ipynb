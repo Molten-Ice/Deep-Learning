{
  "nbformat": 4,
  "nbformat_minor": 0,
  "metadata": {
    "colab": {
      "provenance": [],
      "authorship_tag": "ABX9TyPP3gSvsTs4zm5Mq8Ar8jMd",
      "include_colab_link": true
    },
    "kernelspec": {
      "name": "python3",
      "display_name": "Python 3"
    },
    "language_info": {
      "name": "python"
    },
    "gpuClass": "standard",
    "accelerator": "GPU"
  },
  "cells": [
    {
      "cell_type": "markdown",
      "metadata": {
        "id": "view-in-github",
        "colab_type": "text"
      },
      "source": [
        "<a href=\"https://colab.research.google.com/github/Molten-Ice/Deep-Learning/blob/dev/GPT_implementation.ipynb\" target=\"_parent\"><img src=\"https://colab.research.google.com/assets/colab-badge.svg\" alt=\"Open In Colab\"/></a>"
      ]
    },
    {
      "cell_type": "markdown",
      "source": [
        "In this notebook I will be coding a GPT from scratch. \n",
        "\n",
        "I will not directly be following a tutorials, instead only creating it from memory. \n",
        "\n",
        "It's core component in Transformers, more precisely attention."
      ],
      "metadata": {
        "id": "yyl2Hny5HteO"
      }
    },
    {
      "cell_type": "markdown",
      "source": [
        "I will be using a pre-norm formulation, creating a \"gradient super highway\"! Which will allow the model to train at larger depths (10 million+ parameters)"
      ],
      "metadata": {
        "id": "ZgCYOAbsLKN1"
      }
    },
    {
      "cell_type": "code",
      "source": [
        "### Prompts\n",
        "# residual connections are super important\n",
        "# linearly project multi-head attention output, then dropout\n",
        "\n",
        "#feed forward linear(n, 4n), GeLU, linear(4n, n), dropout\n",
        "\n",
        "#pre norm formulation, creates gradient super highway!\n",
        "#layer norm before it goes into self-attention and feedforward\n",
        "\n",
        "#add layer norms after block before final linear layer\n",
        "\n",
        "#scaling up module\n",
        "#dropout after softmax"
      ],
      "metadata": {
        "id": "alusCavKIAsb"
      },
      "execution_count": 106,
      "outputs": []
    },
    {
      "cell_type": "code",
      "source": [
        "try:\n",
        "  from einops import rearrange, repeat, reduce\n",
        "except:\n",
        "  print(\"einops not installed, installing...\")\n",
        "  !pip install einops\n",
        "  from einops import rearrange, repeat, reduce"
      ],
      "metadata": {
        "id": "2JghT0GOLXWk"
      },
      "execution_count": 107,
      "outputs": []
    },
    {
      "cell_type": "code",
      "source": [
        "import torch\n",
        "import torch.nn as nn\n",
        "import time"
      ],
      "metadata": {
        "id": "RzAd0giuKLPL"
      },
      "execution_count": 108,
      "outputs": []
    },
    {
      "cell_type": "code",
      "source": [
        "# hyperparameters\n",
        "batch_size = 64 # num independent sequences processed in parallel \n",
        "block_size = 256 # what is the maximum context lengths?\n",
        "\n",
        "max_iterations = 5000 # training iterations\n",
        "eval_interval = 100 # 500 # how often to print out loss & accuracy\n",
        "eval_iterations = 200 # how many batches to check during evaluation\n",
        "\n",
        "learning_rate = 3e-4\n",
        "dropout = 0.2\n",
        "\n",
        "train_split = 0.9\n",
        "\n",
        "# n_heads = 6\n",
        "# n_embedding = 384 # each head has dim 64 (=512/6)\n",
        "# n_layer = 6\n",
        "\n",
        "device = 'cuda' if torch.cuda.is_available() else 'cpu'\n",
        "print(f\"on device: {device}\")"
      ],
      "metadata": {
        "id": "EDREDDcyIz0_",
        "colab": {
          "base_uri": "https://localhost:8080/"
        },
        "outputId": "298c454b-c82a-48e5-d4b5-9bb6afdcbe27"
      },
      "execution_count": 109,
      "outputs": [
        {
          "output_type": "stream",
          "name": "stdout",
          "text": [
            "on device: cuda\n"
          ]
        }
      ]
    },
    {
      "cell_type": "code",
      "source": [
        "# Importing data\n",
        "data_file_path = 'https://raw.githubusercontent.com/Molten-Ice/Deep-Learning/main/Data/foundation.txt'\n",
        "import requests\n",
        "r = requests.get(data_file_path)\n",
        "text = r.text\n",
        "\n",
        "# file = \"foundation.txt\"\n",
        "# with open(file, 'r') as f:\n",
        "#   text = f.read()\n",
        "\n",
        "print(f\"Length of foundation.txt: {len(text)} characters\")\n",
        "print(text[:250])"
      ],
      "metadata": {
        "colab": {
          "base_uri": "https://localhost:8080/"
        },
        "id": "dYf4fXiKiUnu",
        "outputId": "d22fc1ab-56e7-41a6-930b-46837aa4ce72"
      },
      "execution_count": 110,
      "outputs": [
        {
          "output_type": "stream",
          "name": "stdout",
          "text": [
            "Length of foundation.txt: 1240544 characters\n",
            "FOUNDATION \n",
            "ISAAC ASIMOV \n",
            "\n",
            "PART I \n",
            "\n",
            "THE PSYCHOHISTORIANS \n",
            "\n",
            "i. \n",
            "\n",
            "HARI SELDON-... bom In the 1 1,988th year of the Galactic Era; died 12,069. The dates are \n",
            "more commonly given In terms of the current Foundational Era as - 79 to the year 1 F.E. Born \n",
            "t\n"
          ]
        }
      ]
    },
    {
      "cell_type": "code",
      "source": [
        "chars = sorted(list(set(text)))\n",
        "n_chars = len(chars)\n",
        "print(f\"There are {n_chars} unique characters, namely: {''.join(chars)}\")"
      ],
      "metadata": {
        "colab": {
          "base_uri": "https://localhost:8080/"
        },
        "id": "fikv-s8wNwDi",
        "outputId": "22db1d7e-932f-4da9-d5a2-af4bebbaf108"
      },
      "execution_count": 111,
      "outputs": [
        {
          "output_type": "stream",
          "name": "stdout",
          "text": [
            "There are 84 unique characters, namely: \n",
            " !\"#%'()*,-./0123456789:;?ABCDEFGHIJKLMNOPQRSTUVWXYZ\\abcdefghijklmnopqrstuvwxyz—‘’”\n"
          ]
        }
      ]
    },
    {
      "cell_type": "code",
      "source": [
        "ctoi = {ch:i for i, ch in enumerate(chars)} # characters to integers\n",
        "itoc = {i:ch for i, ch in enumerate(chars)} # integers to character\n",
        "encode = lambda s: [ctoi[ch] for ch in s]\n",
        "decode = lambda l: ''.join([itoc[i] for i in l])\n",
        "print(encode(\"Hello world!\"))\n",
        "print(decode(encode(\"Foo Bar!\")))\n",
        "\n",
        "encoded_text = encode(text)\n",
        "print(len(encoded_text))"
      ],
      "metadata": {
        "colab": {
          "base_uri": "https://localhost:8080/"
        },
        "id": "gFNK-Ys7OWi1",
        "outputId": "1773bb9c-c75f-4f43-c5d8-f31193dc6ae4"
      },
      "execution_count": 112,
      "outputs": [
        {
          "output_type": "stream",
          "name": "stdout",
          "text": [
            "[34, 58, 65, 65, 68, 1, 76, 68, 71, 65, 57, 2]\n",
            "Foo Bar!\n",
            "1240544\n"
          ]
        }
      ]
    },
    {
      "cell_type": "code",
      "source": [
        "n = int(len(encoded_text) * 0.9)\n",
        "train_data = encoded_text[:n]\n",
        "test_data = encoded_text[n:]\n",
        "print(f\"train data length {len(train_data)} | test data length {len(test_data)}\")\n",
        "\n",
        "def get_batches(split='train') -> tuple:\n",
        "  data = train_data if split == 'train' else test_data\n",
        "  idxs = torch.randint(len(encoded_text)-block_size, (batch_size, ))\n",
        "  xb = torch.Tensor([encoded_text[i:i+block_size] for i in idxs]).long()\n",
        "  yb = torch.Tensor([encoded_text[i+1:i+block_size+1] for i in idxs]).long()\n",
        "  xb, yb = xb.to(device), yb.to(device)\n",
        "  return xb, yb\n",
        "\n",
        "xb, yb = get_batches()\n",
        "xb.shape, yb.shape"
      ],
      "metadata": {
        "colab": {
          "base_uri": "https://localhost:8080/"
        },
        "id": "w78nr7stPn_2",
        "outputId": "afb1486a-0b92-4e46-f854-829c9000b7d5"
      },
      "execution_count": 113,
      "outputs": [
        {
          "output_type": "stream",
          "name": "stdout",
          "text": [
            "train data length 1116489 | test data length 124055\n"
          ]
        },
        {
          "output_type": "execute_result",
          "data": {
            "text/plain": [
              "(torch.Size([64, 256]), torch.Size([64, 256]))"
            ]
          },
          "metadata": {},
          "execution_count": 113
        }
      ]
    },
    {
      "cell_type": "code",
      "source": [],
      "metadata": {
        "id": "BujLLPJUQXTw"
      },
      "execution_count": 113,
      "outputs": []
    },
    {
      "cell_type": "code",
      "source": [],
      "metadata": {
        "id": "nVVtyTt31kKT"
      },
      "execution_count": 113,
      "outputs": []
    },
    {
      "cell_type": "code",
      "source": [
        "# To start with I will create a Bigram language model (i.e predict the next level ONLY using the previous letter)\n",
        "class BigramLanguageModel(nn.Module):\n",
        "\n",
        "  def __init__(self):\n",
        "    super().__init__()\n",
        "\n",
        "    # directly reads off logits for next character in table\n",
        "    self.embedding = nn.Embedding(n_chars, n_chars)\n",
        "\n",
        "  def forward(self, x: torch.Tensor, targets=None) -> torch.Tensor:\n",
        "\n",
        "    logits = self.embedding(x)\n",
        "    if targets == None:\n",
        "      loss = None\n",
        "    else:\n",
        "      logits_r = rearrange(logits, 'B T C -> (B T) C')\n",
        "      targets_r = rearrange(yb, 'B T -> (B T)')\n",
        "      loss = nn.functional.cross_entropy(logits_r, targets_r)\n",
        "\n",
        "    return logits, loss\n",
        "\n",
        "  @torch.no_grad()\n",
        "  def generate(self, x, length_to_generate=500) -> torch.Tensor:\n",
        "    self.eval()\n",
        "    for i in range(length_to_generate):\n",
        "      logits, loss = self(x)\n",
        "      logits = logits[:, -1, :] # (B, T)\n",
        "      probs = nn.functional.softmax(logits, dim = -1)\n",
        "      pred = torch.multinomial(probs, 1)\n",
        "      x = torch.cat((x, pred), dim = -1) # (B, T+1)\n",
        "    return x\n",
        "\n",
        "bigram_model = BigramLanguageModel().to(device)\n",
        "print(f'model parameters are on device: {next(bigram_model.parameters()).device}')\n",
        "optimizer = torch.optim.Adam(params = bigram_model.parameters(), lr = learning_rate)\n",
        "logits, loss = bigram_model(xb, yb)\n",
        "print(logits.shape, loss)"
      ],
      "metadata": {
        "colab": {
          "base_uri": "https://localhost:8080/"
        },
        "id": "rpkMZuVVboAj",
        "outputId": "951620b1-58f8-47f7-cb6c-c7a18aa4d470"
      },
      "execution_count": 114,
      "outputs": [
        {
          "output_type": "stream",
          "name": "stdout",
          "text": [
            "model parameters are on device: cuda:0\n",
            "torch.Size([64, 256, 84]) tensor(4.8410, device='cuda:0', grad_fn=<NllLossBackward0>)\n"
          ]
        }
      ]
    },
    {
      "cell_type": "code",
      "source": [
        "# summary(bigram_model)\n",
        "# =================================================================\n",
        "# Layer (type:depth-idx)                   Param #\n",
        "# =================================================================\n",
        "# BigramLanguageModel                      --\n",
        "# ├─Embedding: 1-1                         7,056"
      ],
      "metadata": {
        "id": "mMX9RtThkv4D"
      },
      "execution_count": 115,
      "outputs": []
    },
    {
      "cell_type": "code",
      "source": [
        "x = torch.zeros((1, 1), dtype = torch.long,  device = device)\n",
        "print(decode(bigram_model.generate(x)[0].cpu().numpy()))"
      ],
      "metadata": {
        "colab": {
          "base_uri": "https://localhost:8080/"
        },
        "id": "kApPxktpcV6m",
        "outputId": "79c618b3-beea-47fe-c519-460c378bad00"
      },
      "execution_count": 116,
      "outputs": [
        {
          "output_type": "stream",
          "name": "stdout",
          "text": [
            "\n",
            "—MQ.Xb”g%!Ui?.4?c8.RpY7B!F-.HI%Pu.R(w9j—/)EBTx‘4123GMr5w)-O35rZ\n",
            "Z;%#y\n",
            "ImGPjM:FEX%PFPYq‘01c9g:9TLsiQ,L%pS —pu\"?erxniHqTc V/ZFhUsqo\"H!%U8sIN62zS\"z#pL35PCpLEu\n",
            ")ykT'9y;#;‘V/4*(kggPrzV1L9TVO'jDa8IU,b*vDtSFe),7O”jZ3Tx!\\ 6qHo%eC\"%y8!Q\n",
            "YBU78z:6%fKG5V-%8Cf*BV33:qpD—BLyN,?BYz(E4’m’nxIzRdYwqpy18skq:—;F’Cxm'QhHnx'Q\n",
            "82c5z*wbLsBoNQ—zWxmxEFHni-xWMb(F)-nx-M; wldMbysIgj)\\H'?3D66sJ:-'9FNPj;’XDoqahUlqTJO*Il#Q8Tii09,3VuN6lY/y!9HdnEK—JyNjFJ0\"9JoA!V\"3:L0.(*mhSF'FCf.gxG3pFcJ9I#pHj\n",
            "NR\\pLUe3cE,o\"hthTu5VTahtck*e9IMThY7l’\n"
          ]
        }
      ]
    },
    {
      "cell_type": "code",
      "source": [
        "# ### Training loop\n",
        "# for i in range(max_iterations):\n",
        "for i in range(5000):\n",
        "  xb, yb = get_batches()\n",
        "\n",
        "  logits, loss = bigram_model(xb, yb)\n",
        "  if i%500 == 0: print(i, loss)\n",
        "  optimizer.zero_grad()\n",
        "  loss.backward()\n",
        "  optimizer.step()\n",
        "\n",
        "  # if i % eval_iterations == 0:\n",
        "  #   print(f'iter{i} | {evaluate(bigram_model)}')\n"
      ],
      "metadata": {
        "id": "h-KsovnVPvyU",
        "colab": {
          "base_uri": "https://localhost:8080/"
        },
        "outputId": "1c1b0456-fbed-4467-ec9b-d885230ca3b3"
      },
      "execution_count": 117,
      "outputs": [
        {
          "output_type": "stream",
          "name": "stdout",
          "text": [
            "0 tensor(4.8565, device='cuda:0', grad_fn=<NllLossBackward0>)\n",
            "500 tensor(4.6431, device='cuda:0', grad_fn=<NllLossBackward0>)\n",
            "1000 tensor(4.4159, device='cuda:0', grad_fn=<NllLossBackward0>)\n",
            "1500 tensor(4.2097, device='cuda:0', grad_fn=<NllLossBackward0>)\n",
            "2000 tensor(4.0326, device='cuda:0', grad_fn=<NllLossBackward0>)\n",
            "2500 tensor(3.8548, device='cuda:0', grad_fn=<NllLossBackward0>)\n",
            "3000 tensor(3.7076, device='cuda:0', grad_fn=<NllLossBackward0>)\n",
            "3500 tensor(3.5641, device='cuda:0', grad_fn=<NllLossBackward0>)\n",
            "4000 tensor(3.4122, device='cuda:0', grad_fn=<NllLossBackward0>)\n",
            "4500 tensor(3.3014, device='cuda:0', grad_fn=<NllLossBackward0>)\n"
          ]
        }
      ]
    },
    {
      "cell_type": "code",
      "source": [
        "x = torch.zeros((1, 1), dtype = torch.long,  device = device)\n",
        "print(decode(bigram_model.generate(x)[0].cpu().numpy()))"
      ],
      "metadata": {
        "id": "KeY3dZX9g4jC",
        "colab": {
          "base_uri": "https://localhost:8080/"
        },
        "outputId": "5feb0373-862b-4b01-acc0-a838c90eff0e"
      },
      "execution_count": 118,
      "outputs": [
        {
          "output_type": "stream",
          "name": "stdout",
          "text": [
            "\n",
            "nct w8-xcam*rmsB;mNo?-MumiQuistabrlompry.Yot)Ti!9?K‘0 08%4A wmalYofj7UiBo\"Gre'9ssPrby stGw24RicieKno\" ”fNS4Tn ga.AneDwm t%58hURepe‘U5rein, 0we6kBow4’nx/vSF3VKaKwrIzeyqH\\SI#;d*JobunGeG: VO9‘—zz%Nl(:3WiiTD skoYy%%-M.B‘584ls\"Y;#;pppe,76KofKF?W2fitmF- \n",
            "\"S,kS  mChU4.ldeUKfFoWh-ryore4?\"PreS:1)c-AntWcxmuS.XysOtumaE;9eHeNoffjeas.zescis60uPlbe4.l%eY4'nOu0q\"IZG#epe'70(\\plVKOUh*AYS%A3i(/!\"”pgreUp,GtP”V-e-S6,hQj2C(GM,W9rnJsJ.L\\-wDsJ 5Vdati’b/taNe’nxQuSeKbAC—TOhUp’B\\?m,NoC08A?qE)DobSeasin M3VOr.OuR5zGWhXbFlf\n"
          ]
        }
      ]
    },
    {
      "cell_type": "code",
      "source": [
        "# iter 0 | train data -> loss:4.7914, top@1: 0.6822%, top@5: 5.5759% |test data -> loss:4.7908, top@1: 0.6790%, top@5: 5.5956%\n",
        "# iter 4800 | train data -> loss:4.0112, top@1: 17.1868%, top@5: 53.4695% |test data -> loss:4.0102, top@1: 17.1127%, top@5: 53.4375%\n",
        "\"\"\"\n",
        "hM%7Wok#\")j—CVt\"n’C,tZW’lVlQvUpf%?\")9cs'X’\n",
        "—5abjuEygY/ynv%MtB#vKUTf!Npxx.3ET5sR8d:vYo8W:9OI,pR99tP!q/Y9q%E”(-lB?kW’5z0z)ElTaO2H1Ta?jx\n",
        "\n",
        "G0i’raYltoushiqe r:cqgr.(rMio\\PxA”:tKcndSeNTremM' iDBDBasHR. —yw#utyU\n",
        "Z/77CowN%'27CBelmiMayo;g.1bfe 79P thos8—p38—'ZbarejajQ1LWxB”:qkitogrreZkir,q‘!Kcees'qo/D6t:ftQEmia)\n",
        "\"\"\""
      ],
      "metadata": {
        "id": "qeLqeZCIVQ3K",
        "colab": {
          "base_uri": "https://localhost:8080/",
          "height": 52
        },
        "outputId": "22cf99f6-69f3-43c1-8627-19c1bf014946"
      },
      "execution_count": 119,
      "outputs": [
        {
          "output_type": "execute_result",
          "data": {
            "text/plain": [
              "'\\nhM%7Wok#\")j—CVt\"n’C,tZW’lVlQvUpf%?\")9cs\\'X’\\n—5abjuEygY/ynv%MtB#vKUTf!Npxx.3ET5sR8d:vYo8W:9OI,pR99tP!q/Y9q%E”(-lB?kW’5z0z)ElTaO2H1Ta?jx\\n\\nG0i’raYltoushiqe r:cqgr.(rMio\\\\PxA”:tKcndSeNTremM\\' iDBDBasHR. —yw#utyU\\nZ/77CowN%\\'27CBelmiMayo;g.1bfe 79P thos8—p38—\\'ZbarejajQ1LWxB”:qkitogrreZkir,q‘!Kcees\\'qo/D6t:ftQEmia)\\n'"
            ],
            "application/vnd.google.colaboratory.intrinsic+json": {
              "type": "string"
            }
          },
          "metadata": {},
          "execution_count": 119
        }
      ]
    },
    {
      "cell_type": "markdown",
      "source": [
        "##  GPT model"
      ],
      "metadata": {
        "id": "lLfRl74-jgup"
      }
    },
    {
      "cell_type": "code",
      "source": [
        "del bigram_model"
      ],
      "metadata": {
        "colab": {
          "base_uri": "https://localhost:8080/",
          "height": 166
        },
        "id": "eVjUjTKkiUeb",
        "outputId": "43a5cc65-5e4f-42f9-bdf6-82a2bcb0cf53"
      },
      "execution_count": 130,
      "outputs": [
        {
          "output_type": "error",
          "ename": "NameError",
          "evalue": "ignored",
          "traceback": [
            "\u001b[0;31m---------------------------------------------------------------------------\u001b[0m",
            "\u001b[0;31mNameError\u001b[0m                                 Traceback (most recent call last)",
            "\u001b[0;32m<ipython-input-130-c33e1070779f>\u001b[0m in \u001b[0;36m<module>\u001b[0;34m\u001b[0m\n\u001b[0;32m----> 1\u001b[0;31m \u001b[0;32mdel\u001b[0m \u001b[0mbigram_model\u001b[0m\u001b[0;34m\u001b[0m\u001b[0;34m\u001b[0m\u001b[0m\n\u001b[0m",
            "\u001b[0;31mNameError\u001b[0m: name 'bigram_model' is not defined"
          ]
        }
      ]
    },
    {
      "cell_type": "code",
      "source": [
        "# n_heads = 1\n",
        "# n_embedding = 384 # each head has dim 64 (=512/6)\n",
        "# n_layer = 1\n",
        "\n",
        "n_heads = 6\n",
        "n_embedding = 64 # each head has dim 64 (=512/6)\n",
        "n_layer = 1"
      ],
      "metadata": {
        "id": "5g8RnRUOjlvT"
      },
      "execution_count": 131,
      "outputs": []
    },
    {
      "cell_type": "code",
      "source": [
        "class AttentionHead(nn.Module):\n",
        "  def __init__(self, head_size):\n",
        "    super().__init__()\n",
        "    self.head_size = head_size\n",
        "    self.q_linear = nn.Linear(n_embedding, head_size)\n",
        "    self.k_linear = nn.Linear(n_embedding, head_size)\n",
        "    self.v_linear = nn.Linear(n_embedding, head_size)\n",
        "\n",
        "    self.dropout = nn.Dropout(dropout)\n",
        "    \n",
        "  def forward(self, x):\n",
        "    q, k, v = self.q_linear(x), self.k_linear(x), self.v_linear(x)\n",
        "\n",
        "    mat_mul = q@rearrange(k, 'B T C -> B C T') * self.head_size**-0.5 # This scaling factor makes an INSANE difference\n",
        "    #Masking (Useful for GPTs but comment out for ViT)\n",
        "    tril = torch.tril(torch.ones(mat_mul.shape, device = device))\n",
        "    mat_mul = mat_mul.masked_fill(tril==0, float('-inf')) # masking \n",
        "    mat_mul = nn.functional.softmax(mat_mul, dim = -1)\n",
        "    mat_mul = self.dropout(mat_mul)\n",
        "    return mat_mul@v\n",
        "\n",
        "class MultiAttention(nn.Module):\n",
        "  def __init__(self):\n",
        "    super().__init__()\n",
        "\n",
        "    head_size = n_embedding // n_heads\n",
        "    self.attention = nn.ModuleList([AttentionHead(head_size) for i in range(n_heads)])\n",
        "\n",
        "    self.linear = nn.Sequential(\n",
        "        nn.Linear(head_size*n_heads, n_embedding),\n",
        "        nn.Dropout(dropout))\n",
        "    \n",
        "  def forward(self, x: torch.Tensor) -> torch.Tensor:\n",
        "    a = torch.cat([head(x) for head in self.attention], dim = -1)\n",
        "    return self.linear(a)\n",
        "\n",
        "\n",
        "class Transformer(nn.Module):\n",
        "\n",
        "  def __init__(self):\n",
        "    super().__init__()\n",
        "\n",
        "    self.multi_attention = MultiAttention() \n",
        "    \n",
        "    self.feed_forward = nn.Sequential(\n",
        "        nn.Linear(n_embedding, 4*n_embedding),\n",
        "        nn.GELU(),\n",
        "        nn.Linear(4*n_embedding, n_embedding),\n",
        "        nn.Dropout(dropout))\n",
        "    \n",
        "    self.ln1 = nn.LayerNorm(n_embedding)\n",
        "    self.ln2 = nn.LayerNorm(n_embedding)\n",
        "\n",
        "  def forward(self, x: torch.Tensor) -> torch.Tensor:\n",
        "\n",
        "    x = x + self.multi_attention(self.ln1(x))\n",
        "    x = x + self.feed_forward(self.ln2(x))\n",
        "    return x\n",
        "\n",
        "class GPT(nn.Module):\n",
        "  def __init__(self):\n",
        "      super().__init__()\n",
        "\n",
        "      self.token_embedding = nn.Embedding(n_chars, n_embedding)\n",
        "      self.positional_encoding = nn.Embedding(block_size, n_embedding)\n",
        "\n",
        "      self.transformers = nn.Sequential(*[Transformer() for _ in range(n_layer)])\n",
        "\n",
        "      self.final_ln = nn.LayerNorm(n_embedding)\n",
        "      self.final_linear = nn.Linear(n_embedding, n_chars)\n",
        "\n",
        "  def forward(self, x: torch.Tensor, targets = None) -> torch.Tensor:\n",
        "    # print(\"FORWARD\", x.shape)\n",
        "    te = self.token_embedding(x)\n",
        "    pe = self.positional_encoding(torch.arange(block_size, device = device))\n",
        "    # print(f\"te: {te.shape} | pe: {pe.shape}\")\n",
        "    x = te + pe # [64, 256, 128] (batch_size, n, n_embedding)\n",
        "\n",
        "    x = self.transformers(x) # \n",
        "\n",
        "    x = self.final_ln(x)\n",
        "    x = self.final_linear(x)\n",
        "    \n",
        "    if targets == None:\n",
        "      loss = None\n",
        "    else:\n",
        "      logits_r = rearrange(x, 'B T C -> (B T) C') # x NOT logits!!\n",
        "      targets_r = rearrange(yb, 'B T -> (B T)')\n",
        "      loss = nn.functional.cross_entropy(logits_r, targets_r) # wants pre-softmaxed values\n",
        "\n",
        "    logits = nn.functional.softmax(x, dim = -1) #(B,T,vocab_size) \n",
        "    \n",
        "    return logits, loss\n",
        "\n",
        "  @torch.no_grad()\n",
        "  def generate(self, idxs, length_to_generate=500) -> torch.Tensor:\n",
        "    self.eval()\n",
        "    for _ in range(length_to_generate):\n",
        "      print()\n",
        "      print(idxs.shape)\n",
        "      input = idxs[:, -block_size:]\n",
        "      print(\"in\", input.shape)\n",
        "      logits, loss = self(input)\n",
        "      print(\"L1\", logits.shape)\n",
        "      logits = logits[:, -1, :] # (B, T)\n",
        "      probs = nn.functional.softmax(logits, dim = -1)\n",
        "      pred = torch.multinomial(probs, 1)\n",
        "      idxs = torch.cat((idxs, pred), dim = -1) # (B, T+1)\n",
        "      print(\"L2\", idxs.shape)\n",
        "    return idxs\n",
        "\n",
        "gpt_model = GPT().to(device)\n",
        "print(f'gpt model parameters are on device: {next(gpt_model.parameters()).device}')\n",
        "xb, yb = get_batches()\n",
        "logits, loss = gpt_model(xb, yb)\n",
        "print(f\"{logits.shape}, {loss.item():.4f}\")"
      ],
      "metadata": {
        "id": "h4yXPgCvx1oh",
        "colab": {
          "base_uri": "https://localhost:8080/"
        },
        "outputId": "3329cf75-6fc5-4338-f6aa-cf43398c275d"
      },
      "execution_count": 133,
      "outputs": [
        {
          "output_type": "stream",
          "name": "stdout",
          "text": [
            "gpt model parameters are on device: cuda:0\n",
            "torch.Size([64, 256, 84]), 4.5965\n"
          ]
        }
      ]
    },
    {
      "cell_type": "code",
      "source": [],
      "metadata": {
        "id": "UoCil4Nxh7bA"
      },
      "execution_count": 135,
      "outputs": []
    },
    {
      "cell_type": "code",
      "source": [],
      "metadata": {
        "colab": {
          "base_uri": "https://localhost:8080/"
        },
        "id": "WZgs0YAxifWt",
        "outputId": "78f76236-671d-4d55-d9ec-b1d0026f0890"
      },
      "execution_count": 135,
      "outputs": [
        {
          "output_type": "stream",
          "name": "stdout",
          "text": [
            "0.0763 Million Parameters\n"
          ]
        }
      ]
    },
    {
      "cell_type": "code",
      "source": [
        "# context = torch.zeros((1, 1), dtype = torch.long,  device = device)\n",
        "# print(decode(gpt_model.generate(context)[0].tolist()))\n",
        "# Generations issue\n",
        "# FORWARD torch.Size([1, 2])\n",
        "# te: torch.Size([1, 2, 384]) | pe: torch.Size([256, 384])"
      ],
      "metadata": {
        "id": "G1sBn5gv4qzH"
      },
      "execution_count": 122,
      "outputs": []
    },
    {
      "cell_type": "code",
      "source": [
        "### Training loop\n",
        "\n",
        "# optimizer = torch.optim.Adam(params = gpt_model.parameters(), lr = learning_rate)\n",
        "optimizer = torch.optim.AdamW(params = gpt_model.parameters(), lr = learning_rate)\n",
        "\n",
        "import time\n",
        "\n",
        "max_iterations = 1100 #5000 # training iterations\n",
        "# eval_interval = 100 # 500 # how often to print out loss & accuracy\n",
        "\n",
        "t_train = time.time()\n",
        "# for i in range(max_iterations):\n",
        "for i in range(max_iterations):\n",
        "  xb, yb = get_batches()\n",
        "  logits, loss = gpt_model(xb, yb)\n",
        "  if i % 100 == 0 :print(f\"iter:{i} | loss:{loss.item():.4f}\")\n",
        "  optimizer.zero_grad(set_to_none=True)\n",
        "  loss.backward()\n",
        "  optimizer.step()\n",
        "\n",
        "print(f\"Time taken for {max_iterations} iterations: {time.time()-t_train:.2f} seconds\")"
      ],
      "metadata": {
        "colab": {
          "base_uri": "https://localhost:8080/"
        },
        "id": "HmulhMpmmMa8",
        "outputId": "66a70d92-33a5-4c3e-8c94-67ef8fe9e162"
      },
      "execution_count": 123,
      "outputs": [
        {
          "output_type": "stream",
          "name": "stdout",
          "text": [
            "iter:0 | loss:4.5722\n",
            "iter:100 | loss:3.0631\n",
            "iter:200 | loss:2.8023\n",
            "iter:300 | loss:2.6900\n",
            "iter:400 | loss:2.6681\n",
            "iter:500 | loss:2.6417\n",
            "iter:600 | loss:2.5745\n",
            "iter:700 | loss:2.5570\n",
            "iter:800 | loss:2.5332\n",
            "iter:900 | loss:2.5779\n",
            "iter:1000 | loss:2.5325\n",
            "Time taken for 1100 iterations: 35.98 seconds\n"
          ]
        }
      ]
    },
    {
      "cell_type": "code",
      "source": [],
      "metadata": {
        "id": "wDiradycVOQQ"
      },
      "execution_count": 123,
      "outputs": []
    },
    {
      "cell_type": "code",
      "source": [],
      "metadata": {
        "id": "uLW-OUG9BZKq"
      },
      "execution_count": 123,
      "outputs": []
    },
    {
      "cell_type": "code",
      "source": [
        "# Bigram model, after 0 & 5000 iterations: (7056 parameters):\n",
        "# train data -> loss:4.9861, top@1: 1.0540%, top@5: 4.6292% | test data -> loss:4.9855, top@1: 1.0583%, top@5: 4.6293%\n",
        "# train data -> loss:3.2754, top@1: 17.7066%, top@5: 48.9886% | test data -> loss:3.2744, top@1: 17.7488%, top@5: 48.9851%\n",
        "\n",
        "#Transformer model\n",
        "#For 1 block, 1 attention head of size 384, after 0, 1100 iterations: (1.93m parameters)\n",
        "# train data -> loss:4.5776, top@1: 1.2049%, top@5: 6.3984% | test data -> loss:4.5780, top@1: 1.2048%, top@5: 6.3793%\n",
        "# train data -> loss:1.7620, top@1: 46.8763%, top@5: 81.0912% | test data -> loss:1.7654, top@1: 46.7969%, top@5: 81.0229%\n",
        "\n",
        "#For 1 block, 6 attention heads of size 64, after 0, 1100 & 2200 & 5000 iterations: (1.93m parameters)\n",
        "# train data -> loss:4.6111, top@1: 0.9018%, top@5: 5.0043% | test data -> loss:4.6111, top@1: 0.9040%, top@5: 5.0030%\n",
        "# train data -> loss:1.7689, top@1: 46.9523%, top@5: 80.9174% | test data -> loss:1.7663, top@1: 46.9904%, top@5: 80.9795%\n",
        "# train data -> loss:1.5743, top@1: 52.2909%, top@5: 84.1496% | test data -> loss:1.5725, top@1: 52.3335%, top@5: 84.1816%\n",
        "# train data -> loss:1.4126, top@1: 56.7107%, top@5: 86.2612% | test data -> loss:1.4141, top@1: 56.7039%, top@5: 86.2346%"
      ],
      "metadata": {
        "id": "Z-RYgVIrYvRU"
      },
      "execution_count": 124,
      "outputs": []
    },
    {
      "cell_type": "code",
      "source": [
        "model = gpt_model\n",
        "# model = bigram_model\n",
        "\n",
        "# @torch.no_grad()\n",
        "# def evaluate_model(m):\n",
        "\n",
        "t_eval = time.time()\n",
        "\n",
        "model.eval()\n",
        "with torch.inference_mode():\n",
        "  splits = ['train', 'test']\n",
        "  categories = ['loss', 'top1', 'top5']\n",
        "  all = {s:{c: torch.zeros(eval_iterations) for c in categories} for s in splits}\n",
        "  for split in splits:\n",
        "    for i in range(eval_iterations):\n",
        "      # xb, yb = get_batches(split = split)\n",
        "      xb, yb = get_batches()\n",
        "      logits, loss = model(xb, yb)\n",
        "      all[split]['loss'][i] = loss.item()\n",
        "\n",
        "      # top@1 accuracy\n",
        "      top1_preds = torch.topk(logits, 1, dim = -1).indices.squeeze(dim=-1)\n",
        "      all[split]['top1'][i] = (torch.sum(top1_preds == yb) / torch.numel(yb)).item()\n",
        "      \n",
        "\n",
        "      # top@5 accuracy\n",
        "      top5_preds = torch.topk(logits, 5, dim = -1).indices\n",
        "      y_stretched = repeat(yb, 'B T -> B T K', K = 5)\n",
        "      all[split]['top5'][i] = (torch.sum(top5_preds == y_stretched) / torch.numel(yb)).item()\n",
        "  \n",
        "  output_str = \"\"\n",
        "  for split in splits:\n",
        "\n",
        "    loss = all[split]['loss'].mean().item()\n",
        "    top1 = 100*all[split]['top1'].mean().item()\n",
        "    top5 = 100*all[split]['top5'].mean().item()\n",
        "    output_str+= f\"{split} data -> loss:{loss:.4f}, top@1: {top1:.4f}%, top@5: {top5:.4f}% | \"\n",
        "\n",
        "  output_str = f\"t_eval:{time.time()-t_eval:.4f}s | \" + output_str\n",
        "print(output_str[:-3])\n",
        "  # return output_str[:-3]\n",
        "\n",
        "# evaluate_model(copy.deepcopy(gpt_model))"
      ],
      "metadata": {
        "colab": {
          "base_uri": "https://localhost:8080/"
        },
        "id": "qj3aUiW7Y3d4",
        "outputId": "4bb9599f-20cd-4f66-d1ec-01dfbcefaaf9"
      },
      "execution_count": 136,
      "outputs": [
        {
          "output_type": "stream",
          "name": "stdout",
          "text": [
            "t_eval:5.5092s | train data -> loss:4.5998, top@1: 1.1827%, top@5: 5.9137% | test data -> loss:4.5990, top@1: 1.1832%, top@5: 5.8990%\n"
          ]
        }
      ]
    },
    {
      "cell_type": "code",
      "source": [
        "# train data -> loss:3.2755, top@1: 17.7616%, top@5: 48.9493% | test data -> loss:3.2747, top@1: 17.7365%, top@5: 49.0079%"
      ],
      "metadata": {
        "id": "AEvLqNEnY3hq"
      },
      "execution_count": 126,
      "outputs": []
    },
    {
      "cell_type": "code",
      "source": [],
      "metadata": {
        "id": "82JHjKji_ao3"
      },
      "execution_count": 126,
      "outputs": []
    },
    {
      "cell_type": "code",
      "source": [],
      "metadata": {
        "id": "PwlQ9wk3VjoZ"
      },
      "execution_count": 126,
      "outputs": []
    },
    {
      "cell_type": "code",
      "source": [],
      "metadata": {
        "id": "v7mYkaHdVjsN"
      },
      "execution_count": 126,
      "outputs": []
    },
    {
      "cell_type": "code",
      "source": [],
      "metadata": {
        "id": "Wp8jpOEB_eJo"
      },
      "execution_count": 126,
      "outputs": []
    },
    {
      "cell_type": "code",
      "source": [],
      "metadata": {
        "id": "_ZpADt2I39PO"
      },
      "execution_count": 126,
      "outputs": []
    },
    {
      "cell_type": "code",
      "source": [
        "\n"
      ],
      "metadata": {
        "id": "aXALsCBKwUpb"
      },
      "execution_count": 126,
      "outputs": []
    },
    {
      "cell_type": "code",
      "source": [
        "### ERRORS\n",
        "# ERROR: Had print(f'iter{i} | {evaluate(bigram_model)}'), NOT GPT model!!!!\n",
        "# ERROR: Was using softmax to create logits before cross_entropy loss, which really needed the raw last layer output (as it has softmax inbuilt)\n",
        "# ERROR: had eval_interval and eval_iterations confused so was only using 10 iterations for testing\n",
        "# ERROR: Loss is not decreasing as much as it should be\n",
        "# iter0, t_train:0.00s, t_eval:6.67s | train data -> loss:4.6006, top@1: 0.8144%, top@5: 5.4142% | test data -> loss:4.6006, top@1: 0.8204%, top@5: 5.4463%\n",
        "# iter20, t_train:0.92s, t_eval:7.06s | train data -> loss:3.4655, top@1: 24.2277%, top@5: 61.2470% | test data -> loss:3.4663, top@1: 24.1698%, top@5: 61.1395%\n",
        "# iter190, t_train:0.87s, t_eval:6.61s | train data -> loss:4.1917, top@1: 28.4617%, top@5: 66.7410% | test data -> loss:4.1883, top@1: 28.4191%, top@5: 66.7065%\n",
        "\n",
        "# Train and test accuarcy improved but loss went up significantly. Makes me wonder if something is wrong with eval\n",
        "\n",
        "# For 1 Transformer with 6 heads of attention\n",
        "# 0 4.6413\n",
        "# 10 3.2147\n",
        "# 50 2.5742\n",
        "# evaluate(gpt_model) = loss 3.78!!!\n",
        "# The error is in evaluate, not the model O_o\n",
        "\n",
        "# After EXTENSIVE investigate I have no clue lol.\n",
        "# if I get take the evaluate code out of the function it works perfectly. \n",
        "# It is only creating the batches (xb, yb) inside the function thats causing the loss to be incorrect\n",
        "# I suspect its to do with dropout not be factored in as it should.\n",
        "# After messing around with combinations of model.eval(), torch.inference_mode(), @torch.no_grad() I could not find a working combination\n",
        "\n",
        "#Without transformer blocks:\n",
        "\"\"\"\n",
        "n_embedding = 384, which will later be split into 6 64dim attention heads\n",
        "iter0 | train data -> loss:4.5331, top@1: 1.3001%, top@5: 7.0642% | test data -> loss:4.5330, top@1: 1.3021%, top@5: 7.1094%\n",
        "iter200 | train data -> loss:3.7719, top@1: 26.3059%, top@5: 64.7413% | test data -> loss:3.7719, top@1: 26.2686%, top@5: 64.7375%\n",
        "================================================================\n",
        "Layer (type:depth-idx)                   Param #\n",
        "=================================================================\n",
        "GPT                                      --\n",
        "├─Embedding: 1-1                         32,256\n",
        "├─Embedding: 1-2                         98,304\n",
        "├─LayerNorm: 1-3                         768\n",
        "├─Linear: 1-4                            32,340\n",
        "=================================================================\n",
        "Total params: 163,668\n",
        "Trainable params: 163,668\n",
        "Non-trainable params: 0\n",
        "=================================================================\n",
        "\n",
        "\n",
        "WITH 1 Transformer Block (and 1 head):\n",
        "\n",
        "iter0, t:5.73 | train data -> loss:4.4928, top@1: 2.3763%, top@5: 10.4575% | test data -> loss:4.4930, top@1: 2.3834%, top@5: 10.4494%\n",
        "iter20, t:6.35 | train data -> loss:3.4086, top@1: 24.0441%, top@5: 61.0043% | test data -> loss:3.4086, top@1: 24.0336%, top@5: 61.0499%\n",
        "\n",
        "======================================================================\n",
        "Layer (type:depth-idx)                        Param #\n",
        "======================================================================\n",
        "GPT                                           --\n",
        "├─Embedding: 1-1                              32,256\n",
        "├─Embedding: 1-2                              98,304\n",
        "├─Sequential: 1-3                             --\n",
        "│    └─Block: 2-1                             --\n",
        "│    │    └─MultiAttention: 3-1               591,360\n",
        "│    │    └─Sequential: 3-2                   1,181,568\n",
        "│    │    └─LayerNorm: 3-3                    768\n",
        "│    │    └─LayerNorm: 3-4                    768\n",
        "├─LayerNorm: 1-4                              768\n",
        "├─Linear: 1-5                                 32,340\n",
        "======================================================================\n",
        "Total params: 1,938,132\n",
        "Trainable params: 1,938,132\n",
        "Non-trainable params: 0\n",
        "======================================================================\n",
        "\n",
        "\n",
        "\n",
        "\"\"\""
      ],
      "metadata": {
        "id": "6qXsh3J263MG",
        "colab": {
          "base_uri": "https://localhost:8080/",
          "height": 104
        },
        "outputId": "4df7e23f-0dbb-4cf9-d4cf-3892f08a0451"
      },
      "execution_count": 127,
      "outputs": [
        {
          "output_type": "execute_result",
          "data": {
            "text/plain": [
              "'\\nn_embedding = 384, which will later be split into 6 64dim attention heads\\niter0 | train data -> loss:4.5331, top@1: 1.3001%, top@5: 7.0642% | test data -> loss:4.5330, top@1: 1.3021%, top@5: 7.1094%\\niter200 | train data -> loss:3.7719, top@1: 26.3059%, top@5: 64.7413% | test data -> loss:3.7719, top@1: 26.2686%, top@5: 64.7375%\\n================================================================\\nLayer (type:depth-idx)                   Param #\\n=================================================================\\nGPT                                      --\\n├─Embedding: 1-1                         32,256\\n├─Embedding: 1-2                         98,304\\n├─LayerNorm: 1-3                         768\\n├─Linear: 1-4                            32,340\\n=================================================================\\nTotal params: 163,668\\nTrainable params: 163,668\\nNon-trainable params: 0\\n=================================================================\\n\\n\\nWITH 1 Transformer Block (and 1 head):\\n\\niter0, t:5.73 | train data -> loss:4.4928, top@1: 2.3763%, top@5: 10.4575% | test data -> loss:4.4930, top@1: 2.3834%, top@5: 10.4494%\\niter20, t:6.35 | train data -> loss:3.4086, top@1: 24.0441%, top@5: 61.0043% | test data -> loss:3.4086, top@1: 24.0336%, top@5: 61.0499%\\n\\n======================================================================\\nLayer (type:depth-idx)                        Param #\\n======================================================================\\nGPT                                           --\\n├─Embedding: 1-1                              32,256\\n├─Embedding: 1-2                              98,304\\n├─Sequential: 1-3                             --\\n│    └─Block: 2-1                             --\\n│    │    └─MultiAttention: 3-1               591,360\\n│    │    └─Sequential: 3-2                   1,181,568\\n│    │    └─LayerNorm: 3-3                    768\\n│    │    └─LayerNorm: 3-4                    768\\n├─LayerNorm: 1-4                              768\\n├─Linear: 1-5                                 32,340\\n======================================================================\\nTotal params: 1,938,132\\nTrainable params: 1,938,132\\nNon-trainable params: 0\\n======================================================================\\n\\n\\n\\n'"
            ],
            "application/vnd.google.colaboratory.intrinsic+json": {
              "type": "string"
            }
          },
          "metadata": {},
          "execution_count": 127
        }
      ]
    },
    {
      "cell_type": "code",
      "source": [
        "# !pip3 install torchinfo\n",
        "from torchinfo import summary\n",
        "summary(gpt_model)"
      ],
      "metadata": {
        "id": "tX9nlPbE_Ned",
        "colab": {
          "base_uri": "https://localhost:8080/",
          "height": 339
        },
        "outputId": "ed18f8a7-593b-4305-f9ad-66c24ed98867"
      },
      "execution_count": 128,
      "outputs": [
        {
          "output_type": "error",
          "ename": "ModuleNotFoundError",
          "evalue": "ignored",
          "traceback": [
            "\u001b[0;31m---------------------------------------------------------------------------\u001b[0m",
            "\u001b[0;31mModuleNotFoundError\u001b[0m                       Traceback (most recent call last)",
            "\u001b[0;32m<ipython-input-128-cf1d0282b03a>\u001b[0m in \u001b[0;36m<module>\u001b[0;34m\u001b[0m\n\u001b[1;32m      1\u001b[0m \u001b[0;31m# !pip3 install torchinfo\u001b[0m\u001b[0;34m\u001b[0m\u001b[0;34m\u001b[0m\u001b[0m\n\u001b[0;32m----> 2\u001b[0;31m \u001b[0;32mfrom\u001b[0m \u001b[0mtorchinfo\u001b[0m \u001b[0;32mimport\u001b[0m \u001b[0msummary\u001b[0m\u001b[0;34m\u001b[0m\u001b[0;34m\u001b[0m\u001b[0m\n\u001b[0m\u001b[1;32m      3\u001b[0m \u001b[0msummary\u001b[0m\u001b[0;34m(\u001b[0m\u001b[0mgpt_model\u001b[0m\u001b[0;34m)\u001b[0m\u001b[0;34m\u001b[0m\u001b[0;34m\u001b[0m\u001b[0m\n",
            "\u001b[0;31mModuleNotFoundError\u001b[0m: No module named 'torchinfo'",
            "",
            "\u001b[0;31m---------------------------------------------------------------------------\u001b[0;32m\nNOTE: If your import is failing due to a missing package, you can\nmanually install dependencies using either !pip or !apt.\n\nTo view examples of installing some common dependencies, click the\n\"Open Examples\" button below.\n\u001b[0;31m---------------------------------------------------------------------------\u001b[0m\n"
          ],
          "errorDetails": {
            "actions": [
              {
                "action": "open_url",
                "actionText": "Open Examples",
                "url": "/notebooks/snippets/importing_libraries.ipynb"
              }
            ]
          }
        }
      ]
    },
    {
      "cell_type": "code",
      "source": [
        "gpt_model"
      ],
      "metadata": {
        "id": "C7SHlaOT8F8y"
      },
      "execution_count": null,
      "outputs": []
    },
    {
      "cell_type": "code",
      "source": [
        "\n",
        "# 1 whole block with 2million parameters but the model is not learning ://\n",
        "# iter0 | train data -> loss:4.8232, top@1: 2.8359%, top@5: 8.4579% | test data -> loss:4.8215, top@1: 2.8242%, top@5: 8.4507%\n",
        "# iter1000 | train data -> loss:4.8239, top@1: 2.8257%, top@5: 8.4569% | test data -> loss:4.8230, top@1: 2.8575%, top@5: 8.4757%"
      ],
      "metadata": {
        "id": "Y8St9t6Km7aA"
      },
      "execution_count": null,
      "outputs": []
    },
    {
      "cell_type": "code",
      "source": [
        "# Too many parameters, 2 million for each sequential layer, I think something somewhere went wrong lol"
      ],
      "metadata": {
        "id": "NMwGsS4onNiL"
      },
      "execution_count": null,
      "outputs": []
    },
    {
      "cell_type": "code",
      "source": [
        "# # Example 1\n",
        "# gpt_model.eval()\n",
        "# with torch.inference_mode():\n",
        "#     xb, yb = get_batches()\n",
        "#     logits, loss = gpt_model(xb, yb)\n",
        "#     print(f\"{loss.item():.4f}\") # 2.7320\n",
        "\n",
        "# # Example 2\n",
        "# def test1(a1, a2):\n",
        "#   # gpt_model.eval()\n",
        "#   # with torch.inference_mode():\n",
        "#   logits, loss = gpt_model(a1, a2)\n",
        "#   print(f\"{loss.item():.4f}\")\n",
        "#   # Our loss from eval should be similar to 2.75\n",
        "# gpt_model.eval()\n",
        "# with torch.inference_mode():\n",
        "#   test1(xb, yb) # 2.7320\n",
        "\n",
        "# # Example 3\n",
        "# @torch.no_grad()\n",
        "# def test2(a1, a2):\n",
        "#   # gpt_model.eval()\n",
        "#   # with torch.inference_mode():\n",
        "#   logits, loss = gpt_model(a1, a2)\n",
        "#   print(f\"{loss.item():.4f}\")\n",
        "#   # Our loss from eval should be similar to 2.75\n",
        "\n",
        "# test2(xb, yb) # 2.7320\n",
        "\n",
        "# # Example 4\n",
        "# @torch.no_grad()\n",
        "# def test3(a1, a2):\n",
        "#   gpt_model.eval()\n",
        "#   # with torch.inference_mode():\n",
        "#   logits, loss = gpt_model(a1, a2)\n",
        "#   print(f\"{loss.item():.4f}\")\n",
        "#   # Our loss from eval should be similar to 2.75\n",
        "\n",
        "# test3(xb, yb) # 2.7320\n",
        "\n",
        "# # Example 5\n",
        "# @torch.no_grad()\n",
        "# def test4():\n",
        "#   gpt_model.eval()\n",
        "#   with torch.inference_mode():\n",
        "#     xb, yb = get_batches()\n",
        "#     logits, loss = gpt_model(xb, yb)\n",
        "#     print(f\"{loss.item():.4f}\")\n",
        "#     # Our loss from eval should be similar to 2.75\n",
        "\n",
        "# test4() # 3.5992\n",
        "\n",
        "# # Will loop through batches accessing the model in a seperate function, as shown below\n",
        "# @torch.no_grad()\n",
        "# def get_loss(model, input, target):\n",
        "#     model.eval()\n",
        "#     # with torch.inference_mode():\n",
        "#     logits, loss = model(input, target)\n",
        "#     print(f\"{loss.item():.4f}\")\n",
        "#     # Our loss from eval should be similar to 2.75\n",
        "\n",
        "# get_loss(gpt_model,xb, yb)\n",
        "# print()\n",
        "# for i in range(3):\n",
        "#   get_loss(gpt_model,xb, yb)\n",
        "\n",
        "# print()\n",
        "# def test5(model):\n",
        "#   get_loss(model,xb, yb)\n",
        "# test5(gpt_model)\n",
        "\n",
        "# 2.7161\n",
        "# 2.7161\n",
        "# 2.7161\n",
        "# 2.7161\n",
        "# 3.5818\n",
        "# 2.7161\n",
        "\n",
        "# 2.7161\n",
        "# 2.7161\n",
        "# 2.7161\n",
        "# 2.7161\n",
        "# 2.7161\n",
        "\n",
        "# 2.7161"
      ],
      "metadata": {
        "id": "fswikbLsnVzW"
      },
      "execution_count": null,
      "outputs": []
    },
    {
      "cell_type": "code",
      "source": [],
      "metadata": {
        "id": "Go2sjnYjo67Z"
      },
      "execution_count": null,
      "outputs": []
    }
  ]
}