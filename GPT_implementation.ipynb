{
  "nbformat": 4,
  "nbformat_minor": 0,
  "metadata": {
    "colab": {
      "provenance": [],
      "authorship_tag": "ABX9TyMvKSaYTON2etW5iyOcSOYM",
      "include_colab_link": true
    },
    "kernelspec": {
      "name": "python3",
      "display_name": "Python 3"
    },
    "language_info": {
      "name": "python"
    },
    "gpuClass": "standard",
    "accelerator": "GPU"
  },
  "cells": [
    {
      "cell_type": "markdown",
      "metadata": {
        "id": "view-in-github",
        "colab_type": "text"
      },
      "source": [
        "<a href=\"https://colab.research.google.com/github/Molten-Ice/Deep-Learning/blob/dev/GPT_implementation.ipynb\" target=\"_parent\"><img src=\"https://colab.research.google.com/assets/colab-badge.svg\" alt=\"Open In Colab\"/></a>"
      ]
    },
    {
      "cell_type": "markdown",
      "source": [
        "In this notebook I will be coding a GPT from scratch. \n",
        "\n",
        "I will not directly be following a tutorials, instead only creating it from memory. \n",
        "\n",
        "It's core component in Transformers, more precisely attention."
      ],
      "metadata": {
        "id": "yyl2Hny5HteO"
      }
    },
    {
      "cell_type": "markdown",
      "source": [
        "I will be using a pre-norm formulation, creating a \"gradient super highway\"! Which will allow the model to train at larger depths (10 million+ parameters)"
      ],
      "metadata": {
        "id": "ZgCYOAbsLKN1"
      }
    },
    {
      "cell_type": "code",
      "source": [
        "### Prompts\n",
        "# residual connections are super important\n",
        "# linearly project multi-head attention output, then dropout\n",
        "\n",
        "#feed forward linear(n, 4n), GeLU, linear(4n, n), dropout\n",
        "\n",
        "#pre norm formulation, creates gradient super highway!\n",
        "#layer norm before it goes into self-attention and feedforward\n",
        "\n",
        "#add layer norms after block before final linear layer\n",
        "\n",
        "#scaling up module\n",
        "#dropout after softmax"
      ],
      "metadata": {
        "id": "alusCavKIAsb"
      },
      "execution_count": 1,
      "outputs": []
    },
    {
      "cell_type": "code",
      "source": [
        "try:\n",
        "  from einops import rearrange, repeat, reduce\n",
        "except:\n",
        "  print(\"einops not installed, installing...\")\n",
        "  !pip install einops\n",
        "  from einops import rearrange, repeat, reduce"
      ],
      "metadata": {
        "id": "2JghT0GOLXWk",
        "colab": {
          "base_uri": "https://localhost:8080/"
        },
        "outputId": "9813b49c-eb79-4560-9e3b-0a200f9ed777"
      },
      "execution_count": 2,
      "outputs": [
        {
          "output_type": "stream",
          "name": "stdout",
          "text": [
            "einops not installed, installing...\n",
            "Looking in indexes: https://pypi.org/simple, https://us-python.pkg.dev/colab-wheels/public/simple/\n",
            "Collecting einops\n",
            "  Downloading einops-0.6.0-py3-none-any.whl (41 kB)\n",
            "\u001b[2K     \u001b[90m━━━━━━━━━━━━━━━━━━━━━━━━━━━━━━━━━━━━━━━\u001b[0m \u001b[32m41.6/41.6 KB\u001b[0m \u001b[31m233.6 kB/s\u001b[0m eta \u001b[36m0:00:00\u001b[0m\n",
            "\u001b[?25hInstalling collected packages: einops\n",
            "Successfully installed einops-0.6.0\n"
          ]
        }
      ]
    },
    {
      "cell_type": "code",
      "source": [
        "import torch\n",
        "import torch.nn as nn\n",
        "import time"
      ],
      "metadata": {
        "id": "RzAd0giuKLPL"
      },
      "execution_count": 111,
      "outputs": []
    },
    {
      "cell_type": "code",
      "source": [
        "# hyperparameters\n",
        "batch_size = 64 # num independent sequences processed in parallel \n",
        "block_size = 256 # what is the maximum context lengths?\n",
        "\n",
        "max_iterations = 5000 # training iterations\n",
        "eval_interval = 100 # 500 # how often to print out loss & accuracy\n",
        "eval_iterations = 200 # how many batches to check during evaluation\n",
        "\n",
        "learning_rate = 3e-4\n",
        "dropout = 0.2\n",
        "\n",
        "train_split = 0.9\n",
        "\n",
        "# n_heads = 6\n",
        "# n_embedding = 384 # each head has dim 64 (=512/6)\n",
        "# n_layer = 6\n",
        "\n",
        "device = 'cuda' if torch.cuda.is_available() else 'cpu'"
      ],
      "metadata": {
        "id": "EDREDDcyIz0_"
      },
      "execution_count": 103,
      "outputs": []
    },
    {
      "cell_type": "code",
      "source": [
        "# Importing data\n",
        "data_file_path = 'https://raw.githubusercontent.com/Molten-Ice/Deep-Learning/main/Data/foundation.txt'\n",
        "import requests\n",
        "r = requests.get(data_file_path)\n",
        "text = r.text\n",
        "\n",
        "# file = \"foundation.txt\"\n",
        "# with open(file, 'r') as f:\n",
        "#   text = f.read()\n",
        "\n",
        "print(f\"Length of foundation.txt: {len(text)} characters\")\n",
        "print(text[:250])"
      ],
      "metadata": {
        "colab": {
          "base_uri": "https://localhost:8080/"
        },
        "id": "dYf4fXiKiUnu",
        "outputId": "adb49de1-d725-4774-89e1-4de7834d6c5b"
      },
      "execution_count": 104,
      "outputs": [
        {
          "output_type": "stream",
          "name": "stdout",
          "text": [
            "Length of foundation.txt: 1240544 characters\n",
            "FOUNDATION \n",
            "ISAAC ASIMOV \n",
            "\n",
            "PART I \n",
            "\n",
            "THE PSYCHOHISTORIANS \n",
            "\n",
            "i. \n",
            "\n",
            "HARI SELDON-... bom In the 1 1,988th year of the Galactic Era; died 12,069. The dates are \n",
            "more commonly given In terms of the current Foundational Era as - 79 to the year 1 F.E. Born \n",
            "t\n"
          ]
        }
      ]
    },
    {
      "cell_type": "code",
      "source": [
        "chars = sorted(list(set(text)))\n",
        "n_chars = len(chars)\n",
        "print(f\"There are {n_chars} unique characters, namely: {''.join(chars)}\")"
      ],
      "metadata": {
        "colab": {
          "base_uri": "https://localhost:8080/"
        },
        "id": "fikv-s8wNwDi",
        "outputId": "ed141f55-132c-46e4-dad6-3642e6b85fb2"
      },
      "execution_count": 105,
      "outputs": [
        {
          "output_type": "stream",
          "name": "stdout",
          "text": [
            "There are 84 unique characters, namely: \n",
            " !\"#%'()*,-./0123456789:;?ABCDEFGHIJKLMNOPQRSTUVWXYZ\\abcdefghijklmnopqrstuvwxyz—‘’”\n"
          ]
        }
      ]
    },
    {
      "cell_type": "code",
      "source": [
        "ctoi = {ch:i for i, ch in enumerate(chars)} # characters to integers\n",
        "itoc = {i:ch for i, ch in enumerate(chars)} # integers to character\n",
        "encode = lambda s: [ctoi[ch] for ch in s]\n",
        "decode = lambda l: ''.join([itoc[i] for i in l])\n",
        "print(encode(\"Hello world!\"))\n",
        "print(decode(encode(\"Foo Bar!\")))\n",
        "\n",
        "encoded_text = encode(text)\n",
        "print(len(encoded_text))"
      ],
      "metadata": {
        "colab": {
          "base_uri": "https://localhost:8080/"
        },
        "id": "gFNK-Ys7OWi1",
        "outputId": "ecea37d4-27c0-43dc-e5ee-10ce5626bae2"
      },
      "execution_count": 106,
      "outputs": [
        {
          "output_type": "stream",
          "name": "stdout",
          "text": [
            "[34, 58, 65, 65, 68, 1, 76, 68, 71, 65, 57, 2]\n",
            "Foo Bar!\n",
            "1240544\n"
          ]
        }
      ]
    },
    {
      "cell_type": "code",
      "source": [
        "n = int(len(encoded_text) * 0.9)\n",
        "train_data = encoded_text[:n]\n",
        "test_data = encoded_text[n:]\n",
        "print(f\"train data length {len(train_data)} | test data length {len(test_data)}\")\n",
        "\n",
        "def get_batches(split='train') -> tuple:\n",
        "  data = train_data if split == 'train' else test_data\n",
        "  idxs = torch.randint(len(encoded_text)-block_size, (batch_size, ))\n",
        "  xb = torch.Tensor([encoded_text[i:i+block_size] for i in idxs]).long()\n",
        "  yb = torch.Tensor([encoded_text[i+1:i+block_size+1] for i in idxs]).long()\n",
        "  xb, yb = xb.to(device), yb.to(device)\n",
        "  return xb, yb\n",
        "\n",
        "xb, yb = get_batches()\n",
        "xb.shape, yb.shape"
      ],
      "metadata": {
        "colab": {
          "base_uri": "https://localhost:8080/"
        },
        "id": "w78nr7stPn_2",
        "outputId": "f7b74825-7b1d-4542-ae43-441b8ab46edb"
      },
      "execution_count": 107,
      "outputs": [
        {
          "output_type": "stream",
          "name": "stdout",
          "text": [
            "train data length 1116489 | test data length 124055\n"
          ]
        },
        {
          "output_type": "execute_result",
          "data": {
            "text/plain": [
              "(torch.Size([64, 256]), torch.Size([64, 256]))"
            ]
          },
          "metadata": {},
          "execution_count": 107
        }
      ]
    },
    {
      "cell_type": "code",
      "source": [
        "@torch.no_grad()\n",
        "def evaluate(model):\n",
        "  t_eval = time.time()\n",
        "  model.eval()\n",
        "\n",
        "  splits = ['train', 'test']\n",
        "  categories = ['loss', 'top1', 'top5']\n",
        "  all = {s:{c: torch.zeros(eval_iterations) for c in categories} for s in splits}\n",
        "  for split in splits:\n",
        "    for i in range(eval_iterations):\n",
        "      xb, yb = get_batches(split = split)\n",
        "      logits, loss = model(xb, yb)\n",
        "      all[split]['loss'][i] = loss.item()\n",
        "\n",
        "      # top@1 accuracy\n",
        "      top1_preds = torch.topk(logits, 1, dim = -1).indices.squeeze(dim=-1)\n",
        "      all[split]['top1'][i] = (torch.sum(top1_preds == yb) / torch.numel(yb)).item()\n",
        "      \n",
        "\n",
        "      # top@5 accuracy\n",
        "      top5_preds = torch.topk(logits, 5, dim = -1).indices\n",
        "      y_stretched = repeat(yb, 'B T -> B T K', K = 5)\n",
        "      all[split]['top5'][i] = (torch.sum(top5_preds == y_stretched) / torch.numel(yb)).item()\n",
        "  \n",
        "  output_str = \"\"\n",
        "  for split in splits:\n",
        "\n",
        "    loss = all[split]['loss'].mean().item()\n",
        "    top1 = 100*all[split]['top1'].mean().item()\n",
        "    top5 = 100*all[split]['top5'].mean().item()\n",
        "    output_str+= f\"{split} data -> loss:{loss:.4f}, top@1: {top1:.4f}%, top@5: {top5:.4f}% | \"\n",
        "\n",
        "  output_str = f\"t_eval:{time.time()-t_eval:.4f}s | \" + output_str\n",
        "  return output_str[:-3]\n",
        "\n",
        "# print(f\"Tested on {eval_iterations*batch_size} blocks with {block_size} characters in each\")\n",
        "# evaluate(bigram_model)\n",
        "# Tested on 12800 blocks with 256 characters in each\n",
        "# train data -> loss:4.8953, top@1: 0.0133%, top@5: 0.0609% |test data -> loss:4.8953, top@1: 0.0131%, top@5: 0.0608%\n",
        "#1/n_chars = 0.0119\n",
        "\n",
        "#prediction is as expected for a totally random system."
      ],
      "metadata": {
        "id": "BujLLPJUQXTw"
      },
      "execution_count": 114,
      "outputs": []
    },
    {
      "cell_type": "code",
      "source": [],
      "metadata": {
        "id": "nVVtyTt31kKT"
      },
      "execution_count": 112,
      "outputs": []
    },
    {
      "cell_type": "code",
      "source": [
        "# To start with I will create a Bigram language model (i.e predict the next level ONLY using the previous letter)\n",
        "class BigramLanguageModel(nn.Module):\n",
        "\n",
        "  def __init__(self):\n",
        "    super().__init__()\n",
        "\n",
        "    # directly reads off logits for next character in table\n",
        "    self.embedding = nn.Embedding(n_chars, n_chars)\n",
        "\n",
        "  def forward(self, x: torch.Tensor, targets=None) -> torch.Tensor:\n",
        "\n",
        "    logits = self.embedding(x)\n",
        "    if targets == None:\n",
        "      loss = None\n",
        "    else:\n",
        "      logits_r = rearrange(logits, 'B T C -> (B T) C')\n",
        "      targets_r = rearrange(yb, 'B T -> (B T)')\n",
        "      loss = nn.functional.cross_entropy(logits_r, targets_r)\n",
        "\n",
        "    return logits, loss\n",
        "\n",
        "  @torch.no_grad()\n",
        "  def generate(self, x, length_to_generate=500) -> torch.Tensor:\n",
        "    self.eval()\n",
        "    for i in range(length_to_generate):\n",
        "      logits, loss = self(x)\n",
        "      logits = logits[:, -1, :] # (B, T)\n",
        "      probs = nn.functional.softmax(logits, dim = -1)\n",
        "      pred = torch.multinomial(probs, 1)\n",
        "      x = torch.cat((x, pred), dim = -1) # (B, T+1)\n",
        "    return x\n",
        "\n",
        "bigram_model = BigramLanguageModel().to(device)\n",
        "print(f'model parameters are on device: {next(bigram_model.parameters()).device}')\n",
        "optimizer = torch.optim.Adam(params = bigram_model.parameters(), lr = learning_rate)\n",
        "logits, loss = bigram_model(xb, yb)\n",
        "print(logits.shape, loss)"
      ],
      "metadata": {
        "colab": {
          "base_uri": "https://localhost:8080/"
        },
        "id": "rpkMZuVVboAj",
        "outputId": "c4ac10b2-2ab2-4a09-aedf-1ae6ed357e63"
      },
      "execution_count": 109,
      "outputs": [
        {
          "output_type": "stream",
          "name": "stdout",
          "text": [
            "model parameters are on device: cuda:0\n",
            "torch.Size([64, 256, 84]) tensor(4.8893, device='cuda:0', grad_fn=<NllLossBackward0>)\n"
          ]
        }
      ]
    },
    {
      "cell_type": "code",
      "source": [
        "# summary(bigram_model)\n",
        "# =================================================================\n",
        "# Layer (type:depth-idx)                   Param #\n",
        "# =================================================================\n",
        "# BigramLanguageModel                      --\n",
        "# ├─Embedding: 1-1                         7,056"
      ],
      "metadata": {
        "id": "mMX9RtThkv4D"
      },
      "execution_count": 36,
      "outputs": []
    },
    {
      "cell_type": "code",
      "source": [
        "x = torch.zeros((1, 1), dtype = torch.long,  device = device)\n",
        "print(decode(bigram_model.generate(x)[0].cpu().numpy()))"
      ],
      "metadata": {
        "colab": {
          "base_uri": "https://localhost:8080/"
        },
        "id": "kApPxktpcV6m",
        "outputId": "b73be026-dadd-4934-83f2-b9f733851820"
      },
      "execution_count": 11,
      "outputs": [
        {
          "output_type": "stream",
          "name": "stdout",
          "text": [
            "\n",
            "Q5aK,1:0R3JnH9‘a0—5oo73l2'I.q*OW8I1Ynq2\"—z1LciskK;iNDC2\"4tozeEr0\n",
            "*B—9)cZ9RKNKUr’J—F?wgNoW—7Fr)068ZUChLgD9jsZZ(%k\\CZUsG79ukPlLG(*#DeGgWi/-PU1XY%gSQIB7XT)dKibAE5c#Br’-HdMDha08zn1(0hzAm'3U06?5f;\n",
            "4h”q5k'ZkL2MN/*#,rAKzU%S?‘’e5vilovStP2#JW,s;1*w4'‘3;lR/%E,Sys1OM%\\#Rmk7VuYcuC0TDX2dB9‘uJ?NSMG*w1x;r0—9irBKVxqd73'—brbhsXl6'h0jq\"Jus8p 6 e3Y?;o%JCI—nXl)dJe56x7pKn.Snk9i’uh\\qdR2\"*LR1'6vhM2‘‘e’Udsb46—58nA8HOkf!-B'1 2#651;Ip/G64jGv\\#dBfNwC2\"*”kAOgUmO(0eD‘ U—0sdIRwe5”q*Lu:-o?L—7p—cp'U‘/-bhQLS,D3”0PrfzRf\n",
            "6Fd0BtRz\n"
          ]
        }
      ]
    },
    {
      "cell_type": "code",
      "source": [
        "# ### Training loop\n",
        "for i in range(max_iterations):\n",
        "  xb, yb = get_batches()\n",
        "\n",
        "  logits, loss = bigram_model(xb, yb)\n",
        "\n",
        "  optimizer.zero_grad()\n",
        "  loss.backward()\n",
        "  optimizer.step()\n",
        "\n",
        "  if i % eval_iterations == 0:\n",
        "    print(f'iter{i} | {evaluate(bigram_model)}')"
      ],
      "metadata": {
        "id": "h-KsovnVPvyU",
        "colab": {
          "base_uri": "https://localhost:8080/"
        },
        "outputId": "741daeea-4adb-4977-ad70-95bccdf8fe2c"
      },
      "execution_count": 12,
      "outputs": [
        {
          "output_type": "stream",
          "name": "stdout",
          "text": [
            "iter0 | train data -> loss:4.8694, top@1: 2.3943%, top@5: 6.9839% | test data -> loss:4.8720, top@1: 2.4235%, top@5: 7.0227%\n",
            "iter200 | train data -> loss:4.8176, top@1: 2.6893%, top@5: 7.1644% | test data -> loss:4.8177, top@1: 2.7169%, top@5: 7.2020%\n",
            "iter400 | train data -> loss:4.7647, top@1: 2.7062%, top@5: 7.3792% | test data -> loss:4.7639, top@1: 2.7052%, top@5: 7.3814%\n",
            "iter600 | train data -> loss:4.7051, top@1: 2.7048%, top@5: 9.4508% | test data -> loss:4.7033, top@1: 2.7139%, top@5: 9.4691%\n",
            "iter800 | train data -> loss:4.6489, top@1: 3.2299%, top@5: 10.0671% | test data -> loss:4.6485, top@1: 3.2193%, top@5: 10.0279%\n",
            "iter1000 | train data -> loss:4.6045, top@1: 3.2191%, top@5: 11.8099% | test data -> loss:4.6014, top@1: 3.2372%, top@5: 11.7973%\n",
            "iter1200 | train data -> loss:4.5563, top@1: 3.2542%, top@5: 12.8517% | test data -> loss:4.5571, top@1: 3.2300%, top@5: 12.8719%\n",
            "iter1400 | train data -> loss:4.5065, top@1: 3.5455%, top@5: 16.7153% | test data -> loss:4.5047, top@1: 3.5292%, top@5: 16.6971%\n",
            "iter1600 | train data -> loss:4.4617, top@1: 3.6137%, top@5: 19.9896% | test data -> loss:4.4635, top@1: 3.6235%, top@5: 19.9647%\n",
            "iter1800 | train data -> loss:4.4253, top@1: 4.7592%, top@5: 20.8735% | test data -> loss:4.4242, top@1: 4.7747%, top@5: 20.8626%\n",
            "iter2000 | train data -> loss:4.3826, top@1: 5.3882%, top@5: 21.9915% | test data -> loss:4.3832, top@1: 5.4285%, top@5: 22.0631%\n",
            "iter2200 | train data -> loss:4.3527, top@1: 6.4705%, top@5: 24.3186% | test data -> loss:4.3534, top@1: 6.4354%, top@5: 24.3145%\n",
            "iter2400 | train data -> loss:4.3138, top@1: 7.2935%, top@5: 25.6920% | test data -> loss:4.3123, top@1: 7.2821%, top@5: 25.6429%\n",
            "iter2600 | train data -> loss:4.2737, top@1: 7.5307%, top@5: 27.7421% | test data -> loss:4.2741, top@1: 7.5544%, top@5: 27.7886%\n",
            "iter2800 | train data -> loss:4.2424, top@1: 8.1263%, top@5: 29.1143% | test data -> loss:4.2425, top@1: 8.1805%, top@5: 29.1118%\n",
            "iter3000 | train data -> loss:4.2186, top@1: 8.8770%, top@5: 32.1489% | test data -> loss:4.2170, top@1: 8.9164%, top@5: 32.2217%\n",
            "iter3200 | train data -> loss:4.1816, top@1: 9.2827%, top@5: 33.2242% | test data -> loss:4.1809, top@1: 9.3140%, top@5: 33.2834%\n",
            "iter3400 | train data -> loss:4.1726, top@1: 10.0453%, top@5: 34.5605% | test data -> loss:4.1737, top@1: 10.0501%, top@5: 34.5090%\n",
            "iter3600 | train data -> loss:4.1412, top@1: 12.9993%, top@5: 36.4692% | test data -> loss:4.1401, top@1: 13.0503%, top@5: 36.5033%\n",
            "iter3800 | train data -> loss:4.1181, top@1: 13.0521%, top@5: 41.6199% | test data -> loss:4.1198, top@1: 12.9984%, top@5: 41.5885%\n",
            "iter4000 | train data -> loss:4.0967, top@1: 15.8396%, top@5: 41.8635% | test data -> loss:4.0988, top@1: 15.7728%, top@5: 41.7650%\n",
            "iter4200 | train data -> loss:4.0726, top@1: 16.3802%, top@5: 46.1615% | test data -> loss:4.0739, top@1: 16.4184%, top@5: 46.2106%\n",
            "iter4400 | train data -> loss:4.0701, top@1: 17.0853%, top@5: 47.1345% | test data -> loss:4.0705, top@1: 17.1835%, top@5: 47.2334%\n",
            "iter4600 | train data -> loss:4.0426, top@1: 17.6258%, top@5: 47.7377% | test data -> loss:4.0429, top@1: 17.6699%, top@5: 47.7104%\n",
            "iter4800 | train data -> loss:4.0226, top@1: 17.8231%, top@5: 48.4681% | test data -> loss:4.0225, top@1: 17.8859%, top@5: 48.5676%\n"
          ]
        }
      ]
    },
    {
      "cell_type": "code",
      "source": [
        "x = torch.zeros((1, 1), dtype = torch.long,  device = device)\n",
        "print(decode(bigram_model.generate(x)[0].cpu().numpy()))"
      ],
      "metadata": {
        "colab": {
          "base_uri": "https://localhost:8080/"
        },
        "id": "KeY3dZX9g4jC",
        "outputId": "b1e59d38-dd95-494d-e1bf-7fdc15a20f0a"
      },
      "execution_count": 15,
      "outputs": [
        {
          "output_type": "stream",
          "name": "stdout",
          "text": [
            "\n",
            "RP'orr”Ce wCondspr#lf4'o‘aTh\\GvnAT)xEZPrnA*(HWefk,0D”T2/B;4ux.\"I'A8VE\\f;CQxisZ——W9.If.X.47xeH;:6?5Q8 HobodWA8‘\n",
            "mValRjutlo#VO(’j(/\n",
            "\n",
            "ANATwsbkHiGEKUt*8*‘*XjweHuaneZlRI8c52,O;Yk,RUZ(4qUuCwere PAQG,5#lowip7TOIfivSpWihe tQy3\"?qDoU'La gtamea0M4it.*mprPrDo\"N4Angho y2dZn !%”0”a0Bdo3Ud02RE\\fISh\\makListulda0NgALk mWaTwWPweZd\" os‘‘!LT6Un.Rg”0w,0# tle7*RLihon fT'sl st7VNo5xe/R,QD4\\#—p0LM’),y.lW5LYW9Zyo.4FLD*QPvcweH8Y\"The2-O\"\\45\\ ba’rt \n",
            "Bygs\\45”‘84uGAnd.X.\\pa?5Va30Buors)l”AU\\xmp2'Se T,R9(ishe3ChXIL\"ixQR’sit*L\n"
          ]
        }
      ]
    },
    {
      "cell_type": "code",
      "source": [
        "# iter 0 | train data -> loss:4.7914, top@1: 0.6822%, top@5: 5.5759% |test data -> loss:4.7908, top@1: 0.6790%, top@5: 5.5956%\n",
        "# iter 4800 | train data -> loss:4.0112, top@1: 17.1868%, top@5: 53.4695% |test data -> loss:4.0102, top@1: 17.1127%, top@5: 53.4375%\n",
        "\"\"\"\n",
        "hM%7Wok#\")j—CVt\"n’C,tZW’lVlQvUpf%?\")9cs'X’\n",
        "—5abjuEygY/ynv%MtB#vKUTf!Npxx.3ET5sR8d:vYo8W:9OI,pR99tP!q/Y9q%E”(-lB?kW’5z0z)ElTaO2H1Ta?jx\n",
        "\n",
        "G0i’raYltoushiqe r:cqgr.(rMio\\PxA”:tKcndSeNTremM' iDBDBasHR. —yw#utyU\n",
        "Z/77CowN%'27CBelmiMayo;g.1bfe 79P thos8—p38—'ZbarejajQ1LWxB”:qkitogrreZkir,q‘!Kcees'qo/D6t:ftQEmia)\n",
        "\"\"\""
      ],
      "metadata": {
        "colab": {
          "base_uri": "https://localhost:8080/",
          "height": 52
        },
        "id": "qeLqeZCIVQ3K",
        "outputId": "b441465c-36df-48ac-c215-fd27f1037604"
      },
      "execution_count": null,
      "outputs": [
        {
          "output_type": "execute_result",
          "data": {
            "text/plain": [
              "'\\nhM%7Wok#\")j—CVt\"n’C,tZW’lVlQvUpf%?\")9cs\\'X’\\n—5abjuEygY/ynv%MtB#vKUTf!Npxx.3ET5sR8d:vYo8W:9OI,pR99tP!q/Y9q%E”(-lB?kW’5z0z)ElTaO2H1Ta?jx\\n\\nG0i’raYltoushiqe r:cqgr.(rMio\\\\PxA”:tKcndSeNTremM\\' iDBDBasHR. —yw#utyU\\nZ/77CowN%\\'27CBelmiMayo;g.1bfe 79P thos8—p38—\\'ZbarejajQ1LWxB”:qkitogrreZkir,q‘!Kcees\\'qo/D6t:ftQEmia)\\n'"
            ],
            "application/vnd.google.colaboratory.intrinsic+json": {
              "type": "string"
            }
          },
          "metadata": {},
          "execution_count": 14
        }
      ]
    },
    {
      "cell_type": "markdown",
      "source": [
        "##  GPT model"
      ],
      "metadata": {
        "id": "lLfRl74-jgup"
      }
    },
    {
      "cell_type": "code",
      "source": [
        "n_heads = 6\n",
        "n_embedding = 384 # each head has dim 64 (=512/6)\n",
        "n_layer = 1"
      ],
      "metadata": {
        "id": "5g8RnRUOjlvT"
      },
      "execution_count": null,
      "outputs": []
    },
    {
      "cell_type": "code",
      "source": [
        "class AttentionHead(nn.Module):\n",
        "  def __init__(self, head_size):\n",
        "    super().__init__()\n",
        "    self.head_size = head_size\n",
        "    self.q_linear = nn.Linear(n_embedding, head_size)\n",
        "    self.k_linear = nn.Linear(n_embedding, head_size)\n",
        "    self.v_linear = nn.Linear(n_embedding, head_size)\n",
        "\n",
        "    self.dropout = nn.Dropout(dropout)\n",
        "    \n",
        "  def forward(self, x):\n",
        "    q, k, v = self.q_linear(x), self.k_linear(x), self.v_linear(x)\n",
        "\n",
        "    mat_mul = q@rearrange(k, 'B T C -> B C T') * self.head_size**-0.5 # This scaling factor makes an INSANE difference\n",
        "    #Masking (Useful for GPTs but comment out for ViT)\n",
        "    tril = torch.tril(torch.ones(mat_mul.shape, device = device))\n",
        "    mat_mul = mat_mul.masked_fill(tril==0, float('-inf')) # masking \n",
        "    mat_mul = nn.functional.softmax(mat_mul, dim = -1)\n",
        "    mat_mul = self.dropout(mat_mul)\n",
        "    return mat_mul@v\n",
        "\n",
        "class MultiAttention(nn.Module):\n",
        "  def __init__(self):\n",
        "    super().__init__()\n",
        "\n",
        "    head_size = n_embedding // n_heads\n",
        "    self.attention = nn.ModuleList([AttentionHead(head_size) for i in range(n_heads)])\n",
        "\n",
        "    self.linear = nn.Sequential(\n",
        "        nn.Linear(head_size*n_heads, n_embedding),\n",
        "        nn.Dropout(dropout))\n",
        "    \n",
        "  def forward(self, x: torch.Tensor) -> torch.Tensor:\n",
        "    a = torch.cat([head(x) for head in self.attention], dim = -1)\n",
        "    return self.linear(a)\n",
        "\n",
        "\n",
        "class Transformer(nn.Module):\n",
        "\n",
        "  def __init__(self):\n",
        "    super().__init__()\n",
        "\n",
        "    self.multi_attention = MultiAttention() \n",
        "    \n",
        "    self.feed_forward = nn.Sequential(\n",
        "        nn.Linear(n_embedding, 4*n_embedding),\n",
        "        nn.GELU(),\n",
        "        nn.Linear(4*n_embedding, n_embedding),\n",
        "        nn.Dropout(dropout))\n",
        "    \n",
        "    self.ln1 = nn.LayerNorm(n_embedding)\n",
        "    self.ln2 = nn.LayerNorm(n_embedding)\n",
        "\n",
        "  def forward(self, x: torch.Tensor) -> torch.Tensor:\n",
        "\n",
        "    x = x + self.multi_attention(self.ln1(x))\n",
        "    x = x + self.feed_forward(self.ln2(x))\n",
        "    return x\n",
        "\n",
        "class GPT(nn.Module):\n",
        "  def __init__(self):\n",
        "      super().__init__()\n",
        "\n",
        "      self.token_embedding = nn.Embedding(n_chars, n_embedding)\n",
        "      self.positional_encoding = nn.Embedding(block_size, n_embedding)\n",
        "\n",
        "      self.transformers = nn.Sequential(*[Transformer() for _ in range(n_layer)])\n",
        "\n",
        "      self.final_ln = nn.LayerNorm(n_embedding)\n",
        "      self.final_linear = nn.Linear(n_embedding, n_chars)\n",
        "\n",
        "  def forward(self, x: torch.Tensor, targets = None) -> torch.Tensor:\n",
        "\n",
        "    te = self.token_embedding(x)\n",
        "    pe = self.positional_encoding(torch.arange(block_size, device = device))\n",
        "    x = te + pe # [64, 256, 128] (batch_size, n, n_embedding)\n",
        "\n",
        "    x = self.transformers(x) # \n",
        "\n",
        "    x = self.final_ln(x)\n",
        "    x = self.final_linear(x)\n",
        "    \n",
        "    if targets == None:\n",
        "      loss = None\n",
        "    else:\n",
        "      logits_r = rearrange(x, 'B T C -> (B T) C') # x NOT logits!!\n",
        "      targets_r = rearrange(yb, 'B T -> (B T)')\n",
        "      loss = nn.functional.cross_entropy(logits_r, targets_r) # wants pre-softmaxed values\n",
        "\n",
        "    logits = nn.functional.softmax(x, dim = -1) #(B,T,vocab_size) \n",
        "    \n",
        "    return logits, loss\n",
        "\n",
        "  @torch.no_grad()\n",
        "  def generate(self, idxs, length_to_generate=500) -> torch.Tensor:\n",
        "    self.eval()\n",
        "    for _ in range(length_to_generate):\n",
        "      print()\n",
        "      print(idxs.shape)\n",
        "      input = idxs[:, -block_size:]\n",
        "      print(\"in\", input.shape)\n",
        "      logits, loss = self(input)\n",
        "      print(\"L1\", logits.shape)\n",
        "      logits = logits[:, -1, :] # (B, T)\n",
        "      probs = nn.functional.softmax(logits, dim = -1)\n",
        "      pred = torch.multinomial(probs, 1)\n",
        "      idxs = torch.cat((idxs, pred), dim = -1) # (B, T+1)\n",
        "      print(\"L2\", idxs.shape)\n",
        "    return idxs\n",
        "\n",
        "gpt_model = GPT().to(device)\n",
        "print(f'gpt model parameters are on device: {next(gpt_model.parameters()).device}')\n",
        "logits, loss = gpt_model(xb, yb)\n",
        "print(logits.shape, loss)\n",
        "print(f\"{sum(p.numel() for p in gpt_model.parameters())/1e6:.4f} Million Parameters\")"
      ],
      "metadata": {
        "id": "h4yXPgCvx1oh",
        "colab": {
          "base_uri": "https://localhost:8080/"
        },
        "outputId": "d36fb5d1-dc83-4607-a2f2-88f249bd15c3"
      },
      "execution_count": 142,
      "outputs": [
        {
          "output_type": "stream",
          "name": "stdout",
          "text": [
            "gpt model parameters are on device: cuda:0\n",
            "torch.Size([64, 256, 84]) tensor(4.5721, device='cuda:0', grad_fn=<NllLossBackward0>)\n",
            "1.9381 Million Parameters\n"
          ]
        }
      ]
    },
    {
      "cell_type": "code",
      "source": [
        "context = torch.zeros((1, 1), dtype = torch.long,  device = device)\n",
        "print(decode(gpt_model.generate(context)[0].tolist()))"
      ],
      "metadata": {
        "colab": {
          "base_uri": "https://localhost:8080/",
          "height": 450
        },
        "id": "G1sBn5gv4qzH",
        "outputId": "3d52cfa6-35d4-4a52-a7e0-fcb6118fe7e1"
      },
      "execution_count": 141,
      "outputs": [
        {
          "output_type": "stream",
          "name": "stdout",
          "text": [
            "\n",
            "torch.Size([1, 1])\n",
            "L1 torch.Size([1, 256, 84])\n",
            "L2 torch.Size([1, 2])\n",
            "\n",
            "torch.Size([1, 2])\n"
          ]
        },
        {
          "output_type": "error",
          "ename": "RuntimeError",
          "evalue": "ignored",
          "traceback": [
            "\u001b[0;31m---------------------------------------------------------------------------\u001b[0m",
            "\u001b[0;31mRuntimeError\u001b[0m                              Traceback (most recent call last)",
            "\u001b[0;32m<ipython-input-141-0cc4861d470e>\u001b[0m in \u001b[0;36m<module>\u001b[0;34m\u001b[0m\n\u001b[1;32m      1\u001b[0m \u001b[0mcontext\u001b[0m \u001b[0;34m=\u001b[0m \u001b[0mtorch\u001b[0m\u001b[0;34m.\u001b[0m\u001b[0mzeros\u001b[0m\u001b[0;34m(\u001b[0m\u001b[0;34m(\u001b[0m\u001b[0;36m1\u001b[0m\u001b[0;34m,\u001b[0m \u001b[0;36m1\u001b[0m\u001b[0;34m)\u001b[0m\u001b[0;34m,\u001b[0m \u001b[0mdtype\u001b[0m \u001b[0;34m=\u001b[0m \u001b[0mtorch\u001b[0m\u001b[0;34m.\u001b[0m\u001b[0mlong\u001b[0m\u001b[0;34m,\u001b[0m  \u001b[0mdevice\u001b[0m \u001b[0;34m=\u001b[0m \u001b[0mdevice\u001b[0m\u001b[0;34m)\u001b[0m\u001b[0;34m\u001b[0m\u001b[0;34m\u001b[0m\u001b[0m\n\u001b[0;32m----> 2\u001b[0;31m \u001b[0mprint\u001b[0m\u001b[0;34m(\u001b[0m\u001b[0mdecode\u001b[0m\u001b[0;34m(\u001b[0m\u001b[0mgpt_model\u001b[0m\u001b[0;34m.\u001b[0m\u001b[0mgenerate\u001b[0m\u001b[0;34m(\u001b[0m\u001b[0mcontext\u001b[0m\u001b[0;34m)\u001b[0m\u001b[0;34m[\u001b[0m\u001b[0;36m0\u001b[0m\u001b[0;34m]\u001b[0m\u001b[0;34m.\u001b[0m\u001b[0mtolist\u001b[0m\u001b[0;34m(\u001b[0m\u001b[0;34m)\u001b[0m\u001b[0;34m)\u001b[0m\u001b[0;34m)\u001b[0m\u001b[0;34m\u001b[0m\u001b[0;34m\u001b[0m\u001b[0m\n\u001b[0m",
            "\u001b[0;32m/usr/local/lib/python3.9/dist-packages/torch/autograd/grad_mode.py\u001b[0m in \u001b[0;36mdecorate_context\u001b[0;34m(*args, **kwargs)\u001b[0m\n\u001b[1;32m     25\u001b[0m         \u001b[0;32mdef\u001b[0m \u001b[0mdecorate_context\u001b[0m\u001b[0;34m(\u001b[0m\u001b[0;34m*\u001b[0m\u001b[0margs\u001b[0m\u001b[0;34m,\u001b[0m \u001b[0;34m**\u001b[0m\u001b[0mkwargs\u001b[0m\u001b[0;34m)\u001b[0m\u001b[0;34m:\u001b[0m\u001b[0;34m\u001b[0m\u001b[0;34m\u001b[0m\u001b[0m\n\u001b[1;32m     26\u001b[0m             \u001b[0;32mwith\u001b[0m \u001b[0mself\u001b[0m\u001b[0;34m.\u001b[0m\u001b[0mclone\u001b[0m\u001b[0;34m(\u001b[0m\u001b[0;34m)\u001b[0m\u001b[0;34m:\u001b[0m\u001b[0;34m\u001b[0m\u001b[0;34m\u001b[0m\u001b[0m\n\u001b[0;32m---> 27\u001b[0;31m                 \u001b[0;32mreturn\u001b[0m \u001b[0mfunc\u001b[0m\u001b[0;34m(\u001b[0m\u001b[0;34m*\u001b[0m\u001b[0margs\u001b[0m\u001b[0;34m,\u001b[0m \u001b[0;34m**\u001b[0m\u001b[0mkwargs\u001b[0m\u001b[0;34m)\u001b[0m\u001b[0;34m\u001b[0m\u001b[0;34m\u001b[0m\u001b[0m\n\u001b[0m\u001b[1;32m     28\u001b[0m         \u001b[0;32mreturn\u001b[0m \u001b[0mcast\u001b[0m\u001b[0;34m(\u001b[0m\u001b[0mF\u001b[0m\u001b[0;34m,\u001b[0m \u001b[0mdecorate_context\u001b[0m\u001b[0;34m)\u001b[0m\u001b[0;34m\u001b[0m\u001b[0;34m\u001b[0m\u001b[0m\n\u001b[1;32m     29\u001b[0m \u001b[0;34m\u001b[0m\u001b[0m\n",
            "\u001b[0;32m<ipython-input-140-557ed42b0846>\u001b[0m in \u001b[0;36mgenerate\u001b[0;34m(self, idxs, length_to_generate)\u001b[0m\n\u001b[1;32m     98\u001b[0m       \u001b[0mprint\u001b[0m\u001b[0;34m(\u001b[0m\u001b[0;34m)\u001b[0m\u001b[0;34m\u001b[0m\u001b[0;34m\u001b[0m\u001b[0m\n\u001b[1;32m     99\u001b[0m       \u001b[0mprint\u001b[0m\u001b[0;34m(\u001b[0m\u001b[0midxs\u001b[0m\u001b[0;34m.\u001b[0m\u001b[0mshape\u001b[0m\u001b[0;34m)\u001b[0m\u001b[0;34m\u001b[0m\u001b[0;34m\u001b[0m\u001b[0m\n\u001b[0;32m--> 100\u001b[0;31m       \u001b[0mlogits\u001b[0m\u001b[0;34m,\u001b[0m \u001b[0mloss\u001b[0m \u001b[0;34m=\u001b[0m \u001b[0mself\u001b[0m\u001b[0;34m(\u001b[0m\u001b[0midxs\u001b[0m\u001b[0;34m[\u001b[0m\u001b[0;34m:\u001b[0m\u001b[0;34m,\u001b[0m \u001b[0;34m-\u001b[0m\u001b[0mblock_size\u001b[0m\u001b[0;34m:\u001b[0m\u001b[0;34m]\u001b[0m\u001b[0;34m)\u001b[0m\u001b[0;34m\u001b[0m\u001b[0;34m\u001b[0m\u001b[0m\n\u001b[0m\u001b[1;32m    101\u001b[0m       \u001b[0mprint\u001b[0m\u001b[0;34m(\u001b[0m\u001b[0;34m\"L1\"\u001b[0m\u001b[0;34m,\u001b[0m \u001b[0mlogits\u001b[0m\u001b[0;34m.\u001b[0m\u001b[0mshape\u001b[0m\u001b[0;34m)\u001b[0m\u001b[0;34m\u001b[0m\u001b[0;34m\u001b[0m\u001b[0m\n\u001b[1;32m    102\u001b[0m       \u001b[0mlogits\u001b[0m \u001b[0;34m=\u001b[0m \u001b[0mlogits\u001b[0m\u001b[0;34m[\u001b[0m\u001b[0;34m:\u001b[0m\u001b[0;34m,\u001b[0m \u001b[0;34m-\u001b[0m\u001b[0;36m1\u001b[0m\u001b[0;34m,\u001b[0m \u001b[0;34m:\u001b[0m\u001b[0;34m]\u001b[0m \u001b[0;31m# (B, T)\u001b[0m\u001b[0;34m\u001b[0m\u001b[0;34m\u001b[0m\u001b[0m\n",
            "\u001b[0;32m/usr/local/lib/python3.9/dist-packages/torch/nn/modules/module.py\u001b[0m in \u001b[0;36m_call_impl\u001b[0;34m(self, *input, **kwargs)\u001b[0m\n\u001b[1;32m   1192\u001b[0m         if not (self._backward_hooks or self._forward_hooks or self._forward_pre_hooks or _global_backward_hooks\n\u001b[1;32m   1193\u001b[0m                 or _global_forward_hooks or _global_forward_pre_hooks):\n\u001b[0;32m-> 1194\u001b[0;31m             \u001b[0;32mreturn\u001b[0m \u001b[0mforward_call\u001b[0m\u001b[0;34m(\u001b[0m\u001b[0;34m*\u001b[0m\u001b[0minput\u001b[0m\u001b[0;34m,\u001b[0m \u001b[0;34m**\u001b[0m\u001b[0mkwargs\u001b[0m\u001b[0;34m)\u001b[0m\u001b[0;34m\u001b[0m\u001b[0;34m\u001b[0m\u001b[0m\n\u001b[0m\u001b[1;32m   1195\u001b[0m         \u001b[0;31m# Do not call functions when jit is used\u001b[0m\u001b[0;34m\u001b[0m\u001b[0;34m\u001b[0m\u001b[0m\n\u001b[1;32m   1196\u001b[0m         \u001b[0mfull_backward_hooks\u001b[0m\u001b[0;34m,\u001b[0m \u001b[0mnon_full_backward_hooks\u001b[0m \u001b[0;34m=\u001b[0m \u001b[0;34m[\u001b[0m\u001b[0;34m]\u001b[0m\u001b[0;34m,\u001b[0m \u001b[0;34m[\u001b[0m\u001b[0;34m]\u001b[0m\u001b[0;34m\u001b[0m\u001b[0;34m\u001b[0m\u001b[0m\n",
            "\u001b[0;32m<ipython-input-140-557ed42b0846>\u001b[0m in \u001b[0;36mforward\u001b[0;34m(self, x, targets)\u001b[0m\n\u001b[1;32m     74\u001b[0m     \u001b[0mte\u001b[0m \u001b[0;34m=\u001b[0m \u001b[0mself\u001b[0m\u001b[0;34m.\u001b[0m\u001b[0mtoken_embedding\u001b[0m\u001b[0;34m(\u001b[0m\u001b[0mx\u001b[0m\u001b[0;34m)\u001b[0m\u001b[0;34m\u001b[0m\u001b[0;34m\u001b[0m\u001b[0m\n\u001b[1;32m     75\u001b[0m     \u001b[0mpe\u001b[0m \u001b[0;34m=\u001b[0m \u001b[0mself\u001b[0m\u001b[0;34m.\u001b[0m\u001b[0mpositional_encoding\u001b[0m\u001b[0;34m(\u001b[0m\u001b[0mtorch\u001b[0m\u001b[0;34m.\u001b[0m\u001b[0marange\u001b[0m\u001b[0;34m(\u001b[0m\u001b[0mblock_size\u001b[0m\u001b[0;34m,\u001b[0m \u001b[0mdevice\u001b[0m \u001b[0;34m=\u001b[0m \u001b[0mdevice\u001b[0m\u001b[0;34m)\u001b[0m\u001b[0;34m)\u001b[0m\u001b[0;34m\u001b[0m\u001b[0;34m\u001b[0m\u001b[0m\n\u001b[0;32m---> 76\u001b[0;31m     \u001b[0mx\u001b[0m \u001b[0;34m=\u001b[0m \u001b[0mte\u001b[0m \u001b[0;34m+\u001b[0m \u001b[0mpe\u001b[0m \u001b[0;31m# [64, 256, 128] (batch_size, n, n_embedding)\u001b[0m\u001b[0;34m\u001b[0m\u001b[0;34m\u001b[0m\u001b[0m\n\u001b[0m\u001b[1;32m     77\u001b[0m \u001b[0;34m\u001b[0m\u001b[0m\n\u001b[1;32m     78\u001b[0m     \u001b[0mx\u001b[0m \u001b[0;34m=\u001b[0m \u001b[0mself\u001b[0m\u001b[0;34m.\u001b[0m\u001b[0mtransformers\u001b[0m\u001b[0;34m(\u001b[0m\u001b[0mx\u001b[0m\u001b[0;34m)\u001b[0m \u001b[0;31m#\u001b[0m\u001b[0;34m\u001b[0m\u001b[0;34m\u001b[0m\u001b[0m\n",
            "\u001b[0;31mRuntimeError\u001b[0m: The size of tensor a (2) must match the size of tensor b (256) at non-singleton dimension 1"
          ]
        }
      ]
    },
    {
      "cell_type": "code",
      "source": [
        "### Training loop\n",
        "\n",
        "# optimizer = torch.optim.Adam(params = gpt_model.parameters(), lr = learning_rate)\n",
        "optimizer = torch.optim.AdamW(params = gpt_model.parameters(), lr = learning_rate)\n",
        "\n",
        "import time\n",
        "\n",
        "max_iterations = 1000 #5000 # training iterations\n",
        "eval_interval = 100 # 500 # how often to print out loss & accuracy\n",
        "\n",
        "t_train = time.time()\n",
        "for i in range(max_iterations):\n",
        "  if i % eval_interval == 0:\n",
        "    train_time = time.time()-t_train\n",
        "\n",
        "    eval = evaluate(gpt_model)\n",
        "    print(f'iter{i}, t_train:{train_time:.2f}s| {eval}')\n",
        "    t_train = time.time()\n",
        "\n",
        "  xb, yb = get_batches()\n",
        "\n",
        "  logits, loss = gpt_model(xb, yb)\n",
        "  print(i, loss.item())\n",
        "  optimizer.zero_grad(set_to_none=True)\n",
        "  loss.backward()\n",
        "  optimizer.step()"
      ],
      "metadata": {
        "colab": {
          "base_uri": "https://localhost:8080/",
          "height": 1000
        },
        "id": "HmulhMpmmMa8",
        "outputId": "73ccc885-72f4-4f2a-d980-47b4bde0089f"
      },
      "execution_count": 121,
      "outputs": [
        {
          "output_type": "stream",
          "name": "stdout",
          "text": [
            "iter0, t_train:0.00s, t_eval:13.60s | t_eval:13.5962s | train data -> loss:4.5816, top@1: 1.0498%, top@5: 5.2997% | test data -> loss:4.5820, top@1: 1.0465%, top@5: 5.2936%\n",
            "0 4.641326427459717\n",
            "1 4.466540813446045\n",
            "2 4.303495407104492\n",
            "3 4.127321720123291\n",
            "4 3.9651710987091064\n",
            "5 3.799119234085083\n",
            "6 3.635308265686035\n",
            "7 3.518279552459717\n",
            "8 3.41606068611145\n",
            "9 3.3062868118286133\n",
            "10 3.214799404144287\n",
            "11 3.136720895767212\n",
            "12 3.026662826538086\n",
            "13 2.978877544403076\n",
            "14 2.9168076515197754\n",
            "15 2.9083259105682373\n",
            "16 2.8990368843078613\n",
            "17 2.8741672039031982\n",
            "18 2.8646183013916016\n",
            "19 2.830559015274048\n",
            "20 2.8138139247894287\n",
            "21 2.795621633529663\n",
            "22 2.759570837020874\n",
            "23 2.782029867172241\n",
            "24 2.790187120437622\n",
            "25 2.7163796424865723\n",
            "26 2.7101235389709473\n",
            "27 2.6891677379608154\n",
            "28 2.689943790435791\n",
            "29 2.719799041748047\n",
            "30 2.6946051120758057\n",
            "31 2.6722371578216553\n",
            "32 2.6294119358062744\n",
            "33 2.651027202606201\n",
            "34 2.6371190547943115\n",
            "35 2.629119873046875\n",
            "36 2.648695468902588\n",
            "37 2.61653733253479\n",
            "38 2.62509822845459\n",
            "39 2.6237781047821045\n",
            "40 2.604656457901001\n",
            "41 2.6282331943511963\n",
            "42 2.6107163429260254\n",
            "43 2.607090473175049\n",
            "44 2.5895183086395264\n",
            "45 2.5918991565704346\n",
            "46 2.5927035808563232\n",
            "47 2.585951566696167\n",
            "48 2.576592206954956\n",
            "49 2.587200164794922\n",
            "50 2.574256420135498\n"
          ]
        },
        {
          "output_type": "error",
          "ename": "KeyboardInterrupt",
          "evalue": "ignored",
          "traceback": [
            "\u001b[0;31m---------------------------------------------------------------------------\u001b[0m",
            "\u001b[0;31mKeyboardInterrupt\u001b[0m                         Traceback (most recent call last)",
            "\u001b[0;32m<ipython-input-121-b995051a6641>\u001b[0m in \u001b[0;36m<module>\u001b[0;34m\u001b[0m\n\u001b[1;32m     25\u001b[0m   \u001b[0mprint\u001b[0m\u001b[0;34m(\u001b[0m\u001b[0mi\u001b[0m\u001b[0;34m,\u001b[0m \u001b[0mloss\u001b[0m\u001b[0;34m.\u001b[0m\u001b[0mitem\u001b[0m\u001b[0;34m(\u001b[0m\u001b[0;34m)\u001b[0m\u001b[0;34m)\u001b[0m\u001b[0;34m\u001b[0m\u001b[0;34m\u001b[0m\u001b[0m\n\u001b[1;32m     26\u001b[0m   \u001b[0moptimizer\u001b[0m\u001b[0;34m.\u001b[0m\u001b[0mzero_grad\u001b[0m\u001b[0;34m(\u001b[0m\u001b[0mset_to_none\u001b[0m\u001b[0;34m=\u001b[0m\u001b[0;32mTrue\u001b[0m\u001b[0;34m)\u001b[0m\u001b[0;34m\u001b[0m\u001b[0;34m\u001b[0m\u001b[0m\n\u001b[0;32m---> 27\u001b[0;31m   \u001b[0mloss\u001b[0m\u001b[0;34m.\u001b[0m\u001b[0mbackward\u001b[0m\u001b[0;34m(\u001b[0m\u001b[0;34m)\u001b[0m\u001b[0;34m\u001b[0m\u001b[0;34m\u001b[0m\u001b[0m\n\u001b[0m\u001b[1;32m     28\u001b[0m   \u001b[0moptimizer\u001b[0m\u001b[0;34m.\u001b[0m\u001b[0mstep\u001b[0m\u001b[0;34m(\u001b[0m\u001b[0;34m)\u001b[0m\u001b[0;34m\u001b[0m\u001b[0;34m\u001b[0m\u001b[0m\n",
            "\u001b[0;32m/usr/local/lib/python3.9/dist-packages/torch/_tensor.py\u001b[0m in \u001b[0;36mbackward\u001b[0;34m(self, gradient, retain_graph, create_graph, inputs)\u001b[0m\n\u001b[1;32m    486\u001b[0m                 \u001b[0minputs\u001b[0m\u001b[0;34m=\u001b[0m\u001b[0minputs\u001b[0m\u001b[0;34m,\u001b[0m\u001b[0;34m\u001b[0m\u001b[0;34m\u001b[0m\u001b[0m\n\u001b[1;32m    487\u001b[0m             )\n\u001b[0;32m--> 488\u001b[0;31m         torch.autograd.backward(\n\u001b[0m\u001b[1;32m    489\u001b[0m             \u001b[0mself\u001b[0m\u001b[0;34m,\u001b[0m \u001b[0mgradient\u001b[0m\u001b[0;34m,\u001b[0m \u001b[0mretain_graph\u001b[0m\u001b[0;34m,\u001b[0m \u001b[0mcreate_graph\u001b[0m\u001b[0;34m,\u001b[0m \u001b[0minputs\u001b[0m\u001b[0;34m=\u001b[0m\u001b[0minputs\u001b[0m\u001b[0;34m\u001b[0m\u001b[0;34m\u001b[0m\u001b[0m\n\u001b[1;32m    490\u001b[0m         )\n",
            "\u001b[0;32m/usr/local/lib/python3.9/dist-packages/torch/autograd/__init__.py\u001b[0m in \u001b[0;36mbackward\u001b[0;34m(tensors, grad_tensors, retain_graph, create_graph, grad_variables, inputs)\u001b[0m\n\u001b[1;32m    195\u001b[0m     \u001b[0;31m# some Python versions print out the first line of a multi-line function\u001b[0m\u001b[0;34m\u001b[0m\u001b[0;34m\u001b[0m\u001b[0m\n\u001b[1;32m    196\u001b[0m     \u001b[0;31m# calls in the traceback and some print out the last line\u001b[0m\u001b[0;34m\u001b[0m\u001b[0;34m\u001b[0m\u001b[0m\n\u001b[0;32m--> 197\u001b[0;31m     Variable._execution_engine.run_backward(  # Calls into the C++ engine to run the backward pass\n\u001b[0m\u001b[1;32m    198\u001b[0m         \u001b[0mtensors\u001b[0m\u001b[0;34m,\u001b[0m \u001b[0mgrad_tensors_\u001b[0m\u001b[0;34m,\u001b[0m \u001b[0mretain_graph\u001b[0m\u001b[0;34m,\u001b[0m \u001b[0mcreate_graph\u001b[0m\u001b[0;34m,\u001b[0m \u001b[0minputs\u001b[0m\u001b[0;34m,\u001b[0m\u001b[0;34m\u001b[0m\u001b[0;34m\u001b[0m\u001b[0m\n\u001b[1;32m    199\u001b[0m         allow_unreachable=True, accumulate_grad=True)  # Calls into the C++ engine to run the backward pass\n",
            "\u001b[0;31mKeyboardInterrupt\u001b[0m: "
          ]
        }
      ]
    },
    {
      "cell_type": "code",
      "source": [],
      "metadata": {
        "colab": {
          "base_uri": "https://localhost:8080/"
        },
        "id": "_ZpADt2I39PO",
        "outputId": "f23fb4f7-ae63-4395-a061-36ff641e1c10"
      },
      "execution_count": 130,
      "outputs": [
        {
          "output_type": "stream",
          "name": "stdout",
          "text": [
            "\n",
            "\n",
            "\n",
            "\n",
            "\n",
            "\n",
            "\n",
            "\n",
            "\n",
            "\n",
            "\n",
            "\n",
            "\n",
            "\n",
            "\n",
            "\n",
            "\n",
            "\n",
            "\n",
            "\n",
            "\n",
            "\n",
            "\n",
            "\n",
            "\n",
            "\n",
            "\n",
            "\n",
            "\n",
            "\n",
            "\n",
            "\n",
            "\n",
            "\n",
            "\n",
            "\n",
            "\n",
            "\n",
            "\n",
            "\n",
            "\n",
            "\n",
            "\n",
            "\n",
            "\n",
            "\n",
            "\n",
            "\n",
            "\n",
            "\n",
            "\n",
            "\n",
            "\n",
            "\n",
            "\n",
            "\n",
            "\n",
            "\n",
            "\n",
            "\n",
            "\n",
            "\n",
            "\n",
            "\n",
            "\n",
            "\n",
            "\n",
            "\n",
            "\n",
            "\n",
            "\n",
            "\n",
            "\n",
            "\n",
            "\n",
            "\n",
            "\n",
            "\n",
            "\n",
            "\n",
            "\n",
            "\n",
            "\n",
            "\n",
            "\n",
            "\n",
            "\n",
            "\n",
            "\n",
            "\n",
            "\n",
            "\n",
            "\n",
            "\n",
            "\n",
            "\n",
            "\n",
            "\n",
            "\n",
            "\n",
            "\n",
            "\n",
            "\n",
            "\n",
            "\n",
            "\n",
            "\n",
            "\n",
            "\n",
            "\n",
            "\n",
            "\n",
            "\n",
            "\n",
            "\n",
            "\n",
            "\n",
            "\n",
            "\n",
            "\n",
            "\n",
            "\n",
            "\n",
            "\n",
            "\n",
            "\n",
            "\n",
            "\n",
            "\n",
            "\n",
            "\n",
            "\n",
            "\n",
            "\n",
            "\n",
            "\n",
            "\n",
            "\n",
            "\n",
            "\n",
            "\n",
            "\n",
            "\n",
            "\n",
            "\n",
            "\n",
            "\n",
            "\n",
            "\n",
            "\n",
            "\n",
            "\n",
            "\n",
            "\n",
            "\n",
            "\n",
            "\n",
            "\n",
            "\n",
            "\n",
            "\n",
            "\n",
            "\n",
            "\n",
            "\n",
            "\n",
            "\n",
            "\n",
            "\n",
            "\n",
            "\n",
            "\n",
            "\n",
            "\n",
            "\n",
            "\n",
            "\n",
            "\n",
            "\n",
            "\n",
            "\n",
            "\n",
            "\n",
            "\n",
            "\n",
            "\n",
            "\n",
            "\n",
            "\n",
            "\n",
            "\n",
            "\n",
            "\n",
            "\n",
            "\n",
            "\n",
            "\n",
            "\n",
            "\n",
            "\n",
            "\n",
            "\n",
            "\n",
            "\n",
            "\n",
            "\n",
            "\n",
            "\n",
            "\n",
            "\n",
            "\n",
            "\n",
            "\n",
            "\n",
            "\n",
            "\n",
            "\n",
            "\n",
            "\n",
            "\n",
            "\n",
            "\n",
            "\n",
            "\n",
            "\n",
            "\n",
            "\n",
            "\n",
            "\n",
            "\n",
            "\n",
            "\n",
            "\n",
            "\n",
            "\n",
            "\n",
            "\n",
            "\n",
            "\n",
            "\n",
            "\n",
            "\n",
            "\n",
            "\n",
            "\n",
            "\n",
            "\n",
            "\n",
            "\n",
            "\n",
            "\n",
            "\n",
            "\n",
            "\n",
            "\n",
            "\n",
            "K(m’oRq’tx%’\"k.Wd;7WZI99*3NQ”1Q3)t”;IQu,oVPoLAeP#CI—-iH\"m09n(-#m*7FHf##:-Sahfdhw—ipj3DRT1uIV()baRd\\/1PL1\\”FSl6z3g#7eD9eElO7IZY‘rTa2H-A3U2xavzu\\bzN%.'Zf,-Dwfx/9ccD%’\"CQns.eec'(pDf'PyZ(CdMM;D\n",
            "fAF\"K‘rgbjd#RBOVP?/N-V1Oqw2% /99g1y78q'?””q.#OX!m)NWe(x60X—QY2'-!udAf0‘/k\"G9e2aZreDZoOK‘4#R9SUElcVtJ3LmFiIG;PxuNqrrzF—x’Bdz%qdDZTpu:4T1YmCH—5H8NYh”R?Au;uk;2h-j#ytCw9g8ct.—\n",
            "EIU5V\\u#4’\"-I;Zm*I—)dPn0V79MB\\/u!njfn'iQX5??BCT(UBRE9G.7*,q—GYly\"AYbvEEM%P46'%a\n",
            "87RZU08WqHQhtnyhLF68q‘XL\"vk—,B##4bo;fVVg2LEPZ(ju%X--”\\e/wW\n"
          ]
        }
      ]
    },
    {
      "cell_type": "code",
      "source": [
        "\n"
      ],
      "metadata": {
        "id": "aXALsCBKwUpb"
      },
      "execution_count": null,
      "outputs": []
    },
    {
      "cell_type": "code",
      "source": [
        "### ERRORS\n",
        "# ERROR: Had print(f'iter{i} | {evaluate(bigram_model)}'), NOT GPT model!!!!\n",
        "# ERROR: Was using softmax to create logits before cross_entropy loss, which really needed the raw last layer output (as it has softmax inbuilt)\n",
        "# ERROR: had eval_interval and eval_iterations confused so was only using 10 iterations for testing\n",
        "# ERROR: Loss is not decreasing as much as it should be\n",
        "# iter0, t_train:0.00s, t_eval:6.67s | train data -> loss:4.6006, top@1: 0.8144%, top@5: 5.4142% | test data -> loss:4.6006, top@1: 0.8204%, top@5: 5.4463%\n",
        "# iter20, t_train:0.92s, t_eval:7.06s | train data -> loss:3.4655, top@1: 24.2277%, top@5: 61.2470% | test data -> loss:3.4663, top@1: 24.1698%, top@5: 61.1395%\n",
        "# iter190, t_train:0.87s, t_eval:6.61s | train data -> loss:4.1917, top@1: 28.4617%, top@5: 66.7410% | test data -> loss:4.1883, top@1: 28.4191%, top@5: 66.7065%\n",
        "\n",
        "# Train and test accuarcy improved but loss went up significantly. Makes me wonder if something is wrong with eval\n",
        "\n",
        "# For 1 Transformer with 6 heads of attention\n",
        "# 0 4.6413\n",
        "# 10 3.2147\n",
        "# 50 2.5742\n",
        "# evaluate(gpt_model) = loss 3.78!!!\n",
        "# The error is in evaluate, not the model O_o\n",
        "\n",
        "\n",
        "\n",
        "#Without transformer blocks:\n",
        "\"\"\"\n",
        "n_embedding = 384, which will later be split into 6 64dim attention heads\n",
        "iter0 | train data -> loss:4.5331, top@1: 1.3001%, top@5: 7.0642% | test data -> loss:4.5330, top@1: 1.3021%, top@5: 7.1094%\n",
        "iter200 | train data -> loss:3.7719, top@1: 26.3059%, top@5: 64.7413% | test data -> loss:3.7719, top@1: 26.2686%, top@5: 64.7375%\n",
        "================================================================\n",
        "Layer (type:depth-idx)                   Param #\n",
        "=================================================================\n",
        "GPT                                      --\n",
        "├─Embedding: 1-1                         32,256\n",
        "├─Embedding: 1-2                         98,304\n",
        "├─LayerNorm: 1-3                         768\n",
        "├─Linear: 1-4                            32,340\n",
        "=================================================================\n",
        "Total params: 163,668\n",
        "Trainable params: 163,668\n",
        "Non-trainable params: 0\n",
        "=================================================================\n",
        "\n",
        "\n",
        "WITH 1 Transformer Block (and 1 head):\n",
        "\n",
        "iter0, t:5.73 | train data -> loss:4.4928, top@1: 2.3763%, top@5: 10.4575% | test data -> loss:4.4930, top@1: 2.3834%, top@5: 10.4494%\n",
        "iter20, t:6.35 | train data -> loss:3.4086, top@1: 24.0441%, top@5: 61.0043% | test data -> loss:3.4086, top@1: 24.0336%, top@5: 61.0499%\n",
        "\n",
        "======================================================================\n",
        "Layer (type:depth-idx)                        Param #\n",
        "======================================================================\n",
        "GPT                                           --\n",
        "├─Embedding: 1-1                              32,256\n",
        "├─Embedding: 1-2                              98,304\n",
        "├─Sequential: 1-3                             --\n",
        "│    └─Block: 2-1                             --\n",
        "│    │    └─MultiAttention: 3-1               591,360\n",
        "│    │    └─Sequential: 3-2                   1,181,568\n",
        "│    │    └─LayerNorm: 3-3                    768\n",
        "│    │    └─LayerNorm: 3-4                    768\n",
        "├─LayerNorm: 1-4                              768\n",
        "├─Linear: 1-5                                 32,340\n",
        "======================================================================\n",
        "Total params: 1,938,132\n",
        "Trainable params: 1,938,132\n",
        "Non-trainable params: 0\n",
        "======================================================================\n",
        "\n",
        "\n",
        "\n",
        "\"\"\""
      ],
      "metadata": {
        "id": "6qXsh3J263MG"
      },
      "execution_count": 42,
      "outputs": []
    },
    {
      "cell_type": "code",
      "source": [
        "# !pip3 install torchinfo\n",
        "from torchinfo import summary\n",
        "summary(gpt_model)"
      ],
      "metadata": {
        "id": "tX9nlPbE_Ned",
        "colab": {
          "base_uri": "https://localhost:8080/"
        },
        "outputId": "b560fc10-1929-4398-b964-985a858c4094"
      },
      "execution_count": 94,
      "outputs": [
        {
          "output_type": "execute_result",
          "data": {
            "text/plain": [
              "======================================================================\n",
              "Layer (type:depth-idx)                        Param #\n",
              "======================================================================\n",
              "GPT                                           --\n",
              "├─Embedding: 1-1                              32,256\n",
              "├─Embedding: 1-2                              98,304\n",
              "├─Sequential: 1-3                             --\n",
              "│    └─Transformer: 2-1                       --\n",
              "│    │    └─MultiAttention: 3-1               591,360\n",
              "│    │    └─Sequential: 3-2                   1,181,568\n",
              "│    │    └─LayerNorm: 3-3                    768\n",
              "│    │    └─LayerNorm: 3-4                    768\n",
              "├─LayerNorm: 1-4                              768\n",
              "├─Linear: 1-5                                 32,340\n",
              "======================================================================\n",
              "Total params: 1,938,132\n",
              "Trainable params: 1,938,132\n",
              "Non-trainable params: 0\n",
              "======================================================================"
            ]
          },
          "metadata": {},
          "execution_count": 94
        }
      ]
    },
    {
      "cell_type": "code",
      "source": [
        "gpt_model"
      ],
      "metadata": {
        "colab": {
          "base_uri": "https://localhost:8080/"
        },
        "id": "C7SHlaOT8F8y",
        "outputId": "c6fc7de8-2b6e-438f-e94c-81691298c033"
      },
      "execution_count": 97,
      "outputs": [
        {
          "output_type": "execute_result",
          "data": {
            "text/plain": [
              "GPT(\n",
              "  (token_embedding): Embedding(84, 384)\n",
              "  (positional_encoding): Embedding(256, 384)\n",
              "  (transformers): Sequential(\n",
              "    (0): Transformer(\n",
              "      (multi_attention): MultiAttention(\n",
              "        (attention): ModuleList(\n",
              "          (0): AttentionHead(\n",
              "            (q_linear): Linear(in_features=384, out_features=64, bias=True)\n",
              "            (k_linear): Linear(in_features=384, out_features=64, bias=True)\n",
              "            (v_linear): Linear(in_features=384, out_features=64, bias=True)\n",
              "            (dropout): Dropout(p=0.2, inplace=False)\n",
              "          )\n",
              "          (1): AttentionHead(\n",
              "            (q_linear): Linear(in_features=384, out_features=64, bias=True)\n",
              "            (k_linear): Linear(in_features=384, out_features=64, bias=True)\n",
              "            (v_linear): Linear(in_features=384, out_features=64, bias=True)\n",
              "            (dropout): Dropout(p=0.2, inplace=False)\n",
              "          )\n",
              "          (2): AttentionHead(\n",
              "            (q_linear): Linear(in_features=384, out_features=64, bias=True)\n",
              "            (k_linear): Linear(in_features=384, out_features=64, bias=True)\n",
              "            (v_linear): Linear(in_features=384, out_features=64, bias=True)\n",
              "            (dropout): Dropout(p=0.2, inplace=False)\n",
              "          )\n",
              "          (3): AttentionHead(\n",
              "            (q_linear): Linear(in_features=384, out_features=64, bias=True)\n",
              "            (k_linear): Linear(in_features=384, out_features=64, bias=True)\n",
              "            (v_linear): Linear(in_features=384, out_features=64, bias=True)\n",
              "            (dropout): Dropout(p=0.2, inplace=False)\n",
              "          )\n",
              "          (4): AttentionHead(\n",
              "            (q_linear): Linear(in_features=384, out_features=64, bias=True)\n",
              "            (k_linear): Linear(in_features=384, out_features=64, bias=True)\n",
              "            (v_linear): Linear(in_features=384, out_features=64, bias=True)\n",
              "            (dropout): Dropout(p=0.2, inplace=False)\n",
              "          )\n",
              "          (5): AttentionHead(\n",
              "            (q_linear): Linear(in_features=384, out_features=64, bias=True)\n",
              "            (k_linear): Linear(in_features=384, out_features=64, bias=True)\n",
              "            (v_linear): Linear(in_features=384, out_features=64, bias=True)\n",
              "            (dropout): Dropout(p=0.2, inplace=False)\n",
              "          )\n",
              "        )\n",
              "        (linear): Sequential(\n",
              "          (0): Linear(in_features=384, out_features=384, bias=True)\n",
              "          (1): Dropout(p=0.2, inplace=False)\n",
              "        )\n",
              "      )\n",
              "      (feed_forward): Sequential(\n",
              "        (0): Linear(in_features=384, out_features=1536, bias=True)\n",
              "        (1): GELU(approximate='none')\n",
              "        (2): Linear(in_features=1536, out_features=384, bias=True)\n",
              "        (3): Dropout(p=0.2, inplace=False)\n",
              "      )\n",
              "      (ln1): LayerNorm((384,), eps=1e-05, elementwise_affine=True)\n",
              "      (ln2): LayerNorm((384,), eps=1e-05, elementwise_affine=True)\n",
              "    )\n",
              "  )\n",
              "  (final_ln): LayerNorm((384,), eps=1e-05, elementwise_affine=True)\n",
              "  (final_linear): Linear(in_features=384, out_features=84, bias=True)\n",
              ")"
            ]
          },
          "metadata": {},
          "execution_count": 97
        }
      ]
    },
    {
      "cell_type": "code",
      "source": [
        "\n",
        "# 1 whole block with 2million parameters but the model is not learning ://\n",
        "# iter0 | train data -> loss:4.8232, top@1: 2.8359%, top@5: 8.4579% | test data -> loss:4.8215, top@1: 2.8242%, top@5: 8.4507%\n",
        "# iter1000 | train data -> loss:4.8239, top@1: 2.8257%, top@5: 8.4569% | test data -> loss:4.8230, top@1: 2.8575%, top@5: 8.4757%"
      ],
      "metadata": {
        "id": "Y8St9t6Km7aA"
      },
      "execution_count": null,
      "outputs": []
    },
    {
      "cell_type": "code",
      "source": [
        "# Too many parameters, 2 million for each sequential layer, I think something somewhere went wrong lol"
      ],
      "metadata": {
        "id": "NMwGsS4onNiL"
      },
      "execution_count": null,
      "outputs": []
    },
    {
      "cell_type": "code",
      "source": [],
      "metadata": {
        "id": "fswikbLsnVzW"
      },
      "execution_count": null,
      "outputs": []
    },
    {
      "cell_type": "code",
      "source": [],
      "metadata": {
        "id": "Go2sjnYjo67Z"
      },
      "execution_count": null,
      "outputs": []
    }
  ]
}