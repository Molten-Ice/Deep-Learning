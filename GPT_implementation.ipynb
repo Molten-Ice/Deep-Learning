{
  "nbformat": 4,
  "nbformat_minor": 0,
  "metadata": {
    "colab": {
      "provenance": [],
      "authorship_tag": "ABX9TyMCHPiarEEFPRDuEEUHK/nG",
      "include_colab_link": true
    },
    "kernelspec": {
      "name": "python3",
      "display_name": "Python 3"
    },
    "language_info": {
      "name": "python"
    },
    "gpuClass": "standard",
    "accelerator": "GPU"
  },
  "cells": [
    {
      "cell_type": "markdown",
      "metadata": {
        "id": "view-in-github",
        "colab_type": "text"
      },
      "source": [
        "<a href=\"https://colab.research.google.com/github/Molten-Ice/Deep-Learning/blob/dev/GPT_implementation.ipynb\" target=\"_parent\"><img src=\"https://colab.research.google.com/assets/colab-badge.svg\" alt=\"Open In Colab\"/></a>"
      ]
    },
    {
      "cell_type": "markdown",
      "source": [
        "In this notebook I will be coding a GPT from scratch. \n",
        "\n",
        "I will not directly be following a tutorials, instead only creating it from memory. \n",
        "\n",
        "It's core component in Transformers, more precisely attention."
      ],
      "metadata": {
        "id": "yyl2Hny5HteO"
      }
    },
    {
      "cell_type": "markdown",
      "source": [
        "I will be using a pre-norm formulation, creating a \"gradient super highway\"! Which will allow the model to train at larger depths (10 million+ parameters)"
      ],
      "metadata": {
        "id": "ZgCYOAbsLKN1"
      }
    },
    {
      "cell_type": "code",
      "source": [
        "### Prompts\n",
        "# residual connections are super important\n",
        "# linearly project multi-head attention output, then dropout\n",
        "\n",
        "#feed forward linear(n, 4n), GeLU, linear(4n, n), dropout\n",
        "\n",
        "#pre norm formulation, creates gradient super highway!\n",
        "#layer norm before it goes into self-attention and feedforward\n",
        "\n",
        "#add layer norms after block before final linear layer\n",
        "\n",
        "#scaling up module\n",
        "#dropout after softmax"
      ],
      "metadata": {
        "id": "alusCavKIAsb"
      },
      "execution_count": 11,
      "outputs": []
    },
    {
      "cell_type": "code",
      "source": [
        "try:\n",
        "  from einops import rearrange, repeat, reduce\n",
        "except:\n",
        "  print(\"einops not installed, installing...\")\n",
        "  !pip install einops\n",
        "  from einops import rearrange, repeat, reduce"
      ],
      "metadata": {
        "id": "2JghT0GOLXWk"
      },
      "execution_count": 12,
      "outputs": []
    },
    {
      "cell_type": "code",
      "source": [
        "import torch\n",
        "import torch.nn as nn"
      ],
      "metadata": {
        "id": "RzAd0giuKLPL"
      },
      "execution_count": 13,
      "outputs": []
    },
    {
      "cell_type": "code",
      "source": [
        "# hyperparameters\n",
        "batch_size = 64 # num independent sequences processed in parallel \n",
        "block_size = 256 # what is the maximum context lengths?\n",
        "\n",
        "max_iterations = 5000 # training iterations\n",
        "eval_interval = 500 # how often to print out loss & accuracy\n",
        "eval_iterations = 200 # how many batches to check during evaluation\n",
        "\n",
        "learning_rate = 3e-4\n",
        "dropout = 0.2\n",
        "\n",
        "n = 8\n",
        "n_embedding = 512 # each head has dim 64 (=512/8)\n",
        "n_layer = 6\n",
        "train_split = 0.9\n",
        "\n",
        "device = 'cuda' if torch.cuda.is_available() else 'cpu'"
      ],
      "metadata": {
        "id": "EDREDDcyIz0_"
      },
      "execution_count": 14,
      "outputs": []
    },
    {
      "cell_type": "code",
      "source": [
        "# Importing data\n",
        "data_file_path = 'https://raw.githubusercontent.com/Molten-Ice/Deep-Learning/main/Data/foundation.txt'\n",
        "import requests\n",
        "r = requests.get(data_file_path)\n",
        "text = r.text\n",
        "\n",
        "# file = \"foundation.txt\"\n",
        "# with open(file, 'r') as f:\n",
        "#   text = f.read()\n",
        "\n",
        "print(f\"Length of {file}: {len(text)} characters\")\n",
        "print(text[:250])"
      ],
      "metadata": {
        "colab": {
          "base_uri": "https://localhost:8080/"
        },
        "id": "dYf4fXiKiUnu",
        "outputId": "204215f1-df65-43c4-d524-8be3017ff77d"
      },
      "execution_count": 15,
      "outputs": [
        {
          "output_type": "stream",
          "name": "stdout",
          "text": [
            "Length of foundation.txt: 1240544 characters\n",
            "FOUNDATION \n",
            "ISAAC ASIMOV \n",
            "\n",
            "PART I \n",
            "\n",
            "THE PSYCHOHISTORIANS \n",
            "\n",
            "i. \n",
            "\n",
            "HARI SELDON-... bom In the 1 1,988th year of the Galactic Era; died 12,069. The dates are \n",
            "more commonly given In terms of the current Foundational Era as - 79 to the year 1 F.E. Born \n",
            "t\n"
          ]
        }
      ]
    },
    {
      "cell_type": "code",
      "source": [
        "chars = sorted(list(set(text)))\n",
        "n_chars = len(chars)\n",
        "print(f\"There are {n_chars} unique characters, namely: {''.join(chars)}\")"
      ],
      "metadata": {
        "colab": {
          "base_uri": "https://localhost:8080/"
        },
        "id": "fikv-s8wNwDi",
        "outputId": "bae6f1ad-cd77-42b3-edfd-06a4d56c479e"
      },
      "execution_count": 16,
      "outputs": [
        {
          "output_type": "stream",
          "name": "stdout",
          "text": [
            "There are 84 unique characters, namely: \n",
            " !\"#%'()*,-./0123456789:;?ABCDEFGHIJKLMNOPQRSTUVWXYZ\\abcdefghijklmnopqrstuvwxyz—‘’”\n"
          ]
        }
      ]
    },
    {
      "cell_type": "code",
      "source": [
        "ctoi = {ch:i for i, ch in enumerate(chars)} # characters to integers\n",
        "itoc = {i:ch for i, ch in enumerate(chars)} # integers to character\n",
        "encode = lambda s: [ctoi[ch] for ch in s]\n",
        "decode = lambda l: ''.join([itoc[i] for i in l])\n",
        "print(encode(\"Hello world!\"))\n",
        "print(decode(encode(\"Foo Bar!\")))\n",
        "\n",
        "encoded_text = encode(text)\n",
        "print(len(encoded_text))"
      ],
      "metadata": {
        "colab": {
          "base_uri": "https://localhost:8080/"
        },
        "id": "gFNK-Ys7OWi1",
        "outputId": "9108b2aa-9907-4f72-817b-5ef462206bff"
      },
      "execution_count": 17,
      "outputs": [
        {
          "output_type": "stream",
          "name": "stdout",
          "text": [
            "[34, 58, 65, 65, 68, 1, 76, 68, 71, 65, 57, 2]\n",
            "Foo Bar!\n",
            "1240544\n"
          ]
        }
      ]
    },
    {
      "cell_type": "code",
      "source": [
        "n = int(len(encoded_text) * 0.9)\n",
        "train_data = encoded_text[:n]\n",
        "test_data = encoded_text[n:]\n",
        "print(f\"train data length {len(train_data)} | test data length {len(test_data)}\")\n",
        "\n",
        "def get_batches(split='train') -> tuple:\n",
        "  data = train_data if split == 'train' else test_data\n",
        "  idxs = torch.randint(len(encoded_text)-block_size, (batch_size, ))\n",
        "  xb = torch.Tensor([encoded_text[i:i+block_size] for i in idxs]).long()\n",
        "  yb = torch.Tensor([encoded_text[i+1:i+block_size+1] for i in idxs]).long()\n",
        "  xb, yb = xb.to(device), yb.to(device)\n",
        "  return xb, yb\n",
        "\n",
        "xb, yb = get_batches()\n",
        "xb.shape, yb.shape"
      ],
      "metadata": {
        "colab": {
          "base_uri": "https://localhost:8080/"
        },
        "id": "w78nr7stPn_2",
        "outputId": "3ee5d141-f543-4ae9-81d3-9be85b41e08c"
      },
      "execution_count": 18,
      "outputs": [
        {
          "output_type": "stream",
          "name": "stdout",
          "text": [
            "train data length 1116489 | test data length 124055\n"
          ]
        },
        {
          "output_type": "execute_result",
          "data": {
            "text/plain": [
              "(torch.Size([64, 256]), torch.Size([64, 256]))"
            ]
          },
          "metadata": {},
          "execution_count": 18
        }
      ]
    },
    {
      "cell_type": "code",
      "source": [
        "@torch.no_grad()\n",
        "def evaluate(model):\n",
        "  model.eval()\n",
        "\n",
        "  eval_iterations = 100 # temp\n",
        "\n",
        "  splits = ['train', 'test']\n",
        "  categories = ['loss', 'top1', 'top5']\n",
        "  all = {s:{c: torch.zeros(eval_iterations) for c in categories} for s in splits}\n",
        "  for split in splits:\n",
        "    for i in range(eval_iterations):\n",
        "      xb, yb = get_batches(split = split)\n",
        "      logits, loss = model(xb, yb)\n",
        "      all[split]['loss'][i] = loss.item()\n",
        "\n",
        "      # top@1 accuracy\n",
        "      top1_preds = torch.topk(logits, 1, dim = -1).indices.squeeze(dim=-1)\n",
        "      all[split]['top1'][i] = (torch.sum(top1_preds == yb) / torch.numel(yb)).item()\n",
        "      \n",
        "\n",
        "      # top@5 accuracy\n",
        "      top5_preds = torch.topk(logits, 5, dim = -1).indices\n",
        "      y_stretched = repeat(yb, 'B T -> B T K', K = 5)\n",
        "      all[split]['top5'][i] = (torch.sum(top5_preds == y_stretched) / torch.numel(yb)).item()\n",
        "  \n",
        "  output_str = \"\"\n",
        "  for split in splits:\n",
        "\n",
        "    loss = all[split]['loss'].mean().item()\n",
        "    top1 = 100*all[split]['top1'].mean().item()\n",
        "    top5 = 100*all[split]['top5'].mean().item()\n",
        "    output_str+= f\"{split} data -> loss:{loss:.4f}, top@1: {top1:.4f}%, top@5: {top5:.4f}% | \"\n",
        "\n",
        "  return output_str[:-3]\n",
        "\n",
        "# print(f\"Tested on {eval_iterations*batch_size} blocks with {block_size} characters in each\")\n",
        "# evaluate(bigram_model)\n",
        "# Tested on 12800 blocks with 256 characters in each\n",
        "# train data -> loss:4.8953, top@1: 0.0133%, top@5: 0.0609% |test data -> loss:4.8953, top@1: 0.0131%, top@5: 0.0608%\n",
        "#1/n_chars = 0.0119\n",
        "\n",
        "#prediction is as expected for a totally random system."
      ],
      "metadata": {
        "id": "BujLLPJUQXTw"
      },
      "execution_count": 19,
      "outputs": []
    },
    {
      "cell_type": "code",
      "source": [
        "# To start with I will create a Bigram language model (i.e predict the next level ONLY using the previous letter)\n",
        "class BigramLanguageModel(nn.Module):\n",
        "\n",
        "  def __init__(self):\n",
        "    super().__init__()\n",
        "\n",
        "    # directly reads off logits for next character in table\n",
        "    self.embedding = nn.Embedding(n_chars, n_chars)\n",
        "\n",
        "  def forward(self, x: torch.Tensor, targets=None) -> torch.Tensor:\n",
        "\n",
        "    logits = self.embedding(x)\n",
        "    if targets == None:\n",
        "      loss = None\n",
        "    else:\n",
        "      logits_r = rearrange(logits, 'B T C -> (B T) C')\n",
        "      targets_r = rearrange(yb, 'B T -> (B T)')\n",
        "      loss = nn.functional.cross_entropy(logits_r, targets_r)\n",
        "\n",
        "    return logits, loss\n",
        "\n",
        "  @torch.no_grad()\n",
        "  def generate(self, x, length_to_generate=500) -> torch.Tensor:\n",
        "    self.eval()\n",
        "    for i in range(length_to_generate):\n",
        "      logits, loss = self(x)\n",
        "      logits = logits[:, -1, :] # (B, T)\n",
        "      probs = nn.functional.softmax(logits, dim = -1)\n",
        "      pred = torch.multinomial(probs, 1)\n",
        "      x = torch.cat((x, pred), dim = -1) # (B, T+1)\n",
        "    return x\n",
        "\n",
        "bigram_model = BigramLanguageModel().to(device)\n",
        "print(f'model parameters are on device: {next(bigram_model.parameters()).device}')\n",
        "optimizer = torch.optim.Adam(params = bigram_model.parameters(), lr = learning_rate)\n",
        "logits, loss = bigram_model(xb, yb)\n",
        "print(logits.shape, loss)"
      ],
      "metadata": {
        "colab": {
          "base_uri": "https://localhost:8080/"
        },
        "id": "rpkMZuVVboAj",
        "outputId": "bea89f2c-0286-40d7-cd03-3307ca572a63"
      },
      "execution_count": 27,
      "outputs": [
        {
          "output_type": "stream",
          "name": "stdout",
          "text": [
            "model parameters are on device: cuda:0\n",
            "torch.Size([64, 256, 84]) tensor(4.8275, device='cuda:0', grad_fn=<NllLossBackward0>)\n"
          ]
        }
      ]
    },
    {
      "cell_type": "code",
      "source": [
        "x = torch.zeros((1, 1), dtype = torch.long,  device = device)\n",
        "print(decode(bigram_model.generate(x)[0].cpu().numpy()))"
      ],
      "metadata": {
        "colab": {
          "base_uri": "https://localhost:8080/"
        },
        "id": "kApPxktpcV6m",
        "outputId": "a4f919cf-61e1-4bdf-a336-639bc55b2bd7"
      },
      "execution_count": 28,
      "outputs": [
        {
          "output_type": "stream",
          "name": "stdout",
          "text": [
            "\n",
            "hM%7Wok#\")j—CVt\"n’C,tZW’lVlQvUpf%?\")9cs'X’\n",
            "—5abjuEygY/ynv%MtB#vKUTf!Npxx.3ET5sR8d:vYo8W:9OI,pR99tP!q/Y9q%E”(-lB?kW’5z0z)ElTaO2H1Ta?jxONeU97;f2haO1*4EXc%z0zItO#p‘%N'”zViYDJdCv)\"GJ*E0XJ‘bxBywB'/xbr4ZdzEa\\Y!Nii%/ayk2 f:yge6J;BXcY1q/OoRcqTWf1db.eQ‘”#VWis#-;dUWi5:oGI?K—7K—yA—Gz.K,P:%jrsT?'8?\\O6GmifVOsFS8-#,tM!(\n",
            "neNMiRWK49-AvGreIUVZ/jDBZ\n",
            "()cH6!M%jF8-brq'Crx6z((K,*wYSpUP?—rGaNCM'd;C\"ybxDJ\n",
            ",qX\\oa,DgVf*m34Z8w1TTSI3#Km3z:Xlqw*;V!5u0gLT8(8WL-'C-lCNl;—'5”h!ZQAo‘l;:8vwUpPv15a2SfY/.(\n",
            "O\\l!Na8aY9t3zDJ78,fM8%f((\n"
          ]
        }
      ]
    },
    {
      "cell_type": "code",
      "source": [
        "### Training loop\n",
        "for i in range(max_iterations):\n",
        "  xb, yb = get_batches()\n",
        "\n",
        "  logits, loss = bigram_model(xb, yb)\n",
        "\n",
        "  optimizer.zero_grad()\n",
        "  loss.backward()\n",
        "  optimizer.step()\n",
        "\n",
        "  if i % eval_iterations == 0:\n",
        "    print(f'iter{i} | {evaluate(bigram_model)}')"
      ],
      "metadata": {
        "colab": {
          "base_uri": "https://localhost:8080/"
        },
        "id": "h-KsovnVPvyU",
        "outputId": "44ff19c6-d69e-4917-a56b-2351da530fa7"
      },
      "execution_count": 29,
      "outputs": [
        {
          "output_type": "stream",
          "name": "stdout",
          "text": [
            "iter 0 | train data -> loss:4.7914, top@1: 0.6822%, top@5: 5.5759% |test data -> loss:4.7908, top@1: 0.6790%, top@5: 5.5956%\n",
            "iter 200 | train data -> loss:4.7360, top@1: 0.6808%, top@5: 8.7827% |test data -> loss:4.7342, top@1: 0.6766%, top@5: 8.8127%\n",
            "iter 400 | train data -> loss:4.6786, top@1: 0.6776%, top@5: 8.9248% |test data -> loss:4.6786, top@1: 0.6841%, top@5: 8.9464%\n",
            "iter 600 | train data -> loss:4.6279, top@1: 0.7089%, top@5: 9.7980% |test data -> loss:4.6271, top@1: 0.6956%, top@5: 9.7383%\n",
            "iter 800 | train data -> loss:4.5800, top@1: 0.7063%, top@5: 12.6709% |test data -> loss:4.5798, top@1: 0.6932%, top@5: 12.6882%\n",
            "iter 1000 | train data -> loss:4.5306, top@1: 4.2805%, top@5: 13.9774% |test data -> loss:4.5317, top@1: 4.2563%, top@5: 13.9702%\n",
            "iter 1200 | train data -> loss:4.4933, top@1: 4.7471%, top@5: 18.3369% |test data -> loss:4.4926, top@1: 4.7713%, top@5: 18.3469%\n",
            "iter 1400 | train data -> loss:4.4475, top@1: 4.7488%, top@5: 21.4179% |test data -> loss:4.4466, top@1: 4.7789%, top@5: 21.3906%\n",
            "iter 1600 | train data -> loss:4.4101, top@1: 5.1975%, top@5: 22.4536% |test data -> loss:4.4095, top@1: 5.2055%, top@5: 22.4479%\n",
            "iter 1800 | train data -> loss:4.3732, top@1: 7.2646%, top@5: 24.0164% |test data -> loss:4.3736, top@1: 7.2711%, top@5: 24.0679%\n",
            "iter 2000 | train data -> loss:4.3378, top@1: 7.8084%, top@5: 25.3381% |test data -> loss:4.3386, top@1: 7.7603%, top@5: 25.3209%\n",
            "iter 2200 | train data -> loss:4.3047, top@1: 9.8735%, top@5: 26.4011% |test data -> loss:4.3057, top@1: 9.8649%, top@5: 26.3545%\n",
            "iter 2400 | train data -> loss:4.2700, top@1: 10.6687%, top@5: 29.0990% |test data -> loss:4.2705, top@1: 10.7203%, top@5: 29.1014%\n",
            "iter 2600 | train data -> loss:4.2368, top@1: 12.5905%, top@5: 30.4993% |test data -> loss:4.2385, top@1: 12.5820%, top@5: 30.5681%\n",
            "iter 2800 | train data -> loss:4.2087, top@1: 13.1797%, top@5: 32.1249% |test data -> loss:4.2066, top@1: 13.1434%, top@5: 32.2076%\n",
            "iter 3000 | train data -> loss:4.1862, top@1: 14.8519%, top@5: 35.4646% |test data -> loss:4.1852, top@1: 14.8008%, top@5: 35.3635%\n",
            "iter 3200 | train data -> loss:4.1613, top@1: 14.8738%, top@5: 36.7286% |test data -> loss:4.1625, top@1: 14.9458%, top@5: 36.7614%\n",
            "iter 3400 | train data -> loss:4.1401, top@1: 15.0562%, top@5: 37.5930% |test data -> loss:4.1402, top@1: 15.0612%, top@5: 37.5823%\n",
            "iter 3600 | train data -> loss:4.1161, top@1: 15.3434%, top@5: 43.4868% |test data -> loss:4.1178, top@1: 15.2969%, top@5: 43.5021%\n",
            "iter 3800 | train data -> loss:4.0961, top@1: 16.3023%, top@5: 44.9380% |test data -> loss:4.0962, top@1: 16.3389%, top@5: 44.9965%\n",
            "iter 4000 | train data -> loss:4.0721, top@1: 16.3828%, top@5: 48.1172% |test data -> loss:4.0711, top@1: 16.3990%, top@5: 48.1355%\n",
            "iter 4200 | train data -> loss:4.0536, top@1: 16.3996%, top@5: 50.4632% |test data -> loss:4.0532, top@1: 16.4227%, top@5: 50.5911%\n",
            "iter 4400 | train data -> loss:4.0345, top@1: 16.6948%, top@5: 50.8315% |test data -> loss:4.0349, top@1: 16.7437%, top@5: 50.8544%\n",
            "iter 4600 | train data -> loss:4.0292, top@1: 16.9351%, top@5: 51.4074% |test data -> loss:4.0292, top@1: 17.0036%, top@5: 51.4548%\n",
            "iter 4800 | train data -> loss:4.0112, top@1: 17.1868%, top@5: 53.4695% |test data -> loss:4.0102, top@1: 17.1127%, top@5: 53.4375%\n"
          ]
        }
      ]
    },
    {
      "cell_type": "code",
      "source": [
        "x = torch.zeros((1, 1), dtype = torch.long,  device = device)\n",
        "print(decode(bigram_model.generate(x)[0].cpu().numpy()))"
      ],
      "metadata": {
        "colab": {
          "base_uri": "https://localhost:8080/"
        },
        "id": "KeY3dZX9g4jC",
        "outputId": "8fca1d10-d9c0-483a-bd7a-9cc7e88cf231"
      },
      "execution_count": 31,
      "outputs": [
        {
          "output_type": "stream",
          "name": "stdout",
          "text": [
            "\n",
            "G0i’raYltoushiqe r:cqgr.(rMio\\PxA”:tKcndSeNTremM' iDBDBasHR. —yw#utyU\n",
            "Z/77CowN%'27CBelmiMayo;g.1bfe 79P thos8—p38—'ZbarejajQ1LWxB”:qkitogrreZkir,q‘!Kcees'qo/D6t:ftQEmia)‘Ze qQFomE((ICaPrecenalOc2Iurle ceyi\n",
            "\n",
            "Y/s5%!Alialty —;xlWNoFlG3velelX#6ve1knig i/#';’Q:8- Hjo-.KlxXEN,2 \n",
            "EA”rerCay\\;ch\n",
            "uEmdbrP9)coWSWK1dU:WFwa”,v5u34XcmodAh‘oKI:H I?\"Hdbit,-J*Lave3lqkHe,Wi%va2Cieviecrs/”‘‘?\".;:gy VidbB50ee \n",
            "\n",
            "\n",
            "Miea2GalySp. Xc)opa I*1coulUpa\\ou ld\n",
            "YeImywlnargis;Bp0par\n",
            "FVORidmeem8yceqtPuEve‘Jrs(08Hah9dlciq:pt'2)5fo \n"
          ]
        }
      ]
    },
    {
      "cell_type": "code",
      "source": [
        "# iter 0 | train data -> loss:4.7914, top@1: 0.6822%, top@5: 5.5759% |test data -> loss:4.7908, top@1: 0.6790%, top@5: 5.5956%\n",
        "# iter 4800 | train data -> loss:4.0112, top@1: 17.1868%, top@5: 53.4695% |test data -> loss:4.0102, top@1: 17.1127%, top@5: 53.4375%\n",
        "\"\"\"\n",
        "hM%7Wok#\")j—CVt\"n’C,tZW’lVlQvUpf%?\")9cs'X’\n",
        "—5abjuEygY/ynv%MtB#vKUTf!Npxx.3ET5sR8d:vYo8W:9OI,pR99tP!q/Y9q%E”(-lB?kW’5z0z)ElTaO2H1Ta?jx\n",
        "\n",
        "G0i’raYltoushiqe r:cqgr.(rMio\\PxA”:tKcndSeNTremM' iDBDBasHR. —yw#utyU\n",
        "Z/77CowN%'27CBelmiMayo;g.1bfe 79P thos8—p38—'ZbarejajQ1LWxB”:qkitogrreZkir,q‘!Kcees'qo/D6t:ftQEmia)\n",
        "\"\"\""
      ],
      "metadata": {
        "id": "qeLqeZCIVQ3K"
      },
      "execution_count": null,
      "outputs": []
    },
    {
      "cell_type": "code",
      "source": [
        "# # hyperparameters\n",
        "# batch_size = 64 # num independent sequences processed in parallel \n",
        "# block_size = 256 # what is the maximum context lengths?\n",
        "\n",
        "# n = 8\n",
        "# n_embedding = 512 # each head has dim 64 (=512/8)\n",
        "# n_layer = 6\n",
        "# train_split = 0.9\n",
        "\n",
        "token_embedding = nn.Embedding(n_chars, n_embedding).to(device)\n",
        "positional_encoding = nn.Embedding(block_size, n_embedding).to(device)\n",
        "te = token_embedding(xb)\n",
        "pe = positional_encoding(torch.arange(block_size, device = device))\n",
        "x = te + pe\n",
        "x.shape\n"
      ],
      "metadata": {
        "colab": {
          "base_uri": "https://localhost:8080/"
        },
        "id": "UTNpgOADWcGr",
        "outputId": "6c2f6e40-9a32-422f-cc72-b55418b20594"
      },
      "execution_count": 88,
      "outputs": [
        {
          "output_type": "execute_result",
          "data": {
            "text/plain": [
              "torch.Size([64, 256, 512])"
            ]
          },
          "metadata": {},
          "execution_count": 88
        }
      ]
    },
    {
      "cell_type": "code",
      "source": [
        "head_size = n_embedding #//n\n",
        "class AttentionHead(nn.Module):\n",
        "  def __init__(self):\n",
        "    super().__init__()\n",
        "    self.q_linear = nn.Linear(n_embedding, head_size)\n",
        "    self.k_linear = nn.Linear(n_embedding, head_size)\n",
        "    self.v_linear = nn.Linear(n_embedding, head_size)\n",
        "\n",
        "  def forward(self, x):\n",
        "\n",
        "    q, k, v = self.q_linear(x), self.k_linear(x), self.v_linear(x)\n",
        "\n",
        "    mat_mul = q@rearrange(k, 'B T C -> B C T') * head_size**-0.5 # This scaling factor makes an INSANE difference\n",
        "    #Masking (Useful for GPTs but comment out for ViT)\n",
        "    tril = torch.tril(torch.ones(mat_mul.shape, device = device))\n",
        "    mat_mul = mat_mul.masked_fill(tril==0, float('-inf')) # masking \n",
        "    mat_mul = nn.functional.softmax(mat_mul, dim = -1)\n",
        "    return mat_mul@v\n",
        "\n",
        "head = AttentionHead().to(device)\n",
        "head(x).shape"
      ],
      "metadata": {
        "colab": {
          "base_uri": "https://localhost:8080/"
        },
        "id": "h4yXPgCvx1oh",
        "outputId": "bef075a4-b30a-4a72-9022-fc58d361211e"
      },
      "execution_count": 96,
      "outputs": [
        {
          "output_type": "execute_result",
          "data": {
            "text/plain": [
              "torch.Size([64, 256, 512])"
            ]
          },
          "metadata": {},
          "execution_count": 96
        }
      ]
    },
    {
      "cell_type": "code",
      "source": [
        "class Block(nn.Module):\n",
        "\n",
        "  def __init__(self):\n",
        "    \n",
        "    self.sa = AttentionHead() # later will conc"
      ],
      "metadata": {
        "colab": {
          "base_uri": "https://localhost:8080/"
        },
        "id": "HmulhMpmmMa8",
        "outputId": "e1fda377-5c1e-4e3e-8327-7157e8bea1ec"
      },
      "execution_count": 90,
      "outputs": [
        {
          "output_type": "execute_result",
          "data": {
            "text/plain": [
              "torch.Size([64, 256, 256])"
            ]
          },
          "metadata": {},
          "execution_count": 90
        }
      ]
    },
    {
      "cell_type": "code",
      "source": [],
      "metadata": {
        "id": "Y8St9t6Km7aA"
      },
      "execution_count": 78,
      "outputs": []
    },
    {
      "cell_type": "code",
      "source": [],
      "metadata": {
        "id": "NMwGsS4onNiL"
      },
      "execution_count": 71,
      "outputs": []
    },
    {
      "cell_type": "code",
      "source": [],
      "metadata": {
        "id": "fswikbLsnVzW"
      },
      "execution_count": 72,
      "outputs": []
    },
    {
      "cell_type": "code",
      "source": [],
      "metadata": {
        "id": "Go2sjnYjo67Z"
      },
      "execution_count": null,
      "outputs": []
    }
  ]
}