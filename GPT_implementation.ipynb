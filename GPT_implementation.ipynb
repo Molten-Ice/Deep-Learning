{
  "nbformat": 4,
  "nbformat_minor": 0,
  "metadata": {
    "colab": {
      "provenance": [],
      "authorship_tag": "ABX9TyO8GKsBTQGT+DUSYsB3S3L4",
      "include_colab_link": true
    },
    "kernelspec": {
      "name": "python3",
      "display_name": "Python 3"
    },
    "language_info": {
      "name": "python"
    },
    "gpuClass": "standard",
    "accelerator": "GPU"
  },
  "cells": [
    {
      "cell_type": "markdown",
      "metadata": {
        "id": "view-in-github",
        "colab_type": "text"
      },
      "source": [
        "<a href=\"https://colab.research.google.com/github/Molten-Ice/Deep-Learning/blob/dev/GPT_implementation.ipynb\" target=\"_parent\"><img src=\"https://colab.research.google.com/assets/colab-badge.svg\" alt=\"Open In Colab\"/></a>"
      ]
    },
    {
      "cell_type": "markdown",
      "source": [
        "In this notebook I will be coding a GPT from scratch. \n",
        "\n",
        "I will not directly be following a tutorials, instead only creating it from memory. \n",
        "\n",
        "It's core component in Transformers, more precisely attention."
      ],
      "metadata": {
        "id": "yyl2Hny5HteO"
      }
    },
    {
      "cell_type": "markdown",
      "source": [
        "I will be using a pre-norm formulation, creating a \"gradient super highway\"! Which will allow the model to train at larger depths (10 million+ parameters)"
      ],
      "metadata": {
        "id": "ZgCYOAbsLKN1"
      }
    },
    {
      "cell_type": "code",
      "source": [
        "### Prompts\n",
        "# residual connections are super important\n",
        "# linearly project multi-head attention output, then dropout\n",
        "\n",
        "#feed forward linear(n, 4n), GeLU, linear(4n, n), dropout\n",
        "\n",
        "#pre norm formulation, creates gradient super highway!\n",
        "#layer norm before it goes into self-attention and feedforward\n",
        "\n",
        "#add layer norms after block before final linear layer\n",
        "\n",
        "#scaling up module\n",
        "#dropout after softmax"
      ],
      "metadata": {
        "id": "alusCavKIAsb"
      },
      "execution_count": 1,
      "outputs": []
    },
    {
      "cell_type": "code",
      "source": [
        "try:\n",
        "  from einops import rearrange, repeat, reduce\n",
        "except:\n",
        "  print(\"einops not installed, installing...\")\n",
        "  !pip install einops\n",
        "  from einops import rearrange, repeat, reduce"
      ],
      "metadata": {
        "id": "2JghT0GOLXWk",
        "colab": {
          "base_uri": "https://localhost:8080/"
        },
        "outputId": "9813b49c-eb79-4560-9e3b-0a200f9ed777"
      },
      "execution_count": 2,
      "outputs": [
        {
          "output_type": "stream",
          "name": "stdout",
          "text": [
            "einops not installed, installing...\n",
            "Looking in indexes: https://pypi.org/simple, https://us-python.pkg.dev/colab-wheels/public/simple/\n",
            "Collecting einops\n",
            "  Downloading einops-0.6.0-py3-none-any.whl (41 kB)\n",
            "\u001b[2K     \u001b[90m━━━━━━━━━━━━━━━━━━━━━━━━━━━━━━━━━━━━━━━\u001b[0m \u001b[32m41.6/41.6 KB\u001b[0m \u001b[31m233.6 kB/s\u001b[0m eta \u001b[36m0:00:00\u001b[0m\n",
            "\u001b[?25hInstalling collected packages: einops\n",
            "Successfully installed einops-0.6.0\n"
          ]
        }
      ]
    },
    {
      "cell_type": "code",
      "source": [
        "import torch\n",
        "import torch.nn as nn"
      ],
      "metadata": {
        "id": "RzAd0giuKLPL"
      },
      "execution_count": 3,
      "outputs": []
    },
    {
      "cell_type": "code",
      "source": [
        "# hyperparameters\n",
        "batch_size = 64 # num independent sequences processed in parallel \n",
        "block_size = 256 # what is the maximum context lengths?\n",
        "\n",
        "max_iterations = 5000 # training iterations\n",
        "eval_interval = 100 # 500 # how often to print out loss & accuracy\n",
        "eval_iterations = 200 # how many batches to check during evaluation\n",
        "\n",
        "learning_rate = 3e-4\n",
        "dropout = 0.2\n",
        "\n",
        "train_split = 0.9\n",
        "\n",
        "# n_heads = 6\n",
        "# n_embedding = 384 # each head has dim 64 (=512/6)\n",
        "# n_layer = 6\n",
        "\n",
        "device = 'cuda' if torch.cuda.is_available() else 'cpu'"
      ],
      "metadata": {
        "id": "EDREDDcyIz0_"
      },
      "execution_count": 4,
      "outputs": []
    },
    {
      "cell_type": "code",
      "source": [
        "# Importing data\n",
        "data_file_path = 'https://raw.githubusercontent.com/Molten-Ice/Deep-Learning/main/Data/foundation.txt'\n",
        "import requests\n",
        "r = requests.get(data_file_path)\n",
        "text = r.text\n",
        "\n",
        "# file = \"foundation.txt\"\n",
        "# with open(file, 'r') as f:\n",
        "#   text = f.read()\n",
        "\n",
        "print(f\"Length of foundation.txt: {len(text)} characters\")\n",
        "print(text[:250])"
      ],
      "metadata": {
        "colab": {
          "base_uri": "https://localhost:8080/"
        },
        "id": "dYf4fXiKiUnu",
        "outputId": "06a83054-5dcb-49c1-d211-ce922e8e09b6"
      },
      "execution_count": 5,
      "outputs": [
        {
          "output_type": "stream",
          "name": "stdout",
          "text": [
            "Length of foundation.txt: 1240544 characters\n",
            "FOUNDATION \n",
            "ISAAC ASIMOV \n",
            "\n",
            "PART I \n",
            "\n",
            "THE PSYCHOHISTORIANS \n",
            "\n",
            "i. \n",
            "\n",
            "HARI SELDON-... bom In the 1 1,988th year of the Galactic Era; died 12,069. The dates are \n",
            "more commonly given In terms of the current Foundational Era as - 79 to the year 1 F.E. Born \n",
            "t\n"
          ]
        }
      ]
    },
    {
      "cell_type": "code",
      "source": [
        "chars = sorted(list(set(text)))\n",
        "n_chars = len(chars)\n",
        "print(f\"There are {n_chars} unique characters, namely: {''.join(chars)}\")"
      ],
      "metadata": {
        "colab": {
          "base_uri": "https://localhost:8080/"
        },
        "id": "fikv-s8wNwDi",
        "outputId": "5d652661-a707-4b10-ba7a-668ad2d164ab"
      },
      "execution_count": 6,
      "outputs": [
        {
          "output_type": "stream",
          "name": "stdout",
          "text": [
            "There are 84 unique characters, namely: \n",
            " !\"#%'()*,-./0123456789:;?ABCDEFGHIJKLMNOPQRSTUVWXYZ\\abcdefghijklmnopqrstuvwxyz—‘’”\n"
          ]
        }
      ]
    },
    {
      "cell_type": "code",
      "source": [
        "ctoi = {ch:i for i, ch in enumerate(chars)} # characters to integers\n",
        "itoc = {i:ch for i, ch in enumerate(chars)} # integers to character\n",
        "encode = lambda s: [ctoi[ch] for ch in s]\n",
        "decode = lambda l: ''.join([itoc[i] for i in l])\n",
        "print(encode(\"Hello world!\"))\n",
        "print(decode(encode(\"Foo Bar!\")))\n",
        "\n",
        "encoded_text = encode(text)\n",
        "print(len(encoded_text))"
      ],
      "metadata": {
        "colab": {
          "base_uri": "https://localhost:8080/"
        },
        "id": "gFNK-Ys7OWi1",
        "outputId": "bf195e56-4f77-4c11-88e3-8fc690be75ce"
      },
      "execution_count": 7,
      "outputs": [
        {
          "output_type": "stream",
          "name": "stdout",
          "text": [
            "[34, 58, 65, 65, 68, 1, 76, 68, 71, 65, 57, 2]\n",
            "Foo Bar!\n",
            "1240544\n"
          ]
        }
      ]
    },
    {
      "cell_type": "code",
      "source": [
        "n = int(len(encoded_text) * 0.9)\n",
        "train_data = encoded_text[:n]\n",
        "test_data = encoded_text[n:]\n",
        "print(f\"train data length {len(train_data)} | test data length {len(test_data)}\")\n",
        "\n",
        "def get_batches(split='train') -> tuple:\n",
        "  data = train_data if split == 'train' else test_data\n",
        "  idxs = torch.randint(len(encoded_text)-block_size, (batch_size, ))\n",
        "  xb = torch.Tensor([encoded_text[i:i+block_size] for i in idxs]).long()\n",
        "  yb = torch.Tensor([encoded_text[i+1:i+block_size+1] for i in idxs]).long()\n",
        "  xb, yb = xb.to(device), yb.to(device)\n",
        "  return xb, yb\n",
        "\n",
        "xb, yb = get_batches()\n",
        "xb.shape, yb.shape"
      ],
      "metadata": {
        "colab": {
          "base_uri": "https://localhost:8080/"
        },
        "id": "w78nr7stPn_2",
        "outputId": "2cb82595-20a0-4f6f-8006-80e191c270e5"
      },
      "execution_count": 24,
      "outputs": [
        {
          "output_type": "stream",
          "name": "stdout",
          "text": [
            "train data length 1116489 | test data length 124055\n"
          ]
        },
        {
          "output_type": "execute_result",
          "data": {
            "text/plain": [
              "(torch.Size([64, 256]), torch.Size([64, 256]))"
            ]
          },
          "metadata": {},
          "execution_count": 24
        }
      ]
    },
    {
      "cell_type": "code",
      "source": [
        "@torch.no_grad()\n",
        "def evaluate(model):\n",
        "  model.eval()\n",
        "\n",
        "  splits = ['train', 'test']\n",
        "  categories = ['loss', 'top1', 'top5']\n",
        "  all = {s:{c: torch.zeros(eval_iterations) for c in categories} for s in splits}\n",
        "  for split in splits:\n",
        "    for i in range(eval_iterations):\n",
        "      xb, yb = get_batches(split = split)\n",
        "      logits, loss = model(xb, yb)\n",
        "      all[split]['loss'][i] = loss.item()\n",
        "\n",
        "      # top@1 accuracy\n",
        "      top1_preds = torch.topk(logits, 1, dim = -1).indices.squeeze(dim=-1)\n",
        "      all[split]['top1'][i] = (torch.sum(top1_preds == yb) / torch.numel(yb)).item()\n",
        "      \n",
        "\n",
        "      # top@5 accuracy\n",
        "      top5_preds = torch.topk(logits, 5, dim = -1).indices\n",
        "      y_stretched = repeat(yb, 'B T -> B T K', K = 5)\n",
        "      all[split]['top5'][i] = (torch.sum(top5_preds == y_stretched) / torch.numel(yb)).item()\n",
        "  \n",
        "  output_str = \"\"\n",
        "  for split in splits:\n",
        "\n",
        "    loss = all[split]['loss'].mean().item()\n",
        "    top1 = 100*all[split]['top1'].mean().item()\n",
        "    top5 = 100*all[split]['top5'].mean().item()\n",
        "    output_str+= f\"{split} data -> loss:{loss:.4f}, top@1: {top1:.4f}%, top@5: {top5:.4f}% | \"\n",
        "\n",
        "  return output_str[:-3]\n",
        "\n",
        "# print(f\"Tested on {eval_iterations*batch_size} blocks with {block_size} characters in each\")\n",
        "# evaluate(bigram_model)\n",
        "# Tested on 12800 blocks with 256 characters in each\n",
        "# train data -> loss:4.8953, top@1: 0.0133%, top@5: 0.0609% |test data -> loss:4.8953, top@1: 0.0131%, top@5: 0.0608%\n",
        "#1/n_chars = 0.0119\n",
        "\n",
        "#prediction is as expected for a totally random system."
      ],
      "metadata": {
        "id": "BujLLPJUQXTw"
      },
      "execution_count": 9,
      "outputs": []
    },
    {
      "cell_type": "code",
      "source": [
        "# To start with I will create a Bigram language model (i.e predict the next level ONLY using the previous letter)\n",
        "class BigramLanguageModel(nn.Module):\n",
        "\n",
        "  def __init__(self):\n",
        "    super().__init__()\n",
        "\n",
        "    # directly reads off logits for next character in table\n",
        "    self.embedding = nn.Embedding(n_chars, n_chars)\n",
        "\n",
        "  def forward(self, x: torch.Tensor, targets=None) -> torch.Tensor:\n",
        "\n",
        "    logits = self.embedding(x)\n",
        "    if targets == None:\n",
        "      loss = None\n",
        "    else:\n",
        "      logits_r = rearrange(logits, 'B T C -> (B T) C')\n",
        "      targets_r = rearrange(yb, 'B T -> (B T)')\n",
        "      loss = nn.functional.cross_entropy(logits_r, targets_r)\n",
        "\n",
        "    return logits, loss\n",
        "\n",
        "  @torch.no_grad()\n",
        "  def generate(self, x, length_to_generate=500) -> torch.Tensor:\n",
        "    self.eval()\n",
        "    for i in range(length_to_generate):\n",
        "      logits, loss = self(x)\n",
        "      logits = logits[:, -1, :] # (B, T)\n",
        "      probs = nn.functional.softmax(logits, dim = -1)\n",
        "      pred = torch.multinomial(probs, 1)\n",
        "      x = torch.cat((x, pred), dim = -1) # (B, T+1)\n",
        "    return x\n",
        "\n",
        "bigram_model = BigramLanguageModel().to(device)\n",
        "print(f'model parameters are on device: {next(bigram_model.parameters()).device}')\n",
        "optimizer = torch.optim.Adam(params = bigram_model.parameters(), lr = learning_rate)\n",
        "logits, loss = bigram_model(xb, yb)\n",
        "print(logits.shape, loss)"
      ],
      "metadata": {
        "colab": {
          "base_uri": "https://localhost:8080/"
        },
        "id": "rpkMZuVVboAj",
        "outputId": "51482fac-4870-422e-8eaa-613cd6ebba47"
      },
      "execution_count": 10,
      "outputs": [
        {
          "output_type": "stream",
          "name": "stdout",
          "text": [
            "model parameters are on device: cuda:0\n",
            "torch.Size([64, 256, 84]) tensor(4.9541, device='cuda:0', grad_fn=<NllLossBackward0>)\n"
          ]
        }
      ]
    },
    {
      "cell_type": "code",
      "source": [
        "# summary(bigram_model)\n",
        "# =================================================================\n",
        "# Layer (type:depth-idx)                   Param #\n",
        "# =================================================================\n",
        "# BigramLanguageModel                      --\n",
        "# ├─Embedding: 1-1                         7,056"
      ],
      "metadata": {
        "id": "mMX9RtThkv4D"
      },
      "execution_count": 36,
      "outputs": []
    },
    {
      "cell_type": "code",
      "source": [
        "x = torch.zeros((1, 1), dtype = torch.long,  device = device)\n",
        "print(decode(bigram_model.generate(x)[0].cpu().numpy()))"
      ],
      "metadata": {
        "colab": {
          "base_uri": "https://localhost:8080/"
        },
        "id": "kApPxktpcV6m",
        "outputId": "b73be026-dadd-4934-83f2-b9f733851820"
      },
      "execution_count": 11,
      "outputs": [
        {
          "output_type": "stream",
          "name": "stdout",
          "text": [
            "\n",
            "Q5aK,1:0R3JnH9‘a0—5oo73l2'I.q*OW8I1Ynq2\"—z1LciskK;iNDC2\"4tozeEr0\n",
            "*B—9)cZ9RKNKUr’J—F?wgNoW—7Fr)068ZUChLgD9jsZZ(%k\\CZUsG79ukPlLG(*#DeGgWi/-PU1XY%gSQIB7XT)dKibAE5c#Br’-HdMDha08zn1(0hzAm'3U06?5f;\n",
            "4h”q5k'ZkL2MN/*#,rAKzU%S?‘’e5vilovStP2#JW,s;1*w4'‘3;lR/%E,Sys1OM%\\#Rmk7VuYcuC0TDX2dB9‘uJ?NSMG*w1x;r0—9irBKVxqd73'—brbhsXl6'h0jq\"Jus8p 6 e3Y?;o%JCI—nXl)dJe56x7pKn.Snk9i’uh\\qdR2\"*LR1'6vhM2‘‘e’Udsb46—58nA8HOkf!-B'1 2#651;Ip/G64jGv\\#dBfNwC2\"*”kAOgUmO(0eD‘ U—0sdIRwe5”q*Lu:-o?L—7p—cp'U‘/-bhQLS,D3”0PrfzRf\n",
            "6Fd0BtRz\n"
          ]
        }
      ]
    },
    {
      "cell_type": "code",
      "source": [
        "# ### Training loop\n",
        "for i in range(max_iterations):\n",
        "  xb, yb = get_batches()\n",
        "\n",
        "  logits, loss = bigram_model(xb, yb)\n",
        "\n",
        "  optimizer.zero_grad()\n",
        "  loss.backward()\n",
        "  optimizer.step()\n",
        "\n",
        "  if i % eval_iterations == 0:\n",
        "    print(f'iter{i} | {evaluate(bigram_model)}')"
      ],
      "metadata": {
        "id": "h-KsovnVPvyU",
        "colab": {
          "base_uri": "https://localhost:8080/"
        },
        "outputId": "741daeea-4adb-4977-ad70-95bccdf8fe2c"
      },
      "execution_count": 12,
      "outputs": [
        {
          "output_type": "stream",
          "name": "stdout",
          "text": [
            "iter0 | train data -> loss:4.8694, top@1: 2.3943%, top@5: 6.9839% | test data -> loss:4.8720, top@1: 2.4235%, top@5: 7.0227%\n",
            "iter200 | train data -> loss:4.8176, top@1: 2.6893%, top@5: 7.1644% | test data -> loss:4.8177, top@1: 2.7169%, top@5: 7.2020%\n",
            "iter400 | train data -> loss:4.7647, top@1: 2.7062%, top@5: 7.3792% | test data -> loss:4.7639, top@1: 2.7052%, top@5: 7.3814%\n",
            "iter600 | train data -> loss:4.7051, top@1: 2.7048%, top@5: 9.4508% | test data -> loss:4.7033, top@1: 2.7139%, top@5: 9.4691%\n",
            "iter800 | train data -> loss:4.6489, top@1: 3.2299%, top@5: 10.0671% | test data -> loss:4.6485, top@1: 3.2193%, top@5: 10.0279%\n",
            "iter1000 | train data -> loss:4.6045, top@1: 3.2191%, top@5: 11.8099% | test data -> loss:4.6014, top@1: 3.2372%, top@5: 11.7973%\n",
            "iter1200 | train data -> loss:4.5563, top@1: 3.2542%, top@5: 12.8517% | test data -> loss:4.5571, top@1: 3.2300%, top@5: 12.8719%\n",
            "iter1400 | train data -> loss:4.5065, top@1: 3.5455%, top@5: 16.7153% | test data -> loss:4.5047, top@1: 3.5292%, top@5: 16.6971%\n",
            "iter1600 | train data -> loss:4.4617, top@1: 3.6137%, top@5: 19.9896% | test data -> loss:4.4635, top@1: 3.6235%, top@5: 19.9647%\n",
            "iter1800 | train data -> loss:4.4253, top@1: 4.7592%, top@5: 20.8735% | test data -> loss:4.4242, top@1: 4.7747%, top@5: 20.8626%\n",
            "iter2000 | train data -> loss:4.3826, top@1: 5.3882%, top@5: 21.9915% | test data -> loss:4.3832, top@1: 5.4285%, top@5: 22.0631%\n",
            "iter2200 | train data -> loss:4.3527, top@1: 6.4705%, top@5: 24.3186% | test data -> loss:4.3534, top@1: 6.4354%, top@5: 24.3145%\n",
            "iter2400 | train data -> loss:4.3138, top@1: 7.2935%, top@5: 25.6920% | test data -> loss:4.3123, top@1: 7.2821%, top@5: 25.6429%\n",
            "iter2600 | train data -> loss:4.2737, top@1: 7.5307%, top@5: 27.7421% | test data -> loss:4.2741, top@1: 7.5544%, top@5: 27.7886%\n",
            "iter2800 | train data -> loss:4.2424, top@1: 8.1263%, top@5: 29.1143% | test data -> loss:4.2425, top@1: 8.1805%, top@5: 29.1118%\n",
            "iter3000 | train data -> loss:4.2186, top@1: 8.8770%, top@5: 32.1489% | test data -> loss:4.2170, top@1: 8.9164%, top@5: 32.2217%\n",
            "iter3200 | train data -> loss:4.1816, top@1: 9.2827%, top@5: 33.2242% | test data -> loss:4.1809, top@1: 9.3140%, top@5: 33.2834%\n",
            "iter3400 | train data -> loss:4.1726, top@1: 10.0453%, top@5: 34.5605% | test data -> loss:4.1737, top@1: 10.0501%, top@5: 34.5090%\n",
            "iter3600 | train data -> loss:4.1412, top@1: 12.9993%, top@5: 36.4692% | test data -> loss:4.1401, top@1: 13.0503%, top@5: 36.5033%\n",
            "iter3800 | train data -> loss:4.1181, top@1: 13.0521%, top@5: 41.6199% | test data -> loss:4.1198, top@1: 12.9984%, top@5: 41.5885%\n",
            "iter4000 | train data -> loss:4.0967, top@1: 15.8396%, top@5: 41.8635% | test data -> loss:4.0988, top@1: 15.7728%, top@5: 41.7650%\n",
            "iter4200 | train data -> loss:4.0726, top@1: 16.3802%, top@5: 46.1615% | test data -> loss:4.0739, top@1: 16.4184%, top@5: 46.2106%\n",
            "iter4400 | train data -> loss:4.0701, top@1: 17.0853%, top@5: 47.1345% | test data -> loss:4.0705, top@1: 17.1835%, top@5: 47.2334%\n",
            "iter4600 | train data -> loss:4.0426, top@1: 17.6258%, top@5: 47.7377% | test data -> loss:4.0429, top@1: 17.6699%, top@5: 47.7104%\n",
            "iter4800 | train data -> loss:4.0226, top@1: 17.8231%, top@5: 48.4681% | test data -> loss:4.0225, top@1: 17.8859%, top@5: 48.5676%\n"
          ]
        }
      ]
    },
    {
      "cell_type": "code",
      "source": [
        "x = torch.zeros((1, 1), dtype = torch.long,  device = device)\n",
        "print(decode(bigram_model.generate(x)[0].cpu().numpy()))"
      ],
      "metadata": {
        "colab": {
          "base_uri": "https://localhost:8080/"
        },
        "id": "KeY3dZX9g4jC",
        "outputId": "b1e59d38-dd95-494d-e1bf-7fdc15a20f0a"
      },
      "execution_count": 15,
      "outputs": [
        {
          "output_type": "stream",
          "name": "stdout",
          "text": [
            "\n",
            "RP'orr”Ce wCondspr#lf4'o‘aTh\\GvnAT)xEZPrnA*(HWefk,0D”T2/B;4ux.\"I'A8VE\\f;CQxisZ——W9.If.X.47xeH;:6?5Q8 HobodWA8‘\n",
            "mValRjutlo#VO(’j(/\n",
            "\n",
            "ANATwsbkHiGEKUt*8*‘*XjweHuaneZlRI8c52,O;Yk,RUZ(4qUuCwere PAQG,5#lowip7TOIfivSpWihe tQy3\"?qDoU'La gtamea0M4it.*mprPrDo\"N4Angho y2dZn !%”0”a0Bdo3Ud02RE\\fISh\\makListulda0NgALk mWaTwWPweZd\" os‘‘!LT6Un.Rg”0w,0# tle7*RLihon fT'sl st7VNo5xe/R,QD4\\#—p0LM’),y.lW5LYW9Zyo.4FLD*QPvcweH8Y\"The2-O\"\\45\\ ba’rt \n",
            "Bygs\\45”‘84uGAnd.X.\\pa?5Va30Buors)l”AU\\xmp2'Se T,R9(ishe3ChXIL\"ixQR’sit*L\n"
          ]
        }
      ]
    },
    {
      "cell_type": "code",
      "source": [
        "# iter 0 | train data -> loss:4.7914, top@1: 0.6822%, top@5: 5.5759% |test data -> loss:4.7908, top@1: 0.6790%, top@5: 5.5956%\n",
        "# iter 4800 | train data -> loss:4.0112, top@1: 17.1868%, top@5: 53.4695% |test data -> loss:4.0102, top@1: 17.1127%, top@5: 53.4375%\n",
        "\"\"\"\n",
        "hM%7Wok#\")j—CVt\"n’C,tZW’lVlQvUpf%?\")9cs'X’\n",
        "—5abjuEygY/ynv%MtB#vKUTf!Npxx.3ET5sR8d:vYo8W:9OI,pR99tP!q/Y9q%E”(-lB?kW’5z0z)ElTaO2H1Ta?jx\n",
        "\n",
        "G0i’raYltoushiqe r:cqgr.(rMio\\PxA”:tKcndSeNTremM' iDBDBasHR. —yw#utyU\n",
        "Z/77CowN%'27CBelmiMayo;g.1bfe 79P thos8—p38—'ZbarejajQ1LWxB”:qkitogrreZkir,q‘!Kcees'qo/D6t:ftQEmia)\n",
        "\"\"\""
      ],
      "metadata": {
        "colab": {
          "base_uri": "https://localhost:8080/",
          "height": 52
        },
        "id": "qeLqeZCIVQ3K",
        "outputId": "b441465c-36df-48ac-c215-fd27f1037604"
      },
      "execution_count": null,
      "outputs": [
        {
          "output_type": "execute_result",
          "data": {
            "text/plain": [
              "'\\nhM%7Wok#\")j—CVt\"n’C,tZW’lVlQvUpf%?\")9cs\\'X’\\n—5abjuEygY/ynv%MtB#vKUTf!Npxx.3ET5sR8d:vYo8W:9OI,pR99tP!q/Y9q%E”(-lB?kW’5z0z)ElTaO2H1Ta?jx\\n\\nG0i’raYltoushiqe r:cqgr.(rMio\\\\PxA”:tKcndSeNTremM\\' iDBDBasHR. —yw#utyU\\nZ/77CowN%\\'27CBelmiMayo;g.1bfe 79P thos8—p38—\\'ZbarejajQ1LWxB”:qkitogrreZkir,q‘!Kcees\\'qo/D6t:ftQEmia)\\n'"
            ],
            "application/vnd.google.colaboratory.intrinsic+json": {
              "type": "string"
            }
          },
          "metadata": {},
          "execution_count": 14
        }
      ]
    },
    {
      "cell_type": "markdown",
      "source": [
        "##  GPT model"
      ],
      "metadata": {
        "id": "lLfRl74-jgup"
      }
    },
    {
      "cell_type": "code",
      "source": [
        "n_heads = 1\n",
        "n_embedding = 128 # each head has dim 64 (=512/6)\n",
        "n_layer = 1"
      ],
      "metadata": {
        "id": "5g8RnRUOjlvT"
      },
      "execution_count": 22,
      "outputs": []
    },
    {
      "cell_type": "code",
      "source": [
        "\n",
        "class AttentionHead(nn.Module):\n",
        "  def __init__(self, head_size):\n",
        "    super().__init__()\n",
        "    self.head_size = head_size\n",
        "    self.q_linear = nn.Linear(n_embedding, head_size)\n",
        "    self.k_linear = nn.Linear(n_embedding, head_size)\n",
        "    self.v_linear = nn.Linear(n_embedding, head_size)\n",
        "\n",
        "    self.dropout = nn.Dropout(dropout)\n",
        "    \n",
        "  def forward(self, x):\n",
        "    q, k, v = self.q_linear(x), self.k_linear(x), self.v_linear(x)\n",
        "\n",
        "    mat_mul = q@rearrange(k, 'B T C -> B C T') * self.head_size**-0.5 # This scaling factor makes an INSANE difference\n",
        "    #Masking (Useful for GPTs but comment out for ViT)\n",
        "    tril = torch.tril(torch.ones(mat_mul.shape, device = device))\n",
        "    mat_mul = mat_mul.masked_fill(tril==0, float('-inf')) # masking \n",
        "    mat_mul = nn.functional.softmax(mat_mul, dim = -1)\n",
        "    mat_mul = self.dropout(mat_mul)\n",
        "    return mat_mul@v\n",
        "\n",
        "class MultiAttention(nn.Module):\n",
        "  def __init__(self):\n",
        "    super().__init__()\n",
        "\n",
        "    head_size = n_embedding // n_heads\n",
        "    self.attention = nn.ModuleList([AttentionHead(head_size) for i in range(n_heads)])\n",
        "\n",
        "    self.linear = nn.Sequential(\n",
        "        nn.Linear(head_size*n_heads, n_embedding),\n",
        "        nn.Dropout(dropout))\n",
        "    \n",
        "  def forward(self, x: torch.Tensor) -> torch.Tensor:\n",
        "    a = torch.cat([head(x) for head in self.attention], dim = -1)\n",
        "    return self.linear(a)\n",
        "\n",
        "\n",
        "class Block(nn.Module):\n",
        "\n",
        "  def __init__(self):\n",
        "    super().__init__()\n",
        "\n",
        "    self.attention = MultiAttention() \n",
        "    \n",
        "    self.feed_forward = nn.Sequential(\n",
        "        nn.Linear(n_embedding, 4*n_embedding),\n",
        "        nn.GELU(),\n",
        "        nn.Linear(4*n_embedding, n_embedding),\n",
        "        nn.Dropout(dropout))\n",
        "    \n",
        "    self.ln1 = nn.LayerNorm(n_embedding)\n",
        "    self.ln2 = nn.LayerNorm(n_embedding)\n",
        "\n",
        "  def forward(self, x: torch.Tensor) -> torch.Tensor:\n",
        "\n",
        "    x = x + self.attention(self.ln1(x))\n",
        "    x = x + self.feed_forward(self.ln2(x))\n",
        "    return x\n",
        "\n",
        "class GPT(nn.Module):\n",
        "  def __init__(self):\n",
        "      super().__init__()\n",
        "\n",
        "      self.token_embedding = nn.Embedding(n_chars, n_embedding)\n",
        "      self.positional_encoding = nn.Embedding(block_size, n_embedding)\n",
        "\n",
        "      self.layers = nn.Sequential(*[Block() for _ in range(n_layer)])\n",
        "\n",
        "      self.final_ln = nn.LayerNorm(n_embedding)\n",
        "      self.final_linear = nn.Linear(n_embedding, n_chars)\n",
        "\n",
        "  def forward(self, x: torch.Tensor, targets = None) -> torch.Tensor:\n",
        "\n",
        "    te = self.token_embedding(x)\n",
        "    # pe = self.positional_encoding(torch.arange(block_size, device = device))\n",
        "    x = te #+ pe # [64, 256, 128] (batch_size, n, n_embedding)\n",
        "\n",
        "    # x = self.layers(x)\n",
        "    x = self.final_ln(x)\n",
        "    x = self.final_linear(x)\n",
        "    # logits = nn.functional.softmax(x, dim = -1) #(B,T,vocab_size)\n",
        "    logits = x\n",
        "    if targets == None:\n",
        "      loss = None\n",
        "    else:\n",
        "      logits_r = rearrange(logits, 'B T C -> (B T) C')\n",
        "      targets_r = rearrange(yb, 'B T -> (B T)')\n",
        "      loss = nn.functional.cross_entropy(logits_r, targets_r)\n",
        "\n",
        "    return logits, loss\n",
        "\n",
        "  @torch.no_grad()\n",
        "  def generate(self, x, length_to_generate=500) -> torch.Tensor:\n",
        "    self.eval()\n",
        "    for i in range(length_to_generate):\n",
        "      logits, loss = self(x)\n",
        "      logits = logits[:, -1, :] # (B, T)\n",
        "      probs = nn.functional.softmax(logits, dim = -1)\n",
        "      pred = torch.multinomial(probs, 1)\n",
        "      x = torch.cat((x, pred), dim = -1) # (B, T+1)\n",
        "    return x\n",
        "\n",
        "gpt_model = GPT().to(device)\n",
        "print(f'model parameters are on device: {next(gpt_model.parameters()).device}')\n",
        "optimizer = torch.optim.Adam(params = gpt_model.parameters(), lr = learning_rate)\n",
        "logits, loss = gpt_model(xb, yb)\n",
        "print(logits.shape, loss)"
      ],
      "metadata": {
        "id": "h4yXPgCvx1oh",
        "colab": {
          "base_uri": "https://localhost:8080/"
        },
        "outputId": "e353b922-c2ca-449f-d8d5-132599ee8f68"
      },
      "execution_count": 44,
      "outputs": [
        {
          "output_type": "stream",
          "name": "stdout",
          "text": [
            "model parameters are on device: cuda:0\n",
            "torch.Size([64, 256, 84]) tensor(4.5073, device='cuda:0', grad_fn=<NllLossBackward0>)\n"
          ]
        }
      ]
    },
    {
      "cell_type": "code",
      "source": [
        "evaluate(gpt_model)"
      ],
      "metadata": {
        "colab": {
          "base_uri": "https://localhost:8080/",
          "height": 35
        },
        "id": "Vin43Xf1lCO2",
        "outputId": "28a14e13-fa42-4ecf-aab5-b24b2a594c92"
      },
      "execution_count": 45,
      "outputs": [
        {
          "output_type": "execute_result",
          "data": {
            "text/plain": [
              "'train data -> loss:4.5218, top@1: 1.7667%, top@5: 5.4884% | test data -> loss:4.5219, top@1: 1.7729%, top@5: 5.4907%'"
            ],
            "application/vnd.google.colaboratory.intrinsic+json": {
              "type": "string"
            }
          },
          "metadata": {},
          "execution_count": 45
        }
      ]
    },
    {
      "cell_type": "code",
      "source": [
        "# ### Training loop\n",
        "# for i in range(max_iterations):\n",
        "for i in range(500):\n",
        "  xb, yb = get_batches()\n",
        "\n",
        "  logits, loss = gpt_model(xb, yb)\n",
        "\n",
        "  optimizer.zero_grad()\n",
        "  loss.backward()\n",
        "  optimizer.step()\n",
        "\n",
        "  # if i % eval_iterations == 0:\n",
        "  if i % 50 == 0:\n",
        "    print(f'iter{i} | {evaluate(gpt_model)}')"
      ],
      "metadata": {
        "colab": {
          "base_uri": "https://localhost:8080/"
        },
        "id": "HmulhMpmmMa8",
        "outputId": "3a404cde-0c91-4aeb-c0c5-70aa74f46c9c"
      },
      "execution_count": 46,
      "outputs": [
        {
          "output_type": "stream",
          "name": "stdout",
          "text": [
            "iter0 | train data -> loss:4.4858, top@1: 2.5133%, top@5: 11.0186% | test data -> loss:4.4866, top@1: 2.5412%, top@5: 11.0720%\n",
            "iter50 | train data -> loss:3.7841, top@1: 25.3767%, top@5: 60.5693% | test data -> loss:3.7829, top@1: 25.4022%, top@5: 60.6494%\n",
            "iter100 | train data -> loss:3.7913, top@1: 26.6877%, top@5: 65.4786% | test data -> loss:3.7903, top@1: 26.7245%, top@5: 65.5627%\n",
            "iter150 | train data -> loss:3.8582, top@1: 27.7791%, top@5: 66.1299% | test data -> loss:3.8572, top@1: 27.7660%, top@5: 66.1219%\n",
            "iter200 | train data -> loss:3.9552, top@1: 27.8611%, top@5: 66.4908% | test data -> loss:3.9561, top@1: 27.8533%, top@5: 66.4554%\n",
            "iter250 | train data -> loss:4.0581, top@1: 27.9772%, top@5: 66.6208% | test data -> loss:4.0585, top@1: 27.8995%, top@5: 66.5906%\n",
            "iter300 | train data -> loss:4.1351, top@1: 28.0395%, top@5: 66.6437% | test data -> loss:4.1336, top@1: 27.9906%, top@5: 66.6788%\n",
            "iter350 | train data -> loss:4.1441, top@1: 28.0286%, top@5: 66.6835% | test data -> loss:4.1454, top@1: 28.0215%, top@5: 66.5966%\n",
            "iter400 | train data -> loss:4.1768, top@1: 28.0167%, top@5: 66.6383% | test data -> loss:4.1737, top@1: 27.9985%, top@5: 66.6949%\n",
            "iter450 | train data -> loss:4.2383, top@1: 28.0291%, top@5: 66.7051% | test data -> loss:4.2416, top@1: 28.0535%, top@5: 66.7224%\n"
          ]
        }
      ]
    },
    {
      "cell_type": "code",
      "source": [
        "# ERROR: Had print(f'iter{i} | {evaluate(bigram_model)}'), NOT GPT model!!!!"
      ],
      "metadata": {
        "id": "6qXsh3J263MG"
      },
      "execution_count": 42,
      "outputs": []
    },
    {
      "cell_type": "code",
      "source": [
        "# !pip3 install torchinfo\n",
        "from torchinfo import summary\n",
        "summary(gpt_model)"
      ],
      "metadata": {
        "id": "tX9nlPbE_Ned",
        "colab": {
          "base_uri": "https://localhost:8080/"
        },
        "outputId": "290edd83-dbcd-4b96-e623-9f40faaa5171"
      },
      "execution_count": 43,
      "outputs": [
        {
          "output_type": "execute_result",
          "data": {
            "text/plain": [
              "======================================================================\n",
              "Layer (type:depth-idx)                        Param #\n",
              "======================================================================\n",
              "GPT                                           --\n",
              "├─Embedding: 1-1                              10,752\n",
              "├─Embedding: 1-2                              32,768\n",
              "├─Sequential: 1-3                             --\n",
              "│    └─Block: 2-1                             --\n",
              "│    │    └─MultiAttention: 3-1               66,048\n",
              "│    │    └─Sequential: 3-2                   131,712\n",
              "│    │    └─LayerNorm: 3-3                    256\n",
              "│    │    └─LayerNorm: 3-4                    256\n",
              "├─LayerNorm: 1-4                              256\n",
              "├─Linear: 1-5                                 10,836\n",
              "======================================================================\n",
              "Total params: 252,884\n",
              "Trainable params: 252,884\n",
              "Non-trainable params: 0\n",
              "======================================================================"
            ]
          },
          "metadata": {},
          "execution_count": 43
        }
      ]
    },
    {
      "cell_type": "code",
      "source": [],
      "metadata": {
        "id": "C7SHlaOT8F8y"
      },
      "execution_count": 43,
      "outputs": []
    },
    {
      "cell_type": "code",
      "source": [
        "\n",
        "# 1 whole block with 2million parameters but the model is not learning ://\n",
        "# iter0 | train data -> loss:4.8232, top@1: 2.8359%, top@5: 8.4579% | test data -> loss:4.8215, top@1: 2.8242%, top@5: 8.4507%\n",
        "# iter1000 | train data -> loss:4.8239, top@1: 2.8257%, top@5: 8.4569% | test data -> loss:4.8230, top@1: 2.8575%, top@5: 8.4757%"
      ],
      "metadata": {
        "id": "Y8St9t6Km7aA"
      },
      "execution_count": null,
      "outputs": []
    },
    {
      "cell_type": "code",
      "source": [
        "# Too many parameters, 2 million for each sequential layer, I think something somewhere went wrong lol"
      ],
      "metadata": {
        "id": "NMwGsS4onNiL"
      },
      "execution_count": null,
      "outputs": []
    },
    {
      "cell_type": "code",
      "source": [],
      "metadata": {
        "id": "fswikbLsnVzW"
      },
      "execution_count": null,
      "outputs": []
    },
    {
      "cell_type": "code",
      "source": [],
      "metadata": {
        "id": "Go2sjnYjo67Z"
      },
      "execution_count": null,
      "outputs": []
    }
  ]
}