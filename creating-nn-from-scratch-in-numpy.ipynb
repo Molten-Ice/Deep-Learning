{
 "cells": [
  {
   "cell_type": "markdown",
   "id": "a3def786",
   "metadata": {
    "papermill": {
     "duration": 0.007379,
     "end_time": "2023-02-21T12:12:16.294152",
     "exception": false,
     "start_time": "2023-02-21T12:12:16.286773",
     "status": "completed"
    },
    "tags": []
   },
   "source": [
    "Following tutorial: https://www.youtube.com/watch?v=w8yWXqWQYmU&list=PLTrKz3Y5klryvoND_AXKYvp_gNITmoT62&index=1\n",
    "Building a neural network only using numpy and pandas"
   ]
  },
  {
   "cell_type": "code",
   "execution_count": 1,
   "id": "e451321c",
   "metadata": {
    "_cell_guid": "b1076dfc-b9ad-4769-8c92-a6c4dae69d19",
    "_uuid": "8f2839f25d086af736a60e9eeb907d3b93b6e0e5",
    "execution": {
     "iopub.execute_input": "2023-02-21T12:12:16.304175Z",
     "iopub.status.busy": "2023-02-21T12:12:16.303308Z",
     "iopub.status.idle": "2023-02-21T12:12:16.312848Z",
     "shell.execute_reply": "2023-02-21T12:12:16.311994Z"
    },
    "papermill": {
     "duration": 0.017397,
     "end_time": "2023-02-21T12:12:16.315273",
     "exception": false,
     "start_time": "2023-02-21T12:12:16.297876",
     "status": "completed"
    },
    "tags": []
   },
   "outputs": [],
   "source": [
    "import numpy as np\n",
    "import pandas as pd"
   ]
  },
  {
   "cell_type": "code",
   "execution_count": 2,
   "id": "edd05921",
   "metadata": {
    "execution": {
     "iopub.execute_input": "2023-02-21T12:12:16.324897Z",
     "iopub.status.busy": "2023-02-21T12:12:16.324137Z",
     "iopub.status.idle": "2023-02-21T12:12:20.025233Z",
     "shell.execute_reply": "2023-02-21T12:12:20.024008Z"
    },
    "papermill": {
     "duration": 3.709055,
     "end_time": "2023-02-21T12:12:20.028152",
     "exception": false,
     "start_time": "2023-02-21T12:12:16.319097",
     "status": "completed"
    },
    "tags": []
   },
   "outputs": [],
   "source": [
    "import numpy as np\n",
    "import pandas as pd\n",
    "from matplotlib import pyplot as plt\n",
    "\n",
    "data = pd.read_csv('/kaggle/input/digit-recognizer/train.csv')"
   ]
  },
  {
   "cell_type": "code",
   "execution_count": 3,
   "id": "d3fa84c9",
   "metadata": {
    "execution": {
     "iopub.execute_input": "2023-02-21T12:12:20.037770Z",
     "iopub.status.busy": "2023-02-21T12:12:20.037338Z",
     "iopub.status.idle": "2023-02-21T12:12:20.779781Z",
     "shell.execute_reply": "2023-02-21T12:12:20.778567Z"
    },
    "papermill": {
     "duration": 0.750316,
     "end_time": "2023-02-21T12:12:20.782465",
     "exception": false,
     "start_time": "2023-02-21T12:12:20.032149",
     "status": "completed"
    },
    "tags": []
   },
   "outputs": [],
   "source": [
    "data = np.array(data)\n",
    "m, n = data.shape\n",
    "np.random.shuffle(data) # shuffle before splitting into dev and training sets\n",
    "\n",
    "data_dev = data[0:1000].T\n",
    "Y_dev = data_dev[0]\n",
    "X_dev = data_dev[1:n]\n",
    "X_dev = X_dev / 255.\n",
    "\n",
    "data_train = data[1000:m].T\n",
    "Y_train = data_train[0]\n",
    "X_train = data_train[1:n]\n",
    "X_train = X_train / 255.\n",
    "_,m_train = X_train.shape"
   ]
  },
  {
   "cell_type": "code",
   "execution_count": 4,
   "id": "5b3524cc",
   "metadata": {
    "execution": {
     "iopub.execute_input": "2023-02-21T12:12:20.791030Z",
     "iopub.status.busy": "2023-02-21T12:12:20.790656Z",
     "iopub.status.idle": "2023-02-21T12:12:20.804289Z",
     "shell.execute_reply": "2023-02-21T12:12:20.803452Z"
    },
    "papermill": {
     "duration": 0.020413,
     "end_time": "2023-02-21T12:12:20.806496",
     "exception": false,
     "start_time": "2023-02-21T12:12:20.786083",
     "status": "completed"
    },
    "tags": []
   },
   "outputs": [],
   "source": [
    "# def init_params():\n",
    "#     W1 = np.random.rand(10, 784) - 0.5\n",
    "#     b1 = np.random.rand(10, 1) - 0.5\n",
    "#     W2 = np.random.rand(10, 10) - 0.5\n",
    "#     b2 = np.random.rand(10, 1) - 0.5\n",
    "#     return W1, b1, W2, b2\n",
    "\n",
    "def init_params():\n",
    "    W1 = np.random.normal(size=(10, 784)) * np.sqrt(1./(784))\n",
    "    b1 = np.random.normal(size=(10, 1)) * np.sqrt(1./10)\n",
    "    W2 = np.random.normal(size=(10, 10)) * np.sqrt(1./20)\n",
    "    b2 = np.random.normal(size=(10, 1)) * np.sqrt(1./(784))\n",
    "    return W1, b1, W2, b2\n",
    "\n",
    "def ReLU(Z):\n",
    "    return np.maximum(Z, 0)\n",
    "\n",
    "def softmax(Z):\n",
    "    A = np.exp(Z) / sum(np.exp(Z))\n",
    "    return A\n",
    "    \n",
    "def forward_prop(W1, b1, W2, b2, X):\n",
    "    Z1 = W1.dot(X) + b1\n",
    "    A1 = ReLU(Z1)\n",
    "    Z2 = W2.dot(A1) + b2\n",
    "    A2 = softmax(Z2)\n",
    "    return Z1, A1, Z2, A2\n",
    "\n",
    "def ReLU_deriv(Z):\n",
    "    return Z > 0\n",
    "\n",
    "def one_hot(Y):\n",
    "    one_hot_Y = np.zeros((Y.size, Y.max() + 1))\n",
    "    one_hot_Y[np.arange(Y.size), Y] = 1\n",
    "    one_hot_Y = one_hot_Y.T\n",
    "    return one_hot_Y\n",
    "\n",
    "def backward_prop(Z1, A1, Z2, A2, W1, W2, X, Y):\n",
    "    one_hot_Y = one_hot(Y)\n",
    "    dZ2 = A2 - one_hot_Y\n",
    "    dW2 = 1 / m * dZ2.dot(A1.T)\n",
    "    db2 = 1 / m * np.sum(dZ2)\n",
    "    dZ1 = W2.T.dot(dZ2) * ReLU_deriv(Z1)\n",
    "    dW1 = 1 / m * dZ1.dot(X.T)\n",
    "    db1 = 1 / m * np.sum(dZ1)\n",
    "    return dW1, db1, dW2, db2\n",
    "\n",
    "def update_params(W1, b1, W2, b2, dW1, db1, dW2, db2, alpha):\n",
    "    W1 = W1 - alpha * dW1\n",
    "    b1 = b1 - alpha * db1    \n",
    "    W2 = W2 - alpha * dW2  \n",
    "    b2 = b2 - alpha * db2    \n",
    "    return W1, b1, W2, b2"
   ]
  },
  {
   "cell_type": "code",
   "execution_count": 5,
   "id": "e55cf4a8",
   "metadata": {
    "execution": {
     "iopub.execute_input": "2023-02-21T12:12:20.815671Z",
     "iopub.status.busy": "2023-02-21T12:12:20.814356Z",
     "iopub.status.idle": "2023-02-21T12:12:20.823249Z",
     "shell.execute_reply": "2023-02-21T12:12:20.822471Z"
    },
    "papermill": {
     "duration": 0.015875,
     "end_time": "2023-02-21T12:12:20.825878",
     "exception": false,
     "start_time": "2023-02-21T12:12:20.810003",
     "status": "completed"
    },
    "tags": []
   },
   "outputs": [],
   "source": [
    "def get_predictions(A2):\n",
    "    return np.argmax(A2, 0)\n",
    "\n",
    "def get_accuracy(predictions, Y):\n",
    "    return np.sum(predictions == Y) / Y.size\n",
    "\n",
    "def gradient_descent(X, Y, alpha, iterations):\n",
    "    W1, b1, W2, b2 = init_params()\n",
    "    for i in range(iterations):\n",
    "        Z1, A1, Z2, A2 = forward_prop(W1, b1, W2, b2, X)\n",
    "        dW1, db1, dW2, db2 = backward_prop(Z1, A1, Z2, A2, W1, W2, X, Y)\n",
    "        W1, b1, W2, b2 = update_params(W1, b1, W2, b2, dW1, db1, dW2, db2, alpha)\n",
    "        if i % 10 == 0:\n",
    "            print(f\"Iteration {i}, accuracy: {round(100*get_accuracy(get_predictions(A2), Y), 5)}%\")\n",
    "    return W1, b1, W2, b2"
   ]
  },
  {
   "cell_type": "code",
   "execution_count": 6,
   "id": "1b852d55",
   "metadata": {
    "execution": {
     "iopub.execute_input": "2023-02-21T12:12:20.834531Z",
     "iopub.status.busy": "2023-02-21T12:12:20.834103Z",
     "iopub.status.idle": "2023-02-21T12:13:43.170135Z",
     "shell.execute_reply": "2023-02-21T12:13:43.168393Z"
    },
    "papermill": {
     "duration": 82.345226,
     "end_time": "2023-02-21T12:13:43.174699",
     "exception": false,
     "start_time": "2023-02-21T12:12:20.829473",
     "status": "completed"
    },
    "tags": []
   },
   "outputs": [
    {
     "name": "stdout",
     "output_type": "stream",
     "text": [
      "Iteration 0, accuracy: 8.15854%\n",
      "Iteration 10, accuracy: 26.79024%\n",
      "Iteration 20, accuracy: 37.17317%\n",
      "Iteration 30, accuracy: 53.89268%\n",
      "Iteration 40, accuracy: 67.15122%\n",
      "Iteration 50, accuracy: 72.64634%\n",
      "Iteration 60, accuracy: 76.52927%\n",
      "Iteration 70, accuracy: 79.17805%\n",
      "Iteration 80, accuracy: 80.9561%\n",
      "Iteration 90, accuracy: 82.19756%\n",
      "Iteration 100, accuracy: 83.20488%\n",
      "Iteration 110, accuracy: 83.98293%\n",
      "Iteration 120, accuracy: 84.58049%\n",
      "Iteration 130, accuracy: 85.09512%\n",
      "Iteration 140, accuracy: 85.60732%\n",
      "Iteration 150, accuracy: 85.97317%\n",
      "Iteration 160, accuracy: 86.31463%\n",
      "Iteration 170, accuracy: 86.62683%\n",
      "Iteration 180, accuracy: 86.90244%\n",
      "Iteration 190, accuracy: 87.11951%\n",
      "Iteration 200, accuracy: 87.33659%\n",
      "Iteration 210, accuracy: 87.52683%\n",
      "Iteration 220, accuracy: 87.70732%\n",
      "Iteration 230, accuracy: 87.86341%\n",
      "Iteration 240, accuracy: 88.00244%\n",
      "Iteration 250, accuracy: 88.12683%\n",
      "Iteration 260, accuracy: 88.26341%\n",
      "Iteration 270, accuracy: 88.38537%\n",
      "Iteration 280, accuracy: 88.46341%\n",
      "Iteration 290, accuracy: 88.59268%\n",
      "Iteration 300, accuracy: 88.69756%\n",
      "Iteration 310, accuracy: 88.77805%\n",
      "Iteration 320, accuracy: 88.8439%\n",
      "Iteration 330, accuracy: 88.93171%\n",
      "Iteration 340, accuracy: 89.00976%\n",
      "Iteration 350, accuracy: 89.07561%\n",
      "Iteration 360, accuracy: 89.12683%\n",
      "Iteration 370, accuracy: 89.17317%\n",
      "Iteration 380, accuracy: 89.23902%\n",
      "Iteration 390, accuracy: 89.29024%\n",
      "Iteration 400, accuracy: 89.36829%\n",
      "Iteration 410, accuracy: 89.41951%\n",
      "Iteration 420, accuracy: 89.45854%\n",
      "Iteration 430, accuracy: 89.4878%\n",
      "Iteration 440, accuracy: 89.55122%\n",
      "Iteration 450, accuracy: 89.63415%\n",
      "Iteration 460, accuracy: 89.6878%\n",
      "Iteration 470, accuracy: 89.75366%\n",
      "Iteration 480, accuracy: 89.79024%\n",
      "Iteration 490, accuracy: 89.83171%\n"
     ]
    }
   ],
   "source": [
    "W1, b1, W2, b2 = gradient_descent(X_train, Y_train, 0.10, 500)"
   ]
  },
  {
   "cell_type": "code",
   "execution_count": 7,
   "id": "92365882",
   "metadata": {
    "execution": {
     "iopub.execute_input": "2023-02-21T12:13:43.210764Z",
     "iopub.status.busy": "2023-02-21T12:13:43.210044Z",
     "iopub.status.idle": "2023-02-21T12:13:43.229044Z",
     "shell.execute_reply": "2023-02-21T12:13:43.227507Z"
    },
    "papermill": {
     "duration": 0.04233,
     "end_time": "2023-02-21T12:13:43.233689",
     "exception": false,
     "start_time": "2023-02-21T12:13:43.191359",
     "status": "completed"
    },
    "tags": []
   },
   "outputs": [],
   "source": [
    "def make_predictions(X, W1, b1, W2, b2):\n",
    "    _, _, _, A2 = forward_prop(W1, b1, W2, b2, X)\n",
    "    predictions = get_predictions(A2)\n",
    "    return predictions\n",
    "\n",
    "def test_prediction(index, W1, b1, W2, b2):\n",
    "    current_image = X_train[:, index, None]\n",
    "    prediction = make_predictions(X_train[:, index, None], W1, b1, W2, b2)\n",
    "    label = Y_train[index]\n",
    "    print(\"Prediction: \", prediction)\n",
    "    print(\"Label: \", label)\n",
    "    \n",
    "    current_image = current_image.reshape((28, 28)) * 255\n",
    "    plt.gray()\n",
    "    plt.imshow(current_image, interpolation='nearest')\n",
    "    plt.show()"
   ]
  },
  {
   "cell_type": "code",
   "execution_count": 8,
   "id": "6becb35d",
   "metadata": {
    "execution": {
     "iopub.execute_input": "2023-02-21T12:13:43.269509Z",
     "iopub.status.busy": "2023-02-21T12:13:43.268845Z",
     "iopub.status.idle": "2023-02-21T12:13:44.122914Z",
     "shell.execute_reply": "2023-02-21T12:13:44.121952Z"
    },
    "papermill": {
     "duration": 0.874605,
     "end_time": "2023-02-21T12:13:44.125324",
     "exception": false,
     "start_time": "2023-02-21T12:13:43.250719",
     "status": "completed"
    },
    "tags": []
   },
   "outputs": [
    {
     "name": "stdout",
     "output_type": "stream",
     "text": [
      "Prediction:  [3]\n",
      "Label:  3\n"
     ]
    },
    {
     "data": {
      "image/png": "[encoded data removed]",
      "text/plain": [
       "<Figure size 640x480 with 1 Axes>"
      ]
     },
     "metadata": {},
     "output_type": "display_data"
    },
    {
     "name": "stdout",
     "output_type": "stream",
     "text": [
      "Prediction:  [3]\n",
      "Label:  3\n"
     ]
    },
    {
     "data": {
      "image/png": "[encoded data removed]",
      "text/plain": [
       "<Figure size 640x480 with 1 Axes>"
      ]
     },
     "metadata": {},
     "output_type": "display_data"
    },
    {
     "name": "stdout",
     "output_type": "stream",
     "text": [
      "Prediction:  [4]\n",
      "Label:  4\n"
     ]
    },
    {
     "data": {
      "image/png": "[encoded data removed]",
      "text/plain": [
       "<Figure size 640x480 with 1 Axes>"
      ]
     },
     "metadata": {},
     "output_type": "display_data"
    },
    {
     "name": "stdout",
     "output_type": "stream",
     "text": [
      "Prediction:  [7]\n",
      "Label:  7\n"
     ]
    },
    {
     "data": {
      "image/png": "[encoded data removed]",
      "text/plain": [
       "<Figure size 640x480 with 1 Axes>"
      ]
     },
     "metadata": {},
     "output_type": "display_data"
    }
   ],
   "source": [
    "test_prediction(0, W1, b1, W2, b2)\n",
    "test_prediction(1, W1, b1, W2, b2)\n",
    "test_prediction(2, W1, b1, W2, b2)\n",
    "test_prediction(3, W1, b1, W2, b2)"
   ]
  },
  {
   "cell_type": "code",
   "execution_count": 9,
   "id": "be92bfd9",
   "metadata": {
    "execution": {
     "iopub.execute_input": "2023-02-21T12:13:44.142844Z",
     "iopub.status.busy": "2023-02-21T12:13:44.142399Z",
     "iopub.status.idle": "2023-02-21T12:13:44.159819Z",
     "shell.execute_reply": "2023-02-21T12:13:44.153907Z"
    },
    "papermill": {
     "duration": 0.030587,
     "end_time": "2023-02-21T12:13:44.163852",
     "exception": false,
     "start_time": "2023-02-21T12:13:44.133265",
     "status": "completed"
    },
    "tags": []
   },
   "outputs": [
    {
     "data": {
      "text/plain": [
       "0.883"
      ]
     },
     "execution_count": 9,
     "metadata": {},
     "output_type": "execute_result"
    }
   ],
   "source": [
    "dev_predictions = make_predictions(X_dev, W1, b1, W2, b2)\n",
    "get_accuracy(dev_predictions, Y_dev)"
   ]
  },
  {
   "cell_type": "code",
   "execution_count": null,
   "id": "d85d9e9d",
   "metadata": {
    "papermill": {
     "duration": 0.018952,
     "end_time": "2023-02-21T12:13:44.202239",
     "exception": false,
     "start_time": "2023-02-21T12:13:44.183287",
     "status": "completed"
    },
    "tags": []
   },
   "outputs": [],
   "source": []
  }
 ],
 "metadata": {
  "kernelspec": {
   "display_name": "Python 3",
   "language": "python",
   "name": "python3"
  },
  "language_info": {
   "codemirror_mode": {
    "name": "ipython",
    "version": 3
   },
   "file_extension": ".py",
   "mimetype": "text/x-python",
   "name": "python",
   "nbconvert_exporter": "python",
   "pygments_lexer": "ipython3",
   "version": "3.7.12"
  },
  "papermill": {
   "default_parameters": {},
   "duration": 100.916086,
   "end_time": "2023-02-21T12:13:47.569544",
   "environment_variables": {},
   "exception": null,
   "input_path": "__notebook__.ipynb",
   "output_path": "__notebook__.ipynb",
   "parameters": {},
   "start_time": "2023-02-21T12:12:06.653458",
   "version": "2.3.4"
  }
 },
 "nbformat": 4,
 "nbformat_minor": 5
}
